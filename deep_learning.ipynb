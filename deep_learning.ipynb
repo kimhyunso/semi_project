{
 "cells": [
  {
   "cell_type": "code",
   "execution_count": 15,
   "metadata": {},
   "outputs": [],
   "source": [
    "import numpy as np\n",
    "import pandas as pd\n",
    "import seaborn as sns\n",
    "from matplotlib import pyplot as plt\n",
    "import tensorflow as tf\n",
    "import missingno as msno\n",
    "from tensorflow import keras\n",
    "import math\n",
    "from sklearn.preprocessing import MinMaxScaler, StandardScaler, OneHotEncoder\n",
    "from sklearn.pipeline import Pipeline\n",
    "from sklearn.compose import ColumnTransformer\n",
    "from sklearn.model_selection import  train_test_split"
   ]
  },
  {
   "cell_type": "code",
   "execution_count": 36,
   "metadata": {},
   "outputs": [],
   "source": [
    "na_cat_value_dicts = {\n",
    "    'Car_Owned':2,\n",
    "    'Bike_Owned':2,\n",
    "    'Active_Loan':2,\n",
    "    'House_Own' : 2, # 더미값 대체\n",
    "    'Accompany_Client':'##', # 더미값 으로 대체\n",
    "    'Client_Income_Type':'NA',\n",
    "    'Client_Education' : 'NA',\n",
    "    'Client_Marital_Status' : 'NA',\n",
    "    'Client_Gender' : 'XNA',\n",
    "    'Loan_Contract_Type': 'NA',\n",
    "    'Client_Housing_Type' : 'NA',\n",
    "    'Homephone_Tag' : 2,\n",
    "    'Workphone_Working' : 2,\n",
    "    'Client_Occupation' : 'NA',\n",
    "    'Cleint_City_Rating' : 2,  # 최빈값\n",
    "    'Application_Process_Day' : 2, # 계약 요일 최빈값 \n",
    "    'Application_Process_Hour' : 10 , # 계약 시간\n",
    "    'Client_Permanent_Match_Tag' : 'NA', \n",
    "    'Client_Contact_Work_Tag' : 'NA',\n",
    "    'Type_Organization' : 'XNA'\n",
    "}"
   ]
  },
  {
   "cell_type": "code",
   "execution_count": 4,
   "metadata": {},
   "outputs": [],
   "source": [
    "numeri_datas_cols_dicts = {\n",
    "    'Client_Income' : 1.440000e+04,\n",
    "    'Credit_Amount' :51750.000000, # 중앙값\n",
    "    'Loan_Annuity' : 2499.750000, # 중앙값\n",
    "    'Child_Count' : 0 ,# '최빈값,\n",
    "    'Population_Region_Relative': 0.018850, # 중앙값\n",
    "    'Age_Days' : 15733, #중앙값\n",
    "    'Employed_Days' : 2211, #중앙값\n",
    "    'Registration_Days' :  4492, #중앙값\n",
    "    'ID_Days' : 3242.000000, # 중앙값\n",
    "    'Own_House_Age' : -1, # 더미값\n",
    "    'Client_Family_Members':1, # 최빈값\n",
    "    'Score_Source_1' : -1 , #더미값\n",
    "    'Score_Source_2' : 0.564978, # 중앙값\n",
    "    'Score_Source_3' : 0.537070, # 중앙값\n",
    "    'Social_Circle_Default' : 0, # 대출갚지못한 수 0으로 처리\n",
    "    'Phone_Change': 755.000000, #중앙값\n",
    "    'Credit_Bureau' : 0 # 0\n",
    "}"
   ]
  },
  {
   "cell_type": "code",
   "execution_count": 5,
   "metadata": {},
   "outputs": [],
   "source": [
    "data = pd.read_csv('after_pre_final.csv')"
   ]
  },
  {
   "cell_type": "code",
   "execution_count": 31,
   "metadata": {},
   "outputs": [
    {
     "data": {
      "text/plain": [
       "['Client_Income',\n",
       " 'Credit_Amount',\n",
       " 'Loan_Annuity',\n",
       " 'Child_Count',\n",
       " 'Population_Region_Relative',\n",
       " 'Age_Days',\n",
       " 'Employed_Days',\n",
       " 'Registration_Days',\n",
       " 'ID_Days',\n",
       " 'Own_House_Age',\n",
       " 'Client_Family_Members',\n",
       " 'Score_Source_1',\n",
       " 'Score_Source_2',\n",
       " 'Score_Source_3',\n",
       " 'Social_Circle_Default',\n",
       " 'Phone_Change',\n",
       " 'Credit_Bureau']"
      ]
     },
     "execution_count": 31,
     "metadata": {},
     "output_type": "execute_result"
    }
   ],
   "source": [
    "list(numeri_datas_cols_dicts.keys())"
   ]
  },
  {
   "cell_type": "code",
   "execution_count": 37,
   "metadata": {},
   "outputs": [],
   "source": [
    "minmax_scaler = MinMaxScaler()\n",
    "standard_scaler = StandardScaler()\n",
    "onehot_encoder = OneHotEncoder()\n",
    "prep_processor = ColumnTransformer(\n",
    "     [('standard',standard_scaler,list(numeri_datas_cols_dicts.keys())),\n",
    "     ('onehot',onehot_encoder,list(na_cat_value_dicts.keys()))\n",
    "     ]\n",
    ")\n"
   ]
  },
  {
   "cell_type": "code",
   "execution_count": 33,
   "metadata": {},
   "outputs": [],
   "source": [
    "X = data.drop('Default', axis=1)"
   ]
  },
  {
   "cell_type": "code",
   "execution_count": 12,
   "metadata": {},
   "outputs": [],
   "source": [
    "Y = data['Default']"
   ]
  },
  {
   "cell_type": "code",
   "execution_count": 16,
   "metadata": {},
   "outputs": [],
   "source": [
    "x_train, x_, y_train, y_ = train_test_split(X,Y,test_size=0.1, random_state = 5500, stratify=Y)"
   ]
  },
  {
   "cell_type": "code",
   "execution_count": 20,
   "metadata": {},
   "outputs": [],
   "source": [
    "x_cv, x_test, y_cv, y_test=train_test_split(x_, y_,test_size=0.5, random_state = 5500, stratify=y_)"
   ]
  },
  {
   "cell_type": "code",
   "execution_count": 38,
   "metadata": {},
   "outputs": [
    {
     "data": {
      "text/html": [
       "<style>#sk-container-id-1 {color: black;background-color: white;}#sk-container-id-1 pre{padding: 0;}#sk-container-id-1 div.sk-toggleable {background-color: white;}#sk-container-id-1 label.sk-toggleable__label {cursor: pointer;display: block;width: 100%;margin-bottom: 0;padding: 0.3em;box-sizing: border-box;text-align: center;}#sk-container-id-1 label.sk-toggleable__label-arrow:before {content: \"▸\";float: left;margin-right: 0.25em;color: #696969;}#sk-container-id-1 label.sk-toggleable__label-arrow:hover:before {color: black;}#sk-container-id-1 div.sk-estimator:hover label.sk-toggleable__label-arrow:before {color: black;}#sk-container-id-1 div.sk-toggleable__content {max-height: 0;max-width: 0;overflow: hidden;text-align: left;background-color: #f0f8ff;}#sk-container-id-1 div.sk-toggleable__content pre {margin: 0.2em;color: black;border-radius: 0.25em;background-color: #f0f8ff;}#sk-container-id-1 input.sk-toggleable__control:checked~div.sk-toggleable__content {max-height: 200px;max-width: 100%;overflow: auto;}#sk-container-id-1 input.sk-toggleable__control:checked~label.sk-toggleable__label-arrow:before {content: \"▾\";}#sk-container-id-1 div.sk-estimator input.sk-toggleable__control:checked~label.sk-toggleable__label {background-color: #d4ebff;}#sk-container-id-1 div.sk-label input.sk-toggleable__control:checked~label.sk-toggleable__label {background-color: #d4ebff;}#sk-container-id-1 input.sk-hidden--visually {border: 0;clip: rect(1px 1px 1px 1px);clip: rect(1px, 1px, 1px, 1px);height: 1px;margin: -1px;overflow: hidden;padding: 0;position: absolute;width: 1px;}#sk-container-id-1 div.sk-estimator {font-family: monospace;background-color: #f0f8ff;border: 1px dotted black;border-radius: 0.25em;box-sizing: border-box;margin-bottom: 0.5em;}#sk-container-id-1 div.sk-estimator:hover {background-color: #d4ebff;}#sk-container-id-1 div.sk-parallel-item::after {content: \"\";width: 100%;border-bottom: 1px solid gray;flex-grow: 1;}#sk-container-id-1 div.sk-label:hover label.sk-toggleable__label {background-color: #d4ebff;}#sk-container-id-1 div.sk-serial::before {content: \"\";position: absolute;border-left: 1px solid gray;box-sizing: border-box;top: 0;bottom: 0;left: 50%;z-index: 0;}#sk-container-id-1 div.sk-serial {display: flex;flex-direction: column;align-items: center;background-color: white;padding-right: 0.2em;padding-left: 0.2em;position: relative;}#sk-container-id-1 div.sk-item {position: relative;z-index: 1;}#sk-container-id-1 div.sk-parallel {display: flex;align-items: stretch;justify-content: center;background-color: white;position: relative;}#sk-container-id-1 div.sk-item::before, #sk-container-id-1 div.sk-parallel-item::before {content: \"\";position: absolute;border-left: 1px solid gray;box-sizing: border-box;top: 0;bottom: 0;left: 50%;z-index: -1;}#sk-container-id-1 div.sk-parallel-item {display: flex;flex-direction: column;z-index: 1;position: relative;background-color: white;}#sk-container-id-1 div.sk-parallel-item:first-child::after {align-self: flex-end;width: 50%;}#sk-container-id-1 div.sk-parallel-item:last-child::after {align-self: flex-start;width: 50%;}#sk-container-id-1 div.sk-parallel-item:only-child::after {width: 0;}#sk-container-id-1 div.sk-dashed-wrapped {border: 1px dashed gray;margin: 0 0.4em 0.5em 0.4em;box-sizing: border-box;padding-bottom: 0.4em;background-color: white;}#sk-container-id-1 div.sk-label label {font-family: monospace;font-weight: bold;display: inline-block;line-height: 1.2em;}#sk-container-id-1 div.sk-label-container {text-align: center;}#sk-container-id-1 div.sk-container {/* jupyter's `normalize.less` sets `[hidden] { display: none; }` but bootstrap.min.css set `[hidden] { display: none !important; }` so we also need the `!important` here to be able to override the default hidden behavior on the sphinx rendered scikit-learn.org. See: https://github.com/scikit-learn/scikit-learn/issues/21755 */display: inline-block !important;position: relative;}#sk-container-id-1 div.sk-text-repr-fallback {display: none;}</style><div id=\"sk-container-id-1\" class=\"sk-top-container\"><div class=\"sk-text-repr-fallback\"><pre>ColumnTransformer(transformers=[(&#x27;standard&#x27;, StandardScaler(),\n",
       "                                 [&#x27;Client_Income&#x27;, &#x27;Credit_Amount&#x27;,\n",
       "                                  &#x27;Loan_Annuity&#x27;, &#x27;Child_Count&#x27;,\n",
       "                                  &#x27;Population_Region_Relative&#x27;, &#x27;Age_Days&#x27;,\n",
       "                                  &#x27;Employed_Days&#x27;, &#x27;Registration_Days&#x27;,\n",
       "                                  &#x27;ID_Days&#x27;, &#x27;Own_House_Age&#x27;,\n",
       "                                  &#x27;Client_Family_Members&#x27;, &#x27;Score_Source_1&#x27;,\n",
       "                                  &#x27;Score_Source_2&#x27;, &#x27;Score_Source_3&#x27;,\n",
       "                                  &#x27;Social_Circle_Default&#x27;, &#x27;Phone_Change&#x27;,\n",
       "                                  &#x27;Credit_Bur...\n",
       "                                  &#x27;House_Own&#x27;, &#x27;Accompany_Client&#x27;,\n",
       "                                  &#x27;Client_Income_Type&#x27;, &#x27;Client_Education&#x27;,\n",
       "                                  &#x27;Client_Marital_Status&#x27;, &#x27;Client_Gender&#x27;,\n",
       "                                  &#x27;Loan_Contract_Type&#x27;, &#x27;Client_Housing_Type&#x27;,\n",
       "                                  &#x27;Homephone_Tag&#x27;, &#x27;Workphone_Working&#x27;,\n",
       "                                  &#x27;Client_Occupation&#x27;, &#x27;Cleint_City_Rating&#x27;,\n",
       "                                  &#x27;Application_Process_Day&#x27;,\n",
       "                                  &#x27;Application_Process_Hour&#x27;,\n",
       "                                  &#x27;Client_Permanent_Match_Tag&#x27;,\n",
       "                                  &#x27;Client_Contact_Work_Tag&#x27;,\n",
       "                                  &#x27;Type_Organization&#x27;])])</pre><b>In a Jupyter environment, please rerun this cell to show the HTML representation or trust the notebook. <br />On GitHub, the HTML representation is unable to render, please try loading this page with nbviewer.org.</b></div><div class=\"sk-container\" hidden><div class=\"sk-item sk-dashed-wrapped\"><div class=\"sk-label-container\"><div class=\"sk-label sk-toggleable\"><input class=\"sk-toggleable__control sk-hidden--visually\" id=\"sk-estimator-id-1\" type=\"checkbox\" ><label for=\"sk-estimator-id-1\" class=\"sk-toggleable__label sk-toggleable__label-arrow\">ColumnTransformer</label><div class=\"sk-toggleable__content\"><pre>ColumnTransformer(transformers=[(&#x27;standard&#x27;, StandardScaler(),\n",
       "                                 [&#x27;Client_Income&#x27;, &#x27;Credit_Amount&#x27;,\n",
       "                                  &#x27;Loan_Annuity&#x27;, &#x27;Child_Count&#x27;,\n",
       "                                  &#x27;Population_Region_Relative&#x27;, &#x27;Age_Days&#x27;,\n",
       "                                  &#x27;Employed_Days&#x27;, &#x27;Registration_Days&#x27;,\n",
       "                                  &#x27;ID_Days&#x27;, &#x27;Own_House_Age&#x27;,\n",
       "                                  &#x27;Client_Family_Members&#x27;, &#x27;Score_Source_1&#x27;,\n",
       "                                  &#x27;Score_Source_2&#x27;, &#x27;Score_Source_3&#x27;,\n",
       "                                  &#x27;Social_Circle_Default&#x27;, &#x27;Phone_Change&#x27;,\n",
       "                                  &#x27;Credit_Bur...\n",
       "                                  &#x27;House_Own&#x27;, &#x27;Accompany_Client&#x27;,\n",
       "                                  &#x27;Client_Income_Type&#x27;, &#x27;Client_Education&#x27;,\n",
       "                                  &#x27;Client_Marital_Status&#x27;, &#x27;Client_Gender&#x27;,\n",
       "                                  &#x27;Loan_Contract_Type&#x27;, &#x27;Client_Housing_Type&#x27;,\n",
       "                                  &#x27;Homephone_Tag&#x27;, &#x27;Workphone_Working&#x27;,\n",
       "                                  &#x27;Client_Occupation&#x27;, &#x27;Cleint_City_Rating&#x27;,\n",
       "                                  &#x27;Application_Process_Day&#x27;,\n",
       "                                  &#x27;Application_Process_Hour&#x27;,\n",
       "                                  &#x27;Client_Permanent_Match_Tag&#x27;,\n",
       "                                  &#x27;Client_Contact_Work_Tag&#x27;,\n",
       "                                  &#x27;Type_Organization&#x27;])])</pre></div></div></div><div class=\"sk-parallel\"><div class=\"sk-parallel-item\"><div class=\"sk-item\"><div class=\"sk-label-container\"><div class=\"sk-label sk-toggleable\"><input class=\"sk-toggleable__control sk-hidden--visually\" id=\"sk-estimator-id-2\" type=\"checkbox\" ><label for=\"sk-estimator-id-2\" class=\"sk-toggleable__label sk-toggleable__label-arrow\">standard</label><div class=\"sk-toggleable__content\"><pre>[&#x27;Client_Income&#x27;, &#x27;Credit_Amount&#x27;, &#x27;Loan_Annuity&#x27;, &#x27;Child_Count&#x27;, &#x27;Population_Region_Relative&#x27;, &#x27;Age_Days&#x27;, &#x27;Employed_Days&#x27;, &#x27;Registration_Days&#x27;, &#x27;ID_Days&#x27;, &#x27;Own_House_Age&#x27;, &#x27;Client_Family_Members&#x27;, &#x27;Score_Source_1&#x27;, &#x27;Score_Source_2&#x27;, &#x27;Score_Source_3&#x27;, &#x27;Social_Circle_Default&#x27;, &#x27;Phone_Change&#x27;, &#x27;Credit_Bureau&#x27;]</pre></div></div></div><div class=\"sk-serial\"><div class=\"sk-item\"><div class=\"sk-estimator sk-toggleable\"><input class=\"sk-toggleable__control sk-hidden--visually\" id=\"sk-estimator-id-3\" type=\"checkbox\" ><label for=\"sk-estimator-id-3\" class=\"sk-toggleable__label sk-toggleable__label-arrow\">StandardScaler</label><div class=\"sk-toggleable__content\"><pre>StandardScaler()</pre></div></div></div></div></div></div><div class=\"sk-parallel-item\"><div class=\"sk-item\"><div class=\"sk-label-container\"><div class=\"sk-label sk-toggleable\"><input class=\"sk-toggleable__control sk-hidden--visually\" id=\"sk-estimator-id-4\" type=\"checkbox\" ><label for=\"sk-estimator-id-4\" class=\"sk-toggleable__label sk-toggleable__label-arrow\">onehot</label><div class=\"sk-toggleable__content\"><pre>[&#x27;Car_Owned&#x27;, &#x27;Bike_Owned&#x27;, &#x27;Active_Loan&#x27;, &#x27;House_Own&#x27;, &#x27;Accompany_Client&#x27;, &#x27;Client_Income_Type&#x27;, &#x27;Client_Education&#x27;, &#x27;Client_Marital_Status&#x27;, &#x27;Client_Gender&#x27;, &#x27;Loan_Contract_Type&#x27;, &#x27;Client_Housing_Type&#x27;, &#x27;Homephone_Tag&#x27;, &#x27;Workphone_Working&#x27;, &#x27;Client_Occupation&#x27;, &#x27;Cleint_City_Rating&#x27;, &#x27;Application_Process_Day&#x27;, &#x27;Application_Process_Hour&#x27;, &#x27;Client_Permanent_Match_Tag&#x27;, &#x27;Client_Contact_Work_Tag&#x27;, &#x27;Type_Organization&#x27;]</pre></div></div></div><div class=\"sk-serial\"><div class=\"sk-item\"><div class=\"sk-estimator sk-toggleable\"><input class=\"sk-toggleable__control sk-hidden--visually\" id=\"sk-estimator-id-5\" type=\"checkbox\" ><label for=\"sk-estimator-id-5\" class=\"sk-toggleable__label sk-toggleable__label-arrow\">OneHotEncoder</label><div class=\"sk-toggleable__content\"><pre>OneHotEncoder()</pre></div></div></div></div></div></div></div></div></div></div>"
      ],
      "text/plain": [
       "ColumnTransformer(transformers=[('standard', StandardScaler(),\n",
       "                                 ['Client_Income', 'Credit_Amount',\n",
       "                                  'Loan_Annuity', 'Child_Count',\n",
       "                                  'Population_Region_Relative', 'Age_Days',\n",
       "                                  'Employed_Days', 'Registration_Days',\n",
       "                                  'ID_Days', 'Own_House_Age',\n",
       "                                  'Client_Family_Members', 'Score_Source_1',\n",
       "                                  'Score_Source_2', 'Score_Source_3',\n",
       "                                  'Social_Circle_Default', 'Phone_Change',\n",
       "                                  'Credit_Bur...\n",
       "                                  'House_Own', 'Accompany_Client',\n",
       "                                  'Client_Income_Type', 'Client_Education',\n",
       "                                  'Client_Marital_Status', 'Client_Gender',\n",
       "                                  'Loan_Contract_Type', 'Client_Housing_Type',\n",
       "                                  'Homephone_Tag', 'Workphone_Working',\n",
       "                                  'Client_Occupation', 'Cleint_City_Rating',\n",
       "                                  'Application_Process_Day',\n",
       "                                  'Application_Process_Hour',\n",
       "                                  'Client_Permanent_Match_Tag',\n",
       "                                  'Client_Contact_Work_Tag',\n",
       "                                  'Type_Organization'])])"
      ]
     },
     "execution_count": 38,
     "metadata": {},
     "output_type": "execute_result"
    }
   ],
   "source": [
    "prep_processor.fit(x_train)"
   ]
  },
  {
   "cell_type": "code",
   "execution_count": 40,
   "metadata": {},
   "outputs": [],
   "source": [
    "x_train_trans = prep_processor.transform(x_train)\n",
    "x_cv_trans = prep_processor.transform(x_cv)\n",
    "x_test_trans= prep_processor.transform(x_test)"
   ]
  },
  {
   "cell_type": "code",
   "execution_count": 46,
   "metadata": {},
   "outputs": [
    {
     "data": {
      "text/plain": [
       "(109670, 188)"
      ]
     },
     "execution_count": 46,
     "metadata": {},
     "output_type": "execute_result"
    }
   ],
   "source": [
    "x_train_trans.shape"
   ]
  },
  {
   "cell_type": "code",
   "execution_count": 110,
   "metadata": {},
   "outputs": [],
   "source": [
    "model1 = tf.keras.models.Sequential(\n",
    "    [\n",
    "    keras.layers.Dense(units=188, input_shape=(188,), activation='relu', kernel_regularizer=keras.regularizers.L2(0)),\n",
    "    keras.layers.Dense(units=376,  activation='relu', kernel_regularizer= keras.regularizers.L2(0)),\n",
    "    keras.layers.Dense(units=500,  activation='relu', kernel_regularizer=keras.regularizers.L2(0) ),\n",
    "    keras.layers.Dropout(0.3),\n",
    "    keras.layers.Dense(units=1,activation='sigmoid'),\n",
    "    ]\n",
    "    , name='nbfi_predict'\n",
    ")"
   ]
  },
  {
   "cell_type": "code",
   "execution_count": 127,
   "metadata": {},
   "outputs": [],
   "source": [
    "model1.compile(optimizer=\"Adam\", loss=keras.losses.binary_crossentropy,\n",
    "metrics=[tf.keras.metrics.Accuracy(name='acc'),tf.keras.metrics.Precision(name='precision')\n",
    "                          ,tf.keras.metrics.Recall(name='recall')] )\n"
   ]
  },
  {
   "cell_type": "code",
   "execution_count": 128,
   "metadata": {},
   "outputs": [],
   "source": [
    "import os"
   ]
  },
  {
   "cell_type": "code",
   "execution_count": 129,
   "metadata": {},
   "outputs": [],
   "source": [
    "checkpoint_path = \"training_4/model_cp.ckpt\"\n",
    "\n",
    "checkpoint_dir = os.path.dirname(checkpoint_path)\n",
    "\n",
    "cp_callback = tf.keras.callbacks.ModelCheckpoint(filepath=checkpoint_path, save_weights_only=False, verbose=1,)\n",
    "\n",
    "earlystop_callback = tf.keras.callbacks.EarlyStopping(monitor=\"acc\", min_delta=0, patience=30)"
   ]
  },
  {
   "cell_type": "code",
   "execution_count": 130,
   "metadata": {},
   "outputs": [
    {
     "data": {
      "text/plain": [
       "array([0, 0, 0, ..., 0, 0, 0], dtype=int64)"
      ]
     },
     "execution_count": 130,
     "metadata": {},
     "output_type": "execute_result"
    }
   ],
   "source": [
    "y_train.to_numpy()"
   ]
  },
  {
   "cell_type": "code",
   "execution_count": 131,
   "metadata": {},
   "outputs": [
    {
     "name": "stdout",
     "output_type": "stream",
     "text": [
      "Epoch 1/600\n"
     ]
    },
    {
     "name": "stderr",
     "output_type": "stream",
     "text": [
      "c:\\Users\\PaleBlue\\semi_project\\venv\\lib\\site-packages\\tensorflow\\python\\framework\\indexed_slices.py:444: UserWarning: Converting sparse IndexedSlices(IndexedSlices(indices=Tensor(\"gradient_tape/nbfi_predict/dense_8/embedding_lookup_sparse/Reshape_1:0\", shape=(None,), dtype=int32), values=Tensor(\"gradient_tape/nbfi_predict/dense_8/embedding_lookup_sparse/Reshape:0\", shape=(None, 188), dtype=float32), dense_shape=Tensor(\"gradient_tape/nbfi_predict/dense_8/embedding_lookup_sparse/Cast:0\", shape=(2,), dtype=int32))) to a dense Tensor of unknown shape. This may consume a large amount of memory.\n",
      "  warnings.warn(\n"
     ]
    },
    {
     "name": "stdout",
     "output_type": "stream",
     "text": [
      "3420/3428 [============================>.] - ETA: 0s - loss: 0.1899 - acc: 3.8377e-04 - precision: 0.7600 - recall: 0.2948\n",
      "Epoch 1: saving model to training_4\\model_cp.ckpt\n",
      "INFO:tensorflow:Assets written to: training_4\\model_cp.ckpt\\assets\n",
      "3428/3428 [==============================] - 18s 5ms/step - loss: 0.1900 - acc: 3.8297e-04 - precision: 0.7595 - recall: 0.2945 - val_loss: 0.3112 - val_acc: 4.9237e-04 - val_precision: 0.3117 - val_recall: 0.0974\n",
      "Epoch 2/600\n",
      "3420/3428 [============================>.] - ETA: 0s - loss: 0.1776 - acc: 6.8531e-04 - precision: 0.7858 - recall: 0.3415\n",
      "Epoch 2: saving model to training_4\\model_cp.ckpt\n",
      "INFO:tensorflow:Assets written to: training_4\\model_cp.ckpt\\assets\n",
      "3428/3428 [==============================] - 19s 5ms/step - loss: 0.1775 - acc: 6.8387e-04 - precision: 0.7857 - recall: 0.3414 - val_loss: 0.3359 - val_acc: 4.9237e-04 - val_precision: 0.3413 - val_recall: 0.1156\n",
      "Epoch 3/600\n",
      "3348/3428 [============================>.] - ETA: 0s - loss: 0.1656 - acc: 9.1473e-04 - precision: 0.8014 - recall: 0.3944"
     ]
    }
   ],
   "source": [
    "history = model1.fit(x_train_trans, y_train.to_numpy(),\n",
    "                 validation_data=(x_cv_trans, y_cv.to_numpy()),epochs=600, callbacks=[cp_callback,earlystop_callback])"
   ]
  },
  {
   "cell_type": "code",
   "execution_count": 102,
   "metadata": {},
   "outputs": [
    {
     "data": {
      "text/plain": [
       "<6093x188 sparse matrix of type '<class 'numpy.float64'>'\n",
       "\twith 225441 stored elements in Compressed Sparse Row format>"
      ]
     },
     "execution_count": 102,
     "metadata": {},
     "output_type": "execute_result"
    }
   ],
   "source": [
    "x_cv_trans"
   ]
  },
  {
   "cell_type": "code",
   "execution_count": null,
   "metadata": {},
   "outputs": [],
   "source": []
  }
 ],
 "metadata": {
  "kernelspec": {
   "display_name": "venv",
   "language": "python",
   "name": "python3"
  },
  "language_info": {
   "codemirror_mode": {
    "name": "ipython",
    "version": 3
   },
   "file_extension": ".py",
   "mimetype": "text/x-python",
   "name": "python",
   "nbconvert_exporter": "python",
   "pygments_lexer": "ipython3",
   "version": "3.10.10"
  },
  "orig_nbformat": 4,
  "vscode": {
   "interpreter": {
    "hash": "3adcba932cbcdbd4ba8578c39c5e31a5f07c82f2c64fbeca4144b95f322e22e0"
   }
  }
 },
 "nbformat": 4,
 "nbformat_minor": 2
}
