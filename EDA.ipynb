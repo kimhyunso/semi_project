{
 "cells": [
  {
   "cell_type": "markdown",
   "metadata": {},
   "source": [
    "# NBFI Vehicle loan repayment Analyze"
   ]
  },
  {
   "cell_type": "markdown",
   "metadata": {},
   "source": [
    "libraries import"
   ]
  },
  {
   "cell_type": "code",
   "execution_count": 1,
   "metadata": {},
   "outputs": [],
   "source": [
    "import numpy as np\n",
    "import pandas as pd\n",
    "import seaborn as sns\n",
    "from matplotlib import pyplot as plt\n",
    "import tensorflow as tf\n",
    "import missingno as msno\n",
    "from tensorflow import keras\n",
    "import math\n",
    "from sklearn.preprocessing import MinMaxScaler, StandardScaler, OneHotEncoder\n",
    "from sklearn.pipeline import Pipeline\n",
    "from sklearn.compose import ColumnTransformer"
   ]
  },
  {
   "cell_type": "markdown",
   "metadata": {},
   "source": [
    "## EDA"
   ]
  },
  {
   "cell_type": "code",
   "execution_count": 3,
   "metadata": {},
   "outputs": [],
   "source": [
    "# 컬럼들 안의 이상 값들\n",
    "na_values = ['$', '#VALUE!', '##', 'XNA', '@', '#', 'x', '&']\n",
    "# float데이터 인데, object로 되어있는 이상 컬럼들\n",
    "columns = ['Client_Income', 'Credit_Amount', 'Loan_Annuity', 'Score_Source_3', 'Population_Region_Relative', 'Age_Days', 'Employed_Days', 'Registration_Days', 'ID_Days']\n",
    "# csv파일 불러오는 과정 na_values안에 포함된 것들은 결측치로 대체\n",
    "data = pd.read_csv('./nbfi_vehicle_loan_repayment_dataset/Train_Dataset.csv', na_values=na_values, encoding='utf-8', engine='python')\n"
   ]
  },
  {
   "cell_type": "code",
   "execution_count": 4,
   "metadata": {},
   "outputs": [
    {
     "name": "stdout",
     "output_type": "stream",
     "text": [
      "<class 'pandas.core.frame.DataFrame'>\n",
      "RangeIndex: 121856 entries, 0 to 121855\n",
      "Data columns (total 40 columns):\n",
      " #   Column                      Non-Null Count   Dtype  \n",
      "---  ------                      --------------   -----  \n",
      " 0   ID                          121856 non-null  int64  \n",
      " 1   Client_Income               118234 non-null  float64\n",
      " 2   Car_Owned                   118275 non-null  float64\n",
      " 3   Bike_Owned                  118232 non-null  float64\n",
      " 4   Active_Loan                 118221 non-null  float64\n",
      " 5   House_Own                   118195 non-null  float64\n",
      " 6   Child_Count                 118218 non-null  float64\n",
      " 7   Credit_Amount               118219 non-null  float64\n",
      " 8   Loan_Annuity                117030 non-null  float64\n",
      " 9   Accompany_Client            120098 non-null  object \n",
      " 10  Client_Income_Type          118155 non-null  object \n",
      " 11  Client_Education            118211 non-null  object \n",
      " 12  Client_Marital_Status       118383 non-null  object \n",
      " 13  Client_Gender               119440 non-null  object \n",
      " 14  Loan_Contract_Type          118205 non-null  object \n",
      " 15  Client_Housing_Type         118169 non-null  object \n",
      " 16  Population_Region_Relative  116988 non-null  float64\n",
      " 17  Age_Days                    118239 non-null  float64\n",
      " 18  Employed_Days               118190 non-null  float64\n",
      " 19  Registration_Days           118225 non-null  float64\n",
      " 20  ID_Days                     115871 non-null  float64\n",
      " 21  Own_House_Age               41761 non-null   float64\n",
      " 22  Mobile_Tag                  121856 non-null  int64  \n",
      " 23  Homephone_Tag               121856 non-null  int64  \n",
      " 24  Workphone_Working           121856 non-null  int64  \n",
      " 25  Client_Occupation           80421 non-null   object \n",
      " 26  Client_Family_Members       119446 non-null  float64\n",
      " 27  Cleint_City_Rating          119447 non-null  float64\n",
      " 28  Application_Process_Day     119428 non-null  float64\n",
      " 29  Application_Process_Hour    118193 non-null  float64\n",
      " 30  Client_Permanent_Match_Tag  121856 non-null  object \n",
      " 31  Client_Contact_Work_Tag     121856 non-null  object \n",
      " 32  Type_Organization           97162 non-null   object \n",
      " 33  Score_Source_1              53021 non-null   float64\n",
      " 34  Score_Source_2              116170 non-null  float64\n",
      " 35  Score_Source_3              94934 non-null   float64\n",
      " 36  Social_Circle_Default       59928 non-null   float64\n",
      " 37  Phone_Change                118192 non-null  float64\n",
      " 38  Credit_Bureau               103316 non-null  float64\n",
      " 39  Default                     121856 non-null  int64  \n",
      "dtypes: float64(24), int64(5), object(11)\n",
      "memory usage: 37.2+ MB\n"
     ]
    }
   ],
   "source": [
    "data.info()"
   ]
  },
  {
   "cell_type": "markdown",
   "metadata": {},
   "source": [
    "## View Feature"
   ]
  },
  {
   "cell_type": "code",
   "execution_count": 5,
   "metadata": {},
   "outputs": [
    {
     "data": {
      "text/html": [
       "<div>\n",
       "<style scoped>\n",
       "    .dataframe tbody tr th:only-of-type {\n",
       "        vertical-align: middle;\n",
       "    }\n",
       "\n",
       "    .dataframe tbody tr th {\n",
       "        vertical-align: top;\n",
       "    }\n",
       "\n",
       "    .dataframe thead th {\n",
       "        text-align: right;\n",
       "    }\n",
       "</style>\n",
       "<table border=\"1\" class=\"dataframe\">\n",
       "  <thead>\n",
       "    <tr style=\"text-align: right;\">\n",
       "      <th></th>\n",
       "      <th>ID</th>\n",
       "      <th>Client_Income</th>\n",
       "      <th>Car_Owned</th>\n",
       "      <th>Bike_Owned</th>\n",
       "      <th>Active_Loan</th>\n",
       "      <th>House_Own</th>\n",
       "      <th>Child_Count</th>\n",
       "      <th>Credit_Amount</th>\n",
       "      <th>Loan_Annuity</th>\n",
       "      <th>Accompany_Client</th>\n",
       "      <th>...</th>\n",
       "      <th>Client_Permanent_Match_Tag</th>\n",
       "      <th>Client_Contact_Work_Tag</th>\n",
       "      <th>Type_Organization</th>\n",
       "      <th>Score_Source_1</th>\n",
       "      <th>Score_Source_2</th>\n",
       "      <th>Score_Source_3</th>\n",
       "      <th>Social_Circle_Default</th>\n",
       "      <th>Phone_Change</th>\n",
       "      <th>Credit_Bureau</th>\n",
       "      <th>Default</th>\n",
       "    </tr>\n",
       "  </thead>\n",
       "  <tbody>\n",
       "    <tr>\n",
       "      <th>0</th>\n",
       "      <td>12142509</td>\n",
       "      <td>6750.0</td>\n",
       "      <td>0.0</td>\n",
       "      <td>0.0</td>\n",
       "      <td>1.0</td>\n",
       "      <td>0.0</td>\n",
       "      <td>0.0</td>\n",
       "      <td>61190.55</td>\n",
       "      <td>3416.85</td>\n",
       "      <td>Alone</td>\n",
       "      <td>...</td>\n",
       "      <td>Yes</td>\n",
       "      <td>Yes</td>\n",
       "      <td>Self-employed</td>\n",
       "      <td>0.568066</td>\n",
       "      <td>0.478787</td>\n",
       "      <td>NaN</td>\n",
       "      <td>0.0186</td>\n",
       "      <td>63.0</td>\n",
       "      <td>NaN</td>\n",
       "      <td>0</td>\n",
       "    </tr>\n",
       "    <tr>\n",
       "      <th>1</th>\n",
       "      <td>12138936</td>\n",
       "      <td>20250.0</td>\n",
       "      <td>1.0</td>\n",
       "      <td>0.0</td>\n",
       "      <td>1.0</td>\n",
       "      <td>NaN</td>\n",
       "      <td>0.0</td>\n",
       "      <td>15282.00</td>\n",
       "      <td>1826.55</td>\n",
       "      <td>Alone</td>\n",
       "      <td>...</td>\n",
       "      <td>Yes</td>\n",
       "      <td>Yes</td>\n",
       "      <td>Government</td>\n",
       "      <td>0.563360</td>\n",
       "      <td>0.215068</td>\n",
       "      <td>NaN</td>\n",
       "      <td>NaN</td>\n",
       "      <td>NaN</td>\n",
       "      <td>NaN</td>\n",
       "      <td>0</td>\n",
       "    </tr>\n",
       "    <tr>\n",
       "      <th>2</th>\n",
       "      <td>12181264</td>\n",
       "      <td>18000.0</td>\n",
       "      <td>0.0</td>\n",
       "      <td>0.0</td>\n",
       "      <td>1.0</td>\n",
       "      <td>0.0</td>\n",
       "      <td>1.0</td>\n",
       "      <td>59527.35</td>\n",
       "      <td>2788.20</td>\n",
       "      <td>Alone</td>\n",
       "      <td>...</td>\n",
       "      <td>Yes</td>\n",
       "      <td>Yes</td>\n",
       "      <td>Self-employed</td>\n",
       "      <td>NaN</td>\n",
       "      <td>0.552795</td>\n",
       "      <td>0.329655</td>\n",
       "      <td>0.0742</td>\n",
       "      <td>277.0</td>\n",
       "      <td>0.0</td>\n",
       "      <td>0</td>\n",
       "    </tr>\n",
       "    <tr>\n",
       "      <th>3</th>\n",
       "      <td>12188929</td>\n",
       "      <td>15750.0</td>\n",
       "      <td>0.0</td>\n",
       "      <td>0.0</td>\n",
       "      <td>1.0</td>\n",
       "      <td>1.0</td>\n",
       "      <td>0.0</td>\n",
       "      <td>53870.40</td>\n",
       "      <td>2295.45</td>\n",
       "      <td>Alone</td>\n",
       "      <td>...</td>\n",
       "      <td>Yes</td>\n",
       "      <td>Yes</td>\n",
       "      <td>NaN</td>\n",
       "      <td>NaN</td>\n",
       "      <td>0.135182</td>\n",
       "      <td>0.631355</td>\n",
       "      <td>NaN</td>\n",
       "      <td>1700.0</td>\n",
       "      <td>3.0</td>\n",
       "      <td>0</td>\n",
       "    </tr>\n",
       "    <tr>\n",
       "      <th>4</th>\n",
       "      <td>12133385</td>\n",
       "      <td>33750.0</td>\n",
       "      <td>1.0</td>\n",
       "      <td>0.0</td>\n",
       "      <td>1.0</td>\n",
       "      <td>0.0</td>\n",
       "      <td>2.0</td>\n",
       "      <td>133988.40</td>\n",
       "      <td>3547.35</td>\n",
       "      <td>Alone</td>\n",
       "      <td>...</td>\n",
       "      <td>Yes</td>\n",
       "      <td>Yes</td>\n",
       "      <td>Business Entity Type 3</td>\n",
       "      <td>0.508199</td>\n",
       "      <td>0.301182</td>\n",
       "      <td>0.355639</td>\n",
       "      <td>0.2021</td>\n",
       "      <td>674.0</td>\n",
       "      <td>1.0</td>\n",
       "      <td>0</td>\n",
       "    </tr>\n",
       "    <tr>\n",
       "      <th>5</th>\n",
       "      <td>12191614</td>\n",
       "      <td>11250.0</td>\n",
       "      <td>0.0</td>\n",
       "      <td>1.0</td>\n",
       "      <td>1.0</td>\n",
       "      <td>1.0</td>\n",
       "      <td>1.0</td>\n",
       "      <td>13752.00</td>\n",
       "      <td>653.85</td>\n",
       "      <td>Alone</td>\n",
       "      <td>...</td>\n",
       "      <td>Yes</td>\n",
       "      <td>Yes</td>\n",
       "      <td>Other</td>\n",
       "      <td>NaN</td>\n",
       "      <td>0.697928</td>\n",
       "      <td>0.420611</td>\n",
       "      <td>0.0639</td>\n",
       "      <td>739.0</td>\n",
       "      <td>0.0</td>\n",
       "      <td>0</td>\n",
       "    </tr>\n",
       "    <tr>\n",
       "      <th>6</th>\n",
       "      <td>12128086</td>\n",
       "      <td>15750.0</td>\n",
       "      <td>1.0</td>\n",
       "      <td>1.0</td>\n",
       "      <td>0.0</td>\n",
       "      <td>1.0</td>\n",
       "      <td>0.0</td>\n",
       "      <td>128835.00</td>\n",
       "      <td>3779.55</td>\n",
       "      <td>Alone</td>\n",
       "      <td>...</td>\n",
       "      <td>Yes</td>\n",
       "      <td>Yes</td>\n",
       "      <td>NaN</td>\n",
       "      <td>0.729913</td>\n",
       "      <td>0.602545</td>\n",
       "      <td>0.511892</td>\n",
       "      <td>0.2041</td>\n",
       "      <td>0.0</td>\n",
       "      <td>3.0</td>\n",
       "      <td>0</td>\n",
       "    </tr>\n",
       "    <tr>\n",
       "      <th>7</th>\n",
       "      <td>12215264</td>\n",
       "      <td>13500.0</td>\n",
       "      <td>0.0</td>\n",
       "      <td>0.0</td>\n",
       "      <td>1.0</td>\n",
       "      <td>1.0</td>\n",
       "      <td>0.0</td>\n",
       "      <td>60415.20</td>\n",
       "      <td>3097.80</td>\n",
       "      <td>Alone</td>\n",
       "      <td>...</td>\n",
       "      <td>Yes</td>\n",
       "      <td>Yes</td>\n",
       "      <td>NaN</td>\n",
       "      <td>0.711468</td>\n",
       "      <td>0.657508</td>\n",
       "      <td>0.549597</td>\n",
       "      <td>NaN</td>\n",
       "      <td>1687.0</td>\n",
       "      <td>4.0</td>\n",
       "      <td>0</td>\n",
       "    </tr>\n",
       "    <tr>\n",
       "      <th>8</th>\n",
       "      <td>12159147</td>\n",
       "      <td>13500.0</td>\n",
       "      <td>1.0</td>\n",
       "      <td>1.0</td>\n",
       "      <td>0.0</td>\n",
       "      <td>1.0</td>\n",
       "      <td>1.0</td>\n",
       "      <td>45000.00</td>\n",
       "      <td>1200.15</td>\n",
       "      <td>Relative</td>\n",
       "      <td>...</td>\n",
       "      <td>Yes</td>\n",
       "      <td>Yes</td>\n",
       "      <td>Self-employed</td>\n",
       "      <td>0.475727</td>\n",
       "      <td>0.637594</td>\n",
       "      <td>0.553165</td>\n",
       "      <td>0.1670</td>\n",
       "      <td>1611.0</td>\n",
       "      <td>0.0</td>\n",
       "      <td>0</td>\n",
       "    </tr>\n",
       "    <tr>\n",
       "      <th>9</th>\n",
       "      <td>12130547</td>\n",
       "      <td>12150.0</td>\n",
       "      <td>0.0</td>\n",
       "      <td>0.0</td>\n",
       "      <td>0.0</td>\n",
       "      <td>1.0</td>\n",
       "      <td>0.0</td>\n",
       "      <td>16320.15</td>\n",
       "      <td>1294.65</td>\n",
       "      <td>Alone</td>\n",
       "      <td>...</td>\n",
       "      <td>Yes</td>\n",
       "      <td>Yes</td>\n",
       "      <td>NaN</td>\n",
       "      <td>0.682285</td>\n",
       "      <td>0.063343</td>\n",
       "      <td>0.080650</td>\n",
       "      <td>NaN</td>\n",
       "      <td>533.0</td>\n",
       "      <td>5.0</td>\n",
       "      <td>0</td>\n",
       "    </tr>\n",
       "  </tbody>\n",
       "</table>\n",
       "<p>10 rows × 40 columns</p>\n",
       "</div>"
      ],
      "text/plain": [
       "         ID  Client_Income  Car_Owned  Bike_Owned  Active_Loan  House_Own  \\\n",
       "0  12142509         6750.0        0.0         0.0          1.0        0.0   \n",
       "1  12138936        20250.0        1.0         0.0          1.0        NaN   \n",
       "2  12181264        18000.0        0.0         0.0          1.0        0.0   \n",
       "3  12188929        15750.0        0.0         0.0          1.0        1.0   \n",
       "4  12133385        33750.0        1.0         0.0          1.0        0.0   \n",
       "5  12191614        11250.0        0.0         1.0          1.0        1.0   \n",
       "6  12128086        15750.0        1.0         1.0          0.0        1.0   \n",
       "7  12215264        13500.0        0.0         0.0          1.0        1.0   \n",
       "8  12159147        13500.0        1.0         1.0          0.0        1.0   \n",
       "9  12130547        12150.0        0.0         0.0          0.0        1.0   \n",
       "\n",
       "   Child_Count  Credit_Amount  Loan_Annuity Accompany_Client  ...  \\\n",
       "0          0.0       61190.55       3416.85            Alone  ...   \n",
       "1          0.0       15282.00       1826.55            Alone  ...   \n",
       "2          1.0       59527.35       2788.20            Alone  ...   \n",
       "3          0.0       53870.40       2295.45            Alone  ...   \n",
       "4          2.0      133988.40       3547.35            Alone  ...   \n",
       "5          1.0       13752.00        653.85            Alone  ...   \n",
       "6          0.0      128835.00       3779.55            Alone  ...   \n",
       "7          0.0       60415.20       3097.80            Alone  ...   \n",
       "8          1.0       45000.00       1200.15         Relative  ...   \n",
       "9          0.0       16320.15       1294.65            Alone  ...   \n",
       "\n",
       "  Client_Permanent_Match_Tag Client_Contact_Work_Tag       Type_Organization  \\\n",
       "0                        Yes                     Yes           Self-employed   \n",
       "1                        Yes                     Yes              Government   \n",
       "2                        Yes                     Yes           Self-employed   \n",
       "3                        Yes                     Yes                     NaN   \n",
       "4                        Yes                     Yes  Business Entity Type 3   \n",
       "5                        Yes                     Yes                   Other   \n",
       "6                        Yes                     Yes                     NaN   \n",
       "7                        Yes                     Yes                     NaN   \n",
       "8                        Yes                     Yes           Self-employed   \n",
       "9                        Yes                     Yes                     NaN   \n",
       "\n",
       "  Score_Source_1 Score_Source_2 Score_Source_3  Social_Circle_Default  \\\n",
       "0       0.568066       0.478787            NaN                 0.0186   \n",
       "1       0.563360       0.215068            NaN                    NaN   \n",
       "2            NaN       0.552795       0.329655                 0.0742   \n",
       "3            NaN       0.135182       0.631355                    NaN   \n",
       "4       0.508199       0.301182       0.355639                 0.2021   \n",
       "5            NaN       0.697928       0.420611                 0.0639   \n",
       "6       0.729913       0.602545       0.511892                 0.2041   \n",
       "7       0.711468       0.657508       0.549597                    NaN   \n",
       "8       0.475727       0.637594       0.553165                 0.1670   \n",
       "9       0.682285       0.063343       0.080650                    NaN   \n",
       "\n",
       "   Phone_Change  Credit_Bureau  Default  \n",
       "0          63.0            NaN        0  \n",
       "1           NaN            NaN        0  \n",
       "2         277.0            0.0        0  \n",
       "3        1700.0            3.0        0  \n",
       "4         674.0            1.0        0  \n",
       "5         739.0            0.0        0  \n",
       "6           0.0            3.0        0  \n",
       "7        1687.0            4.0        0  \n",
       "8        1611.0            0.0        0  \n",
       "9         533.0            5.0        0  \n",
       "\n",
       "[10 rows x 40 columns]"
      ]
     },
     "execution_count": 5,
     "metadata": {},
     "output_type": "execute_result"
    }
   ],
   "source": [
    "data.head(10)"
   ]
  },
  {
   "cell_type": "code",
   "execution_count": 6,
   "metadata": {},
   "outputs": [],
   "source": [
    "#고유 Index 열 삭제\n",
    "data.drop('ID', axis=1, inplace=True)"
   ]
  },
  {
   "cell_type": "code",
   "execution_count": 7,
   "metadata": {},
   "outputs": [],
   "source": [
    "numeri_cols = ['Age_Days',\n",
    "               'Client_Income',\n",
    "               'Loan_Annuity',\n",
    "               'Score_Source_1',\n",
    "               'Score_Source_2',\n",
    "               'Score_Source_3',\n",
    "               'Credit_Amount',\n",
    "               'Own_House_Age',\n",
    "               'Employed_Days',\n",
    "               'Phone_Change',\n",
    "               'Registration_Days',\n",
    "               'Child_Count',\n",
    "               'Cleint_City_Rating',\n",
    "               'ID_Days',\n",
    "               'Population_Region_Relative',\n",
    "               'Credit_Bureau',\n",
    "               'Social_Circle_Default',\n",
    "               'Client_Family_Members']\n"
   ]
  },
  {
   "cell_type": "code",
   "execution_count": 8,
   "metadata": {},
   "outputs": [],
   "source": [
    "categori_cols = [\n",
    "    'Car_Owned',\n",
    "    'Bike_Owned',\n",
    "    'Active_Loan',\n",
    "    'House_Own',\n",
    "    'Accompany_Client',\n",
    "    'Client_Income_Type',\n",
    "    'Client_Education',\n",
    "    'Client_Marital_Status',\n",
    "    'Client_Gender',\n",
    "    'Loan_Contract_Type',\n",
    "    'Client_Housing_Type',\n",
    "    'Mobile_Tag',\n",
    "    'Homephone_Tag',\n",
    "    'Workphone_Working',\n",
    "    'Client_Occupation',\n",
    "    'Application_Process_Day',\n",
    "    'Application_Process_Hour',\n",
    "    'Client_Permanent_Match_Tag',\n",
    "    'Client_Contact_Work_Tag',\n",
    "    'Type_Organization',]\n"
   ]
  },
  {
   "cell_type": "code",
   "execution_count": 9,
   "metadata": {},
   "outputs": [
    {
     "data": {
      "text/plain": [
       "(18, 20)"
      ]
     },
     "execution_count": 9,
     "metadata": {},
     "output_type": "execute_result"
    }
   ],
   "source": [
    "len(numeri_cols), len(categori_cols)"
   ]
  },
  {
   "cell_type": "markdown",
   "metadata": {},
   "source": [
    "## Numeric Data EDA"
   ]
  },
  {
   "cell_type": "code",
   "execution_count": 20,
   "metadata": {},
   "outputs": [
    {
     "name": "stderr",
     "output_type": "stream",
     "text": [
      "\n",
      "KeyboardInterrupt\n",
      "\n"
     ]
    },
    {
     "name": "stdout",
     "output_type": "stream",
     "text": [
      "Error in callback <function flush_figures at 0x00000202CC9F4940> (for post_execute):\n"
     ]
    },
    {
     "name": "stderr",
     "output_type": "stream",
     "text": [
      "\n",
      "KeyboardInterrupt\n",
      "\n"
     ]
    }
   ],
   "source": [
    "# numeric columns histograms \n",
    "# estimated time 3 minutes\n",
    "fig, axs = plt.subplots(4,5, figsize = (40,40))\n",
    "i=0\n",
    "for rows in axs:\n",
    "    for ax in rows:\n",
    "        if i >17 :\n",
    "            break\n",
    "        sns.histplot(x=numeri_cols[i], data=data, ax=ax)\n",
    "        ax.set_title(numeri_cols[i]+\" Histogram\")\n",
    "        i+=1"
   ]
  },
  {
   "cell_type": "code",
   "execution_count": null,
   "metadata": {},
   "outputs": [],
   "source": [
    "i = 0\n",
    "for x in range(axs.shape[0]):\n",
    "    for y in range(axs.shape[1]):\n",
    "        extent = axs[x, y].get_window_extent().transformed(fig.dpi_scale_trans.inverted())\n",
    "        fig.savefig('test01/ax2_figure'+str(i)+ '.png', bbox_inches=extent.expanded(1.24, 1.2),dpi=300 ) # x축, y축 여백 안주면 눈금 사라짐\n",
    "        i+=1"
   ]
  },
  {
   "cell_type": "markdown",
   "metadata": {},
   "source": [
    "### 이상치(Out liner 삭제)"
   ]
  },
  {
   "cell_type": "code",
   "execution_count": null,
   "metadata": {},
   "outputs": [],
   "source": [
    "data.Score_Source_2[data.Score_Source_2.ge(0.9)]"
   ]
  },
  {
   "cell_type": "code",
   "execution_count": null,
   "metadata": {},
   "outputs": [],
   "source": [
    "data.Population_Region_Relative[data.Population_Region_Relative.ge(0.9)]"
   ]
  },
  {
   "cell_type": "code",
   "execution_count": null,
   "metadata": {},
   "outputs": [],
   "source": [
    "data.Score_Source_2 = data.Score_Source_2.apply(lambda x : 1 if x >=1 else x)\n",
    "data.Population_Region_Relative = data.Population_Region_Relative.apply(lambda x : 1 if x >=1 else x)"
   ]
  },
  {
   "cell_type": "code",
   "execution_count": null,
   "metadata": {},
   "outputs": [],
   "source": [
    "# after remove outliners numeric columns histograms \n",
    "# estimated time 20 seconds\n",
    "fig, axs = plt.subplots(4,5, figsize = (40,40))\n",
    "i=0\n",
    "for rows in axs:\n",
    "    \n",
    "    for ax in rows:\n",
    "        if i >17 :\n",
    "            break\n",
    "        sns.histplot(x=numeri_cols[i], data=data, ax=ax)\n",
    "        ax.set_title(numeri_cols[i]+\" Histogram\")\n",
    "        i+=1     "
   ]
  },
  {
   "cell_type": "code",
   "execution_count": null,
   "metadata": {},
   "outputs": [],
   "source": [
    "# after remove outliners numeric columns histograms \n",
    "# estimated time 50 seconds\n",
    "fig, axs = plt.subplots(4,5, figsize = (40,40))\n",
    "i=0\n",
    "for rows in axs:\n",
    "    \n",
    "    for ax in rows:\n",
    "        if i >17 :\n",
    "            break\n",
    "        sns.histplot(hue='Default', kde=True, x=numeri_cols[i], data=data, ax=ax)\n",
    "        ax.set_title(numeri_cols[i]+\" Histogram with Default Hue\")\n",
    "        i+=1     "
   ]
  },
  {
   "cell_type": "code",
   "execution_count": null,
   "metadata": {},
   "outputs": [],
   "source": [
    "# # exclue outliner and index graph hist \n",
    "# # estimated time 3 minutes\n",
    "fig, axs = plt.subplots(5,4, figsize = (40,30))\n",
    "i=0\n",
    "for rows in axs:\n",
    "    \n",
    "    for ax in rows:\n",
    "        if i >17 :\n",
    "            break\n",
    "        sns.violinplot(x='Default', y=numeri_cols[i], data=data, ax=ax)\n",
    "        ax.set_title(numeri_cols[i]+' Violinplot')\n",
    "        i+=1     "
   ]
  },
  {
   "cell_type": "markdown",
   "metadata": {},
   "source": [
    "### 세부적 확인"
   ]
  },
  {
   "cell_type": "markdown",
   "metadata": {},
   "source": [
    "#### Client_Income"
   ]
  },
  {
   "cell_type": "code",
   "execution_count": null,
   "metadata": {},
   "outputs": [],
   "source": [
    "sns.violinplot(x=\"Default\", y=\"Client_Income\" , data=data,  )\n",
    "plt.title('Client Income violin plot')\n",
    "plt.show()"
   ]
  },
  {
   "cell_type": "code",
   "execution_count": null,
   "metadata": {},
   "outputs": [],
   "source": [
    "sns.violinplot(x=\"Default\", y=\"Client_Income\" , data=data,  )\n",
    "plt.title('Client Income violin plot y_lim 7e+4')\n",
    "plt.ylim([0,7.025000e+04]) # 4사분위 + a까지\n",
    "plt.show()"
   ]
  },
  {
   "cell_type": "code",
   "execution_count": null,
   "metadata": {},
   "outputs": [],
   "source": [
    "sns.histplot( x=\"Client_Income\" , data=data[data.Default==1], kde=True,  kde_kws={\"clip\":(0,4.025000e+04)}, binrange=(0, 4.025000e+04), color='orange')\n",
    "plt.title('Only Default 1, Client Income histplot')\n",
    "plt.show()"
   ]
  },
  {
   "cell_type": "code",
   "execution_count": null,
   "metadata": {},
   "outputs": [],
   "source": [
    "sns.histplot(hue='Default', x=\"Client_Income\" , data=data, kde=True,  kde_kws={\"clip\":(0,4.025000e+04)}, binrange=(0, 4.025000e+04))\n",
    "plt.title('Client Income histplot')\n",
    "plt.show()"
   ]
  },
  {
   "cell_type": "markdown",
   "metadata": {},
   "source": [
    "#### Employed_Days"
   ]
  },
  {
   "cell_type": "code",
   "execution_count": null,
   "metadata": {},
   "outputs": [],
   "source": [
    "sns.histplot(hue='Default', x=\"Employed_Days\" , data=data, kde=True,  )\n",
    "plt.title('Employed_Days histplot')\n",
    "plt.show()"
   ]
  },
  {
   "cell_type": "markdown",
   "metadata": {},
   "source": [
    "## "
   ]
  },
  {
   "cell_type": "code",
   "execution_count": null,
   "metadata": {},
   "outputs": [],
   "source": [
    "sns.histplot(hue='Default', x=\"Employed_Days\" , data=data, kde=True,  kde_kws={\"clip\":(0,5e+03)}, binrange=(0, 5e+03))\n",
    "plt.title('Employed_Days histplot')\n",
    "plt.show()"
   ]
  },
  {
   "cell_type": "code",
   "execution_count": null,
   "metadata": {},
   "outputs": [],
   "source": [
    "sns.histplot( x=\"Employed_Days\" , data=data[data.Default.eq(1)], kde=True,  color='orange', kde_kws={\"clip\":(0,5e+03)}, binrange=(0, 5e+03), )\n",
    "plt.title('Default 1 : Employed_Days histplot')\n",
    "plt.show()"
   ]
  },
  {
   "cell_type": "markdown",
   "metadata": {},
   "source": [
    "### Categori Data "
   ]
  },
  {
   "cell_type": "code",
   "execution_count": null,
   "metadata": {},
   "outputs": [],
   "source": [
    "# numeric columns histograms \n",
    "# estimated time 3 minutes\n",
    "fig, axs = plt.subplots(4,5, figsize = (40,40))\n",
    "i=0\n",
    "for rows in axs:\n",
    "    \n",
    "    for ax in rows:\n",
    "        if i >19 :\n",
    "            break\n",
    "        sns.countplot(x=categori_cols[i], data=data, ax=ax)\n",
    "        ax.set_title(categori_cols[i]+\" Countplot\")\n",
    "        i+=1     "
   ]
  },
  {
   "cell_type": "code",
   "execution_count": null,
   "metadata": {},
   "outputs": [],
   "source": [
    "# numeric columns histograms \n",
    "# estimated time 3 minutes\n",
    "fig, axs = plt.subplots(4,5, figsize = (40,40))\n",
    "i=0\n",
    "for rows in axs:\n",
    "    \n",
    "    for ax in rows:\n",
    "        if i >19 :\n",
    "            break\n",
    "        sns.countplot(hue='Default',x=categori_cols[i], data=data, ax=ax)\n",
    "        ax.set_title(categori_cols[i]+\" Countplot\")\n",
    "        i+=1     "
   ]
  },
  {
   "cell_type": "markdown",
   "metadata": {},
   "source": [
    "Mobile Tag는 다 1이므로 필요없음"
   ]
  },
  {
   "cell_type": "markdown",
   "metadata": {},
   "source": [
    "단일 속성으로 구분하기 어려움 "
   ]
  },
  {
   "cell_type": "markdown",
   "metadata": {},
   "source": [
    "## Null Value 확인"
   ]
  },
  {
   "cell_type": "code",
   "execution_count": null,
   "metadata": {},
   "outputs": [],
   "source": [
    "# 널값 퍼센트 데이터 생성\n",
    "data_null_perecnet = (data.isnull().sum()/ len(data)) *100\n",
    "data_null_perecnet_default_1 = (data[data.Default==1].isnull().sum()/ len(data[data.Default==1].isnull())) * 100\n",
    "\n",
    "#널 데이터프레임\n",
    "nulls_df = pd.DataFrame(data=[data_null_perecnet,data_null_perecnet_default_1], index=['All_Data','Default_1'])\n",
    "nulls_df = nulls_df.drop('Default', axis=1)\n",
    "nulls_df =nulls_df.T.reset_index().rename(columns={'index':'columns_name'})\n",
    "\n",
    "# 임시로만든 log 삭제\n",
    "# nulls_df = nulls_df.T.drop(38,axis=1).T\n",
    "# 내림차순으로 정렬\n",
    "nulls_df = nulls_df.sort_values('All_Data', ascending=False)\n",
    "# x 간격생성\n",
    "bar_width = 3\n",
    "x =np.arange(0,304,8)\n",
    "x2 =np.arange(0,228,6)\n"
   ]
  },
  {
   "cell_type": "code",
   "execution_count": null,
   "metadata": {},
   "outputs": [],
   "source": [
    "len(nulls_df.columns_name.tolist())"
   ]
  },
  {
   "cell_type": "code",
   "execution_count": null,
   "metadata": {},
   "outputs": [],
   "source": [
    "#그래프 생성\n",
    "plt.figure(figsize=(20,10))\n",
    "plt.bar(x=x, height='All_Data' ,data=nulls_df, color='r' ,width=bar_width, label='All', alpha=0.9) \n",
    "plt.bar(x=x+2, height='Default_1' ,data=nulls_df,color='g' ,width=bar_width ,label='Default 1', alpha=0.9)\n",
    "plt.xticks(x,nulls_df.columns_name.tolist(), rotation=270, )\n",
    "plt.legend()\n",
    "plt.title('Percentage of null columns values ', size=4)\n",
    "plt.ylabel('percent(%)')\n",
    "plt.xlabel('columns name')\n",
    "plt.show()"
   ]
  },
  {
   "cell_type": "code",
   "execution_count": null,
   "metadata": {},
   "outputs": [],
   "source": [
    "x_datas = data.drop('Default', axis=1)"
   ]
  },
  {
   "cell_type": "code",
   "execution_count": null,
   "metadata": {},
   "outputs": [],
   "source": [
    "msno.matrix(x_datas)"
   ]
  },
  {
   "cell_type": "code",
   "execution_count": null,
   "metadata": {},
   "outputs": [],
   "source": [
    "msno.matrix(data[data.Default.eq(1)].drop('Default', axis=1))\n"
   ]
  },
  {
   "cell_type": "markdown",
   "metadata": {},
   "source": [
    "'Own_House_Age', 'Score_Source_1', 'Social_Circle_Default', 'Client_Occupation', 'Score_Source_3', 'Type_Organization', 'Credit_Bureau', 널값이 10% 넘어가서 채우기 힘듬"
   ]
  },
  {
   "cell_type": "markdown",
   "metadata": {},
   "source": [
    "EDA 분석결과 단일 속성으로 불체납할지, 체납할지 알기가 어려움"
   ]
  },
  {
   "cell_type": "code",
   "execution_count": null,
   "metadata": {},
   "outputs": [],
   "source": []
  }
 ],
 "metadata": {
  "kernelspec": {
   "display_name": "Python 3 (ipykernel)",
   "language": "python",
   "name": "python3"
  },
  "language_info": {
   "codemirror_mode": {
    "name": "ipython",
    "version": 3
   },
   "file_extension": ".py",
   "mimetype": "text/x-python",
   "name": "python",
   "nbconvert_exporter": "python",
   "pygments_lexer": "ipython3",
   "version": "3.8.8"
  }
 },
 "nbformat": 4,
 "nbformat_minor": 2
}
