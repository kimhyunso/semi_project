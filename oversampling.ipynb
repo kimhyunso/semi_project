{
 "cells": [
  {
   "cell_type": "markdown",
   "metadata": {
    "id": "TkhnlbJItziv"
   },
   "source": [
    "### Imblearn 라이브러리는 다른 라이브러리에 영향을 미칠 수 있는 관계로 colab에서 진행 "
   ]
  },
  {
   "cell_type": "markdown",
   "metadata": {
    "id": "YwOYTO4asE5o"
   },
   "source": [
    "![image.png](data:image/png;base64,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)"
   ]
  },
  {
   "cell_type": "markdown",
   "metadata": {
    "id": "AFxodiGTsE0S"
   },
   "source": [
    "- kaggle에서 data 다운 후 파일에 넣어줘야 코드 돌아갑니다"
   ]
  },
  {
   "cell_type": "code",
   "execution_count": 5,
   "metadata": {
    "id": "NBp32cvZlTno"
   },
   "outputs": [],
   "source": [
    "import numpy as np\n",
    "import pandas as pd\n",
    "import random\n",
    "from sklearn.model_selection import train_test_split\n",
    "from imblearn.over_sampling import SMOTE\n",
    "\n",
    "\n",
    "\n",
    "# 결측치 대체, Label_encoding등 컬럼에 대한 전처리 클래스\n",
    "class Preprocessing:\n",
    "    # 컬럼들 안의 이상 값들\n",
    "    na_values = ['$', '#VALUE!', '##', 'XNA', '@', '#', 'x', '&']\n",
    "    # float데이터 인데, object로 되어있는 이상 컬럼들\n",
    "    columns = ['Client_Income', 'Credit_Amount', 'Loan_Annuity', 'Score_Source_3', 'Population_Region_Relative', 'Age_Days', 'Employed_Days', 'Registration_Days', 'ID_Days']\n",
    "\n",
    "    def __init__(self):\n",
    "        # csv파일 불러오는 과정 na_values안에 포함된 것들은 결측치로 대체\n",
    "        self.__pay_df = pd.read_csv('./Train_Dataset.csv', na_values=self.na_values, encoding='utf-8', engine='python')\n",
    "\n",
    "        # columns에 object로 되어있는 컬럼들을 float으로 변경\n",
    "        for column in self.columns:\n",
    "            self.__pay_df[column] = pd.to_numeric(self.__pay_df[column], errors='coerce')\n",
    "        # target data 분리\n",
    "        self.__y_target = self.__pay_df['Default']\n",
    "        del self.__pay_df['Default']\n",
    "        self.__pay_df['Client_Occupation'].fillna('Nojob', inplace=True)\n",
    "        self.__pay_df['Credit_Bureau'].fillna(self.__pay_df['Credit_Bureau'].mean(), inplace=True)\n",
    "\n",
    "\n",
    "    def drop_columns(self):\n",
    "        # 삭제할 column들\n",
    "        drop_columns = ['Own_House_Age', 'Type_Organization', 'Mobile_Tag', 'Score_Source_1', 'Score_Source_3', 'Social_Circle_Default']\n",
    "        self.__pay_df.drop(columns=drop_columns, axis=1, inplace=True)\n",
    "\n",
    "    def category_columns_replace(self):\n",
    "        # object인 column들(카테고리)만 뽑기\n",
    "        category_columns_object = self.__pay_df.select_dtypes(include='object').columns\n",
    "\n",
    "        for column in category_columns_object:\n",
    "            if self.__pay_df[column].isna().sum() > 10000 or self.__pay_df[column].isna().sum() == 0:\n",
    "                continue\n",
    "            unique_columns = self.__pay_df[column].loc[self.__pay_df[column].isna()==False].unique()\n",
    "            self.__pay_df[column] = self.__pay_df[column].apply(lambda x : random.choice(unique_columns) if pd.isna(x) else x)\n",
    "\n",
    "        df_null_sum = self.__pay_df.isna().sum()\n",
    "        column = df_null_sum[df_null_sum>0].index\n",
    "        self.__pay_df = pd.get_dummies(self.__pay_df, columns=column)\n",
    "\n",
    "\n",
    "    # numerical_columns에 대해서 결측치를 어떻게 대체할 것인지        \n",
    "    def numerical_columns_replace(self):\n",
    "        # numerical_column들\n",
    "        numerical_columns = ['Client_Income', 'Credit_Amount', 'Loan_Annuity', \n",
    "                   'Population_Region_Relative', 'Age_Days', 'Employed_Days',\n",
    "                   'Registration_Days', 'ID_Days',\n",
    "                   'Score_Source_2', 'Phone_Change']\n",
    "\n",
    "        for column in numerical_columns:\n",
    "            self.__pay_df[column] = self.__pay_df[column].fillna(self.__pay_df[column].mean())\n",
    "\n",
    "\n",
    "    def train_split(self):\n",
    "        train_x, test_x, train_y, test_y = train_test_split(test_size=0.2, random_state=42, stratify=self.__y_target)\n",
    "        smote = SMOTE(random_state=42)\n",
    "\n",
    "        X_train_over, y_train_over = smote.fit_sample(X_train, y_train)\n",
    "\n",
    "    # data를 리턴하는 함수\n",
    "    def get_df(self):\n",
    "        return self.__pay_df\n",
    "    \n",
    "    # target_df를 리턴하는 함수\n",
    "    def get_target_df(self):\n",
    "        return self.__y_target"
   ]
  },
  {
   "cell_type": "code",
   "execution_count": 6,
   "metadata": {
    "id": "feStMZSvlM2c"
   },
   "outputs": [],
   "source": [
    "import numpy as np\n",
    "import pandas as pd\n",
    "from matplotlib import pyplot as plt\n",
    "from sklearn.model_selection import train_test_split\n",
    "preprocessing_db = Preprocessing()"
   ]
  },
  {
   "cell_type": "code",
   "execution_count": 38,
   "metadata": {
    "id": "vdiPXKtFmhcv"
   },
   "outputs": [],
   "source": [
    "preprocessing_db = Preprocessing()\n",
    "# 결측치 제거\n",
    "preprocessing_db.drop_columns()\n",
    "# 연속형 데이터 대체\n",
    "preprocessing_db.numerical_columns_replace()\n",
    "# 범주형 데이터 대체\n",
    "preprocessing_db.category_columns_replace()"
   ]
  },
  {
   "cell_type": "code",
   "execution_count": 39,
   "metadata": {
    "id": "AeiwvoJ7mlDm"
   },
   "outputs": [],
   "source": [
    "# train_df & target_df 분리\n",
    "train_df = preprocessing_db.get_df()\n",
    "target_df = preprocessing_db.get_target_df()"
   ]
  },
  {
   "cell_type": "code",
   "execution_count": 40,
   "metadata": {
    "id": "cJIeE4HlmorK"
   },
   "outputs": [],
   "source": [
    "# 식별 변수 (ID) 제거\n",
    "train_df.drop('ID', axis=1, inplace=True)"
   ]
  },
  {
   "cell_type": "code",
   "execution_count": 41,
   "metadata": {
    "colab": {
     "base_uri": "https://localhost:8080/"
    },
    "id": "57JVCTo8lOOM",
    "outputId": "77452afa-0c9d-4f03-8231-e7350a22cab3"
   },
   "outputs": [
    {
     "data": {
      "text/plain": [
       "Client_Income                    0\n",
       "Credit_Amount                    0\n",
       "Loan_Annuity                     0\n",
       "Accompany_Client                 0\n",
       "Client_Income_Type               0\n",
       "Client_Education                 0\n",
       "Client_Marital_Status            0\n",
       "Client_Gender                    0\n",
       "Loan_Contract_Type               0\n",
       "Client_Housing_Type              0\n",
       "Population_Region_Relative       0\n",
       "Age_Days                         0\n",
       "Employed_Days                    0\n",
       "Registration_Days                0\n",
       "ID_Days                          0\n",
       "Homephone_Tag                    0\n",
       "Workphone_Working                0\n",
       "Client_Occupation                0\n",
       "Client_Permanent_Match_Tag       0\n",
       "Client_Contact_Work_Tag          0\n",
       "Score_Source_2                   0\n",
       "Phone_Change                     0\n",
       "Credit_Bureau                    0\n",
       "Car_Owned_0.0                    0\n",
       "Car_Owned_1.0                    0\n",
       "Bike_Owned_0.0                   0\n",
       "Bike_Owned_1.0                   0\n",
       "Active_Loan_0.0                  0\n",
       "Active_Loan_1.0                  0\n",
       "House_Own_0.0                    0\n",
       "House_Own_1.0                    0\n",
       "Child_Count_0.0                  0\n",
       "Child_Count_1.0                  0\n",
       "Child_Count_2.0                  0\n",
       "Child_Count_3.0                  0\n",
       "Child_Count_4.0                  0\n",
       "Child_Count_5.0                  0\n",
       "Child_Count_6.0                  0\n",
       "Child_Count_7.0                  0\n",
       "Child_Count_8.0                  0\n",
       "Child_Count_9.0                  0\n",
       "Child_Count_10.0                 0\n",
       "Child_Count_12.0                 0\n",
       "Child_Count_14.0                 0\n",
       "Child_Count_19.0                 0\n",
       "Client_Family_Members_1.0        0\n",
       "Client_Family_Members_2.0        0\n",
       "Client_Family_Members_3.0        0\n",
       "Client_Family_Members_4.0        0\n",
       "Client_Family_Members_5.0        0\n",
       "Client_Family_Members_6.0        0\n",
       "Client_Family_Members_7.0        0\n",
       "Client_Family_Members_8.0        0\n",
       "Client_Family_Members_9.0        0\n",
       "Client_Family_Members_10.0       0\n",
       "Client_Family_Members_12.0       0\n",
       "Client_Family_Members_13.0       0\n",
       "Client_Family_Members_14.0       0\n",
       "Client_Family_Members_15.0       0\n",
       "Client_Family_Members_16.0       0\n",
       "Cleint_City_Rating_1.0           0\n",
       "Cleint_City_Rating_2.0           0\n",
       "Cleint_City_Rating_3.0           0\n",
       "Application_Process_Day_0.0      0\n",
       "Application_Process_Day_1.0      0\n",
       "Application_Process_Day_2.0      0\n",
       "Application_Process_Day_3.0      0\n",
       "Application_Process_Day_4.0      0\n",
       "Application_Process_Day_5.0      0\n",
       "Application_Process_Day_6.0      0\n",
       "Application_Process_Hour_0.0     0\n",
       "Application_Process_Hour_1.0     0\n",
       "Application_Process_Hour_2.0     0\n",
       "Application_Process_Hour_3.0     0\n",
       "Application_Process_Hour_4.0     0\n",
       "Application_Process_Hour_5.0     0\n",
       "Application_Process_Hour_6.0     0\n",
       "Application_Process_Hour_7.0     0\n",
       "Application_Process_Hour_8.0     0\n",
       "Application_Process_Hour_9.0     0\n",
       "Application_Process_Hour_10.0    0\n",
       "Application_Process_Hour_11.0    0\n",
       "Application_Process_Hour_12.0    0\n",
       "Application_Process_Hour_13.0    0\n",
       "Application_Process_Hour_14.0    0\n",
       "Application_Process_Hour_15.0    0\n",
       "Application_Process_Hour_16.0    0\n",
       "Application_Process_Hour_17.0    0\n",
       "Application_Process_Hour_18.0    0\n",
       "Application_Process_Hour_19.0    0\n",
       "Application_Process_Hour_20.0    0\n",
       "Application_Process_Hour_21.0    0\n",
       "Application_Process_Hour_22.0    0\n",
       "Application_Process_Hour_23.0    0\n",
       "dtype: int64"
      ]
     },
     "execution_count": 41,
     "metadata": {},
     "output_type": "execute_result"
    }
   ],
   "source": [
    "# 결측치 확인\n",
    "pd.set_option('display.max_rows', None)\n",
    "train_df.isna().sum()"
   ]
  },
  {
   "cell_type": "code",
   "execution_count": 42,
   "metadata": {
    "colab": {
     "base_uri": "https://localhost:8080/"
    },
    "id": "kgu8QMAqmL2Z",
    "outputId": "94097643-5fed-4dbe-972a-39eaa3fae8ec"
   },
   "outputs": [
    {
     "name": "stdout",
     "output_type": "stream",
     "text": [
      "<class 'pandas.core.frame.DataFrame'>\n",
      "RangeIndex: 121856 entries, 0 to 121855\n",
      "Data columns (total 94 columns):\n",
      " #   Column                         Non-Null Count   Dtype  \n",
      "---  ------                         --------------   -----  \n",
      " 0   Client_Income                  121856 non-null  float64\n",
      " 1   Credit_Amount                  121856 non-null  float64\n",
      " 2   Loan_Annuity                   121856 non-null  float64\n",
      " 3   Accompany_Client               121856 non-null  object \n",
      " 4   Client_Income_Type             121856 non-null  object \n",
      " 5   Client_Education               121856 non-null  object \n",
      " 6   Client_Marital_Status          121856 non-null  object \n",
      " 7   Client_Gender                  121856 non-null  object \n",
      " 8   Loan_Contract_Type             121856 non-null  object \n",
      " 9   Client_Housing_Type            121856 non-null  object \n",
      " 10  Population_Region_Relative     121856 non-null  float64\n",
      " 11  Age_Days                       121856 non-null  float64\n",
      " 12  Employed_Days                  121856 non-null  float64\n",
      " 13  Registration_Days              121856 non-null  float64\n",
      " 14  ID_Days                        121856 non-null  float64\n",
      " 15  Homephone_Tag                  121856 non-null  int64  \n",
      " 16  Workphone_Working              121856 non-null  int64  \n",
      " 17  Client_Occupation              121856 non-null  object \n",
      " 18  Client_Permanent_Match_Tag     121856 non-null  object \n",
      " 19  Client_Contact_Work_Tag        121856 non-null  object \n",
      " 20  Score_Source_2                 121856 non-null  float64\n",
      " 21  Phone_Change                   121856 non-null  float64\n",
      " 22  Credit_Bureau                  121856 non-null  float64\n",
      " 23  Car_Owned_0.0                  121856 non-null  uint8  \n",
      " 24  Car_Owned_1.0                  121856 non-null  uint8  \n",
      " 25  Bike_Owned_0.0                 121856 non-null  uint8  \n",
      " 26  Bike_Owned_1.0                 121856 non-null  uint8  \n",
      " 27  Active_Loan_0.0                121856 non-null  uint8  \n",
      " 28  Active_Loan_1.0                121856 non-null  uint8  \n",
      " 29  House_Own_0.0                  121856 non-null  uint8  \n",
      " 30  House_Own_1.0                  121856 non-null  uint8  \n",
      " 31  Child_Count_0.0                121856 non-null  uint8  \n",
      " 32  Child_Count_1.0                121856 non-null  uint8  \n",
      " 33  Child_Count_2.0                121856 non-null  uint8  \n",
      " 34  Child_Count_3.0                121856 non-null  uint8  \n",
      " 35  Child_Count_4.0                121856 non-null  uint8  \n",
      " 36  Child_Count_5.0                121856 non-null  uint8  \n",
      " 37  Child_Count_6.0                121856 non-null  uint8  \n",
      " 38  Child_Count_7.0                121856 non-null  uint8  \n",
      " 39  Child_Count_8.0                121856 non-null  uint8  \n",
      " 40  Child_Count_9.0                121856 non-null  uint8  \n",
      " 41  Child_Count_10.0               121856 non-null  uint8  \n",
      " 42  Child_Count_12.0               121856 non-null  uint8  \n",
      " 43  Child_Count_14.0               121856 non-null  uint8  \n",
      " 44  Child_Count_19.0               121856 non-null  uint8  \n",
      " 45  Client_Family_Members_1.0      121856 non-null  uint8  \n",
      " 46  Client_Family_Members_2.0      121856 non-null  uint8  \n",
      " 47  Client_Family_Members_3.0      121856 non-null  uint8  \n",
      " 48  Client_Family_Members_4.0      121856 non-null  uint8  \n",
      " 49  Client_Family_Members_5.0      121856 non-null  uint8  \n",
      " 50  Client_Family_Members_6.0      121856 non-null  uint8  \n",
      " 51  Client_Family_Members_7.0      121856 non-null  uint8  \n",
      " 52  Client_Family_Members_8.0      121856 non-null  uint8  \n",
      " 53  Client_Family_Members_9.0      121856 non-null  uint8  \n",
      " 54  Client_Family_Members_10.0     121856 non-null  uint8  \n",
      " 55  Client_Family_Members_12.0     121856 non-null  uint8  \n",
      " 56  Client_Family_Members_13.0     121856 non-null  uint8  \n",
      " 57  Client_Family_Members_14.0     121856 non-null  uint8  \n",
      " 58  Client_Family_Members_15.0     121856 non-null  uint8  \n",
      " 59  Client_Family_Members_16.0     121856 non-null  uint8  \n",
      " 60  Cleint_City_Rating_1.0         121856 non-null  uint8  \n",
      " 61  Cleint_City_Rating_2.0         121856 non-null  uint8  \n",
      " 62  Cleint_City_Rating_3.0         121856 non-null  uint8  \n",
      " 63  Application_Process_Day_0.0    121856 non-null  uint8  \n",
      " 64  Application_Process_Day_1.0    121856 non-null  uint8  \n",
      " 65  Application_Process_Day_2.0    121856 non-null  uint8  \n",
      " 66  Application_Process_Day_3.0    121856 non-null  uint8  \n",
      " 67  Application_Process_Day_4.0    121856 non-null  uint8  \n",
      " 68  Application_Process_Day_5.0    121856 non-null  uint8  \n",
      " 69  Application_Process_Day_6.0    121856 non-null  uint8  \n",
      " 70  Application_Process_Hour_0.0   121856 non-null  uint8  \n",
      " 71  Application_Process_Hour_1.0   121856 non-null  uint8  \n",
      " 72  Application_Process_Hour_2.0   121856 non-null  uint8  \n",
      " 73  Application_Process_Hour_3.0   121856 non-null  uint8  \n",
      " 74  Application_Process_Hour_4.0   121856 non-null  uint8  \n",
      " 75  Application_Process_Hour_5.0   121856 non-null  uint8  \n",
      " 76  Application_Process_Hour_6.0   121856 non-null  uint8  \n",
      " 77  Application_Process_Hour_7.0   121856 non-null  uint8  \n",
      " 78  Application_Process_Hour_8.0   121856 non-null  uint8  \n",
      " 79  Application_Process_Hour_9.0   121856 non-null  uint8  \n",
      " 80  Application_Process_Hour_10.0  121856 non-null  uint8  \n",
      " 81  Application_Process_Hour_11.0  121856 non-null  uint8  \n",
      " 82  Application_Process_Hour_12.0  121856 non-null  uint8  \n",
      " 83  Application_Process_Hour_13.0  121856 non-null  uint8  \n",
      " 84  Application_Process_Hour_14.0  121856 non-null  uint8  \n",
      " 85  Application_Process_Hour_15.0  121856 non-null  uint8  \n",
      " 86  Application_Process_Hour_16.0  121856 non-null  uint8  \n",
      " 87  Application_Process_Hour_17.0  121856 non-null  uint8  \n",
      " 88  Application_Process_Hour_18.0  121856 non-null  uint8  \n",
      " 89  Application_Process_Hour_19.0  121856 non-null  uint8  \n",
      " 90  Application_Process_Hour_20.0  121856 non-null  uint8  \n",
      " 91  Application_Process_Hour_21.0  121856 non-null  uint8  \n",
      " 92  Application_Process_Hour_22.0  121856 non-null  uint8  \n",
      " 93  Application_Process_Hour_23.0  121856 non-null  uint8  \n",
      "dtypes: float64(11), int64(2), object(10), uint8(71)\n",
      "memory usage: 29.6+ MB\n"
     ]
    }
   ],
   "source": [
    "train_df.info()\n",
    "# object 타입 변수 남아있음 확인"
   ]
  },
  {
   "cell_type": "code",
   "execution_count": 43,
   "metadata": {
    "id": "VYVAqZzMmPjc"
   },
   "outputs": [],
   "source": [
    "# objects변수 전처리\n",
    "cag_colums = train_df.select_dtypes(include='object').columns\n",
    "train_df = pd.get_dummies(train_df, columns = cag_colums)"
   ]
  },
  {
   "cell_type": "code",
   "execution_count": 44,
   "metadata": {
    "colab": {
     "base_uri": "https://localhost:8080/"
    },
    "id": "pYUdgHA9lKMh",
    "outputId": "63576b60-3a94-4d69-856d-e4d124ae993e"
   },
   "outputs": [
    {
     "name": "stdout",
     "output_type": "stream",
     "text": [
      "(121856, 140)\n",
      "(121856,)\n"
     ]
    }
   ],
   "source": [
    "# x data 정규화\n",
    "from sklearn import preprocessing\n",
    "sc = preprocessing.StandardScaler() # Apply standard scaling on x_data (Standardization)\n",
    "x_data = sc.fit_transform(train_df)\n",
    "\n",
    "print(x_data.shape)\n",
    "print(target_df.shape)"
   ]
  },
  {
   "cell_type": "code",
   "execution_count": 67,
   "metadata": {
    "id": "ZIhRn7cUl9tW"
   },
   "outputs": [],
   "source": [
    "# train & test data split \n",
    "from sklearn.model_selection import train_test_split\n",
    "\n",
    "train_data, test_data, train_label, test_label = train_test_split(x_data, target_df, \n",
    "                                                    test_size=0.3, \n",
    "                                                    stratify=target_df,\n",
    "                                                    random_state=42)"
   ]
  },
  {
   "cell_type": "code",
   "execution_count": 68,
   "metadata": {
    "id": "d07W6vLGoDTS"
   },
   "outputs": [],
   "source": [
    "# oversampling (학습 데이터 세트만 오버샘플링)\n",
    "from imblearn.over_sampling import SMOTE\n",
    "oversample = SMOTE(random_state=42)\n",
    "\n",
    "x_train_over, y_train_over = oversample.fit_resample(train_data, train_label)"
   ]
  },
  {
   "cell_type": "code",
   "execution_count": 69,
   "metadata": {
    "colab": {
     "base_uri": "https://localhost:8080/"
    },
    "id": "oxLD3_jYqI5f",
    "outputId": "8dc8aa8e-c93b-4aed-80df-1efe51b0a284"
   },
   "outputs": [
    {
     "name": "stdout",
     "output_type": "stream",
     "text": [
      "SMOTE-sampling 적용 전 : (121856, 140) (85299,)\n",
      "SMOTE-sampling 적용 후 : (156816, 140) (156816,)\n"
     ]
    }
   ],
   "source": [
    "print('SMOTE-sampling 적용 전 :', train_df.shape, train_label.shape)\n",
    "print('SMOTE-sampling 적용 후 :', x_train_over.shape, y_train_over.shape)"
   ]
  },
  {
   "cell_type": "code",
   "execution_count": 70,
   "metadata": {
    "id": "FLRzx5h2rN-2"
   },
   "outputs": [],
   "source": [
    "train_label_df = pd.DataFrame(train_label)\n",
    "y_train_over_df = pd.DataFrame(y_train_over)"
   ]
  },
  {
   "cell_type": "code",
   "execution_count": 71,
   "metadata": {
    "colab": {
     "base_uri": "https://localhost:8080/"
    },
    "id": "mPv3TBAmq7gx",
    "outputId": "3176f2f6-b25f-4593-8279-dc94469d65c3"
   },
   "outputs": [
    {
     "name": "stdout",
     "output_type": "stream",
     "text": [
      "SMOTE-sampling 적용 전 :\n",
      "Default\n",
      "0          78408\n",
      "1           6891\n",
      "dtype: int64\n",
      "\n",
      "SMOTE-sampling 적용 후 :\n",
      "Default\n",
      "0          78408\n",
      "1          78408\n",
      "dtype: int64\n"
     ]
    }
   ],
   "source": [
    "print('SMOTE-sampling 적용 전 :')\n",
    "print(train_label_df.value_counts())\n",
    "print()\n",
    "\n",
    "print('SMOTE-sampling 적용 후 :')\n",
    "print(y_train_over_df.value_counts())"
   ]
  },
  {
   "cell_type": "code",
   "execution_count": 72,
   "metadata": {
    "colab": {
     "base_uri": "https://localhost:8080/"
    },
    "id": "e_yQH14OrE8L",
    "outputId": "82cfe144-df0f-4718-a804-45ca113743a5"
   },
   "outputs": [
    {
     "name": "stdout",
     "output_type": "stream",
     "text": [
      "(156816, 140)\n",
      "(36557, 140)\n",
      "(156816, 2)\n",
      "(36557, 2)\n"
     ]
    }
   ],
   "source": [
    "# y data one-hot vector\n",
    "from tensorflow.keras import utils\n",
    "\n",
    "y_train_over = utils.to_categorical(y_train_over) # 0 or 1 -> one-hot vector\n",
    "test_label = utils.to_categorical(test_label) \n",
    "\n",
    "print(x_train_over.shape)\n",
    "print(test_data.shape)\n",
    "print(y_train_over.shape)\n",
    "print(test_label.shape)"
   ]
  },
  {
   "cell_type": "markdown",
   "metadata": {
    "id": "ATaDrbcTsmsJ"
   },
   "source": [
    "![image.png](data:image/png;base64,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)"
   ]
  },
  {
   "cell_type": "markdown",
   "metadata": {
    "id": "hi3LJApZsotN"
   },
   "source": [
    "- train & test data split 후 oversampling 전 y_data에 one-hot-vector 적용 했더니 위와 같은 결과 발생 \n",
    "- 따라서 oversampling 후 y_data에 one-hot-vector 적용"
   ]
  },
  {
   "cell_type": "code",
   "execution_count": null,
   "metadata": {
    "id": "5nnw-GoJs4OW"
   },
   "outputs": [],
   "source": []
  }
 ],
 "metadata": {
  "colab": {
   "provenance": []
  },
  "kernelspec": {
   "display_name": "Python 3 (ipykernel)",
   "language": "python",
   "name": "python3"
  },
  "language_info": {
   "codemirror_mode": {
    "name": "ipython",
    "version": 3
   },
   "file_extension": ".py",
   "mimetype": "text/x-python",
   "name": "python",
   "nbconvert_exporter": "python",
   "pygments_lexer": "ipython3",
   "version": "3.9.13"
  }
 },
 "nbformat": 4,
 "nbformat_minor": 1
}
