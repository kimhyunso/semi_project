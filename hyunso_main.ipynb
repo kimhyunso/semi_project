{
 "cells": [
  {
   "cell_type": "code",
   "execution_count": 1,
   "id": "5faa1e50",
   "metadata": {},
   "outputs": [],
   "source": [
    "import numpy as np\n",
    "import pandas as pd\n",
    "from matplotlib import pyplot as plt\n",
    "from sklearn.preprocessing import LabelEncoder, OneHotEncoder\n",
    "from sklearn.model_selection import train_test_split\n",
    "label_encoder = LabelEncoder()\n",
    "onehot_encoder = OneHotEncoder()\n",
    "from Preprocessing import Preprocessing"
   ]
  },
  {
   "cell_type": "code",
   "execution_count": null,
   "id": "63452b1b",
   "metadata": {},
   "outputs": [],
   "source": [
    "Pre"
   ]
  },
  {
   "cell_type": "code",
   "execution_count": 2,
   "id": "ca0f01d6",
   "metadata": {},
   "outputs": [],
   "source": [
    "na_values = ['$', '#VALUE!', '##', 'XNA', '@', '#', 'x', '&']"
   ]
  },
  {
   "cell_type": "code",
   "execution_count": 3,
   "id": "47455045",
   "metadata": {},
   "outputs": [],
   "source": [
    "df = pd.read_csv('./nbfi_vehicle_loan_repayment_dataset/Train_Dataset.csv', na_values=na_values, encoding='utf-8', engine='python')"
   ]
  },
  {
   "cell_type": "code",
   "execution_count": 4,
   "id": "5cdf98b4",
   "metadata": {
    "scrolled": true
   },
   "outputs": [
    {
     "data": {
      "text/plain": [
       "ID                   0\n",
       "Mobile_Tag           0\n",
       "Homephone_Tag        0\n",
       "Workphone_Working    0\n",
       "Default              0\n",
       "dtype: int64"
      ]
     },
     "execution_count": 4,
     "metadata": {},
     "output_type": "execute_result"
    }
   ],
   "source": [
    "df[df.select_dtypes(include='int64').columns].isna().sum()"
   ]
  },
  {
   "cell_type": "markdown",
   "id": "e22e618f",
   "metadata": {},
   "source": [
    "ID,고객 대출 신청 ID\n",
    "\n",
    "Client_Income,고객 소득($)\n",
    "\n",
    "Car_Owned,다른 차량에 대한 대출을 신청하기 전에 고객이 소유한 모든 차량(0은 아니요, 1은 그렇지 않음을 의미)\n",
    "\n",
    "Bike_Owned,고객이 소유한 모든 자전거(0은 아니요, 1은 그렇지 않음을 의미)\n",
    "\n",
    "Active_Loan,대출 신청 당시 진행 중인 다른 대출이 있는지 여부(0은 아니요, 1은 그렇지 않음을 의미)\n",
    "\n",
    "House_Own,고객이 소유한 주택 수(0은 아니요, 1은 그 외의 주택)\n",
    "\n",
    "Child_Count,고객이 보유한 자녀 수\n",
    "\n",
    "Credit_Amount,대출의 신용 금액($)\n",
    "\n",
    "Loan_Annuity,대출 연금($)\n",
    "\n",
    "Accompany_Client,고객이 대출을 신청할 때 고객과 동행한 사람\n",
    "\n",
    "Client_Income_Type,고객 소득 유형\n",
    "\n",
    "Client_Education,고객이 달성한 최고 교육 수준\n",
    "\n",
    "Client_Marital_Status,\"고객의 결혼 상태(D- 이혼, S- 미혼, M- 기혼, W- 사별)\"\n",
    "\n",
    "Client_Gender,고객의 성별\n",
    "\n",
    "Loan_Contract_Type,\"대출 유형(CL- 현금대출, RL- 리볼빙대출)\"\n",
    "\n",
    "Client_Housing_Type,고객 주택 상황\n",
    "\n",
    "Population_Region_Relative,고객이 거주하고 있는 지역의 상대적 인구수. 값이 높을수록 고객이 인구가 많은 지역에 거주하고 있음을 의미합니다.\n",
    "\n",
    "Age_Days,신청서 제출 시점의 고객 나이\n",
    "\n",
    "Employed_Days,\"신청 전, 고객이 수입을 시작한 일수\"\n",
    "\n",
    "Registration_Days,\"대출 신청일 전, 고객이 등록을 변경한 일수\"\n",
    "\n",
    "ID_Days,\"대출 신청 며칠 전, 고객이 대출을 신청한 신분증을 변경했습니다.\"\n",
    "\n",
    "Own_House_Age,고객 소유 주택의 나이(년)\n",
    "\n",
    "Mobile_Tag,고객이 제공한 휴대폰 번호(1은 예, 0은 아니오를 의미)\n",
    "\n",
    "Homephone_Tag,고객이 제공한 집전화 번호(1은 예, 0은 아니오를 의미)\n",
    "\n",
    "Workphone_Working,직장 전화 번호로 연락 가능했는지(1은 예, 0은 아니오)\n",
    "\n",
    "Client_Occupation,고객 직업 유형\n",
    "\n",
    "Client_Family_Members,고객이 보유한 가족 구성원 수\n",
    "\n",
    "Cleint_City_Rating,고객 도시 등급. 3은 최고, 2는 좋음, 1은 평균을 나타냅니다.\n",
    "\n",
    "Application_Process_Day,고객이 대출을 신청한 요일(0-일,1-월,2-화,3-수,4-목,5-금,6-토)\"\n",
    "\n",
    "Application_Process_Hour,고객이 대출을 신청한 요일 시간\n",
    "\n",
    "Client_Permanent_Match_Tag,고객 연락처 주소가 영구 주소와 일치하지 않는 경우 표시.\n",
    "\n",
    "Client_Contact_Work_Tag,고객 직장 주소가 연락처 주소와 일치하지 않는 경우 표시.\n",
    "\n",
    "Type_Organization,클라이언트가 근무하는 조직 유형\n",
    "\n",
    "Score_Source_1,다른 출처에서 얻은 점수. 정규화된 점수입니다.\n",
    "\n",
    "Score_Source_2,다른 출처에서 얻은 점수입니다. 정규화된 점수입니다.\n",
    "\n",
    "Score_Source_3,다른 소스에서 가져온 점수입니다. 정규화된 점수입니다.\n",
    "\n",
    "Social_Circle_Default,지난 60일 동안 대출 상환을 불이행한 고객의 친구/가족 수\n",
    "\n",
    "Phone_Change,\"대출 신청 며칠 전에 고객이 휴대폰을 변경했는지\"\n",
    "\n",
    "Credit_Bureau,작년 총 조회 건수\n",
    "\n",
    "Default,1은 고객이 대출 상환을 불이행했음을 의미하고 0은 그렇지 않음을 의미합니다."
   ]
  },
  {
   "cell_type": "code",
   "execution_count": 5,
   "id": "cfd6dca7",
   "metadata": {},
   "outputs": [
    {
     "ename": "NameError",
     "evalue": "name 'pay_df' is not defined",
     "output_type": "error",
     "traceback": [
      "\u001b[1;31m---------------------------------------------------------------------------\u001b[0m",
      "\u001b[1;31mNameError\u001b[0m                                 Traceback (most recent call last)",
      "\u001b[1;32m<ipython-input-5-68f016541ec0>\u001b[0m in \u001b[0;36m<module>\u001b[1;34m\u001b[0m\n\u001b[0;32m      1\u001b[0m \u001b[1;31m# pay_df.Client_Gender = count_encoder.fit_transform(pay_df.Client_Gender)\u001b[0m\u001b[1;33m\u001b[0m\u001b[1;33m\u001b[0m\u001b[1;33m\u001b[0m\u001b[0m\n\u001b[0;32m      2\u001b[0m \u001b[1;33m\u001b[0m\u001b[0m\n\u001b[1;32m----> 3\u001b[1;33m \u001b[0mpay_df\u001b[0m\u001b[1;33m.\u001b[0m\u001b[0mClient_Gender\u001b[0m \u001b[1;33m=\u001b[0m \u001b[0mlabel_encoder\u001b[0m\u001b[1;33m.\u001b[0m\u001b[0mfit_transform\u001b[0m\u001b[1;33m(\u001b[0m\u001b[0mpay_df\u001b[0m\u001b[1;33m.\u001b[0m\u001b[0mClient_Gender\u001b[0m\u001b[1;33m)\u001b[0m\u001b[1;33m\u001b[0m\u001b[1;33m\u001b[0m\u001b[0m\n\u001b[0m",
      "\u001b[1;31mNameError\u001b[0m: name 'pay_df' is not defined"
     ]
    }
   ],
   "source": [
    "# pay_df.Client_Gender = count_encoder.fit_transform(pay_df.Client_Gender)\n",
    "\n",
    "pay_df.Client_Gender = label_encoder.fit_transform(pay_df.Client_Gender)"
   ]
  },
  {
   "cell_type": "code",
   "execution_count": null,
   "id": "0fe4b1ba",
   "metadata": {},
   "outputs": [],
   "source": [
    "pay_df.Client_Gender"
   ]
  },
  {
   "cell_type": "code",
   "execution_count": null,
   "id": "1ebd28bd",
   "metadata": {},
   "outputs": [],
   "source": [
    "pay_df.Accompany_Client.value_counts()\n",
    "# pay_df.Accompany_Client.isna().sum()"
   ]
  },
  {
   "cell_type": "code",
   "execution_count": null,
   "id": "6cfadbda",
   "metadata": {},
   "outputs": [],
   "source": [
    "pay_df.Client_Gender.value_counts()"
   ]
  },
  {
   "cell_type": "code",
   "execution_count": null,
   "id": "ed1bbfad",
   "metadata": {},
   "outputs": [],
   "source": [
    "pay_df.Client_Gender = pay_df.Client_Gender.apply(lambda x : 0 if x == 2 else x)"
   ]
  },
  {
   "cell_type": "code",
   "execution_count": null,
   "id": "19aefcfb",
   "metadata": {
    "scrolled": true
   },
   "outputs": [],
   "source": [
    "pay_df.pivot_table(index=y_target, columns=['Client_Gender'], aggfunc=['mean', 'sum'])"
   ]
  },
  {
   "cell_type": "code",
   "execution_count": null,
   "id": "4ba419b0",
   "metadata": {},
   "outputs": [],
   "source": [
    "import time\n",
    "\n",
    "# posix_timestamp = time.time()\n",
    "test = 1648712311.982345 + pay_df.Age_Days[6]"
   ]
  },
  {
   "cell_type": "code",
   "execution_count": null,
   "id": "dc687863",
   "metadata": {},
   "outputs": [],
   "source": [
    "time.gmtime(test)"
   ]
  },
  {
   "cell_type": "code",
   "execution_count": null,
   "id": "0df58e67",
   "metadata": {},
   "outputs": [],
   "source": [
    "pay_df.Age_Days"
   ]
  },
  {
   "cell_type": "code",
   "execution_count": null,
   "id": "c5b841c4",
   "metadata": {},
   "outputs": [],
   "source": []
  }
 ],
 "metadata": {
  "kernelspec": {
   "display_name": "Python 3 (ipykernel)",
   "language": "python",
   "name": "python3"
  },
  "language_info": {
   "codemirror_mode": {
    "name": "ipython",
    "version": 3
   },
   "file_extension": ".py",
   "mimetype": "text/x-python",
   "name": "python",
   "nbconvert_exporter": "python",
   "pygments_lexer": "ipython3",
   "version": "3.8.8"
  }
 },
 "nbformat": 4,
 "nbformat_minor": 5
}
