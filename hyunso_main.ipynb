{
 "cells": [
  {
   "cell_type": "code",
   "execution_count": 1,
   "id": "5faa1e50",
   "metadata": {},
   "outputs": [],
   "source": [
    "import warnings\n",
    "warnings.filterwarnings(\"ignore\")\n",
    "\n",
    "import pandas as pd\n",
    "import numpy as np\n",
    "import matplotlib.pyplot as plt\n",
    "import seaborn as sns\n",
    "from sklearn.preprocessing import LabelEncoder, OneHotEncoder, StandardScaler, MinMaxScaler\n",
    "from sklearn.compose import ColumnTransformer\n",
    "from sklearn.pipeline import Pipeline\n",
    "from sklearn.metrics import accuracy_score, f1_score, roc_auc_score, roc_curve, auc, mean_squared_error, classification_report\n",
    "from sklearn import  model_selection\n",
    "from sklearn import ensemble\n",
    "from sklearn import svm\n",
    "from sklearn.model_selection import GridSearchCV\n",
    "from vecstack import stacking, StackingTransformer\n",
    "from xgboost import XGBClassifier\n",
    "from IPython.display import Image\n",
    "from sklearn.tree import DecisionTreeClassifier\n",
    "from sklearn.linear_model import LogisticRegression\n",
    "from Preprocessing import Preprocessing\n",
    "from sklearn.model_selection import train_test_split"
   ]
  },
  {
   "cell_type": "code",
   "execution_count": 4,
   "id": "427c75e2",
   "metadata": {},
   "outputs": [],
   "source": [
    "train_location = '/semi_project/nbfi_vehicle_loan_repayment_dataset/Train_Dataset.csv'\n",
    "na_values = ['$', '#VALUE!', '##', 'XNA', '@', '#', 'x', '&']"
   ]
  },
  {
   "cell_type": "code",
   "execution_count": 5,
   "id": "4a32ac5e",
   "metadata": {},
   "outputs": [],
   "source": [
    "df = pd.read_csv(\n",
    "        train_location,\n",
    "        index_col='ID',\n",
    "        na_values=na_values,\n",
    "        dtype={\n",
    "            'Accompany_Client': 'category',\n",
    "            'Client_Income_Type': 'category',\n",
    "            'Client_Education': 'category',\n",
    "            'Client_Marital_Status': 'category',\n",
    "            'Client_Gender': 'category',\n",
    "            'Loan_Contract_Type': 'category',\n",
    "            'Client_Housing_Type': 'category',\n",
    "            'Client_Occupation': 'category',\n",
    "            'Type_Organization': 'category',\n",
    "            'Default': 'bool',\n",
    "        },\n",
    "        true_values=['Yes'],\n",
    "        false_values=['No'],\n",
    "    ).rename(\n",
    "        columns={\n",
    "            'Cleint_City_Rating':'Client_City_Rating',\n",
    "        }\n",
    "    )"
   ]
  },
  {
   "cell_type": "code",
   "execution_count": 15,
   "id": "6eea4d59",
   "metadata": {},
   "outputs": [
    {
     "data": {
      "text/plain": [
       "ID\n",
       "12142509              Sales\n",
       "12138936                NaN\n",
       "12181264      Realty agents\n",
       "12188929                NaN\n",
       "12133385           Laborers\n",
       "                 ...       \n",
       "12207714           Laborers\n",
       "12173765              Sales\n",
       "12103937    High skill tech\n",
       "12170623              Sales\n",
       "12105610           Managers\n",
       "Name: Client_Occupation, Length: 121856, dtype: category\n",
       "Categories (18, object): ['Accountants', 'Cleaning', 'Cooking', 'Core', ..., 'Sales', 'Secretaries', 'Security', 'Waiters/barmen']"
      ]
     },
     "execution_count": 15,
     "metadata": {},
     "output_type": "execute_result"
    }
   ],
   "source": [
    "# df['Client_Occupation'].fillna('Nojob')\n",
    "df.Client_Occupation"
   ]
  },
  {
   "cell_type": "code",
   "execution_count": 7,
   "id": "373cdbb6",
   "metadata": {},
   "outputs": [
    {
     "ename": "ValueError",
     "evalue": "Cannot setitem on a Categorical with a new category, set the categories first",
     "output_type": "error",
     "traceback": [
      "\u001b[1;31m---------------------------------------------------------------------------\u001b[0m",
      "\u001b[1;31mValueError\u001b[0m                                Traceback (most recent call last)",
      "Cell \u001b[1;32mIn[7], line 1\u001b[0m\n\u001b[1;32m----> 1\u001b[0m preprocessing_db \u001b[38;5;241m=\u001b[39m \u001b[43mPreprocessing\u001b[49m\u001b[43m(\u001b[49m\u001b[43m)\u001b[49m\n\u001b[0;32m      2\u001b[0m \u001b[38;5;66;03m# 결측치 제거\u001b[39;00m\n\u001b[0;32m      3\u001b[0m preprocessing_db\u001b[38;5;241m.\u001b[39mdrop_columns()\n",
      "File \u001b[1;32mD:\\semi_project\\Preprocessing.py:47\u001b[0m, in \u001b[0;36mPreprocessing.__init__\u001b[1;34m(self)\u001b[0m\n\u001b[0;32m     44\u001b[0m \u001b[38;5;28;01mdel\u001b[39;00m \u001b[38;5;28mself\u001b[39m\u001b[38;5;241m.\u001b[39m__pay_df[\u001b[38;5;124m'\u001b[39m\u001b[38;5;124mDefault\u001b[39m\u001b[38;5;124m'\u001b[39m]\n\u001b[0;32m     46\u001b[0m \u001b[38;5;66;03m# 특정 컬럼에 대한 결측치 처리\u001b[39;00m\n\u001b[1;32m---> 47\u001b[0m \u001b[38;5;28;43mself\u001b[39;49m\u001b[38;5;241;43m.\u001b[39;49m\u001b[43m__pay_df\u001b[49m\u001b[43m[\u001b[49m\u001b[38;5;124;43m'\u001b[39;49m\u001b[38;5;124;43mClient_Occupation\u001b[39;49m\u001b[38;5;124;43m'\u001b[39;49m\u001b[43m]\u001b[49m\u001b[38;5;241;43m.\u001b[39;49m\u001b[43mfillna\u001b[49m\u001b[43m(\u001b[49m\u001b[38;5;124;43m'\u001b[39;49m\u001b[38;5;124;43mNojob\u001b[39;49m\u001b[38;5;124;43m'\u001b[39;49m\u001b[43m,\u001b[49m\u001b[43m \u001b[49m\u001b[43minplace\u001b[49m\u001b[38;5;241;43m=\u001b[39;49m\u001b[38;5;28;43;01mTrue\u001b[39;49;00m\u001b[43m)\u001b[49m\n\u001b[0;32m     48\u001b[0m \u001b[38;5;28mself\u001b[39m\u001b[38;5;241m.\u001b[39m__pay_df[\u001b[38;5;124m'\u001b[39m\u001b[38;5;124mCredit_Bureau\u001b[39m\u001b[38;5;124m'\u001b[39m]\u001b[38;5;241m.\u001b[39mfillna(\u001b[38;5;28mself\u001b[39m\u001b[38;5;241m.\u001b[39m__pay_df[\u001b[38;5;124m'\u001b[39m\u001b[38;5;124mCredit_Bureau\u001b[39m\u001b[38;5;124m'\u001b[39m]\u001b[38;5;241m.\u001b[39mmean(), inplace\u001b[38;5;241m=\u001b[39m\u001b[38;5;28;01mTrue\u001b[39;00m)\n",
      "File \u001b[1;32mc:\\programdata\\anaconda3\\lib\\site-packages\\pandas\\core\\series.py:4463\u001b[0m, in \u001b[0;36mSeries.fillna\u001b[1;34m(self, value, method, axis, inplace, limit, downcast)\u001b[0m\n\u001b[0;32m   4453\u001b[0m \u001b[38;5;129m@doc\u001b[39m(NDFrame\u001b[38;5;241m.\u001b[39mfillna, \u001b[38;5;241m*\u001b[39m\u001b[38;5;241m*\u001b[39m_shared_doc_kwargs)\n\u001b[0;32m   4454\u001b[0m \u001b[38;5;28;01mdef\u001b[39;00m \u001b[38;5;21mfillna\u001b[39m(\n\u001b[0;32m   4455\u001b[0m     \u001b[38;5;28mself\u001b[39m,\n\u001b[1;32m   (...)\u001b[0m\n\u001b[0;32m   4461\u001b[0m     downcast\u001b[38;5;241m=\u001b[39m\u001b[38;5;28;01mNone\u001b[39;00m,\n\u001b[0;32m   4462\u001b[0m ) \u001b[38;5;241m-\u001b[39m\u001b[38;5;241m>\u001b[39m Optional[\u001b[38;5;124m\"\u001b[39m\u001b[38;5;124mSeries\u001b[39m\u001b[38;5;124m\"\u001b[39m]:\n\u001b[1;32m-> 4463\u001b[0m     \u001b[38;5;28;01mreturn\u001b[39;00m \u001b[38;5;28;43msuper\u001b[39;49m\u001b[43m(\u001b[49m\u001b[43m)\u001b[49m\u001b[38;5;241;43m.\u001b[39;49m\u001b[43mfillna\u001b[49m\u001b[43m(\u001b[49m\n\u001b[0;32m   4464\u001b[0m \u001b[43m        \u001b[49m\u001b[43mvalue\u001b[49m\u001b[38;5;241;43m=\u001b[39;49m\u001b[43mvalue\u001b[49m\u001b[43m,\u001b[49m\n\u001b[0;32m   4465\u001b[0m \u001b[43m        \u001b[49m\u001b[43mmethod\u001b[49m\u001b[38;5;241;43m=\u001b[39;49m\u001b[43mmethod\u001b[49m\u001b[43m,\u001b[49m\n\u001b[0;32m   4466\u001b[0m \u001b[43m        \u001b[49m\u001b[43maxis\u001b[49m\u001b[38;5;241;43m=\u001b[39;49m\u001b[43maxis\u001b[49m\u001b[43m,\u001b[49m\n\u001b[0;32m   4467\u001b[0m \u001b[43m        \u001b[49m\u001b[43minplace\u001b[49m\u001b[38;5;241;43m=\u001b[39;49m\u001b[43minplace\u001b[49m\u001b[43m,\u001b[49m\n\u001b[0;32m   4468\u001b[0m \u001b[43m        \u001b[49m\u001b[43mlimit\u001b[49m\u001b[38;5;241;43m=\u001b[39;49m\u001b[43mlimit\u001b[49m\u001b[43m,\u001b[49m\n\u001b[0;32m   4469\u001b[0m \u001b[43m        \u001b[49m\u001b[43mdowncast\u001b[49m\u001b[38;5;241;43m=\u001b[39;49m\u001b[43mdowncast\u001b[49m\u001b[43m,\u001b[49m\n\u001b[0;32m   4470\u001b[0m \u001b[43m    \u001b[49m\u001b[43m)\u001b[49m\n",
      "File \u001b[1;32mc:\\programdata\\anaconda3\\lib\\site-packages\\pandas\\core\\generic.py:6408\u001b[0m, in \u001b[0;36mNDFrame.fillna\u001b[1;34m(self, value, method, axis, inplace, limit, downcast)\u001b[0m\n\u001b[0;32m   6401\u001b[0m     \u001b[38;5;28;01melse\u001b[39;00m:\n\u001b[0;32m   6402\u001b[0m         \u001b[38;5;28;01mraise\u001b[39;00m \u001b[38;5;167;01mTypeError\u001b[39;00m(\n\u001b[0;32m   6403\u001b[0m             \u001b[38;5;124m'\u001b[39m\u001b[38;5;124m\"\u001b[39m\u001b[38;5;124mvalue\u001b[39m\u001b[38;5;124m\"\u001b[39m\u001b[38;5;124m parameter must be a scalar, dict \u001b[39m\u001b[38;5;124m'\u001b[39m\n\u001b[0;32m   6404\u001b[0m             \u001b[38;5;124m\"\u001b[39m\u001b[38;5;124mor Series, but you passed a \u001b[39m\u001b[38;5;124m\"\u001b[39m\n\u001b[0;32m   6405\u001b[0m             \u001b[38;5;124mf\u001b[39m\u001b[38;5;124m'\u001b[39m\u001b[38;5;124m\"\u001b[39m\u001b[38;5;132;01m{\u001b[39;00m\u001b[38;5;28mtype\u001b[39m(value)\u001b[38;5;241m.\u001b[39m\u001b[38;5;18m__name__\u001b[39m\u001b[38;5;132;01m}\u001b[39;00m\u001b[38;5;124m\"\u001b[39m\u001b[38;5;124m'\u001b[39m\n\u001b[0;32m   6406\u001b[0m         )\n\u001b[1;32m-> 6408\u001b[0m     new_data \u001b[38;5;241m=\u001b[39m \u001b[38;5;28;43mself\u001b[39;49m\u001b[38;5;241;43m.\u001b[39;49m\u001b[43m_mgr\u001b[49m\u001b[38;5;241;43m.\u001b[39;49m\u001b[43mfillna\u001b[49m\u001b[43m(\u001b[49m\n\u001b[0;32m   6409\u001b[0m \u001b[43m        \u001b[49m\u001b[43mvalue\u001b[49m\u001b[38;5;241;43m=\u001b[39;49m\u001b[43mvalue\u001b[49m\u001b[43m,\u001b[49m\u001b[43m \u001b[49m\u001b[43mlimit\u001b[49m\u001b[38;5;241;43m=\u001b[39;49m\u001b[43mlimit\u001b[49m\u001b[43m,\u001b[49m\u001b[43m \u001b[49m\u001b[43minplace\u001b[49m\u001b[38;5;241;43m=\u001b[39;49m\u001b[43minplace\u001b[49m\u001b[43m,\u001b[49m\u001b[43m \u001b[49m\u001b[43mdowncast\u001b[49m\u001b[38;5;241;43m=\u001b[39;49m\u001b[43mdowncast\u001b[49m\n\u001b[0;32m   6410\u001b[0m \u001b[43m    \u001b[49m\u001b[43m)\u001b[49m\n\u001b[0;32m   6412\u001b[0m \u001b[38;5;28;01melif\u001b[39;00m \u001b[38;5;28misinstance\u001b[39m(value, (\u001b[38;5;28mdict\u001b[39m, ABCSeries)):\n\u001b[0;32m   6413\u001b[0m     \u001b[38;5;28;01mif\u001b[39;00m axis \u001b[38;5;241m==\u001b[39m \u001b[38;5;241m1\u001b[39m:\n",
      "File \u001b[1;32mc:\\programdata\\anaconda3\\lib\\site-packages\\pandas\\core\\internals\\managers.py:621\u001b[0m, in \u001b[0;36mBlockManager.fillna\u001b[1;34m(self, value, limit, inplace, downcast)\u001b[0m\n\u001b[0;32m    620\u001b[0m \u001b[38;5;28;01mdef\u001b[39;00m \u001b[38;5;21mfillna\u001b[39m(\u001b[38;5;28mself\u001b[39m, value, limit, inplace: \u001b[38;5;28mbool\u001b[39m, downcast) \u001b[38;5;241m-\u001b[39m\u001b[38;5;241m>\u001b[39m \u001b[38;5;124m\"\u001b[39m\u001b[38;5;124mBlockManager\u001b[39m\u001b[38;5;124m\"\u001b[39m:\n\u001b[1;32m--> 621\u001b[0m     \u001b[38;5;28;01mreturn\u001b[39;00m \u001b[38;5;28;43mself\u001b[39;49m\u001b[38;5;241;43m.\u001b[39;49m\u001b[43mapply\u001b[49m\u001b[43m(\u001b[49m\n\u001b[0;32m    622\u001b[0m \u001b[43m        \u001b[49m\u001b[38;5;124;43m\"\u001b[39;49m\u001b[38;5;124;43mfillna\u001b[39;49m\u001b[38;5;124;43m\"\u001b[39;49m\u001b[43m,\u001b[49m\u001b[43m \u001b[49m\u001b[43mvalue\u001b[49m\u001b[38;5;241;43m=\u001b[39;49m\u001b[43mvalue\u001b[49m\u001b[43m,\u001b[49m\u001b[43m \u001b[49m\u001b[43mlimit\u001b[49m\u001b[38;5;241;43m=\u001b[39;49m\u001b[43mlimit\u001b[49m\u001b[43m,\u001b[49m\u001b[43m \u001b[49m\u001b[43minplace\u001b[49m\u001b[38;5;241;43m=\u001b[39;49m\u001b[43minplace\u001b[49m\u001b[43m,\u001b[49m\u001b[43m \u001b[49m\u001b[43mdowncast\u001b[49m\u001b[38;5;241;43m=\u001b[39;49m\u001b[43mdowncast\u001b[49m\n\u001b[0;32m    623\u001b[0m \u001b[43m    \u001b[49m\u001b[43m)\u001b[49m\n",
      "File \u001b[1;32mc:\\programdata\\anaconda3\\lib\\site-packages\\pandas\\core\\internals\\managers.py:427\u001b[0m, in \u001b[0;36mBlockManager.apply\u001b[1;34m(self, f, align_keys, ignore_failures, **kwargs)\u001b[0m\n\u001b[0;32m    425\u001b[0m         applied \u001b[38;5;241m=\u001b[39m b\u001b[38;5;241m.\u001b[39mapply(f, \u001b[38;5;241m*\u001b[39m\u001b[38;5;241m*\u001b[39mkwargs)\n\u001b[0;32m    426\u001b[0m     \u001b[38;5;28;01melse\u001b[39;00m:\n\u001b[1;32m--> 427\u001b[0m         applied \u001b[38;5;241m=\u001b[39m \u001b[38;5;28;43mgetattr\u001b[39;49m\u001b[43m(\u001b[49m\u001b[43mb\u001b[49m\u001b[43m,\u001b[49m\u001b[43m \u001b[49m\u001b[43mf\u001b[49m\u001b[43m)\u001b[49m\u001b[43m(\u001b[49m\u001b[38;5;241;43m*\u001b[39;49m\u001b[38;5;241;43m*\u001b[39;49m\u001b[43mkwargs\u001b[49m\u001b[43m)\u001b[49m\n\u001b[0;32m    428\u001b[0m \u001b[38;5;28;01mexcept\u001b[39;00m (\u001b[38;5;167;01mTypeError\u001b[39;00m, \u001b[38;5;167;01mNotImplementedError\u001b[39;00m):\n\u001b[0;32m    429\u001b[0m     \u001b[38;5;28;01mif\u001b[39;00m \u001b[38;5;129;01mnot\u001b[39;00m ignore_failures:\n",
      "File \u001b[1;32mc:\\programdata\\anaconda3\\lib\\site-packages\\pandas\\core\\internals\\blocks.py:1928\u001b[0m, in \u001b[0;36mExtensionBlock.fillna\u001b[1;34m(self, value, limit, inplace, downcast)\u001b[0m\n\u001b[0;32m   1926\u001b[0m \u001b[38;5;28;01mdef\u001b[39;00m \u001b[38;5;21mfillna\u001b[39m(\u001b[38;5;28mself\u001b[39m, value, limit\u001b[38;5;241m=\u001b[39m\u001b[38;5;28;01mNone\u001b[39;00m, inplace\u001b[38;5;241m=\u001b[39m\u001b[38;5;28;01mFalse\u001b[39;00m, downcast\u001b[38;5;241m=\u001b[39m\u001b[38;5;28;01mNone\u001b[39;00m):\n\u001b[0;32m   1927\u001b[0m     values \u001b[38;5;241m=\u001b[39m \u001b[38;5;28mself\u001b[39m\u001b[38;5;241m.\u001b[39mvalues \u001b[38;5;28;01mif\u001b[39;00m inplace \u001b[38;5;28;01melse\u001b[39;00m \u001b[38;5;28mself\u001b[39m\u001b[38;5;241m.\u001b[39mvalues\u001b[38;5;241m.\u001b[39mcopy()\n\u001b[1;32m-> 1928\u001b[0m     values \u001b[38;5;241m=\u001b[39m \u001b[43mvalues\u001b[49m\u001b[38;5;241;43m.\u001b[39;49m\u001b[43mfillna\u001b[49m\u001b[43m(\u001b[49m\u001b[43mvalue\u001b[49m\u001b[38;5;241;43m=\u001b[39;49m\u001b[43mvalue\u001b[49m\u001b[43m,\u001b[49m\u001b[43m \u001b[49m\u001b[43mlimit\u001b[49m\u001b[38;5;241;43m=\u001b[39;49m\u001b[43mlimit\u001b[49m\u001b[43m)\u001b[49m\n\u001b[0;32m   1929\u001b[0m     \u001b[38;5;28;01mreturn\u001b[39;00m [\n\u001b[0;32m   1930\u001b[0m         \u001b[38;5;28mself\u001b[39m\u001b[38;5;241m.\u001b[39mmake_block_same_class(\n\u001b[0;32m   1931\u001b[0m             values\u001b[38;5;241m=\u001b[39mvalues, placement\u001b[38;5;241m=\u001b[39m\u001b[38;5;28mself\u001b[39m\u001b[38;5;241m.\u001b[39mmgr_locs, ndim\u001b[38;5;241m=\u001b[39m\u001b[38;5;28mself\u001b[39m\u001b[38;5;241m.\u001b[39mndim\n\u001b[0;32m   1932\u001b[0m         )\n\u001b[0;32m   1933\u001b[0m     ]\n",
      "File \u001b[1;32mc:\\programdata\\anaconda3\\lib\\site-packages\\pandas\\core\\arrays\\categorical.py:1692\u001b[0m, in \u001b[0;36mCategorical.fillna\u001b[1;34m(self, value, method, limit)\u001b[0m\n\u001b[0;32m   1689\u001b[0m codes \u001b[38;5;241m=\u001b[39m \u001b[38;5;28mself\u001b[39m\u001b[38;5;241m.\u001b[39m_ndarray\u001b[38;5;241m.\u001b[39mcopy()\n\u001b[0;32m   1690\u001b[0m mask \u001b[38;5;241m=\u001b[39m \u001b[38;5;28mself\u001b[39m\u001b[38;5;241m.\u001b[39misna()\n\u001b[1;32m-> 1692\u001b[0m new_codes \u001b[38;5;241m=\u001b[39m \u001b[38;5;28;43mself\u001b[39;49m\u001b[38;5;241;43m.\u001b[39;49m\u001b[43m_validate_setitem_value\u001b[49m\u001b[43m(\u001b[49m\u001b[43mvalue\u001b[49m\u001b[43m)\u001b[49m\n\u001b[0;32m   1694\u001b[0m \u001b[38;5;28;01mif\u001b[39;00m \u001b[38;5;28misinstance\u001b[39m(value, (np\u001b[38;5;241m.\u001b[39mndarray, Categorical)):\n\u001b[0;32m   1695\u001b[0m     \u001b[38;5;66;03m# We get ndarray or Categorical if called via Series.fillna,\u001b[39;00m\n\u001b[0;32m   1696\u001b[0m     \u001b[38;5;66;03m#  where it will unwrap another aligned Series before getting here\u001b[39;00m\n\u001b[0;32m   1697\u001b[0m     codes[mask] \u001b[38;5;241m=\u001b[39m new_codes[mask]\n",
      "File \u001b[1;32mc:\\programdata\\anaconda3\\lib\\site-packages\\pandas\\core\\arrays\\categorical.py:1893\u001b[0m, in \u001b[0;36mCategorical._validate_setitem_value\u001b[1;34m(self, value)\u001b[0m\n\u001b[0;32m   1890\u001b[0m \u001b[38;5;66;03m# no assignments of values not in categories, but it's always ok to set\u001b[39;00m\n\u001b[0;32m   1891\u001b[0m \u001b[38;5;66;03m# something to np.nan\u001b[39;00m\n\u001b[0;32m   1892\u001b[0m \u001b[38;5;28;01mif\u001b[39;00m \u001b[38;5;28mlen\u001b[39m(to_add) \u001b[38;5;129;01mand\u001b[39;00m \u001b[38;5;129;01mnot\u001b[39;00m isna(to_add)\u001b[38;5;241m.\u001b[39mall():\n\u001b[1;32m-> 1893\u001b[0m     \u001b[38;5;28;01mraise\u001b[39;00m \u001b[38;5;167;01mValueError\u001b[39;00m(\n\u001b[0;32m   1894\u001b[0m         \u001b[38;5;124m\"\u001b[39m\u001b[38;5;124mCannot setitem on a Categorical with a new \u001b[39m\u001b[38;5;124m\"\u001b[39m\n\u001b[0;32m   1895\u001b[0m         \u001b[38;5;124m\"\u001b[39m\u001b[38;5;124mcategory, set the categories first\u001b[39m\u001b[38;5;124m\"\u001b[39m\n\u001b[0;32m   1896\u001b[0m     )\n\u001b[0;32m   1898\u001b[0m codes \u001b[38;5;241m=\u001b[39m \u001b[38;5;28mself\u001b[39m\u001b[38;5;241m.\u001b[39mcategories\u001b[38;5;241m.\u001b[39mget_indexer(rvalue)\n\u001b[0;32m   1899\u001b[0m \u001b[38;5;28;01mreturn\u001b[39;00m codes\u001b[38;5;241m.\u001b[39mastype(\u001b[38;5;28mself\u001b[39m\u001b[38;5;241m.\u001b[39m_ndarray\u001b[38;5;241m.\u001b[39mdtype, copy\u001b[38;5;241m=\u001b[39m\u001b[38;5;28;01mFalse\u001b[39;00m)\n",
      "\u001b[1;31mValueError\u001b[0m: Cannot setitem on a Categorical with a new category, set the categories first"
     ]
    }
   ],
   "source": [
    "preprocessing_db = Preprocessing()\n",
    "# 결측치 제거\n",
    "preprocessing_db.drop_columns()\n",
    "# 연속형 데이터 대체\n",
    "preprocessing_db.numerical_columns_replace()\n",
    "# 범주형 데이터 대체ㅐ\n",
    "preprocessing_db.category_columns_replace()"
   ]
  },
  {
   "cell_type": "code",
   "execution_count": 3,
   "id": "96f93ca2",
   "metadata": {},
   "outputs": [
    {
     "ename": "NameError",
     "evalue": "name 'preprocessing_db' is not defined",
     "output_type": "error",
     "traceback": [
      "\u001b[1;31m---------------------------------------------------------------------------\u001b[0m",
      "\u001b[1;31mNameError\u001b[0m                                 Traceback (most recent call last)",
      "Cell \u001b[1;32mIn[3], line 1\u001b[0m\n\u001b[1;32m----> 1\u001b[0m df \u001b[38;5;241m=\u001b[39m \u001b[43mpreprocessing_db\u001b[49m\u001b[38;5;241m.\u001b[39mget_df()\n",
      "\u001b[1;31mNameError\u001b[0m: name 'preprocessing_db' is not defined"
     ]
    }
   ],
   "source": [
    "df = preprocessing_db.get_df()"
   ]
  },
  {
   "cell_type": "code",
   "execution_count": null,
   "id": "daea3115",
   "metadata": {},
   "outputs": [],
   "source": [
    "df.to_csv('./test.csv', index=False)"
   ]
  },
  {
   "cell_type": "code",
   "execution_count": null,
   "id": "9ac012b4",
   "metadata": {},
   "outputs": [],
   "source": [
    "df = pd.read_csv('./nbfi_vehicle_loan_repayment_dataset/Train_Dataset.csv')"
   ]
  },
  {
   "cell_type": "code",
   "execution_count": null,
   "id": "a85c4a71",
   "metadata": {},
   "outputs": [],
   "source": [
    "df['Default'].value_counts()"
   ]
  },
  {
   "cell_type": "code",
   "execution_count": null,
   "id": "8dcfefb8",
   "metadata": {
    "scrolled": true
   },
   "outputs": [],
   "source": [
    "target_df = preprocessing_db.get_target_df()"
   ]
  },
  {
   "cell_type": "code",
   "execution_count": null,
   "id": "40f7c3af",
   "metadata": {},
   "outputs": [],
   "source": [
    "target_df"
   ]
  },
  {
   "cell_type": "code",
   "execution_count": null,
   "id": "f2b5d910",
   "metadata": {},
   "outputs": [],
   "source": [
    "na_values = ['$', '#VALUE!', '##', 'XNA', '@', '#', 'x', '&']\n",
    "columns = ['Client_Income', 'Credit_Amount', 'Loan_Annuity', 'Score_Source_3', 'Population_Region_Relative', 'Age_Days', 'Employed_Days', 'Registration_Days', 'ID_Days']\n",
    "pay_df = pd.read_csv('./nbfi_vehicle_loan_repayment_dataset/Train_Dataset.csv', na_values=na_values, encoding='utf-8', engine='python')\n",
    "\n",
    "for column in columns:\n",
    "    pay_df[column] = pd.to_numeric(pay_df[column], errors='coerce')"
   ]
  },
  {
   "cell_type": "code",
   "execution_count": null,
   "id": "773c83b2",
   "metadata": {},
   "outputs": [],
   "source": [
    "x_test = pd.read_csv('./nbfi_vehicle_loan_repayment_dataset/x_test.csv')\n",
    "x_train = pd.read_csv('./nbfi_vehicle_loan_repayment_dataset/x_train_over.csv')\n",
    "y_train = pd.read_csv('./nbfi_vehicle_loan_repayment_dataset/y_train_over.csv')\n",
    "y_test = pd.read_csv('./nbfi_vehicle_loan_repayment_dataset/y_test.csv')"
   ]
  },
  {
   "cell_type": "code",
   "execution_count": null,
   "id": "a9058536",
   "metadata": {},
   "outputs": [],
   "source": [
    "df.shape"
   ]
  },
  {
   "cell_type": "code",
   "execution_count": null,
   "id": "3134093d",
   "metadata": {},
   "outputs": [],
   "source": [
    "df = pd.concat([x_test, x_train])\n",
    "y_df = pd.concat([y_train, y_test])\n",
    "df.to_csv('./data.csv', index=False)\n",
    "y_df.to_csv('./y_data.csv', index=False)"
   ]
  },
  {
   "cell_type": "code",
   "execution_count": null,
   "id": "eb9400d0",
   "metadata": {},
   "outputs": [],
   "source": [
    "pd.set_option('display.max_rows', None)"
   ]
  },
  {
   "cell_type": "code",
   "execution_count": null,
   "id": "8e030537",
   "metadata": {},
   "outputs": [],
   "source": [
    "# pd.get_dummies(df, columns=['Accompany_Client', 'Application_Process_Hour'], ax=1)"
   ]
  },
  {
   "cell_type": "code",
   "execution_count": null,
   "id": "e2442330",
   "metadata": {},
   "outputs": [],
   "source": [
    "df.Cleint_City_Rating.value_counts()"
   ]
  },
  {
   "cell_type": "code",
   "execution_count": null,
   "id": "72f6ff40",
   "metadata": {},
   "outputs": [],
   "source": [
    "df_null_sum = df.isna().sum()\n",
    "column = df_null_sum[df_null_sum>0].index\n",
    "test = pd.get_dummies(df, columns=column)"
   ]
  },
  {
   "cell_type": "code",
   "execution_count": null,
   "id": "81423fb9",
   "metadata": {},
   "outputs": [],
   "source": [
    "pd.set_option('display.max_rows', None)"
   ]
  },
  {
   "cell_type": "code",
   "execution_count": null,
   "id": "1a44e897",
   "metadata": {},
   "outputs": [],
   "source": [
    "test.isna().sum()"
   ]
  },
  {
   "cell_type": "code",
   "execution_count": null,
   "id": "20052e71",
   "metadata": {
    "scrolled": false
   },
   "outputs": [],
   "source": [
    "df.isna().sum()"
   ]
  },
  {
   "cell_type": "code",
   "execution_count": null,
   "id": "3c7e2e39",
   "metadata": {},
   "outputs": [],
   "source": [
    "df = pd.read_csv('./nbfi_vehicle_loan_repayment_dataset/Train_Dataset.csv', na_values=['$', '#VALUE!', '##', 'XNA', '@', '#', 'x', '&'], encoding='utf-8', engine='python')"
   ]
  },
  {
   "cell_type": "code",
   "execution_count": null,
   "id": "6ab9ee04",
   "metadata": {},
   "outputs": [],
   "source": [
    "# 범주형인데 1, 2~~~\n",
    "category_value_number = ['Car_Owned', 'Bike_Owned',\n",
    "                        'Active_Loan', 'House_Own', 'Child_Count',\n",
    "                        'Own_House_Age', 'Homephone_Tag', 'Workphone_Working', \n",
    "                        'Client_Family_Members', 'Cleint_City_Rating', 'Application_Process_Day', 'Application_Process_Hour',\n",
    "                        'Credit_Bureau']"
   ]
  },
  {
   "cell_type": "code",
   "execution_count": null,
   "id": "4371badb",
   "metadata": {},
   "outputs": [],
   "source": [
    "# 연속형\n",
    "numerical_value = ['Client_Income', 'Credit_Amount', 'Loan_Annuity', \n",
    "                   'Population_Region_Relative', 'Age_Days', 'Employed_Days',\n",
    "                   'Registration_Days', 'ID_Days', 'Score_Source_1' ,\n",
    "                   'Score_Source_2', 'Score_Source_3', 'Social_Circle_Default', 'Phone_Change']"
   ]
  },
  {
   "cell_type": "code",
   "execution_count": null,
   "id": "918bebe0",
   "metadata": {},
   "outputs": [],
   "source": [
    "# 범주형인데 str\n",
    "category_value_object = df.select_dtypes(include='object').columns"
   ]
  },
  {
   "cell_type": "code",
   "execution_count": null,
   "id": "a064b3c4",
   "metadata": {},
   "outputs": [],
   "source": [
    "category_value_object"
   ]
  },
  {
   "cell_type": "code",
   "execution_count": null,
   "id": "836e8625",
   "metadata": {},
   "outputs": [],
   "source": [
    "df.drop(columns='Mobile_Tag', axis=1, inplace=True)"
   ]
  },
  {
   "cell_type": "code",
   "execution_count": null,
   "id": "2ab66dec",
   "metadata": {},
   "outputs": [],
   "source": [
    "def test(column):\n",
    "    return random.choice(column)"
   ]
  },
  {
   "cell_type": "code",
   "execution_count": null,
   "id": "f7771f4a",
   "metadata": {},
   "outputs": [],
   "source": [
    "import random\n",
    "columns = {}\n",
    "for column in category_value_object:\n",
    "    if df[column].isna().sum() > 10000 or df[column].isna().sum() == 0:\n",
    "        continue\n",
    "    unique_columns = df[column].loc[df[column].isna()==False].unique()\n",
    "    df[column] = df[column].apply(lambda x : random.choice(unique_columns) if pd.isna(x) else x)\n"
   ]
  },
  {
   "cell_type": "code",
   "execution_count": null,
   "id": "7eec2c3b",
   "metadata": {},
   "outputs": [],
   "source": [
    "df.Client_Housing_Type.value_counts()"
   ]
  },
  {
   "cell_type": "code",
   "execution_count": null,
   "id": "20f1082a",
   "metadata": {},
   "outputs": [],
   "source": [
    "df.Accompany_Client[df.Accompany_Client.isna()==False].unique()"
   ]
  },
  {
   "cell_type": "code",
   "execution_count": null,
   "id": "d780d6d7",
   "metadata": {
    "scrolled": true
   },
   "outputs": [],
   "source": [
    "columns"
   ]
  },
  {
   "cell_type": "markdown",
   "id": "e498e63a",
   "metadata": {},
   "source": [
    "## 결측치가 만 건 미만인 컬럼명\n",
    "- Accompany_Client,고객이 대출을 신청할 때 고객과 동행한 사람 : Drop\n",
    "- Client_Income_Type,고객 소득 유형 : Drop\n",
    "- Client_Education,고객이 달성한 최고 교육 수준 : Random\n",
    "- Client_Marital_Status,\"고객의 결혼 상태(D- 이혼, S- 미혼, M- 기혼, W- 사별)\" : Random\n",
    "- Client_Gender,고객의 성별 : Random\n",
    "- Loan_Contract_Type,\"대출 유형(CL- 현금대출, RL- 리볼빙대출)\" : Random\n",
    "- Client_Housing_Type,고객 주택 상황 : Random"
   ]
  },
  {
   "cell_type": "code",
   "execution_count": null,
   "id": "7648349d",
   "metadata": {},
   "outputs": [],
   "source": [
    "columns = {}\n",
    "category_value_object = pay_df.select_dtypes(include='object').columns\n",
    "\n",
    "for column in category_value_object:\n",
    "    if pay_df[column].isna().sum() < 10000:\n",
    "        continue\n",
    "    columns[column] = pay_df[column].isna().sum()\n",
    "\n",
    "columns"
   ]
  },
  {
   "cell_type": "code",
   "execution_count": null,
   "id": "141c724b",
   "metadata": {},
   "outputs": [],
   "source": [
    "pd.DataFrame({\"Count\" : df.isna().sum(), \"Percentage\" : df.isna().sum() / len(df) * 100})"
   ]
  },
  {
   "cell_type": "markdown",
   "id": "f528c371",
   "metadata": {},
   "source": [
    "# 주제 : 차량 대출 상환가능성 예측"
   ]
  },
  {
   "cell_type": "code",
   "execution_count": null,
   "id": "b8f91b99",
   "metadata": {},
   "outputs": [],
   "source": [
    "aa = ['Own_House_Age', 'Client_Occupation', 'Type_Organization', 'Score_Source_1', 'Score_Source_3', 'Social_Circle_Default', 'Credit_Bureau']"
   ]
  },
  {
   "cell_type": "code",
   "execution_count": null,
   "id": "2f2e0d09",
   "metadata": {},
   "outputs": [],
   "source": [
    "test = {}\n",
    "for i in aa:\n",
    "    test[i] = pay_df[i].isna().sum()\n",
    "    \n",
    "test"
   ]
  },
  {
   "cell_type": "markdown",
   "id": "fc57a0ea",
   "metadata": {},
   "source": [
    "## 결측치가 만건 이상인 컬럼명\n",
    "- Own_House_Age,고객 소유 주택의 나이(년) : drop\n",
    "- Client_Occupation,고객 직업 유형 : Nojob :: DROP\n",
    "- Type_Organization,클라이언트가 근무하는 조직 유형 : drop\n",
    "- Score_Source_1,다른 출처에서 얻은 점수. 정규화된 점수입니다. : drop\n",
    "- Score_Source_3,다른 소스에서 가져온 점수입니다. 정규화된 점수입니다. : drop\n",
    "- Social_Circle_Default,지난 60일 동안 대출 상환을 불이행한 고객의 친구/가족 수 : drop\n",
    "- Credit_Bureau, 1년 내 90일 이상 장기연체 등 신용위험이 발생할 가능성을 수치화하여 제공하는 지표 : 평균"
   ]
  },
  {
   "cell_type": "markdown",
   "id": "e22e618f",
   "metadata": {},
   "source": [
    "- ID,고객 대출 신청 ID\n",
    "- Client_Income,고객 소득() : DROP\n",
    "- Car_Owned,다른 차량에 대한 대출을 신청하기 전에 고객이 소유한 모든 차량(0은 아니요, 1은 그렇지 않음을 의미)\n",
    "- Bike_Owned,고객이 소유한 모든 자전거(0은 아니요, 1은 그렇지 않음을 의미)\n",
    "- Active_Loan,대출 신청 당시 진행 중인 다른 대출이 있는지 여부(0은 아니요, 1은 그렇지 않음을 의미)\n",
    "- House_Own,고객이 소유한 주택 수(0은 아니요, 1은 그 외의 주택)\n",
    "- Child_Count,고객이 보유한 자녀 수\n",
    "- Credit_Amount,대출의 신용 금액()\n",
    "- Loan_Annuity,대출 연금()\n",
    "- Accompany_Client,고객이 대출을 신청할 때 고객과 동행한 사람\n",
    "- Client_Income_Type,고객 소득 유형\n",
    "- Client_Education,고객이 달성한 최고 교육 수준\n",
    "- Client_Marital_Status,\"고객의 결혼 상태(D- 이혼, S- 미혼, M- 기혼, W- 사별)\"\n",
    "- Client_Gender,고객의 성별\n",
    "- Loan_Contract_Type,\"대출 유형(CL- 현금대출, RL- 리볼빙대출)\"\n",
    "- Client_Housing_Type,고객 주택 상황\n",
    "- Population_Region_Relative,고객이 거주하고 있는 지역의 상대적 인구수. 값이 높을수록 고객이 인구가 많은 지역에 거주하고 있음을 의미합니다.\n",
    "- Age_Days,신청서 제출 시점의 고객 나이\n",
    "- Employed_Days,\"신청 전, 고객이 수입을 시작한 일수\"\n",
    "- Registration_Days,\"대출 신청일 전, 고객이 등록을 변경한 일수\"\n",
    "- ID_Days,\"대출 신청 며칠 전, 고객이 대출을 신청한 신분증을 변경했습니다.\"\n",
    "- Own_House_Age,고객 소유 주택의 나이(년)\n",
    "- Mobile_Tag,고객이 제공한 휴대폰 번호(1은 예, 0은 아니오를 의미) : drop\n",
    "- Homephone_Tag,고객이 제공한 집전화 번호(1은 예, 0은 아니오를 의미)\n",
    "- Workphone_Working,직장 전화 번호로 연락 가능했는지(1은 예, 0은 아니오)\n",
    "- Client_Occupation,고객 직업 유형\n",
    "- Client_Family_Members,고객이 보유한 가족 구성원 수\n",
    "- Cleint_City_Rating,고객 도시 등급. 3은 최고, 2는 좋음, 1은 평균을 나타냅니다.\n",
    "- Application_Process_Day,고객이 대출을 신청한 요일(0-일,1-월,2-화,3-수,4-목,5-금,6-토)\"\n",
    "- Application_Process_Hour,고객이 대출을 신청한 요일 시간 : DROP\n",
    "- Client_Permanent_Match_Tag,고객 연락처 주소가 영구 주소와 일치하지 않는 경우 표시.\n",
    "- Client_Contact_Work_Tag,고객 직장 주소가 연락처 주소와 일치하지 않는 경우 표시.\n",
    "- Type_Organization,클라이언트가 근무하는 조직 유형\n",
    "- Score_Source_1,다른 출처에서 얻은 점수. 정규화된 점수입니다.\n",
    "- Score_Source_2,다른 출처에서 얻은 점수입니다. 정규화된 점수입니다.\n",
    "- Score_Source_3,다른 소스에서 가져온 점수입니다. 정규화된 점수입니다.\n",
    "- Social_Circle_Default,지난 60일 동안 대출 상환을 불이행한 고객의 친구/가족 수\n",
    "- Phone_Change,\"대출 신청 며칠 전에 고객이 휴대폰을 변경했는지\"\n",
    "- Credit_Bureau,작년 총 조회 건수\n",
    "- Default,1은 고객이 대출 상환을 불이행했음을 의미하고 0은 그렇지 않음을 의미합니다."
   ]
  },
  {
   "cell_type": "code",
   "execution_count": null,
   "id": "cfd6dca7",
   "metadata": {},
   "outputs": [],
   "source": [
    "# pay_df.Client_Gender = count_encoder.fit_transform(pay_df.Client_Gender)\n",
    "\n",
    "pay_df.Client_Gender = label_encoder.fit_transform(pay_df.Client_Gender)"
   ]
  },
  {
   "cell_type": "code",
   "execution_count": null,
   "id": "0fe4b1ba",
   "metadata": {},
   "outputs": [],
   "source": [
    "pay_df.Client_Gender"
   ]
  },
  {
   "cell_type": "code",
   "execution_count": null,
   "id": "1ebd28bd",
   "metadata": {},
   "outputs": [],
   "source": [
    "pay_df.Accompany_Client.value_counts()\n",
    "# pay_df.Accompany_Client.isna().sum()"
   ]
  },
  {
   "cell_type": "code",
   "execution_count": null,
   "id": "6cfadbda",
   "metadata": {},
   "outputs": [],
   "source": [
    "pay_df.Client_Gender.value_counts()"
   ]
  },
  {
   "cell_type": "code",
   "execution_count": null,
   "id": "ed1bbfad",
   "metadata": {},
   "outputs": [],
   "source": [
    "pay_df.Client_Gender = pay_df.Client_Gender.apply(lambda x : 0 if x == 2 else x)"
   ]
  },
  {
   "cell_type": "code",
   "execution_count": null,
   "id": "19aefcfb",
   "metadata": {
    "scrolled": true
   },
   "outputs": [],
   "source": [
    "pay_df.pivot_table(index=y_target, columns=['Client_Gender'], aggfunc=['mean', 'sum'])"
   ]
  },
  {
   "cell_type": "code",
   "execution_count": null,
   "id": "d7023663",
   "metadata": {},
   "outputs": [],
   "source": [
    "import tensorflow as tf\n",
    "\n",
    "from tensorflow.keras import datasets, utils\n",
    "from tensorflow.keras import models, layers, activations, initializers, losses, optimizers, metrics\n",
    "from sklearn import model_selection\n",
    "from sklearn.pipeline import Pipeline\n",
    "from sklearn.compose import ColumnTransformer\n",
    "from tensorflow.keras import utils\n",
    "from sklearn.preprocessing import LabelEncoder, OneHotEncoder, StandardScaler"
   ]
  },
  {
   "cell_type": "code",
   "execution_count": null,
   "id": "7e7af43b",
   "metadata": {},
   "outputs": [],
   "source": [
    "target_df = df['Default']\n",
    "del df['Default']"
   ]
  },
  {
   "cell_type": "code",
   "execution_count": null,
   "id": "50a12cea",
   "metadata": {},
   "outputs": [],
   "source": [
    "target_df = utils.to_categorical(target_df)"
   ]
  },
  {
   "cell_type": "code",
   "execution_count": null,
   "id": "1e9a19c6",
   "metadata": {},
   "outputs": [],
   "source": [
    "train_data, test_data, train_label, test_label = model_selection.train_test_split(df, target_df,\n",
    "                                                                                 test_size=0.3,\n",
    "                                                                                 random_state=0)"
   ]
  },
  {
   "cell_type": "code",
   "execution_count": null,
   "id": "53a6a16f",
   "metadata": {},
   "outputs": [],
   "source": [
    "# OverSampling"
   ]
  },
  {
   "cell_type": "code",
   "execution_count": null,
   "id": "cc2fb893",
   "metadata": {},
   "outputs": [],
   "source": [
    "numerical_value"
   ]
  },
  {
   "cell_type": "code",
   "execution_count": null,
   "id": "d45757f7",
   "metadata": {},
   "outputs": [],
   "source": [
    "category_value_number.extend(category_value_object)"
   ]
  },
  {
   "cell_type": "code",
   "execution_count": null,
   "id": "129b12d6",
   "metadata": {},
   "outputs": [],
   "source": [
    "numeric_transformer = StandardScaler() # cf) RobustScaler\n",
    "categorical_transformer = OneHotEncoder(categories='auto', handle_unknown='ignore') \n",
    "\n",
    "preprocessor = ColumnTransformer(\n",
    "    transformers=[ # List of (name, transformer, column(s))\n",
    "        ('num', numeric_transformer, numerical_value),\n",
    "        ('cat', categorical_transformer, category_value_number)])"
   ]
  },
  {
   "cell_type": "code",
   "execution_count": null,
   "id": "018a5e9a",
   "metadata": {},
   "outputs": [],
   "source": [
    "preprocessor_pipe = Pipeline(steps=[('preprocessor', preprocessor)]) # preprocessing-only"
   ]
  },
  {
   "cell_type": "code",
   "execution_count": null,
   "id": "f56ea154",
   "metadata": {},
   "outputs": [],
   "source": [
    "preprocessor_pipe"
   ]
  },
  {
   "cell_type": "code",
   "execution_count": null,
   "id": "ca929f6f",
   "metadata": {},
   "outputs": [],
   "source": [
    "preprocessor_pipe.fit(train_data)"
   ]
  },
  {
   "cell_type": "code",
   "execution_count": null,
   "id": "500f935a",
   "metadata": {},
   "outputs": [],
   "source": [
    "x_train_transformed = preprocessor_pipe.transform(train_data)\n",
    "x_test_transformed = preprocessor_pipe.transform(test_data)"
   ]
  },
  {
   "cell_type": "code",
   "execution_count": null,
   "id": "b0a7e115",
   "metadata": {},
   "outputs": [],
   "source": []
  },
  {
   "cell_type": "code",
   "execution_count": null,
   "id": "c5b841c4",
   "metadata": {},
   "outputs": [],
   "source": [
    "model = models.Sequential()\n",
    "\n",
    "model.add(layers.Dense(input_dim=x_train_transformed.shape[1], units=256, activation=None, kernel_initializer=initializers.he_uniform())) # he-uniform initialization\n",
    "model.add(layers.Activation('elu'))\n",
    "\n",
    "model.add(layers.Dense(units=512, activation=None, kernel_initializer=initializers.he_uniform())) \n",
    "model.add(layers.Activation('elu')) \n",
    "\n",
    "model.add(layers.Dense(units=512, activation=None, kernel_initializer=initializers.he_uniform())) \n",
    "model.add(layers.Activation('elu'))\n",
    "\n",
    "model.add(layers.Dense(units=256, activation=None, kernel_initializer=initializers.he_uniform())) \n",
    "model.add(layers.Activation('elu')) \n",
    "\n",
    "model.add(layers.Dense(units=2, activation='softmax'))"
   ]
  },
  {
   "cell_type": "code",
   "execution_count": null,
   "id": "60ec6dac",
   "metadata": {},
   "outputs": [],
   "source": [
    "model.compile(optimizer=optimizers.Adam(),\n",
    "              loss=losses.categorical_crossentropy, \n",
    "              metrics=[metrics.categorical_accuracy, metrics.Recall(), metrics.Precision()])"
   ]
  },
  {
   "cell_type": "code",
   "execution_count": null,
   "id": "4d0df09e",
   "metadata": {},
   "outputs": [],
   "source": [
    "train_label.shape"
   ]
  },
  {
   "cell_type": "code",
   "execution_count": null,
   "id": "f1240276",
   "metadata": {},
   "outputs": [],
   "source": [
    "x_train_transformed.shape"
   ]
  },
  {
   "cell_type": "code",
   "execution_count": null,
   "id": "fb3d3ffa",
   "metadata": {},
   "outputs": [],
   "source": []
  },
  {
   "cell_type": "code",
   "execution_count": null,
   "id": "fd701742",
   "metadata": {},
   "outputs": [],
   "source": [
    "# \"Fit\" the model on training data\n",
    "history = model.fit(x_train_transformed.todense(), train_label, batch_size=1000, epochs=20, validation_split=0.2) "
   ]
  },
  {
   "cell_type": "code",
   "execution_count": null,
   "id": "5c7f875a",
   "metadata": {},
   "outputs": [],
   "source": [
    "history.history.keys()"
   ]
  },
  {
   "cell_type": "code",
   "execution_count": null,
   "id": "d432b0d1",
   "metadata": {},
   "outputs": [],
   "source": [
    "val_acc = history.history['val_categorical_accuracy']\n",
    "acc = history.history['categorical_accuracy']\n",
    "\n",
    "val_recall = history.history['val_recall']\n",
    "recall = history.history['recall']\n",
    "\n",
    "val_precision = history.history['val_precision']\n",
    "precision = history.history['precision']\n",
    "\n",
    "x_len = np.arange(len(acc))\n",
    "plt.plot(x_len, acc, marker='.', c='blue', label=\"Train-set Acc.\")\n",
    "plt.plot(x_len, val_acc, marker='.', c='red', label=\"Validation-set Acc.\")\n",
    "\n",
    "x_len = np.arange(len(recall))\n",
    "plt.plot(x_len, recall, marker='.', c='green', label=\"Train-set Recall.\")\n",
    "plt.plot(x_len, val_recall, marker='.', c='purple', label=\"Validation-set Recall.\")\n",
    "\n",
    "x_len = np.arange(len(precision))\n",
    "plt.plot(x_len, precision, marker='.', c='yellow', label=\"Train-set Precision.\")\n",
    "plt.plot(x_len, val_precision, marker='.', c='cyan', label=\"Validation-set Precision.\")\n",
    "\n",
    "plt.legend(loc='upper left')\n",
    "plt.grid()\n",
    "plt.xlabel('epoch')\n",
    "plt.ylabel('Accuracy')\n",
    "plt.show()"
   ]
  },
  {
   "cell_type": "code",
   "execution_count": null,
   "id": "7c59996c",
   "metadata": {},
   "outputs": [],
   "source": [
    "estimators = [ \n",
    "    ('ExtraTrees', ensemble.ExtraTreesClassifier(random_state = 0, n_jobs = -1, n_estimators = 100, max_depth = 3)),\n",
    "    ('RandomForest', ensemble.RandomForestClassifier(random_state = 0, n_jobs = -1, n_estimators = 100, max_depth = 3)),\n",
    "    ('DecisionTree', DecisionTreeClassifier()),\n",
    "]"
   ]
  },
  {
   "cell_type": "code",
   "execution_count": null,
   "id": "da5cd0c9",
   "metadata": {},
   "outputs": [],
   "source": [
    "stack = StackingTransformer(estimators, \n",
    "                            regression = False, \n",
    "                            metric = accuracy_score,\n",
    "                            n_folds = 2, stratified = True, shuffle = True, \n",
    "                            random_state = 42, verbose = 2) "
   ]
  },
  {
   "cell_type": "code",
   "execution_count": null,
   "id": "b03aa392",
   "metadata": {},
   "outputs": [],
   "source": [
    "y_target = preprocessing_db.get_target_df()\n",
    "y_train, y_test = train_test_split(y_target, test_size=0.2, random_state=42)"
   ]
  },
  {
   "cell_type": "code",
   "execution_count": null,
   "id": "80dcc060",
   "metadata": {},
   "outputs": [],
   "source": [
    "x_train.shape"
   ]
  },
  {
   "cell_type": "code",
   "execution_count": null,
   "id": "c2d0e366",
   "metadata": {},
   "outputs": [],
   "source": [
    "y_train.shape"
   ]
  },
  {
   "cell_type": "code",
   "execution_count": null,
   "id": "ae0c38bf",
   "metadata": {},
   "outputs": [],
   "source": [
    "y_test = pd.read_csv('./nbfi_vehicle_loan_repayment_dataset/origin_y_test.csv')\n",
    "y_train = pd.read_csv('./nbfi_vehicle_loan_repayment_dataset/origin_y_train_over.csv')"
   ]
  },
  {
   "cell_type": "code",
   "execution_count": null,
   "id": "c32205fc",
   "metadata": {
    "scrolled": true
   },
   "outputs": [],
   "source": [
    "# fit을 통해 분류함\n",
    "stack = stack.fit(x_train, y_train)"
   ]
  },
  {
   "cell_type": "code",
   "execution_count": null,
   "id": "df0b0946",
   "metadata": {},
   "outputs": [],
   "source": [
    "# transform을 통해 학습시킴\n",
    "S_train = stack.transform(x_train)\n",
    "# transform을 통해 학습시킴\n",
    "S_test = stack.transform(x_test)"
   ]
  },
  {
   "cell_type": "code",
   "execution_count": null,
   "id": "8840d959",
   "metadata": {},
   "outputs": [],
   "source": [
    "S_train.shape"
   ]
  },
  {
   "cell_type": "code",
   "execution_count": null,
   "id": "97bb69ce",
   "metadata": {},
   "outputs": [],
   "source": [
    "y_test.shape"
   ]
  },
  {
   "cell_type": "code",
   "execution_count": null,
   "id": "4384ccb0",
   "metadata": {},
   "outputs": [],
   "source": [
    "# XGBClassification의 hyper-parameter\n",
    "params = {\n",
    "    'learning_rate' : [1, 0.1, 0.01, 0.001],\n",
    "    'n_estimators' : [100, 1000],\n",
    "    'max_depth' : [3, 4, 5],\n",
    "    'eval_metric' : ['mlogloss'],\n",
    "    'n_jobs' : [-1],\n",
    "    'seed' : [0],\n",
    "}"
   ]
  },
  {
   "cell_type": "code",
   "execution_count": null,
   "id": "892713e1",
   "metadata": {},
   "outputs": [],
   "source": [
    "# GridSearch를 통해 HPO 찾기\n",
    "grid = GridSearchCV(\n",
    "    XGBClassifier(),\n",
    "    params,\n",
    "    refit=True, verbose=1\n",
    ")\n",
    "y_pred = grid.fit(S_train, y_train)\n",
    "y_pred.best_params_"
   ]
  },
  {
   "cell_type": "code",
   "execution_count": null,
   "id": "7ddd580a",
   "metadata": {},
   "outputs": [],
   "source": [
    "# HPO 적용\n",
    "model = XGBClassifier(**y_pred.best_params_) \n",
    "# 투표를 통해 얻은 S_train과 y_train을 다시 학습시킴\n",
    "model = model.fit(S_train, y_train)"
   ]
  },
  {
   "cell_type": "code",
   "execution_count": null,
   "id": "cf71cd77",
   "metadata": {},
   "outputs": [],
   "source": [
    "fpr, tpr, _ = roc_curve(y_true=y_test, y_score=model.predict_proba(S_test)[:,1])\n",
    "roc_auc = auc(fpr, tpr) # AUC 면적의 값 (수치)\n",
    "plt.figure(figsize=(9, 9))\n",
    "plt.plot(fpr, tpr, color='darkorange', lw=2, label='ROC curve (area = %0.2f)' % roc_auc)\n",
    "plt.plot([0, 1], [0, 1], color='navy', lw=2, linestyle='--')\n",
    "plt.xlim([0.0, 1.0])\n",
    "plt.ylim([0.0, 1.05])\n",
    "plt.xlabel('False Positive Rate')\n",
    "plt.ylabel('True Positive Rate')\n",
    "plt.legend(loc=\"lower right\")\n",
    "plt.title(\"ROC curve\")\n",
    "plt.show()"
   ]
  },
  {
   "cell_type": "code",
   "execution_count": null,
   "id": "9c84ef50",
   "metadata": {},
   "outputs": [],
   "source": [
    "predictions = model.predict(S_test)\n",
    "print(classification_report(y_test, predictions))"
   ]
  },
  {
   "cell_type": "code",
   "execution_count": null,
   "id": "8c8becad",
   "metadata": {},
   "outputs": [],
   "source": [
    "from sklearn.svm import SVC\n",
    "svc = SVC()"
   ]
  },
  {
   "cell_type": "code",
   "execution_count": null,
   "id": "8b67b6d3",
   "metadata": {},
   "outputs": [],
   "source": [
    "params = {\n",
    "    'C' : [1, 10, 100, 1000],\n",
    "    'kernel' : ['rbf'],\n",
    "    'gamma' : [0.1, 0.01, 0.001],\n",
    "    'max_iter' : [3, 4, 5],\n",
    "}\n",
    "\n",
    "\n",
    "# GridSearch를 통해 HPO 찾기\n",
    "grid = GridSearchCV(\n",
    "    svc,\n",
    "    params,\n",
    "    refit=True, verbose=1\n",
    ")\n",
    "y_pred = grid.fit(x_train, y_train)\n",
    "y_pred.best_params_"
   ]
  },
  {
   "cell_type": "code",
   "execution_count": null,
   "id": "d658c681",
   "metadata": {},
   "outputs": [],
   "source": [
    "scv = SVC(**y_pred.best_params_)"
   ]
  },
  {
   "cell_type": "code",
   "execution_count": null,
   "id": "0f3bbb18",
   "metadata": {},
   "outputs": [],
   "source": [
    "y_train.shape"
   ]
  },
  {
   "cell_type": "code",
   "execution_count": null,
   "id": "16bb73b1",
   "metadata": {},
   "outputs": [],
   "source": [
    "x_train.shape"
   ]
  },
  {
   "cell_type": "code",
   "execution_count": null,
   "id": "116998fb",
   "metadata": {},
   "outputs": [],
   "source": [
    "scv.fit(x_train, y_train)"
   ]
  },
  {
   "cell_type": "code",
   "execution_count": null,
   "id": "0b9ea367",
   "metadata": {},
   "outputs": [],
   "source": [
    "pridict_y = scv.predict(x_test)"
   ]
  },
  {
   "cell_type": "code",
   "execution_count": null,
   "id": "5aa2bfcd",
   "metadata": {},
   "outputs": [],
   "source": [
    "print(classification_report(y_test, pridict_y))"
   ]
  },
  {
   "cell_type": "code",
   "execution_count": null,
   "id": "6d2a7c20",
   "metadata": {},
   "outputs": [],
   "source": [
    "fpr, tpr, _ = roc_curve(y_true=y_test, y_score=scv.predict_proba(S_test)[:,1])\n",
    "roc_auc = auc(fpr, tpr) # AUC 면적의 값 (수치)\n",
    "plt.figure(figsize=(9, 9))\n",
    "plt.plot(fpr, tpr, color='darkorange', lw=2, label='ROC curve (area = %0.2f)' % roc_auc)\n",
    "plt.plot([0, 1], [0, 1], color='navy', lw=2, linestyle='--')\n",
    "plt.xlim([0.0, 1.0])\n",
    "plt.ylim([0.0, 1.05])\n",
    "plt.xlabel('False Positive Rate')\n",
    "plt.ylabel('True Positive Rate')\n",
    "plt.legend(loc=\"lower right\")\n",
    "plt.title(\"ROC curve\")\n",
    "plt.show()"
   ]
  }
 ],
 "metadata": {
  "kernelspec": {
   "display_name": "Python 3 (ipykernel)",
   "language": "python",
   "name": "python3"
  },
  "language_info": {
   "codemirror_mode": {
    "name": "ipython",
    "version": 3
   },
   "file_extension": ".py",
   "mimetype": "text/x-python",
   "name": "python",
   "nbconvert_exporter": "python",
   "pygments_lexer": "ipython3",
   "version": "3.8.8"
  }
 },
 "nbformat": 4,
 "nbformat_minor": 5
}
