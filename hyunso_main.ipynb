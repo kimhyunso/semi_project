{
 "cells": [
  {
   "cell_type": "code",
   "execution_count": 1,
   "id": "5faa1e50",
   "metadata": {},
   "outputs": [],
   "source": [
    "# import numpy as np\n",
    "import pandas as pd\n",
    "# from matplotlib import pyplot as plt\n",
    "# from sklearn.preprocessing import LabelEncoder, OneHotEncoder\n",
    "# from sklearn.model_selection import train_test_split\n",
    "# label_encoder = LabelEncoder()\n",
    "# onehot_encoder = OneHotEncoder()\n",
    "from Preprocessing import Preprocessing\n"
   ]
  },
  {
   "cell_type": "code",
   "execution_count": 2,
   "id": "3c7e2e39",
   "metadata": {},
   "outputs": [],
   "source": [
    "df = pd.read_csv('./nbfi_vehicle_loan_repayment_dataset/Train_Dataset.csv', na_values=['$', '#VALUE!', '##', 'XNA', '@', '#', 'x', '&'], encoding='utf-8', engine='python')"
   ]
  },
  {
   "cell_type": "code",
   "execution_count": 75,
   "id": "6ab9ee04",
   "metadata": {},
   "outputs": [],
   "source": [
    "category_value_number = ['Car_Owned', 'Bike_Owned',\n",
    "                        'Active_Loan', 'House_Own', 'Child_Count',\n",
    "                        'Own_House_Age', 'Mobile_Tag', 'Homephone_Tag', 'Workphone_Working', \n",
    "                        'Client_Family_Members', 'Cleint_City_Rating', 'Application_Process_Day', 'Application_Process_Hour',\n",
    "                        'Credit_Bureau',\n",
    "                        ]"
   ]
  },
  {
   "cell_type": "code",
   "execution_count": 76,
   "id": "4371badb",
   "metadata": {},
   "outputs": [],
   "source": [
    "numerical_value = ['Client_Income', 'Credit_Amount', 'Loan_Annuity', \n",
    "                   'Population_Region_Relative', 'Age_Days', 'Employed_Days',\n",
    "                   'Registration_Days', 'ID_Days', 'Score_Source_1' ,\n",
    "                   'Score_Source_2', 'Score_Source_3', 'Social_Circle_Default', 'Phone_Change']"
   ]
  },
  {
   "cell_type": "code",
   "execution_count": 77,
   "id": "918bebe0",
   "metadata": {},
   "outputs": [],
   "source": [
    "category_value_object = df.select_dtypes(include='object').columns"
   ]
  },
  {
   "cell_type": "code",
   "execution_count": 72,
   "id": "a064b3c4",
   "metadata": {},
   "outputs": [
    {
     "data": {
      "text/plain": [
       "Index(['Accompany_Client', 'Client_Income_Type', 'Client_Education',\n",
       "       'Client_Marital_Status', 'Client_Gender', 'Loan_Contract_Type',\n",
       "       'Client_Housing_Type', 'Client_Occupation',\n",
       "       'Client_Permanent_Match_Tag', 'Client_Contact_Work_Tag',\n",
       "       'Type_Organization'],\n",
       "      dtype='object')"
      ]
     },
     "execution_count": 72,
     "metadata": {},
     "output_type": "execute_result"
    }
   ],
   "source": [
    "category_value_object"
   ]
  },
  {
   "cell_type": "code",
   "execution_count": 85,
   "id": "350c465c",
   "metadata": {},
   "outputs": [],
   "source": [
    "for column in numerical_value:\n",
    "    df[column] = df[column].fillna(-999)"
   ]
  },
  {
   "cell_type": "code",
   "execution_count": 86,
   "id": "1b9cb6d8",
   "metadata": {},
   "outputs": [
    {
     "data": {
      "text/plain": [
       "ID                                0\n",
       "Client_Income                     0\n",
       "Car_Owned                      3581\n",
       "Bike_Owned                     3624\n",
       "Active_Loan                    3635\n",
       "House_Own                      3661\n",
       "Child_Count                    3638\n",
       "Credit_Amount                     0\n",
       "Loan_Annuity                      0\n",
       "Accompany_Client               1758\n",
       "Client_Income_Type             3701\n",
       "Client_Education               3645\n",
       "Client_Marital_Status          3473\n",
       "Client_Gender                  2416\n",
       "Loan_Contract_Type             3651\n",
       "Client_Housing_Type            3687\n",
       "Population_Region_Relative        0\n",
       "Age_Days                          0\n",
       "Employed_Days                     0\n",
       "Registration_Days                 0\n",
       "ID_Days                           0\n",
       "Own_House_Age                 80095\n",
       "Mobile_Tag                        0\n",
       "Homephone_Tag                     0\n",
       "Workphone_Working                 0\n",
       "Client_Occupation             41435\n",
       "Client_Family_Members          2410\n",
       "Cleint_City_Rating             2409\n",
       "Application_Process_Day        2428\n",
       "Application_Process_Hour       3663\n",
       "Client_Permanent_Match_Tag        0\n",
       "Client_Contact_Work_Tag           0\n",
       "Type_Organization             24694\n",
       "Score_Source_1                    0\n",
       "Score_Source_2                    0\n",
       "Score_Source_3                    0\n",
       "Social_Circle_Default             0\n",
       "Phone_Change                      0\n",
       "Credit_Bureau                 18540\n",
       "Default                           0\n",
       "dtype: int64"
      ]
     },
     "execution_count": 86,
     "metadata": {},
     "output_type": "execute_result"
    }
   ],
   "source": [
    "df.isna().sum()"
   ]
  },
  {
   "cell_type": "code",
   "execution_count": 45,
   "id": "4032e35f",
   "metadata": {},
   "outputs": [
    {
     "data": {
      "text/plain": [
       "0         NaN\n",
       "1         NaN\n",
       "2         0.0\n",
       "3         3.0\n",
       "4         1.0\n",
       "         ... \n",
       "121851    1.0\n",
       "121852    0.0\n",
       "121853    NaN\n",
       "121854    2.0\n",
       "121855    0.0\n",
       "Name: Credit_Bureau, Length: 121856, dtype: float64"
      ]
     },
     "execution_count": 45,
     "metadata": {},
     "output_type": "execute_result"
    }
   ],
   "source": [
    "df.Credit_Bureau"
   ]
  },
  {
   "cell_type": "code",
   "execution_count": null,
   "id": "5cdf98b4",
   "metadata": {
    "scrolled": true
   },
   "outputs": [],
   "source": [
    "df[df.select_dtypes(include='int64').columns].isna().sum()"
   ]
  },
  {
   "cell_type": "markdown",
   "id": "e22e618f",
   "metadata": {},
   "source": [
    "ID,고객 대출 신청 ID\n",
    "\n",
    "Client_Income,고객 소득($)\n",
    "\n",
    "Car_Owned,다른 차량에 대한 대출을 신청하기 전에 고객이 소유한 모든 차량(0은 아니요, 1은 그렇지 않음을 의미)\n",
    "\n",
    "Bike_Owned,고객이 소유한 모든 자전거(0은 아니요, 1은 그렇지 않음을 의미)\n",
    "\n",
    "Active_Loan,대출 신청 당시 진행 중인 다른 대출이 있는지 여부(0은 아니요, 1은 그렇지 않음을 의미)\n",
    "\n",
    "House_Own,고객이 소유한 주택 수(0은 아니요, 1은 그 외의 주택)\n",
    "\n",
    "Child_Count,고객이 보유한 자녀 수\n",
    "\n",
    "Credit_Amount,대출의 신용 금액($)\n",
    "\n",
    "Loan_Annuity,대출 연금($)\n",
    "\n",
    "Accompany_Client,고객이 대출을 신청할 때 고객과 동행한 사람\n",
    "\n",
    "Client_Income_Type,고객 소득 유형\n",
    "\n",
    "Client_Education,고객이 달성한 최고 교육 수준\n",
    "\n",
    "Client_Marital_Status,\"고객의 결혼 상태(D- 이혼, S- 미혼, M- 기혼, W- 사별)\"\n",
    "\n",
    "Client_Gender,고객의 성별\n",
    "\n",
    "Loan_Contract_Type,\"대출 유형(CL- 현금대출, RL- 리볼빙대출)\"\n",
    "\n",
    "Client_Housing_Type,고객 주택 상황\n",
    "\n",
    "Population_Region_Relative,고객이 거주하고 있는 지역의 상대적 인구수. 값이 높을수록 고객이 인구가 많은 지역에 거주하고 있음을 의미합니다.\n",
    "\n",
    "Age_Days,신청서 제출 시점의 고객 나이\n",
    "\n",
    "Employed_Days,\"신청 전, 고객이 수입을 시작한 일수\"\n",
    "\n",
    "Registration_Days,\"대출 신청일 전, 고객이 등록을 변경한 일수\"\n",
    "\n",
    "ID_Days,\"대출 신청 며칠 전, 고객이 대출을 신청한 신분증을 변경했습니다.\"\n",
    "\n",
    "Own_House_Age,고객 소유 주택의 나이(년)\n",
    "\n",
    "Mobile_Tag,고객이 제공한 휴대폰 번호(1은 예, 0은 아니오를 의미)\n",
    "\n",
    "Homephone_Tag,고객이 제공한 집전화 번호(1은 예, 0은 아니오를 의미)\n",
    "\n",
    "Workphone_Working,직장 전화 번호로 연락 가능했는지(1은 예, 0은 아니오)\n",
    "\n",
    "Client_Occupation,고객 직업 유형\n",
    "\n",
    "Client_Family_Members,고객이 보유한 가족 구성원 수\n",
    "\n",
    "Cleint_City_Rating,고객 도시 등급. 3은 최고, 2는 좋음, 1은 평균을 나타냅니다.\n",
    "\n",
    "Application_Process_Day,고객이 대출을 신청한 요일(0-일,1-월,2-화,3-수,4-목,5-금,6-토)\"\n",
    "\n",
    "Application_Process_Hour,고객이 대출을 신청한 요일 시간\n",
    "\n",
    "Client_Permanent_Match_Tag,고객 연락처 주소가 영구 주소와 일치하지 않는 경우 표시.\n",
    "\n",
    "Client_Contact_Work_Tag,고객 직장 주소가 연락처 주소와 일치하지 않는 경우 표시.\n",
    "\n",
    "Type_Organization,클라이언트가 근무하는 조직 유형\n",
    "\n",
    "Score_Source_1,다른 출처에서 얻은 점수. 정규화된 점수입니다.\n",
    "\n",
    "Score_Source_2,다른 출처에서 얻은 점수입니다. 정규화된 점수입니다.\n",
    "\n",
    "Score_Source_3,다른 소스에서 가져온 점수입니다. 정규화된 점수입니다.\n",
    "\n",
    "Social_Circle_Default,지난 60일 동안 대출 상환을 불이행한 고객의 친구/가족 수\n",
    "\n",
    "Phone_Change,\"대출 신청 며칠 전에 고객이 휴대폰을 변경했는지\"\n",
    "\n",
    "Credit_Bureau,작년 총 조회 건수\n",
    "\n",
    "Default,1은 고객이 대출 상환을 불이행했음을 의미하고 0은 그렇지 않음을 의미합니다."
   ]
  },
  {
   "cell_type": "code",
   "execution_count": null,
   "id": "cfd6dca7",
   "metadata": {},
   "outputs": [],
   "source": [
    "# pay_df.Client_Gender = count_encoder.fit_transform(pay_df.Client_Gender)\n",
    "\n",
    "pay_df.Client_Gender = label_encoder.fit_transform(pay_df.Client_Gender)"
   ]
  },
  {
   "cell_type": "code",
   "execution_count": null,
   "id": "0fe4b1ba",
   "metadata": {},
   "outputs": [],
   "source": [
    "pay_df.Client_Gender"
   ]
  },
  {
   "cell_type": "code",
   "execution_count": null,
   "id": "1ebd28bd",
   "metadata": {},
   "outputs": [],
   "source": [
    "pay_df.Accompany_Client.value_counts()\n",
    "# pay_df.Accompany_Client.isna().sum()"
   ]
  },
  {
   "cell_type": "code",
   "execution_count": null,
   "id": "6cfadbda",
   "metadata": {},
   "outputs": [],
   "source": [
    "pay_df.Client_Gender.value_counts()"
   ]
  },
  {
   "cell_type": "code",
   "execution_count": null,
   "id": "ed1bbfad",
   "metadata": {},
   "outputs": [],
   "source": [
    "pay_df.Client_Gender = pay_df.Client_Gender.apply(lambda x : 0 if x == 2 else x)"
   ]
  },
  {
   "cell_type": "code",
   "execution_count": null,
   "id": "19aefcfb",
   "metadata": {
    "scrolled": true
   },
   "outputs": [],
   "source": [
    "pay_df.pivot_table(index=y_target, columns=['Client_Gender'], aggfunc=['mean', 'sum'])"
   ]
  },
  {
   "cell_type": "code",
   "execution_count": null,
   "id": "4ba419b0",
   "metadata": {},
   "outputs": [],
   "source": [
    "import time\n",
    "\n",
    "# posix_timestamp = time.time()\n",
    "test = 1648712311.982345 + pay_df.Age_Days[6]"
   ]
  },
  {
   "cell_type": "code",
   "execution_count": null,
   "id": "dc687863",
   "metadata": {},
   "outputs": [],
   "source": [
    "time.gmtime(test)"
   ]
  },
  {
   "cell_type": "code",
   "execution_count": null,
   "id": "0df58e67",
   "metadata": {},
   "outputs": [],
   "source": [
    "pay_df.Age_Days"
   ]
  },
  {
   "cell_type": "code",
   "execution_count": null,
   "id": "c5b841c4",
   "metadata": {},
   "outputs": [],
   "source": []
  }
 ],
 "metadata": {
  "kernelspec": {
   "display_name": "Python 3 (ipykernel)",
   "language": "python",
   "name": "python3"
  },
  "language_info": {
   "codemirror_mode": {
    "name": "ipython",
    "version": 3
   },
   "file_extension": ".py",
   "mimetype": "text/x-python",
   "name": "python",
   "nbconvert_exporter": "python",
   "pygments_lexer": "ipython3",
   "version": "3.9.13"
  }
 },
 "nbformat": 4,
 "nbformat_minor": 5
}
