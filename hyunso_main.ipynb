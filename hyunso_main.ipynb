{
 "cells": [
  {
   "cell_type": "code",
   "execution_count": 21,
   "id": "5faa1e50",
   "metadata": {},
   "outputs": [],
   "source": [
    "import numpy as np\n",
    "import pandas as pd\n",
    "from matplotlib import pyplot as plt\n",
    "from Preprocessing import Preprocessing\n",
    "from sklearn.model_selection import train_test_split\n",
    "from imblearn.over_sampling import SMOTE"
   ]
  },
  {
   "cell_type": "code",
   "execution_count": 22,
   "id": "373cdbb6",
   "metadata": {},
   "outputs": [],
   "source": [
    "preprocessing_db = Preprocessing()"
   ]
  },
  {
   "cell_type": "code",
   "execution_count": 23,
   "id": "df43dcbd",
   "metadata": {},
   "outputs": [],
   "source": [
    "preprocessing_db.drop_columns()"
   ]
  },
  {
   "cell_type": "code",
   "execution_count": 24,
   "id": "632824c1",
   "metadata": {},
   "outputs": [],
   "source": [
    "preprocessing_db.numerical_columns_replace()"
   ]
  },
  {
   "cell_type": "code",
   "execution_count": 25,
   "id": "46321cb2",
   "metadata": {},
   "outputs": [],
   "source": [
    "preprocessing_db.category_columns_replace()"
   ]
  },
  {
   "cell_type": "code",
   "execution_count": 26,
   "id": "96f93ca2",
   "metadata": {},
   "outputs": [],
   "source": [
    "df = preprocessing_db.get_df()"
   ]
  },
  {
   "cell_type": "code",
   "execution_count": 27,
   "id": "8dcfefb8",
   "metadata": {},
   "outputs": [],
   "source": [
    "target_df = preprocessing_db.get_target_df()"
   ]
  },
  {
   "cell_type": "code",
   "execution_count": 29,
   "id": "35488b39",
   "metadata": {},
   "outputs": [
    {
     "ename": "ValueError",
     "evalue": "could not convert string to float: 'Relative'",
     "output_type": "error",
     "traceback": [
      "\u001b[1;31m---------------------------------------------------------------------------\u001b[0m",
      "\u001b[1;31mValueError\u001b[0m                                Traceback (most recent call last)",
      "Cell \u001b[1;32mIn[29], line 3\u001b[0m\n\u001b[0;32m      1\u001b[0m train_x, test_x, train_y, test_y \u001b[38;5;241m=\u001b[39m train_test_split(df, target_df, test_size\u001b[38;5;241m=\u001b[39m\u001b[38;5;241m0.2\u001b[39m, random_state\u001b[38;5;241m=\u001b[39m\u001b[38;5;241m42\u001b[39m, stratify\u001b[38;5;241m=\u001b[39mtarget_df)\n\u001b[0;32m      2\u001b[0m smote \u001b[38;5;241m=\u001b[39m SMOTE(random_state\u001b[38;5;241m=\u001b[39m\u001b[38;5;241m42\u001b[39m)\n\u001b[1;32m----> 3\u001b[0m X_train_over, y_train_over \u001b[38;5;241m=\u001b[39m \u001b[43msmote\u001b[49m\u001b[38;5;241;43m.\u001b[39;49m\u001b[43mfit_resample\u001b[49m\u001b[43m(\u001b[49m\u001b[43mtrain_x\u001b[49m\u001b[43m,\u001b[49m\u001b[43m \u001b[49m\u001b[43mtrain_y\u001b[49m\u001b[43m)\u001b[49m\n",
      "File \u001b[1;32mc:\\programdata\\anaconda3\\lib\\site-packages\\imblearn\\base.py:203\u001b[0m, in \u001b[0;36mBaseSampler.fit_resample\u001b[1;34m(self, X, y)\u001b[0m\n\u001b[0;32m    182\u001b[0m \u001b[38;5;250m\u001b[39m\u001b[38;5;124;03m\"\"\"Resample the dataset.\u001b[39;00m\n\u001b[0;32m    183\u001b[0m \n\u001b[0;32m    184\u001b[0m \u001b[38;5;124;03mParameters\u001b[39;00m\n\u001b[1;32m   (...)\u001b[0m\n\u001b[0;32m    200\u001b[0m \u001b[38;5;124;03m    The corresponding label of `X_resampled`.\u001b[39;00m\n\u001b[0;32m    201\u001b[0m \u001b[38;5;124;03m\"\"\"\u001b[39;00m\n\u001b[0;32m    202\u001b[0m \u001b[38;5;28mself\u001b[39m\u001b[38;5;241m.\u001b[39m_validate_params()\n\u001b[1;32m--> 203\u001b[0m \u001b[38;5;28;01mreturn\u001b[39;00m \u001b[38;5;28;43msuper\u001b[39;49m\u001b[43m(\u001b[49m\u001b[43m)\u001b[49m\u001b[38;5;241;43m.\u001b[39;49m\u001b[43mfit_resample\u001b[49m\u001b[43m(\u001b[49m\u001b[43mX\u001b[49m\u001b[43m,\u001b[49m\u001b[43m \u001b[49m\u001b[43my\u001b[49m\u001b[43m)\u001b[49m\n",
      "File \u001b[1;32mc:\\programdata\\anaconda3\\lib\\site-packages\\imblearn\\base.py:82\u001b[0m, in \u001b[0;36mSamplerMixin.fit_resample\u001b[1;34m(self, X, y)\u001b[0m\n\u001b[0;32m     80\u001b[0m check_classification_targets(y)\n\u001b[0;32m     81\u001b[0m arrays_transformer \u001b[38;5;241m=\u001b[39m ArraysTransformer(X, y)\n\u001b[1;32m---> 82\u001b[0m X, y, binarize_y \u001b[38;5;241m=\u001b[39m \u001b[38;5;28;43mself\u001b[39;49m\u001b[38;5;241;43m.\u001b[39;49m\u001b[43m_check_X_y\u001b[49m\u001b[43m(\u001b[49m\u001b[43mX\u001b[49m\u001b[43m,\u001b[49m\u001b[43m \u001b[49m\u001b[43my\u001b[49m\u001b[43m)\u001b[49m\n\u001b[0;32m     84\u001b[0m \u001b[38;5;28mself\u001b[39m\u001b[38;5;241m.\u001b[39msampling_strategy_ \u001b[38;5;241m=\u001b[39m check_sampling_strategy(\n\u001b[0;32m     85\u001b[0m     \u001b[38;5;28mself\u001b[39m\u001b[38;5;241m.\u001b[39msampling_strategy, y, \u001b[38;5;28mself\u001b[39m\u001b[38;5;241m.\u001b[39m_sampling_type\n\u001b[0;32m     86\u001b[0m )\n\u001b[0;32m     88\u001b[0m output \u001b[38;5;241m=\u001b[39m \u001b[38;5;28mself\u001b[39m\u001b[38;5;241m.\u001b[39m_fit_resample(X, y)\n",
      "File \u001b[1;32mc:\\programdata\\anaconda3\\lib\\site-packages\\imblearn\\base.py:156\u001b[0m, in \u001b[0;36mBaseSampler._check_X_y\u001b[1;34m(self, X, y, accept_sparse)\u001b[0m\n\u001b[0;32m    154\u001b[0m     accept_sparse \u001b[38;5;241m=\u001b[39m [\u001b[38;5;124m\"\u001b[39m\u001b[38;5;124mcsr\u001b[39m\u001b[38;5;124m\"\u001b[39m, \u001b[38;5;124m\"\u001b[39m\u001b[38;5;124mcsc\u001b[39m\u001b[38;5;124m\"\u001b[39m]\n\u001b[0;32m    155\u001b[0m y, binarize_y \u001b[38;5;241m=\u001b[39m check_target_type(y, indicate_one_vs_all\u001b[38;5;241m=\u001b[39m\u001b[38;5;28;01mTrue\u001b[39;00m)\n\u001b[1;32m--> 156\u001b[0m X, y \u001b[38;5;241m=\u001b[39m \u001b[38;5;28;43mself\u001b[39;49m\u001b[38;5;241;43m.\u001b[39;49m\u001b[43m_validate_data\u001b[49m\u001b[43m(\u001b[49m\u001b[43mX\u001b[49m\u001b[43m,\u001b[49m\u001b[43m \u001b[49m\u001b[43my\u001b[49m\u001b[43m,\u001b[49m\u001b[43m \u001b[49m\u001b[43mreset\u001b[49m\u001b[38;5;241;43m=\u001b[39;49m\u001b[38;5;28;43;01mTrue\u001b[39;49;00m\u001b[43m,\u001b[49m\u001b[43m \u001b[49m\u001b[43maccept_sparse\u001b[49m\u001b[38;5;241;43m=\u001b[39;49m\u001b[43maccept_sparse\u001b[49m\u001b[43m)\u001b[49m\n\u001b[0;32m    157\u001b[0m \u001b[38;5;28;01mreturn\u001b[39;00m X, y, binarize_y\n",
      "File \u001b[1;32mc:\\programdata\\anaconda3\\lib\\site-packages\\sklearn\\base.py:584\u001b[0m, in \u001b[0;36mBaseEstimator._validate_data\u001b[1;34m(self, X, y, reset, validate_separately, **check_params)\u001b[0m\n\u001b[0;32m    582\u001b[0m         y \u001b[38;5;241m=\u001b[39m check_array(y, input_name\u001b[38;5;241m=\u001b[39m\u001b[38;5;124m\"\u001b[39m\u001b[38;5;124my\u001b[39m\u001b[38;5;124m\"\u001b[39m, \u001b[38;5;241m*\u001b[39m\u001b[38;5;241m*\u001b[39mcheck_y_params)\n\u001b[0;32m    583\u001b[0m     \u001b[38;5;28;01melse\u001b[39;00m:\n\u001b[1;32m--> 584\u001b[0m         X, y \u001b[38;5;241m=\u001b[39m \u001b[43mcheck_X_y\u001b[49m\u001b[43m(\u001b[49m\u001b[43mX\u001b[49m\u001b[43m,\u001b[49m\u001b[43m \u001b[49m\u001b[43my\u001b[49m\u001b[43m,\u001b[49m\u001b[43m \u001b[49m\u001b[38;5;241;43m*\u001b[39;49m\u001b[38;5;241;43m*\u001b[39;49m\u001b[43mcheck_params\u001b[49m\u001b[43m)\u001b[49m\n\u001b[0;32m    585\u001b[0m     out \u001b[38;5;241m=\u001b[39m X, y\n\u001b[0;32m    587\u001b[0m \u001b[38;5;28;01mif\u001b[39;00m \u001b[38;5;129;01mnot\u001b[39;00m no_val_X \u001b[38;5;129;01mand\u001b[39;00m check_params\u001b[38;5;241m.\u001b[39mget(\u001b[38;5;124m\"\u001b[39m\u001b[38;5;124mensure_2d\u001b[39m\u001b[38;5;124m\"\u001b[39m, \u001b[38;5;28;01mTrue\u001b[39;00m):\n",
      "File \u001b[1;32mc:\\programdata\\anaconda3\\lib\\site-packages\\sklearn\\utils\\validation.py:1106\u001b[0m, in \u001b[0;36mcheck_X_y\u001b[1;34m(X, y, accept_sparse, accept_large_sparse, dtype, order, copy, force_all_finite, ensure_2d, allow_nd, multi_output, ensure_min_samples, ensure_min_features, y_numeric, estimator)\u001b[0m\n\u001b[0;32m   1101\u001b[0m         estimator_name \u001b[38;5;241m=\u001b[39m _check_estimator_name(estimator)\n\u001b[0;32m   1102\u001b[0m     \u001b[38;5;28;01mraise\u001b[39;00m \u001b[38;5;167;01mValueError\u001b[39;00m(\n\u001b[0;32m   1103\u001b[0m         \u001b[38;5;124mf\u001b[39m\u001b[38;5;124m\"\u001b[39m\u001b[38;5;132;01m{\u001b[39;00mestimator_name\u001b[38;5;132;01m}\u001b[39;00m\u001b[38;5;124m requires y to be passed, but the target y is None\u001b[39m\u001b[38;5;124m\"\u001b[39m\n\u001b[0;32m   1104\u001b[0m     )\n\u001b[1;32m-> 1106\u001b[0m X \u001b[38;5;241m=\u001b[39m \u001b[43mcheck_array\u001b[49m\u001b[43m(\u001b[49m\n\u001b[0;32m   1107\u001b[0m \u001b[43m    \u001b[49m\u001b[43mX\u001b[49m\u001b[43m,\u001b[49m\n\u001b[0;32m   1108\u001b[0m \u001b[43m    \u001b[49m\u001b[43maccept_sparse\u001b[49m\u001b[38;5;241;43m=\u001b[39;49m\u001b[43maccept_sparse\u001b[49m\u001b[43m,\u001b[49m\n\u001b[0;32m   1109\u001b[0m \u001b[43m    \u001b[49m\u001b[43maccept_large_sparse\u001b[49m\u001b[38;5;241;43m=\u001b[39;49m\u001b[43maccept_large_sparse\u001b[49m\u001b[43m,\u001b[49m\n\u001b[0;32m   1110\u001b[0m \u001b[43m    \u001b[49m\u001b[43mdtype\u001b[49m\u001b[38;5;241;43m=\u001b[39;49m\u001b[43mdtype\u001b[49m\u001b[43m,\u001b[49m\n\u001b[0;32m   1111\u001b[0m \u001b[43m    \u001b[49m\u001b[43morder\u001b[49m\u001b[38;5;241;43m=\u001b[39;49m\u001b[43morder\u001b[49m\u001b[43m,\u001b[49m\n\u001b[0;32m   1112\u001b[0m \u001b[43m    \u001b[49m\u001b[43mcopy\u001b[49m\u001b[38;5;241;43m=\u001b[39;49m\u001b[43mcopy\u001b[49m\u001b[43m,\u001b[49m\n\u001b[0;32m   1113\u001b[0m \u001b[43m    \u001b[49m\u001b[43mforce_all_finite\u001b[49m\u001b[38;5;241;43m=\u001b[39;49m\u001b[43mforce_all_finite\u001b[49m\u001b[43m,\u001b[49m\n\u001b[0;32m   1114\u001b[0m \u001b[43m    \u001b[49m\u001b[43mensure_2d\u001b[49m\u001b[38;5;241;43m=\u001b[39;49m\u001b[43mensure_2d\u001b[49m\u001b[43m,\u001b[49m\n\u001b[0;32m   1115\u001b[0m \u001b[43m    \u001b[49m\u001b[43mallow_nd\u001b[49m\u001b[38;5;241;43m=\u001b[39;49m\u001b[43mallow_nd\u001b[49m\u001b[43m,\u001b[49m\n\u001b[0;32m   1116\u001b[0m \u001b[43m    \u001b[49m\u001b[43mensure_min_samples\u001b[49m\u001b[38;5;241;43m=\u001b[39;49m\u001b[43mensure_min_samples\u001b[49m\u001b[43m,\u001b[49m\n\u001b[0;32m   1117\u001b[0m \u001b[43m    \u001b[49m\u001b[43mensure_min_features\u001b[49m\u001b[38;5;241;43m=\u001b[39;49m\u001b[43mensure_min_features\u001b[49m\u001b[43m,\u001b[49m\n\u001b[0;32m   1118\u001b[0m \u001b[43m    \u001b[49m\u001b[43mestimator\u001b[49m\u001b[38;5;241;43m=\u001b[39;49m\u001b[43mestimator\u001b[49m\u001b[43m,\u001b[49m\n\u001b[0;32m   1119\u001b[0m \u001b[43m    \u001b[49m\u001b[43minput_name\u001b[49m\u001b[38;5;241;43m=\u001b[39;49m\u001b[38;5;124;43m\"\u001b[39;49m\u001b[38;5;124;43mX\u001b[39;49m\u001b[38;5;124;43m\"\u001b[39;49m\u001b[43m,\u001b[49m\n\u001b[0;32m   1120\u001b[0m \u001b[43m\u001b[49m\u001b[43m)\u001b[49m\n\u001b[0;32m   1122\u001b[0m y \u001b[38;5;241m=\u001b[39m _check_y(y, multi_output\u001b[38;5;241m=\u001b[39mmulti_output, y_numeric\u001b[38;5;241m=\u001b[39my_numeric, estimator\u001b[38;5;241m=\u001b[39mestimator)\n\u001b[0;32m   1124\u001b[0m check_consistent_length(X, y)\n",
      "File \u001b[1;32mc:\\programdata\\anaconda3\\lib\\site-packages\\sklearn\\utils\\validation.py:879\u001b[0m, in \u001b[0;36mcheck_array\u001b[1;34m(array, accept_sparse, accept_large_sparse, dtype, order, copy, force_all_finite, ensure_2d, allow_nd, ensure_min_samples, ensure_min_features, estimator, input_name)\u001b[0m\n\u001b[0;32m    877\u001b[0m         array \u001b[38;5;241m=\u001b[39m xp\u001b[38;5;241m.\u001b[39mastype(array, dtype, copy\u001b[38;5;241m=\u001b[39m\u001b[38;5;28;01mFalse\u001b[39;00m)\n\u001b[0;32m    878\u001b[0m     \u001b[38;5;28;01melse\u001b[39;00m:\n\u001b[1;32m--> 879\u001b[0m         array \u001b[38;5;241m=\u001b[39m \u001b[43m_asarray_with_order\u001b[49m\u001b[43m(\u001b[49m\u001b[43marray\u001b[49m\u001b[43m,\u001b[49m\u001b[43m \u001b[49m\u001b[43morder\u001b[49m\u001b[38;5;241;43m=\u001b[39;49m\u001b[43morder\u001b[49m\u001b[43m,\u001b[49m\u001b[43m \u001b[49m\u001b[43mdtype\u001b[49m\u001b[38;5;241;43m=\u001b[39;49m\u001b[43mdtype\u001b[49m\u001b[43m,\u001b[49m\u001b[43m \u001b[49m\u001b[43mxp\u001b[49m\u001b[38;5;241;43m=\u001b[39;49m\u001b[43mxp\u001b[49m\u001b[43m)\u001b[49m\n\u001b[0;32m    880\u001b[0m \u001b[38;5;28;01mexcept\u001b[39;00m ComplexWarning \u001b[38;5;28;01mas\u001b[39;00m complex_warning:\n\u001b[0;32m    881\u001b[0m     \u001b[38;5;28;01mraise\u001b[39;00m \u001b[38;5;167;01mValueError\u001b[39;00m(\n\u001b[0;32m    882\u001b[0m         \u001b[38;5;124m\"\u001b[39m\u001b[38;5;124mComplex data not supported\u001b[39m\u001b[38;5;130;01m\\n\u001b[39;00m\u001b[38;5;132;01m{}\u001b[39;00m\u001b[38;5;130;01m\\n\u001b[39;00m\u001b[38;5;124m\"\u001b[39m\u001b[38;5;241m.\u001b[39mformat(array)\n\u001b[0;32m    883\u001b[0m     ) \u001b[38;5;28;01mfrom\u001b[39;00m \u001b[38;5;21;01mcomplex_warning\u001b[39;00m\n",
      "File \u001b[1;32mc:\\programdata\\anaconda3\\lib\\site-packages\\sklearn\\utils\\_array_api.py:185\u001b[0m, in \u001b[0;36m_asarray_with_order\u001b[1;34m(array, dtype, order, copy, xp)\u001b[0m\n\u001b[0;32m    182\u001b[0m     xp, _ \u001b[38;5;241m=\u001b[39m get_namespace(array)\n\u001b[0;32m    183\u001b[0m \u001b[38;5;28;01mif\u001b[39;00m xp\u001b[38;5;241m.\u001b[39m\u001b[38;5;18m__name__\u001b[39m \u001b[38;5;129;01min\u001b[39;00m {\u001b[38;5;124m\"\u001b[39m\u001b[38;5;124mnumpy\u001b[39m\u001b[38;5;124m\"\u001b[39m, \u001b[38;5;124m\"\u001b[39m\u001b[38;5;124mnumpy.array_api\u001b[39m\u001b[38;5;124m\"\u001b[39m}:\n\u001b[0;32m    184\u001b[0m     \u001b[38;5;66;03m# Use NumPy API to support order\u001b[39;00m\n\u001b[1;32m--> 185\u001b[0m     array \u001b[38;5;241m=\u001b[39m \u001b[43mnumpy\u001b[49m\u001b[38;5;241;43m.\u001b[39;49m\u001b[43masarray\u001b[49m\u001b[43m(\u001b[49m\u001b[43marray\u001b[49m\u001b[43m,\u001b[49m\u001b[43m \u001b[49m\u001b[43morder\u001b[49m\u001b[38;5;241;43m=\u001b[39;49m\u001b[43morder\u001b[49m\u001b[43m,\u001b[49m\u001b[43m \u001b[49m\u001b[43mdtype\u001b[49m\u001b[38;5;241;43m=\u001b[39;49m\u001b[43mdtype\u001b[49m\u001b[43m)\u001b[49m\n\u001b[0;32m    186\u001b[0m     \u001b[38;5;28;01mreturn\u001b[39;00m xp\u001b[38;5;241m.\u001b[39masarray(array, copy\u001b[38;5;241m=\u001b[39mcopy)\n\u001b[0;32m    187\u001b[0m \u001b[38;5;28;01melse\u001b[39;00m:\n",
      "File \u001b[1;32mc:\\programdata\\anaconda3\\lib\\site-packages\\numpy\\core\\_asarray.py:83\u001b[0m, in \u001b[0;36masarray\u001b[1;34m(a, dtype, order)\u001b[0m\n\u001b[0;32m     14\u001b[0m \u001b[38;5;129m@set_module\u001b[39m(\u001b[38;5;124m'\u001b[39m\u001b[38;5;124mnumpy\u001b[39m\u001b[38;5;124m'\u001b[39m)\n\u001b[0;32m     15\u001b[0m \u001b[38;5;28;01mdef\u001b[39;00m \u001b[38;5;21masarray\u001b[39m(a, dtype\u001b[38;5;241m=\u001b[39m\u001b[38;5;28;01mNone\u001b[39;00m, order\u001b[38;5;241m=\u001b[39m\u001b[38;5;28;01mNone\u001b[39;00m):\n\u001b[0;32m     16\u001b[0m \u001b[38;5;250m    \u001b[39m\u001b[38;5;124;03m\"\"\"Convert the input to an array.\u001b[39;00m\n\u001b[0;32m     17\u001b[0m \n\u001b[0;32m     18\u001b[0m \u001b[38;5;124;03m    Parameters\u001b[39;00m\n\u001b[1;32m   (...)\u001b[0m\n\u001b[0;32m     81\u001b[0m \n\u001b[0;32m     82\u001b[0m \u001b[38;5;124;03m    \"\"\"\u001b[39;00m\n\u001b[1;32m---> 83\u001b[0m     \u001b[38;5;28;01mreturn\u001b[39;00m \u001b[43marray\u001b[49m\u001b[43m(\u001b[49m\u001b[43ma\u001b[49m\u001b[43m,\u001b[49m\u001b[43m \u001b[49m\u001b[43mdtype\u001b[49m\u001b[43m,\u001b[49m\u001b[43m \u001b[49m\u001b[43mcopy\u001b[49m\u001b[38;5;241;43m=\u001b[39;49m\u001b[38;5;28;43;01mFalse\u001b[39;49;00m\u001b[43m,\u001b[49m\u001b[43m \u001b[49m\u001b[43morder\u001b[49m\u001b[38;5;241;43m=\u001b[39;49m\u001b[43morder\u001b[49m\u001b[43m)\u001b[49m\n",
      "File \u001b[1;32mc:\\programdata\\anaconda3\\lib\\site-packages\\pandas\\core\\generic.py:1899\u001b[0m, in \u001b[0;36mNDFrame.__array__\u001b[1;34m(self, dtype)\u001b[0m\n\u001b[0;32m   1898\u001b[0m \u001b[38;5;28;01mdef\u001b[39;00m \u001b[38;5;21m__array__\u001b[39m(\u001b[38;5;28mself\u001b[39m, dtype\u001b[38;5;241m=\u001b[39m\u001b[38;5;28;01mNone\u001b[39;00m) \u001b[38;5;241m-\u001b[39m\u001b[38;5;241m>\u001b[39m np\u001b[38;5;241m.\u001b[39mndarray:\n\u001b[1;32m-> 1899\u001b[0m     \u001b[38;5;28;01mreturn\u001b[39;00m \u001b[43mnp\u001b[49m\u001b[38;5;241;43m.\u001b[39;49m\u001b[43masarray\u001b[49m\u001b[43m(\u001b[49m\u001b[38;5;28;43mself\u001b[39;49m\u001b[38;5;241;43m.\u001b[39;49m\u001b[43m_values\u001b[49m\u001b[43m,\u001b[49m\u001b[43m \u001b[49m\u001b[43mdtype\u001b[49m\u001b[38;5;241;43m=\u001b[39;49m\u001b[43mdtype\u001b[49m\u001b[43m)\u001b[49m\n",
      "File \u001b[1;32mc:\\programdata\\anaconda3\\lib\\site-packages\\numpy\\core\\_asarray.py:83\u001b[0m, in \u001b[0;36masarray\u001b[1;34m(a, dtype, order)\u001b[0m\n\u001b[0;32m     14\u001b[0m \u001b[38;5;129m@set_module\u001b[39m(\u001b[38;5;124m'\u001b[39m\u001b[38;5;124mnumpy\u001b[39m\u001b[38;5;124m'\u001b[39m)\n\u001b[0;32m     15\u001b[0m \u001b[38;5;28;01mdef\u001b[39;00m \u001b[38;5;21masarray\u001b[39m(a, dtype\u001b[38;5;241m=\u001b[39m\u001b[38;5;28;01mNone\u001b[39;00m, order\u001b[38;5;241m=\u001b[39m\u001b[38;5;28;01mNone\u001b[39;00m):\n\u001b[0;32m     16\u001b[0m \u001b[38;5;250m    \u001b[39m\u001b[38;5;124;03m\"\"\"Convert the input to an array.\u001b[39;00m\n\u001b[0;32m     17\u001b[0m \n\u001b[0;32m     18\u001b[0m \u001b[38;5;124;03m    Parameters\u001b[39;00m\n\u001b[1;32m   (...)\u001b[0m\n\u001b[0;32m     81\u001b[0m \n\u001b[0;32m     82\u001b[0m \u001b[38;5;124;03m    \"\"\"\u001b[39;00m\n\u001b[1;32m---> 83\u001b[0m     \u001b[38;5;28;01mreturn\u001b[39;00m \u001b[43marray\u001b[49m\u001b[43m(\u001b[49m\u001b[43ma\u001b[49m\u001b[43m,\u001b[49m\u001b[43m \u001b[49m\u001b[43mdtype\u001b[49m\u001b[43m,\u001b[49m\u001b[43m \u001b[49m\u001b[43mcopy\u001b[49m\u001b[38;5;241;43m=\u001b[39;49m\u001b[38;5;28;43;01mFalse\u001b[39;49;00m\u001b[43m,\u001b[49m\u001b[43m \u001b[49m\u001b[43morder\u001b[49m\u001b[38;5;241;43m=\u001b[39;49m\u001b[43morder\u001b[49m\u001b[43m)\u001b[49m\n",
      "\u001b[1;31mValueError\u001b[0m: could not convert string to float: 'Relative'"
     ]
    }
   ],
   "source": [
    "train_x, test_x, train_y, test_y = train_test_split(df, target_df, test_size=0.2, random_state=42, stratify=target_df)\n",
    "smote = SMOTE(random_state=42)\n",
    "X_train_over, y_train_over = smote.fit_sample(train_x, train_y)\n"
   ]
  },
  {
   "cell_type": "code",
   "execution_count": null,
   "id": "e7a4d5e1",
   "metadata": {},
   "outputs": [],
   "source": []
  },
  {
   "cell_type": "code",
   "execution_count": 10,
   "id": "eb9400d0",
   "metadata": {},
   "outputs": [],
   "source": [
    "pd.set_option('display.max_rows', None)"
   ]
  },
  {
   "cell_type": "code",
   "execution_count": 11,
   "id": "a271e824",
   "metadata": {
    "scrolled": true
   },
   "outputs": [
    {
     "data": {
      "text/plain": [
       "ID                               0\n",
       "Client_Income                    0\n",
       "Credit_Amount                    0\n",
       "Loan_Annuity                     0\n",
       "Accompany_Client                 0\n",
       "Client_Income_Type               0\n",
       "Client_Education                 0\n",
       "Client_Marital_Status            0\n",
       "Client_Gender                    0\n",
       "Loan_Contract_Type               0\n",
       "Client_Housing_Type              0\n",
       "Population_Region_Relative       0\n",
       "Age_Days                         0\n",
       "Employed_Days                    0\n",
       "Registration_Days                0\n",
       "ID_Days                          0\n",
       "Homephone_Tag                    0\n",
       "Workphone_Working                0\n",
       "Client_Occupation                0\n",
       "Client_Permanent_Match_Tag       0\n",
       "Client_Contact_Work_Tag          0\n",
       "Score_Source_2                   0\n",
       "Phone_Change                     0\n",
       "Credit_Bureau                    0\n",
       "Car_Owned_0.0                    0\n",
       "Car_Owned_1.0                    0\n",
       "Bike_Owned_0.0                   0\n",
       "Bike_Owned_1.0                   0\n",
       "Active_Loan_0.0                  0\n",
       "Active_Loan_1.0                  0\n",
       "House_Own_0.0                    0\n",
       "House_Own_1.0                    0\n",
       "Child_Count_0.0                  0\n",
       "Child_Count_1.0                  0\n",
       "Child_Count_2.0                  0\n",
       "Child_Count_3.0                  0\n",
       "Child_Count_4.0                  0\n",
       "Child_Count_5.0                  0\n",
       "Child_Count_6.0                  0\n",
       "Child_Count_7.0                  0\n",
       "Child_Count_8.0                  0\n",
       "Child_Count_9.0                  0\n",
       "Child_Count_10.0                 0\n",
       "Child_Count_12.0                 0\n",
       "Child_Count_14.0                 0\n",
       "Child_Count_19.0                 0\n",
       "Client_Family_Members_1.0        0\n",
       "Client_Family_Members_2.0        0\n",
       "Client_Family_Members_3.0        0\n",
       "Client_Family_Members_4.0        0\n",
       "Client_Family_Members_5.0        0\n",
       "Client_Family_Members_6.0        0\n",
       "Client_Family_Members_7.0        0\n",
       "Client_Family_Members_8.0        0\n",
       "Client_Family_Members_9.0        0\n",
       "Client_Family_Members_10.0       0\n",
       "Client_Family_Members_12.0       0\n",
       "Client_Family_Members_13.0       0\n",
       "Client_Family_Members_14.0       0\n",
       "Client_Family_Members_15.0       0\n",
       "Client_Family_Members_16.0       0\n",
       "Cleint_City_Rating_1.0           0\n",
       "Cleint_City_Rating_2.0           0\n",
       "Cleint_City_Rating_3.0           0\n",
       "Application_Process_Day_0.0      0\n",
       "Application_Process_Day_1.0      0\n",
       "Application_Process_Day_2.0      0\n",
       "Application_Process_Day_3.0      0\n",
       "Application_Process_Day_4.0      0\n",
       "Application_Process_Day_5.0      0\n",
       "Application_Process_Day_6.0      0\n",
       "Application_Process_Hour_0.0     0\n",
       "Application_Process_Hour_1.0     0\n",
       "Application_Process_Hour_2.0     0\n",
       "Application_Process_Hour_3.0     0\n",
       "Application_Process_Hour_4.0     0\n",
       "Application_Process_Hour_5.0     0\n",
       "Application_Process_Hour_6.0     0\n",
       "Application_Process_Hour_7.0     0\n",
       "Application_Process_Hour_8.0     0\n",
       "Application_Process_Hour_9.0     0\n",
       "Application_Process_Hour_10.0    0\n",
       "Application_Process_Hour_11.0    0\n",
       "Application_Process_Hour_12.0    0\n",
       "Application_Process_Hour_13.0    0\n",
       "Application_Process_Hour_14.0    0\n",
       "Application_Process_Hour_15.0    0\n",
       "Application_Process_Hour_16.0    0\n",
       "Application_Process_Hour_17.0    0\n",
       "Application_Process_Hour_18.0    0\n",
       "Application_Process_Hour_19.0    0\n",
       "Application_Process_Hour_20.0    0\n",
       "Application_Process_Hour_21.0    0\n",
       "Application_Process_Hour_22.0    0\n",
       "Application_Process_Hour_23.0    0\n",
       "dtype: int64"
      ]
     },
     "execution_count": 11,
     "metadata": {},
     "output_type": "execute_result"
    }
   ],
   "source": [
    "df.isna().sum()"
   ]
  },
  {
   "cell_type": "code",
   "execution_count": null,
   "id": "8e030537",
   "metadata": {},
   "outputs": [],
   "source": [
    "pd.get_dummies(df, columns=[''])"
   ]
  },
  {
   "cell_type": "code",
   "execution_count": null,
   "id": "e2442330",
   "metadata": {},
   "outputs": [],
   "source": [
    "df.Cleint_City_Rating.value_counts()"
   ]
  },
  {
   "cell_type": "code",
   "execution_count": null,
   "id": "72f6ff40",
   "metadata": {},
   "outputs": [],
   "source": [
    "df_null_sum = df.isna().sum()\n",
    "column = df_null_sum[df_null_sum>0].index\n",
    "test = pd.get_dummies(df, columns=column)"
   ]
  },
  {
   "cell_type": "code",
   "execution_count": null,
   "id": "81423fb9",
   "metadata": {},
   "outputs": [],
   "source": [
    "pd.set_option('display.max_rows', None)"
   ]
  },
  {
   "cell_type": "code",
   "execution_count": null,
   "id": "1a44e897",
   "metadata": {},
   "outputs": [],
   "source": [
    "test.isna().sum()"
   ]
  },
  {
   "cell_type": "code",
   "execution_count": null,
   "id": "20052e71",
   "metadata": {
    "scrolled": false
   },
   "outputs": [],
   "source": [
    "df.isna().sum()"
   ]
  },
  {
   "cell_type": "code",
   "execution_count": null,
   "id": "3c7e2e39",
   "metadata": {},
   "outputs": [],
   "source": [
    "df = pd.read_csv('./nbfi_vehicle_loan_repayment_dataset/Train_Dataset.csv', na_values=['$', '#VALUE!', '##', 'XNA', '@', '#', 'x', '&'], encoding='utf-8', engine='python')"
   ]
  },
  {
   "cell_type": "code",
   "execution_count": null,
   "id": "6ab9ee04",
   "metadata": {},
   "outputs": [],
   "source": [
    "# 범주형인데 1, 2~~~\n",
    "category_value_number = ['Car_Owned', 'Bike_Owned',\n",
    "                        'Active_Loan', 'House_Own', 'Child_Count',\n",
    "                        'Own_House_Age', 'Homephone_Tag', 'Workphone_Working', \n",
    "                        'Client_Family_Members', 'Cleint_City_Rating', 'Application_Process_Day', 'Application_Process_Hour',\n",
    "                        'Credit_Bureau']"
   ]
  },
  {
   "cell_type": "code",
   "execution_count": null,
   "id": "4371badb",
   "metadata": {},
   "outputs": [],
   "source": [
    "# 연속형\n",
    "numerical_value = ['Client_Income', 'Credit_Amount', 'Loan_Annuity', \n",
    "                   'Population_Region_Relative', 'Age_Days', 'Employed_Days',\n",
    "                   'Registration_Days', 'ID_Days', 'Score_Source_1' ,\n",
    "                   'Score_Source_2', 'Score_Source_3', 'Social_Circle_Default', 'Phone_Change']"
   ]
  },
  {
   "cell_type": "code",
   "execution_count": null,
   "id": "918bebe0",
   "metadata": {},
   "outputs": [],
   "source": [
    "# 범주형인데 str\n",
    "category_value_object = df.select_dtypes(include='object').columns"
   ]
  },
  {
   "cell_type": "code",
   "execution_count": null,
   "id": "a064b3c4",
   "metadata": {},
   "outputs": [],
   "source": [
    "category_value_object"
   ]
  },
  {
   "cell_type": "code",
   "execution_count": null,
   "id": "836e8625",
   "metadata": {},
   "outputs": [],
   "source": [
    "df.drop(columns='Mobile_Tag', axis=1, inplace=True)"
   ]
  },
  {
   "cell_type": "code",
   "execution_count": null,
   "id": "2ab66dec",
   "metadata": {},
   "outputs": [],
   "source": [
    "def test(column):\n",
    "    return random.choice(column)"
   ]
  },
  {
   "cell_type": "code",
   "execution_count": null,
   "id": "f7771f4a",
   "metadata": {},
   "outputs": [],
   "source": [
    "import random\n",
    "columns = {}\n",
    "for column in category_value_object:\n",
    "    if df[column].isna().sum() > 10000 or df[column].isna().sum() == 0:\n",
    "        continue\n",
    "    unique_columns = df[column].loc[df[column].isna()==False].unique()\n",
    "    df[column] = df[column].apply(lambda x : random.choice(unique_columns) if pd.isna(x) else x)\n"
   ]
  },
  {
   "cell_type": "code",
   "execution_count": null,
   "id": "13574867",
   "metadata": {},
   "outputs": [],
   "source": []
  },
  {
   "cell_type": "code",
   "execution_count": null,
   "id": "7eec2c3b",
   "metadata": {},
   "outputs": [],
   "source": [
    "df.Client_Housing_Type.value_counts()"
   ]
  },
  {
   "cell_type": "code",
   "execution_count": null,
   "id": "20f1082a",
   "metadata": {},
   "outputs": [],
   "source": [
    "df.Accompany_Client[df.Accompany_Client.isna()==False].unique()"
   ]
  },
  {
   "cell_type": "code",
   "execution_count": null,
   "id": "d780d6d7",
   "metadata": {
    "scrolled": true
   },
   "outputs": [],
   "source": [
    "columns"
   ]
  },
  {
   "cell_type": "markdown",
   "id": "e498e63a",
   "metadata": {},
   "source": [
    "- Accompany_Client,고객이 대출을 신청할 때 고객과 동행한 사람\n",
    "- Client_Income_Type,고객 소득 유형\n",
    "- Client_Education,고객이 달성한 최고 교육 수준\n",
    "- Client_Marital_Status,\"고객의 결혼 상태(D- 이혼, S- 미혼, M- 기혼, W- 사별)\"\n",
    "- Client_Gender,고객의 성별\n",
    "- Loan_Contract_Type,\"대출 유형(CL- 현금대출, RL- 리볼빙대출)\"\n",
    "- Client_Housing_Type,고객 주택 상황"
   ]
  },
  {
   "cell_type": "code",
   "execution_count": null,
   "id": "141c724b",
   "metadata": {},
   "outputs": [],
   "source": [
    "pd.DataFrame({\"Count\" : df.isna().sum(), \"Percentage\" : df.isna().sum() / len(df) * 100})"
   ]
  },
  {
   "cell_type": "markdown",
   "id": "f528c371",
   "metadata": {},
   "source": [
    "# 주제 : 차량 대출 상환가능성 예측"
   ]
  },
  {
   "cell_type": "code",
   "execution_count": null,
   "id": "b8f91b99",
   "metadata": {},
   "outputs": [],
   "source": []
  },
  {
   "cell_type": "markdown",
   "id": "fc57a0ea",
   "metadata": {},
   "source": [
    "## 결측치가 만건 이상인 컬럼명\n",
    "- Own_House_Age,고객 소유 주택의 나이(년) : drop\n",
    "- Client_Occupation,고객 직업 유형 : Nojob\n",
    "- Type_Organization,클라이언트가 근무하는 조직 유형 : drop\n",
    "- Score_Source_1,다른 출처에서 얻은 점수. 정규화된 점수입니다. : drop\n",
    "- Score_Source_3,다른 소스에서 가져온 점수입니다. 정규화된 점수입니다. : drop\n",
    "- Social_Circle_Default,지난 60일 동안 대출 상환을 불이행한 고객의 친구/가족 수 : drop\n",
    "- Credit_Bureau, 1년 내 90일 이상 장기연체 등 신용위험이 발생할 가능성을 수치화하여 제공하는 지표 : 평균"
   ]
  },
  {
   "cell_type": "markdown",
   "id": "e22e618f",
   "metadata": {},
   "source": [
    "- ID,고객 대출 신청 ID\n",
    "- Client_Income,고객 소득()\n",
    "- Car_Owned,다른 차량에 대한 대출을 신청하기 전에 고객이 소유한 모든 차량(0은 아니요, 1은 그렇지 않음을 의미)\n",
    "- Bike_Owned,고객이 소유한 모든 자전거(0은 아니요, 1은 그렇지 않음을 의미)\n",
    "- Active_Loan,대출 신청 당시 진행 중인 다른 대출이 있는지 여부(0은 아니요, 1은 그렇지 않음을 의미)\n",
    "- House_Own,고객이 소유한 주택 수(0은 아니요, 1은 그 외의 주택)\n",
    "- Child_Count,고객이 보유한 자녀 수\n",
    "- Credit_Amount,대출의 신용 금액()\n",
    "- Loan_Annuity,대출 연금()\n",
    "- Accompany_Client,고객이 대출을 신청할 때 고객과 동행한 사람\n",
    "- Client_Income_Type,고객 소득 유형\n",
    "- Client_Education,고객이 달성한 최고 교육 수준\n",
    "- Client_Marital_Status,\"고객의 결혼 상태(D- 이혼, S- 미혼, M- 기혼, W- 사별)\"\n",
    "- Client_Gender,고객의 성별\n",
    "- Loan_Contract_Type,\"대출 유형(CL- 현금대출, RL- 리볼빙대출)\"\n",
    "- Client_Housing_Type,고객 주택 상황\n",
    "- Population_Region_Relative,고객이 거주하고 있는 지역의 상대적 인구수. 값이 높을수록 고객이 인구가 많은 지역에 거주하고 있음을 의미합니다.\n",
    "- Age_Days,신청서 제출 시점의 고객 나이\n",
    "- Employed_Days,\"신청 전, 고객이 수입을 시작한 일수\"\n",
    "- Registration_Days,\"대출 신청일 전, 고객이 등록을 변경한 일수\"\n",
    "- ID_Days,\"대출 신청 며칠 전, 고객이 대출을 신청한 신분증을 변경했습니다.\"\n",
    "- Own_House_Age,고객 소유 주택의 나이(년)\n",
    "- Mobile_Tag,고객이 제공한 휴대폰 번호(1은 예, 0은 아니오를 의미) : drop\n",
    "- Homephone_Tag,고객이 제공한 집전화 번호(1은 예, 0은 아니오를 의미)\n",
    "- Workphone_Working,직장 전화 번호로 연락 가능했는지(1은 예, 0은 아니오)\n",
    "- Client_Occupation,고객 직업 유형\n",
    "- Client_Family_Members,고객이 보유한 가족 구성원 수\n",
    "- Cleint_City_Rating,고객 도시 등급. 3은 최고, 2는 좋음, 1은 평균을 나타냅니다.\n",
    "- Application_Process_Day,고객이 대출을 신청한 요일(0-일,1-월,2-화,3-수,4-목,5-금,6-토)\"\n",
    "- Application_Process_Hour,고객이 대출을 신청한 요일 시간\n",
    "- Client_Permanent_Match_Tag,고객 연락처 주소가 영구 주소와 일치하지 않는 경우 표시.\n",
    "- Client_Contact_Work_Tag,고객 직장 주소가 연락처 주소와 일치하지 않는 경우 표시.\n",
    "- Type_Organization,클라이언트가 근무하는 조직 유형\n",
    "- Score_Source_1,다른 출처에서 얻은 점수. 정규화된 점수입니다.\n",
    "- Score_Source_2,다른 출처에서 얻은 점수입니다. 정규화된 점수입니다.\n",
    "- Score_Source_3,다른 소스에서 가져온 점수입니다. 정규화된 점수입니다.\n",
    "- Social_Circle_Default,지난 60일 동안 대출 상환을 불이행한 고객의 친구/가족 수\n",
    "- Phone_Change,\"대출 신청 며칠 전에 고객이 휴대폰을 변경했는지\"\n",
    "- Credit_Bureau,작년 총 조회 건수\n",
    "- Default,1은 고객이 대출 상환을 불이행했음을 의미하고 0은 그렇지 않음을 의미합니다."
   ]
  },
  {
   "cell_type": "code",
   "execution_count": null,
   "id": "cfd6dca7",
   "metadata": {},
   "outputs": [],
   "source": [
    "# pay_df.Client_Gender = count_encoder.fit_transform(pay_df.Client_Gender)\n",
    "\n",
    "pay_df.Client_Gender = label_encoder.fit_transform(pay_df.Client_Gender)"
   ]
  },
  {
   "cell_type": "code",
   "execution_count": null,
   "id": "0fe4b1ba",
   "metadata": {},
   "outputs": [],
   "source": [
    "pay_df.Client_Gender"
   ]
  },
  {
   "cell_type": "code",
   "execution_count": null,
   "id": "1ebd28bd",
   "metadata": {},
   "outputs": [],
   "source": [
    "pay_df.Accompany_Client.value_counts()\n",
    "# pay_df.Accompany_Client.isna().sum()"
   ]
  },
  {
   "cell_type": "code",
   "execution_count": null,
   "id": "6cfadbda",
   "metadata": {},
   "outputs": [],
   "source": [
    "pay_df.Client_Gender.value_counts()"
   ]
  },
  {
   "cell_type": "code",
   "execution_count": null,
   "id": "ed1bbfad",
   "metadata": {},
   "outputs": [],
   "source": [
    "pay_df.Client_Gender = pay_df.Client_Gender.apply(lambda x : 0 if x == 2 else x)"
   ]
  },
  {
   "cell_type": "code",
   "execution_count": null,
   "id": "19aefcfb",
   "metadata": {
    "scrolled": true
   },
   "outputs": [],
   "source": [
    "pay_df.pivot_table(index=y_target, columns=['Client_Gender'], aggfunc=['mean', 'sum'])"
   ]
  },
  {
   "cell_type": "code",
   "execution_count": null,
   "id": "d7023663",
   "metadata": {},
   "outputs": [],
   "source": [
    "import tensorflow as tf\n",
    "\n",
    "# tf.keras 에 필요한 함수들이 모여있습니다.\n",
    "from tensorflow.keras import datasets, utils\n",
    "from tensorflow.keras import models, layers, activations, initializers, losses, optimizers, metrics\n",
    "from sklearn import model_selection\n",
    "from sklearn.pipeline import Pipeline\n",
    "from sklearn.compose import ColumnTransformer\n",
    "from tensorflow.keras import utils\n",
    "from sklearn.preprocessing import LabelEncoder, OneHotEncoder, StandardScaler"
   ]
  },
  {
   "cell_type": "code",
   "execution_count": null,
   "id": "7e7af43b",
   "metadata": {},
   "outputs": [],
   "source": [
    "target_df = df['Default']\n",
    "del df['Default']"
   ]
  },
  {
   "cell_type": "code",
   "execution_count": null,
   "id": "50a12cea",
   "metadata": {},
   "outputs": [],
   "source": [
    "target_df = utils.to_categorical(target_df)"
   ]
  },
  {
   "cell_type": "code",
   "execution_count": null,
   "id": "1e9a19c6",
   "metadata": {},
   "outputs": [],
   "source": [
    "train_data, test_data, train_label, test_label = model_selection.train_test_split(df, target_df,\n",
    "                                                                                 test_size=0.3,\n",
    "                                                                                 random_state=0)"
   ]
  },
  {
   "cell_type": "code",
   "execution_count": null,
   "id": "53a6a16f",
   "metadata": {},
   "outputs": [],
   "source": [
    "# OverSampling"
   ]
  },
  {
   "cell_type": "code",
   "execution_count": null,
   "id": "cc2fb893",
   "metadata": {},
   "outputs": [],
   "source": [
    "numerical_value"
   ]
  },
  {
   "cell_type": "code",
   "execution_count": null,
   "id": "d45757f7",
   "metadata": {},
   "outputs": [],
   "source": [
    "category_value_number.extend(category_value_object)"
   ]
  },
  {
   "cell_type": "code",
   "execution_count": null,
   "id": "129b12d6",
   "metadata": {},
   "outputs": [],
   "source": [
    "numeric_transformer = StandardScaler() # cf) RobustScaler\n",
    "categorical_transformer = OneHotEncoder(categories='auto', handle_unknown='ignore') \n",
    "\n",
    "preprocessor = ColumnTransformer(\n",
    "    transformers=[ # List of (name, transformer, column(s))\n",
    "        ('num', numeric_transformer, numerical_value),\n",
    "        ('cat', categorical_transformer, category_value_number)])"
   ]
  },
  {
   "cell_type": "code",
   "execution_count": null,
   "id": "018a5e9a",
   "metadata": {},
   "outputs": [],
   "source": [
    "preprocessor_pipe = Pipeline(steps=[('preprocessor', preprocessor)]) # preprocessing-only"
   ]
  },
  {
   "cell_type": "code",
   "execution_count": null,
   "id": "f56ea154",
   "metadata": {},
   "outputs": [],
   "source": [
    "preprocessor_pipe"
   ]
  },
  {
   "cell_type": "code",
   "execution_count": null,
   "id": "ca929f6f",
   "metadata": {},
   "outputs": [],
   "source": [
    "preprocessor_pipe.fit(train_data)"
   ]
  },
  {
   "cell_type": "code",
   "execution_count": null,
   "id": "500f935a",
   "metadata": {},
   "outputs": [],
   "source": [
    "x_train_transformed = preprocessor_pipe.transform(train_data)\n",
    "x_test_transformed = preprocessor_pipe.transform(test_data)"
   ]
  },
  {
   "cell_type": "code",
   "execution_count": null,
   "id": "b0a7e115",
   "metadata": {},
   "outputs": [],
   "source": []
  },
  {
   "cell_type": "code",
   "execution_count": null,
   "id": "c5b841c4",
   "metadata": {},
   "outputs": [],
   "source": [
    "model = models.Sequential()\n",
    "\n",
    "model.add(layers.Dense(input_dim=x_train_transformed.shape[1], units=256, activation=None, kernel_initializer=initializers.he_uniform())) # he-uniform initialization\n",
    "model.add(layers.Activation('elu'))\n",
    "\n",
    "model.add(layers.Dense(units=512, activation=None, kernel_initializer=initializers.he_uniform())) \n",
    "model.add(layers.Activation('elu')) \n",
    "\n",
    "model.add(layers.Dense(units=512, activation=None, kernel_initializer=initializers.he_uniform())) \n",
    "model.add(layers.Activation('elu'))\n",
    "\n",
    "model.add(layers.Dense(units=256, activation=None, kernel_initializer=initializers.he_uniform())) \n",
    "model.add(layers.Activation('elu')) \n",
    "\n",
    "model.add(layers.Dense(units=2, activation='softmax'))"
   ]
  },
  {
   "cell_type": "code",
   "execution_count": null,
   "id": "60ec6dac",
   "metadata": {},
   "outputs": [],
   "source": [
    "model.compile(optimizer=optimizers.Adam(),\n",
    "              loss=losses.categorical_crossentropy, \n",
    "              metrics=[metrics.categorical_accuracy, metrics.Recall(), metrics.Precision()])"
   ]
  },
  {
   "cell_type": "code",
   "execution_count": null,
   "id": "4d0df09e",
   "metadata": {},
   "outputs": [],
   "source": [
    "train_label.shape"
   ]
  },
  {
   "cell_type": "code",
   "execution_count": null,
   "id": "f1240276",
   "metadata": {},
   "outputs": [],
   "source": [
    "x_train_transformed.shape"
   ]
  },
  {
   "cell_type": "code",
   "execution_count": null,
   "id": "fb3d3ffa",
   "metadata": {},
   "outputs": [],
   "source": []
  },
  {
   "cell_type": "code",
   "execution_count": null,
   "id": "fd701742",
   "metadata": {},
   "outputs": [],
   "source": [
    "# \"Fit\" the model on training data\n",
    "history = model.fit(x_train_transformed.todense(), train_label, batch_size=1000, epochs=20, validation_split=0.2) "
   ]
  },
  {
   "cell_type": "code",
   "execution_count": null,
   "id": "5c7f875a",
   "metadata": {},
   "outputs": [],
   "source": [
    "history.history.keys()"
   ]
  },
  {
   "cell_type": "code",
   "execution_count": null,
   "id": "d432b0d1",
   "metadata": {},
   "outputs": [],
   "source": [
    "val_acc = history.history['val_categorical_accuracy']\n",
    "acc = history.history['categorical_accuracy']\n",
    "\n",
    "val_recall = history.history['val_recall']\n",
    "recall = history.history['recall']\n",
    "\n",
    "val_precision = history.history['val_precision']\n",
    "precision = history.history['precision']\n",
    "\n",
    "x_len = np.arange(len(acc))\n",
    "plt.plot(x_len, acc, marker='.', c='blue', label=\"Train-set Acc.\")\n",
    "plt.plot(x_len, val_acc, marker='.', c='red', label=\"Validation-set Acc.\")\n",
    "\n",
    "x_len = np.arange(len(recall))\n",
    "plt.plot(x_len, recall, marker='.', c='green', label=\"Train-set Recall.\")\n",
    "plt.plot(x_len, val_recall, marker='.', c='purple', label=\"Validation-set Recall.\")\n",
    "\n",
    "x_len = np.arange(len(precision))\n",
    "plt.plot(x_len, precision, marker='.', c='yellow', label=\"Train-set Precision.\")\n",
    "plt.plot(x_len, val_precision, marker='.', c='cyan', label=\"Validation-set Precision.\")\n",
    "\n",
    "plt.legend(loc='upper left')\n",
    "plt.grid()\n",
    "plt.xlabel('epoch')\n",
    "plt.ylabel('Accuracy')\n",
    "plt.show()"
   ]
  },
  {
   "cell_type": "code",
   "execution_count": null,
   "id": "7c59996c",
   "metadata": {},
   "outputs": [],
   "source": []
  }
 ],
 "metadata": {
  "kernelspec": {
   "display_name": "Python 3 (ipykernel)",
   "language": "python",
   "name": "python3"
  },
  "language_info": {
   "codemirror_mode": {
    "name": "ipython",
    "version": 3
   },
   "file_extension": ".py",
   "mimetype": "text/x-python",
   "name": "python",
   "nbconvert_exporter": "python",
   "pygments_lexer": "ipython3",
   "version": "3.9.13"
  }
 },
 "nbformat": 4,
 "nbformat_minor": 5
}
