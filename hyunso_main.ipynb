{
 "cells": [
  {
   "cell_type": "code",
   "execution_count": 1,
   "id": "5faa1e50",
   "metadata": {},
   "outputs": [],
   "source": [
    "import warnings\n",
    "warnings.filterwarnings(\"ignore\")\n",
    "\n",
    "import pandas as pd\n",
    "import numpy as np\n",
    "import matplotlib.pyplot as plt\n",
    "import seaborn as sns\n",
    "from sklearn.preprocessing import LabelEncoder, OneHotEncoder, StandardScaler, MinMaxScaler\n",
    "from sklearn.compose import ColumnTransformer\n",
    "from sklearn.pipeline import Pipeline\n",
    "from sklearn.metrics import accuracy_score, f1_score, roc_auc_score, roc_curve, auc, mean_squared_error, classification_report\n",
    "from sklearn import  model_selection\n",
    "from sklearn import ensemble\n",
    "from sklearn import svm\n",
    "from sklearn.model_selection import GridSearchCV\n",
    "from vecstack import stacking, StackingTransformer\n",
    "from xgboost import XGBClassifier\n",
    "from IPython.display import Image\n",
    "from sklearn.tree import DecisionTreeClassifier\n",
    "from sklearn.linear_model import LogisticRegression\n",
    "from Preprocessing import Preprocessing\n",
    "from sklearn.model_selection import train_test_split"
   ]
  },
  {
   "cell_type": "code",
   "execution_count": 2,
   "id": "373cdbb6",
   "metadata": {},
   "outputs": [],
   "source": [
    "preprocessing_db = Preprocessing()\n",
    "# 결측치 제거\n",
    "preprocessing_db.drop_columns()\n",
    "# 연속형 데이터 대체\n",
    "preprocessing_db.numerical_columns_replace()\n",
    "# 범주형 데이터 대체ㅐ\n",
    "preprocessing_db.category_columns_replace()"
   ]
  },
  {
   "cell_type": "code",
   "execution_count": 3,
   "id": "96f93ca2",
   "metadata": {},
   "outputs": [],
   "source": [
    "df = preprocessing_db.get_df()"
   ]
  },
  {
   "cell_type": "code",
   "execution_count": 36,
   "id": "3a60ec55",
   "metadata": {},
   "outputs": [],
   "source": [
    "category_columns = [\n",
    "    'Car_Owned', 'Bike_Owned', 'Active_Loan', \n",
    "    'House_Own', 'Homephone_Tag', 'Workphone_Working', \n",
    "    'Cleint_City_Rating', 'Application_Process_Day', 'Client_Permanent_Match_Tag', \n",
    "    'Client_Contact_Work_Tag']"
   ]
  },
  {
   "cell_type": "code",
   "execution_count": 37,
   "id": "89d98a3d",
   "metadata": {},
   "outputs": [],
   "source": [
    "category_columns_object = [\n",
    "    'Client_Income_Type', 'Client_Education', 'Client_Marital_Status', \n",
    "    'Client_Gender', 'Loan_Contract_Type', 'Client_Housing_Type', \n",
    "    'Client_Occupation']"
   ]
  },
  {
   "cell_type": "code",
   "execution_count": 38,
   "id": "0f9d03dc",
   "metadata": {},
   "outputs": [],
   "source": [
    "numerical_columns=[\n",
    "    'Child_Count', 'Credit_Amount', 'Loan_Annuity', \n",
    "    'Population_Region_Relative', 'Age_Days', 'Employed_Days', \n",
    "    'Registration_Days', 'ID_Days', 'Client_Family_Members',\n",
    "    'Score_Source_2', 'Phone_Change', 'Credit_Bureau']"
   ]
  },
  {
   "cell_type": "code",
   "execution_count": 39,
   "id": "dc42df58",
   "metadata": {},
   "outputs": [
    {
     "data": {
      "text/plain": [
       "10"
      ]
     },
     "execution_count": 39,
     "metadata": {},
     "output_type": "execute_result"
    }
   ],
   "source": [
    "len(category_columns)"
   ]
  },
  {
   "cell_type": "code",
   "execution_count": 40,
   "id": "a1be9eeb",
   "metadata": {},
   "outputs": [
    {
     "data": {
      "text/plain": [
       "7"
      ]
     },
     "execution_count": 40,
     "metadata": {},
     "output_type": "execute_result"
    }
   ],
   "source": [
    "len(category_columns_object)"
   ]
  },
  {
   "cell_type": "code",
   "execution_count": 41,
   "id": "75a2c843",
   "metadata": {},
   "outputs": [
    {
     "data": {
      "text/plain": [
       "12"
      ]
     },
     "execution_count": 41,
     "metadata": {},
     "output_type": "execute_result"
    }
   ],
   "source": [
    "len(numerical_columns)"
   ]
  },
  {
   "cell_type": "code",
   "execution_count": 14,
   "id": "e1ae4d16",
   "metadata": {},
   "outputs": [],
   "source": [
    "# 29 columns"
   ]
  },
  {
   "cell_type": "code",
   "execution_count": 33,
   "id": "751032f9",
   "metadata": {},
   "outputs": [
    {
     "data": {
      "text/html": [
       "<div>\n",
       "<style scoped>\n",
       "    .dataframe tbody tr th:only-of-type {\n",
       "        vertical-align: middle;\n",
       "    }\n",
       "\n",
       "    .dataframe tbody tr th {\n",
       "        vertical-align: top;\n",
       "    }\n",
       "\n",
       "    .dataframe thead th {\n",
       "        text-align: right;\n",
       "    }\n",
       "</style>\n",
       "<table border=\"1\" class=\"dataframe\">\n",
       "  <thead>\n",
       "    <tr style=\"text-align: right;\">\n",
       "      <th></th>\n",
       "      <th>Car_Owned</th>\n",
       "      <th>Bike_Owned</th>\n",
       "      <th>Active_Loan</th>\n",
       "      <th>House_Own</th>\n",
       "      <th>Child_Count</th>\n",
       "      <th>Credit_Amount</th>\n",
       "      <th>Loan_Annuity</th>\n",
       "      <th>Population_Region_Relative</th>\n",
       "      <th>Age_Days</th>\n",
       "      <th>Employed_Days</th>\n",
       "      <th>Registration_Days</th>\n",
       "      <th>ID_Days</th>\n",
       "      <th>Homephone_Tag</th>\n",
       "      <th>Workphone_Working</th>\n",
       "      <th>Client_Family_Members</th>\n",
       "      <th>Cleint_City_Rating</th>\n",
       "      <th>Application_Process_Day</th>\n",
       "      <th>Score_Source_2</th>\n",
       "      <th>Phone_Change</th>\n",
       "      <th>Credit_Bureau</th>\n",
       "    </tr>\n",
       "  </thead>\n",
       "  <tbody>\n",
       "    <tr>\n",
       "      <th>0</th>\n",
       "      <td>0.0</td>\n",
       "      <td>0.0</td>\n",
       "      <td>1.0</td>\n",
       "      <td>0.0</td>\n",
       "      <td>0.0</td>\n",
       "      <td>61190.55</td>\n",
       "      <td>3416.85</td>\n",
       "      <td>0.028663</td>\n",
       "      <td>13957.0</td>\n",
       "      <td>1062.0</td>\n",
       "      <td>6123.000000</td>\n",
       "      <td>383.0</td>\n",
       "      <td>1</td>\n",
       "      <td>0</td>\n",
       "      <td>2.0</td>\n",
       "      <td>2.0</td>\n",
       "      <td>6.0</td>\n",
       "      <td>0.478787</td>\n",
       "      <td>63.000000</td>\n",
       "      <td>1.891082</td>\n",
       "    </tr>\n",
       "    <tr>\n",
       "      <th>1</th>\n",
       "      <td>1.0</td>\n",
       "      <td>0.0</td>\n",
       "      <td>1.0</td>\n",
       "      <td>NaN</td>\n",
       "      <td>0.0</td>\n",
       "      <td>15282.00</td>\n",
       "      <td>1826.55</td>\n",
       "      <td>0.008575</td>\n",
       "      <td>14162.0</td>\n",
       "      <td>4129.0</td>\n",
       "      <td>7833.000000</td>\n",
       "      <td>21.0</td>\n",
       "      <td>0</td>\n",
       "      <td>1</td>\n",
       "      <td>2.0</td>\n",
       "      <td>2.0</td>\n",
       "      <td>3.0</td>\n",
       "      <td>0.215068</td>\n",
       "      <td>962.106056</td>\n",
       "      <td>1.891082</td>\n",
       "    </tr>\n",
       "    <tr>\n",
       "      <th>2</th>\n",
       "      <td>0.0</td>\n",
       "      <td>0.0</td>\n",
       "      <td>1.0</td>\n",
       "      <td>0.0</td>\n",
       "      <td>1.0</td>\n",
       "      <td>59527.35</td>\n",
       "      <td>2788.20</td>\n",
       "      <td>0.022800</td>\n",
       "      <td>16790.0</td>\n",
       "      <td>5102.0</td>\n",
       "      <td>4975.162123</td>\n",
       "      <td>331.0</td>\n",
       "      <td>0</td>\n",
       "      <td>0</td>\n",
       "      <td>2.0</td>\n",
       "      <td>2.0</td>\n",
       "      <td>4.0</td>\n",
       "      <td>0.552795</td>\n",
       "      <td>277.000000</td>\n",
       "      <td>0.000000</td>\n",
       "    </tr>\n",
       "    <tr>\n",
       "      <th>3</th>\n",
       "      <td>0.0</td>\n",
       "      <td>0.0</td>\n",
       "      <td>1.0</td>\n",
       "      <td>1.0</td>\n",
       "      <td>0.0</td>\n",
       "      <td>53870.40</td>\n",
       "      <td>2295.45</td>\n",
       "      <td>0.010556</td>\n",
       "      <td>23195.0</td>\n",
       "      <td>365243.0</td>\n",
       "      <td>4975.162123</td>\n",
       "      <td>775.0</td>\n",
       "      <td>0</td>\n",
       "      <td>0</td>\n",
       "      <td>2.0</td>\n",
       "      <td>3.0</td>\n",
       "      <td>2.0</td>\n",
       "      <td>0.135182</td>\n",
       "      <td>1700.000000</td>\n",
       "      <td>3.000000</td>\n",
       "    </tr>\n",
       "    <tr>\n",
       "      <th>4</th>\n",
       "      <td>1.0</td>\n",
       "      <td>0.0</td>\n",
       "      <td>1.0</td>\n",
       "      <td>0.0</td>\n",
       "      <td>2.0</td>\n",
       "      <td>133988.40</td>\n",
       "      <td>3547.35</td>\n",
       "      <td>0.020713</td>\n",
       "      <td>11366.0</td>\n",
       "      <td>2977.0</td>\n",
       "      <td>5516.000000</td>\n",
       "      <td>4043.0</td>\n",
       "      <td>0</td>\n",
       "      <td>0</td>\n",
       "      <td>4.0</td>\n",
       "      <td>1.0</td>\n",
       "      <td>3.0</td>\n",
       "      <td>0.301182</td>\n",
       "      <td>674.000000</td>\n",
       "      <td>1.000000</td>\n",
       "    </tr>\n",
       "    <tr>\n",
       "      <th>...</th>\n",
       "      <td>...</td>\n",
       "      <td>...</td>\n",
       "      <td>...</td>\n",
       "      <td>...</td>\n",
       "      <td>...</td>\n",
       "      <td>...</td>\n",
       "      <td>...</td>\n",
       "      <td>...</td>\n",
       "      <td>...</td>\n",
       "      <td>...</td>\n",
       "      <td>...</td>\n",
       "      <td>...</td>\n",
       "      <td>...</td>\n",
       "      <td>...</td>\n",
       "      <td>...</td>\n",
       "      <td>...</td>\n",
       "      <td>...</td>\n",
       "      <td>...</td>\n",
       "      <td>...</td>\n",
       "      <td>...</td>\n",
       "    </tr>\n",
       "    <tr>\n",
       "      <th>121851</th>\n",
       "      <td>0.0</td>\n",
       "      <td>0.0</td>\n",
       "      <td>NaN</td>\n",
       "      <td>1.0</td>\n",
       "      <td>0.0</td>\n",
       "      <td>107820.00</td>\n",
       "      <td>3165.30</td>\n",
       "      <td>0.031329</td>\n",
       "      <td>12889.0</td>\n",
       "      <td>2863.0</td>\n",
       "      <td>2661.000000</td>\n",
       "      <td>2943.0</td>\n",
       "      <td>0</td>\n",
       "      <td>0</td>\n",
       "      <td>2.0</td>\n",
       "      <td>2.0</td>\n",
       "      <td>4.0</td>\n",
       "      <td>0.173527</td>\n",
       "      <td>0.000000</td>\n",
       "      <td>1.000000</td>\n",
       "    </tr>\n",
       "    <tr>\n",
       "      <th>121852</th>\n",
       "      <td>0.0</td>\n",
       "      <td>1.0</td>\n",
       "      <td>1.0</td>\n",
       "      <td>0.0</td>\n",
       "      <td>0.0</td>\n",
       "      <td>104256.00</td>\n",
       "      <td>3388.05</td>\n",
       "      <td>0.018209</td>\n",
       "      <td>8648.0</td>\n",
       "      <td>636.0</td>\n",
       "      <td>902.000000</td>\n",
       "      <td>1209.0</td>\n",
       "      <td>1</td>\n",
       "      <td>0</td>\n",
       "      <td>2.0</td>\n",
       "      <td>3.0</td>\n",
       "      <td>4.0</td>\n",
       "      <td>0.371559</td>\n",
       "      <td>4.000000</td>\n",
       "      <td>0.000000</td>\n",
       "    </tr>\n",
       "    <tr>\n",
       "      <th>121853</th>\n",
       "      <td>0.0</td>\n",
       "      <td>1.0</td>\n",
       "      <td>0.0</td>\n",
       "      <td>1.0</td>\n",
       "      <td>1.0</td>\n",
       "      <td>55107.90</td>\n",
       "      <td>2989.35</td>\n",
       "      <td>0.008068</td>\n",
       "      <td>9152.0</td>\n",
       "      <td>1623.0</td>\n",
       "      <td>3980.000000</td>\n",
       "      <td>353.0</td>\n",
       "      <td>0</td>\n",
       "      <td>0</td>\n",
       "      <td>3.0</td>\n",
       "      <td>3.0</td>\n",
       "      <td>5.0</td>\n",
       "      <td>0.048079</td>\n",
       "      <td>0.000000</td>\n",
       "      <td>1.891082</td>\n",
       "    </tr>\n",
       "    <tr>\n",
       "      <th>121854</th>\n",
       "      <td>1.0</td>\n",
       "      <td>1.0</td>\n",
       "      <td>0.0</td>\n",
       "      <td>1.0</td>\n",
       "      <td>0.0</td>\n",
       "      <td>45000.00</td>\n",
       "      <td>2719.35</td>\n",
       "      <td>0.028663</td>\n",
       "      <td>10290.0</td>\n",
       "      <td>847.0</td>\n",
       "      <td>895.000000</td>\n",
       "      <td>2902.0</td>\n",
       "      <td>0</td>\n",
       "      <td>0</td>\n",
       "      <td>2.0</td>\n",
       "      <td>2.0</td>\n",
       "      <td>1.0</td>\n",
       "      <td>0.103538</td>\n",
       "      <td>0.000000</td>\n",
       "      <td>2.000000</td>\n",
       "    </tr>\n",
       "    <tr>\n",
       "      <th>121855</th>\n",
       "      <td>1.0</td>\n",
       "      <td>1.0</td>\n",
       "      <td>1.0</td>\n",
       "      <td>1.0</td>\n",
       "      <td>1.0</td>\n",
       "      <td>62428.95</td>\n",
       "      <td>4201.65</td>\n",
       "      <td>0.018029</td>\n",
       "      <td>14772.0</td>\n",
       "      <td>498.0</td>\n",
       "      <td>8679.000000</td>\n",
       "      <td>5025.0</td>\n",
       "      <td>0</td>\n",
       "      <td>0</td>\n",
       "      <td>2.0</td>\n",
       "      <td>3.0</td>\n",
       "      <td>4.0</td>\n",
       "      <td>0.556414</td>\n",
       "      <td>805.000000</td>\n",
       "      <td>0.000000</td>\n",
       "    </tr>\n",
       "  </tbody>\n",
       "</table>\n",
       "<p>121856 rows × 20 columns</p>\n",
       "</div>"
      ],
      "text/plain": [
       "        Car_Owned  Bike_Owned  Active_Loan  House_Own  Child_Count  \\\n",
       "0             0.0         0.0          1.0        0.0          0.0   \n",
       "1             1.0         0.0          1.0        NaN          0.0   \n",
       "2             0.0         0.0          1.0        0.0          1.0   \n",
       "3             0.0         0.0          1.0        1.0          0.0   \n",
       "4             1.0         0.0          1.0        0.0          2.0   \n",
       "...           ...         ...          ...        ...          ...   \n",
       "121851        0.0         0.0          NaN        1.0          0.0   \n",
       "121852        0.0         1.0          1.0        0.0          0.0   \n",
       "121853        0.0         1.0          0.0        1.0          1.0   \n",
       "121854        1.0         1.0          0.0        1.0          0.0   \n",
       "121855        1.0         1.0          1.0        1.0          1.0   \n",
       "\n",
       "        Credit_Amount  Loan_Annuity  Population_Region_Relative  Age_Days  \\\n",
       "0            61190.55       3416.85                    0.028663   13957.0   \n",
       "1            15282.00       1826.55                    0.008575   14162.0   \n",
       "2            59527.35       2788.20                    0.022800   16790.0   \n",
       "3            53870.40       2295.45                    0.010556   23195.0   \n",
       "4           133988.40       3547.35                    0.020713   11366.0   \n",
       "...               ...           ...                         ...       ...   \n",
       "121851      107820.00       3165.30                    0.031329   12889.0   \n",
       "121852      104256.00       3388.05                    0.018209    8648.0   \n",
       "121853       55107.90       2989.35                    0.008068    9152.0   \n",
       "121854       45000.00       2719.35                    0.028663   10290.0   \n",
       "121855       62428.95       4201.65                    0.018029   14772.0   \n",
       "\n",
       "        Employed_Days  Registration_Days  ID_Days  Homephone_Tag  \\\n",
       "0              1062.0        6123.000000    383.0              1   \n",
       "1              4129.0        7833.000000     21.0              0   \n",
       "2              5102.0        4975.162123    331.0              0   \n",
       "3            365243.0        4975.162123    775.0              0   \n",
       "4              2977.0        5516.000000   4043.0              0   \n",
       "...               ...                ...      ...            ...   \n",
       "121851         2863.0        2661.000000   2943.0              0   \n",
       "121852          636.0         902.000000   1209.0              1   \n",
       "121853         1623.0        3980.000000    353.0              0   \n",
       "121854          847.0         895.000000   2902.0              0   \n",
       "121855          498.0        8679.000000   5025.0              0   \n",
       "\n",
       "        Workphone_Working  Client_Family_Members  Cleint_City_Rating  \\\n",
       "0                       0                    2.0                 2.0   \n",
       "1                       1                    2.0                 2.0   \n",
       "2                       0                    2.0                 2.0   \n",
       "3                       0                    2.0                 3.0   \n",
       "4                       0                    4.0                 1.0   \n",
       "...                   ...                    ...                 ...   \n",
       "121851                  0                    2.0                 2.0   \n",
       "121852                  0                    2.0                 3.0   \n",
       "121853                  0                    3.0                 3.0   \n",
       "121854                  0                    2.0                 2.0   \n",
       "121855                  0                    2.0                 3.0   \n",
       "\n",
       "        Application_Process_Day  Score_Source_2  Phone_Change  Credit_Bureau  \n",
       "0                           6.0        0.478787     63.000000       1.891082  \n",
       "1                           3.0        0.215068    962.106056       1.891082  \n",
       "2                           4.0        0.552795    277.000000       0.000000  \n",
       "3                           2.0        0.135182   1700.000000       3.000000  \n",
       "4                           3.0        0.301182    674.000000       1.000000  \n",
       "...                         ...             ...           ...            ...  \n",
       "121851                      4.0        0.173527      0.000000       1.000000  \n",
       "121852                      4.0        0.371559      4.000000       0.000000  \n",
       "121853                      5.0        0.048079      0.000000       1.891082  \n",
       "121854                      1.0        0.103538      0.000000       2.000000  \n",
       "121855                      4.0        0.556414    805.000000       0.000000  \n",
       "\n",
       "[121856 rows x 20 columns]"
      ]
     },
     "execution_count": 33,
     "metadata": {},
     "output_type": "execute_result"
    }
   ],
   "source": [
    "df.select_dtypes(exclude='object')"
   ]
  },
  {
   "cell_type": "code",
   "execution_count": 15,
   "id": "34b45bb8",
   "metadata": {
    "scrolled": true
   },
   "outputs": [
    {
     "data": {
      "text/html": [
       "<div>\n",
       "<style scoped>\n",
       "    .dataframe tbody tr th:only-of-type {\n",
       "        vertical-align: middle;\n",
       "    }\n",
       "\n",
       "    .dataframe tbody tr th {\n",
       "        vertical-align: top;\n",
       "    }\n",
       "\n",
       "    .dataframe thead th {\n",
       "        text-align: right;\n",
       "    }\n",
       "</style>\n",
       "<table border=\"1\" class=\"dataframe\">\n",
       "  <thead>\n",
       "    <tr style=\"text-align: right;\">\n",
       "      <th></th>\n",
       "      <th>Car_Owned</th>\n",
       "      <th>Bike_Owned</th>\n",
       "      <th>Active_Loan</th>\n",
       "      <th>House_Own</th>\n",
       "      <th>Child_Count</th>\n",
       "      <th>Credit_Amount</th>\n",
       "      <th>Loan_Annuity</th>\n",
       "      <th>Client_Income_Type</th>\n",
       "      <th>Client_Education</th>\n",
       "      <th>Client_Marital_Status</th>\n",
       "      <th>Client_Gender</th>\n",
       "      <th>Loan_Contract_Type</th>\n",
       "      <th>Client_Housing_Type</th>\n",
       "      <th>Population_Region_Relative</th>\n",
       "      <th>Age_Days</th>\n",
       "      <th>Employed_Days</th>\n",
       "      <th>Registration_Days</th>\n",
       "      <th>ID_Days</th>\n",
       "      <th>Homephone_Tag</th>\n",
       "      <th>Workphone_Working</th>\n",
       "      <th>Client_Occupation</th>\n",
       "      <th>Client_Family_Members</th>\n",
       "      <th>Cleint_City_Rating</th>\n",
       "      <th>Application_Process_Day</th>\n",
       "      <th>Client_Permanent_Match_Tag</th>\n",
       "      <th>Client_Contact_Work_Tag</th>\n",
       "      <th>Score_Source_2</th>\n",
       "      <th>Phone_Change</th>\n",
       "      <th>Credit_Bureau</th>\n",
       "    </tr>\n",
       "  </thead>\n",
       "  <tbody>\n",
       "    <tr>\n",
       "      <th>0</th>\n",
       "      <td>0.0</td>\n",
       "      <td>0.0</td>\n",
       "      <td>1.0</td>\n",
       "      <td>0.0</td>\n",
       "      <td>0.0</td>\n",
       "      <td>61190.55</td>\n",
       "      <td>3416.85</td>\n",
       "      <td>Commercial</td>\n",
       "      <td>Secondary</td>\n",
       "      <td>M</td>\n",
       "      <td>Male</td>\n",
       "      <td>CL</td>\n",
       "      <td>Home</td>\n",
       "      <td>0.028663</td>\n",
       "      <td>13957.000000</td>\n",
       "      <td>1062.0</td>\n",
       "      <td>6123.000000</td>\n",
       "      <td>383.0</td>\n",
       "      <td>1</td>\n",
       "      <td>0</td>\n",
       "      <td>Sales</td>\n",
       "      <td>2.0</td>\n",
       "      <td>2.0</td>\n",
       "      <td>6.0</td>\n",
       "      <td>Yes</td>\n",
       "      <td>Yes</td>\n",
       "      <td>0.478787</td>\n",
       "      <td>63.000000</td>\n",
       "      <td>1.891082</td>\n",
       "    </tr>\n",
       "    <tr>\n",
       "      <th>1</th>\n",
       "      <td>1.0</td>\n",
       "      <td>0.0</td>\n",
       "      <td>1.0</td>\n",
       "      <td>NaN</td>\n",
       "      <td>0.0</td>\n",
       "      <td>15282.00</td>\n",
       "      <td>1826.55</td>\n",
       "      <td>Service</td>\n",
       "      <td>Graduation</td>\n",
       "      <td>M</td>\n",
       "      <td>Male</td>\n",
       "      <td>CL</td>\n",
       "      <td>Home</td>\n",
       "      <td>0.008575</td>\n",
       "      <td>14162.000000</td>\n",
       "      <td>4129.0</td>\n",
       "      <td>7833.000000</td>\n",
       "      <td>21.0</td>\n",
       "      <td>0</td>\n",
       "      <td>1</td>\n",
       "      <td>Nojob</td>\n",
       "      <td>2.0</td>\n",
       "      <td>2.0</td>\n",
       "      <td>3.0</td>\n",
       "      <td>Yes</td>\n",
       "      <td>Yes</td>\n",
       "      <td>0.215068</td>\n",
       "      <td>962.106056</td>\n",
       "      <td>1.891082</td>\n",
       "    </tr>\n",
       "    <tr>\n",
       "      <th>2</th>\n",
       "      <td>0.0</td>\n",
       "      <td>0.0</td>\n",
       "      <td>1.0</td>\n",
       "      <td>0.0</td>\n",
       "      <td>1.0</td>\n",
       "      <td>59527.35</td>\n",
       "      <td>2788.20</td>\n",
       "      <td>Service</td>\n",
       "      <td>Graduation dropout</td>\n",
       "      <td>W</td>\n",
       "      <td>Male</td>\n",
       "      <td>CL</td>\n",
       "      <td>Family</td>\n",
       "      <td>0.022800</td>\n",
       "      <td>16790.000000</td>\n",
       "      <td>5102.0</td>\n",
       "      <td>4975.162123</td>\n",
       "      <td>331.0</td>\n",
       "      <td>0</td>\n",
       "      <td>0</td>\n",
       "      <td>Realty agents</td>\n",
       "      <td>2.0</td>\n",
       "      <td>2.0</td>\n",
       "      <td>4.0</td>\n",
       "      <td>Yes</td>\n",
       "      <td>Yes</td>\n",
       "      <td>0.552795</td>\n",
       "      <td>277.000000</td>\n",
       "      <td>0.000000</td>\n",
       "    </tr>\n",
       "    <tr>\n",
       "      <th>3</th>\n",
       "      <td>0.0</td>\n",
       "      <td>0.0</td>\n",
       "      <td>1.0</td>\n",
       "      <td>1.0</td>\n",
       "      <td>0.0</td>\n",
       "      <td>53870.40</td>\n",
       "      <td>2295.45</td>\n",
       "      <td>Retired</td>\n",
       "      <td>Secondary</td>\n",
       "      <td>M</td>\n",
       "      <td>Male</td>\n",
       "      <td>CL</td>\n",
       "      <td>Home</td>\n",
       "      <td>0.010556</td>\n",
       "      <td>23195.000000</td>\n",
       "      <td>365243.0</td>\n",
       "      <td>4975.162123</td>\n",
       "      <td>775.0</td>\n",
       "      <td>0</td>\n",
       "      <td>0</td>\n",
       "      <td>Nojob</td>\n",
       "      <td>2.0</td>\n",
       "      <td>3.0</td>\n",
       "      <td>2.0</td>\n",
       "      <td>Yes</td>\n",
       "      <td>Yes</td>\n",
       "      <td>0.135182</td>\n",
       "      <td>1700.000000</td>\n",
       "      <td>3.000000</td>\n",
       "    </tr>\n",
       "    <tr>\n",
       "      <th>4</th>\n",
       "      <td>1.0</td>\n",
       "      <td>0.0</td>\n",
       "      <td>1.0</td>\n",
       "      <td>0.0</td>\n",
       "      <td>2.0</td>\n",
       "      <td>133988.40</td>\n",
       "      <td>3547.35</td>\n",
       "      <td>Commercial</td>\n",
       "      <td>Secondary</td>\n",
       "      <td>M</td>\n",
       "      <td>Female</td>\n",
       "      <td>CL</td>\n",
       "      <td>Home</td>\n",
       "      <td>0.020713</td>\n",
       "      <td>11366.000000</td>\n",
       "      <td>2977.0</td>\n",
       "      <td>5516.000000</td>\n",
       "      <td>4043.0</td>\n",
       "      <td>0</td>\n",
       "      <td>0</td>\n",
       "      <td>Laborers</td>\n",
       "      <td>4.0</td>\n",
       "      <td>1.0</td>\n",
       "      <td>3.0</td>\n",
       "      <td>Yes</td>\n",
       "      <td>Yes</td>\n",
       "      <td>0.301182</td>\n",
       "      <td>674.000000</td>\n",
       "      <td>1.000000</td>\n",
       "    </tr>\n",
       "    <tr>\n",
       "      <th>5</th>\n",
       "      <td>0.0</td>\n",
       "      <td>1.0</td>\n",
       "      <td>1.0</td>\n",
       "      <td>1.0</td>\n",
       "      <td>1.0</td>\n",
       "      <td>13752.00</td>\n",
       "      <td>653.85</td>\n",
       "      <td>Service</td>\n",
       "      <td>Secondary</td>\n",
       "      <td>W</td>\n",
       "      <td>Female</td>\n",
       "      <td>CL</td>\n",
       "      <td>Home</td>\n",
       "      <td>0.019101</td>\n",
       "      <td>13881.000000</td>\n",
       "      <td>1184.0</td>\n",
       "      <td>3910.000000</td>\n",
       "      <td>3910.0</td>\n",
       "      <td>0</td>\n",
       "      <td>0</td>\n",
       "      <td>Laborers</td>\n",
       "      <td>2.0</td>\n",
       "      <td>2.0</td>\n",
       "      <td>2.0</td>\n",
       "      <td>Yes</td>\n",
       "      <td>Yes</td>\n",
       "      <td>0.697928</td>\n",
       "      <td>739.000000</td>\n",
       "      <td>0.000000</td>\n",
       "    </tr>\n",
       "    <tr>\n",
       "      <th>6</th>\n",
       "      <td>1.0</td>\n",
       "      <td>1.0</td>\n",
       "      <td>0.0</td>\n",
       "      <td>1.0</td>\n",
       "      <td>0.0</td>\n",
       "      <td>128835.00</td>\n",
       "      <td>3779.55</td>\n",
       "      <td>Retired</td>\n",
       "      <td>Secondary</td>\n",
       "      <td>S</td>\n",
       "      <td>Male</td>\n",
       "      <td>CL</td>\n",
       "      <td>Home</td>\n",
       "      <td>0.016612</td>\n",
       "      <td>21323.000000</td>\n",
       "      <td>365243.0</td>\n",
       "      <td>113.000000</td>\n",
       "      <td>4855.0</td>\n",
       "      <td>0</td>\n",
       "      <td>0</td>\n",
       "      <td>Nojob</td>\n",
       "      <td>1.0</td>\n",
       "      <td>2.0</td>\n",
       "      <td>3.0</td>\n",
       "      <td>Yes</td>\n",
       "      <td>Yes</td>\n",
       "      <td>0.602545</td>\n",
       "      <td>0.000000</td>\n",
       "      <td>3.000000</td>\n",
       "    </tr>\n",
       "    <tr>\n",
       "      <th>7</th>\n",
       "      <td>0.0</td>\n",
       "      <td>0.0</td>\n",
       "      <td>1.0</td>\n",
       "      <td>1.0</td>\n",
       "      <td>0.0</td>\n",
       "      <td>60415.20</td>\n",
       "      <td>3097.80</td>\n",
       "      <td>Retired</td>\n",
       "      <td>Secondary</td>\n",
       "      <td>M</td>\n",
       "      <td>Male</td>\n",
       "      <td>CL</td>\n",
       "      <td>Home</td>\n",
       "      <td>0.009175</td>\n",
       "      <td>22493.000000</td>\n",
       "      <td>365243.0</td>\n",
       "      <td>12617.000000</td>\n",
       "      <td>5280.0</td>\n",
       "      <td>0</td>\n",
       "      <td>1</td>\n",
       "      <td>Nojob</td>\n",
       "      <td>2.0</td>\n",
       "      <td>2.0</td>\n",
       "      <td>4.0</td>\n",
       "      <td>Yes</td>\n",
       "      <td>Yes</td>\n",
       "      <td>0.657508</td>\n",
       "      <td>1687.000000</td>\n",
       "      <td>4.000000</td>\n",
       "    </tr>\n",
       "    <tr>\n",
       "      <th>8</th>\n",
       "      <td>1.0</td>\n",
       "      <td>1.0</td>\n",
       "      <td>0.0</td>\n",
       "      <td>1.0</td>\n",
       "      <td>1.0</td>\n",
       "      <td>45000.00</td>\n",
       "      <td>1200.15</td>\n",
       "      <td>Commercial</td>\n",
       "      <td>Graduation</td>\n",
       "      <td>M</td>\n",
       "      <td>Female</td>\n",
       "      <td>CL</td>\n",
       "      <td>Home</td>\n",
       "      <td>0.006008</td>\n",
       "      <td>16027.422948</td>\n",
       "      <td>7889.0</td>\n",
       "      <td>5455.000000</td>\n",
       "      <td>2665.0</td>\n",
       "      <td>0</td>\n",
       "      <td>1</td>\n",
       "      <td>Sales</td>\n",
       "      <td>3.0</td>\n",
       "      <td>2.0</td>\n",
       "      <td>4.0</td>\n",
       "      <td>Yes</td>\n",
       "      <td>Yes</td>\n",
       "      <td>0.637594</td>\n",
       "      <td>1611.000000</td>\n",
       "      <td>0.000000</td>\n",
       "    </tr>\n",
       "    <tr>\n",
       "      <th>9</th>\n",
       "      <td>0.0</td>\n",
       "      <td>0.0</td>\n",
       "      <td>0.0</td>\n",
       "      <td>1.0</td>\n",
       "      <td>0.0</td>\n",
       "      <td>16320.15</td>\n",
       "      <td>1294.65</td>\n",
       "      <td>Retired</td>\n",
       "      <td>Secondary</td>\n",
       "      <td>W</td>\n",
       "      <td>Male</td>\n",
       "      <td>CL</td>\n",
       "      <td>Home</td>\n",
       "      <td>0.016612</td>\n",
       "      <td>20507.000000</td>\n",
       "      <td>365243.0</td>\n",
       "      <td>2834.000000</td>\n",
       "      <td>4053.0</td>\n",
       "      <td>0</td>\n",
       "      <td>0</td>\n",
       "      <td>Nojob</td>\n",
       "      <td>1.0</td>\n",
       "      <td>2.0</td>\n",
       "      <td>NaN</td>\n",
       "      <td>Yes</td>\n",
       "      <td>Yes</td>\n",
       "      <td>0.063343</td>\n",
       "      <td>533.000000</td>\n",
       "      <td>5.000000</td>\n",
       "    </tr>\n",
       "  </tbody>\n",
       "</table>\n",
       "</div>"
      ],
      "text/plain": [
       "   Car_Owned  Bike_Owned  Active_Loan  House_Own  Child_Count  Credit_Amount  \\\n",
       "0        0.0         0.0          1.0        0.0          0.0       61190.55   \n",
       "1        1.0         0.0          1.0        NaN          0.0       15282.00   \n",
       "2        0.0         0.0          1.0        0.0          1.0       59527.35   \n",
       "3        0.0         0.0          1.0        1.0          0.0       53870.40   \n",
       "4        1.0         0.0          1.0        0.0          2.0      133988.40   \n",
       "5        0.0         1.0          1.0        1.0          1.0       13752.00   \n",
       "6        1.0         1.0          0.0        1.0          0.0      128835.00   \n",
       "7        0.0         0.0          1.0        1.0          0.0       60415.20   \n",
       "8        1.0         1.0          0.0        1.0          1.0       45000.00   \n",
       "9        0.0         0.0          0.0        1.0          0.0       16320.15   \n",
       "\n",
       "   Loan_Annuity Client_Income_Type    Client_Education Client_Marital_Status  \\\n",
       "0       3416.85         Commercial           Secondary                     M   \n",
       "1       1826.55            Service          Graduation                     M   \n",
       "2       2788.20            Service  Graduation dropout                     W   \n",
       "3       2295.45            Retired           Secondary                     M   \n",
       "4       3547.35         Commercial           Secondary                     M   \n",
       "5        653.85            Service           Secondary                     W   \n",
       "6       3779.55            Retired           Secondary                     S   \n",
       "7       3097.80            Retired           Secondary                     M   \n",
       "8       1200.15         Commercial          Graduation                     M   \n",
       "9       1294.65            Retired           Secondary                     W   \n",
       "\n",
       "  Client_Gender Loan_Contract_Type Client_Housing_Type  \\\n",
       "0          Male                 CL                Home   \n",
       "1          Male                 CL                Home   \n",
       "2          Male                 CL              Family   \n",
       "3          Male                 CL                Home   \n",
       "4        Female                 CL                Home   \n",
       "5        Female                 CL                Home   \n",
       "6          Male                 CL                Home   \n",
       "7          Male                 CL                Home   \n",
       "8        Female                 CL                Home   \n",
       "9          Male                 CL                Home   \n",
       "\n",
       "   Population_Region_Relative      Age_Days  Employed_Days  Registration_Days  \\\n",
       "0                    0.028663  13957.000000         1062.0        6123.000000   \n",
       "1                    0.008575  14162.000000         4129.0        7833.000000   \n",
       "2                    0.022800  16790.000000         5102.0        4975.162123   \n",
       "3                    0.010556  23195.000000       365243.0        4975.162123   \n",
       "4                    0.020713  11366.000000         2977.0        5516.000000   \n",
       "5                    0.019101  13881.000000         1184.0        3910.000000   \n",
       "6                    0.016612  21323.000000       365243.0         113.000000   \n",
       "7                    0.009175  22493.000000       365243.0       12617.000000   \n",
       "8                    0.006008  16027.422948         7889.0        5455.000000   \n",
       "9                    0.016612  20507.000000       365243.0        2834.000000   \n",
       "\n",
       "   ID_Days  Homephone_Tag  Workphone_Working Client_Occupation  \\\n",
       "0    383.0              1                  0             Sales   \n",
       "1     21.0              0                  1             Nojob   \n",
       "2    331.0              0                  0     Realty agents   \n",
       "3    775.0              0                  0             Nojob   \n",
       "4   4043.0              0                  0          Laborers   \n",
       "5   3910.0              0                  0          Laborers   \n",
       "6   4855.0              0                  0             Nojob   \n",
       "7   5280.0              0                  1             Nojob   \n",
       "8   2665.0              0                  1             Sales   \n",
       "9   4053.0              0                  0             Nojob   \n",
       "\n",
       "   Client_Family_Members  Cleint_City_Rating  Application_Process_Day  \\\n",
       "0                    2.0                 2.0                      6.0   \n",
       "1                    2.0                 2.0                      3.0   \n",
       "2                    2.0                 2.0                      4.0   \n",
       "3                    2.0                 3.0                      2.0   \n",
       "4                    4.0                 1.0                      3.0   \n",
       "5                    2.0                 2.0                      2.0   \n",
       "6                    1.0                 2.0                      3.0   \n",
       "7                    2.0                 2.0                      4.0   \n",
       "8                    3.0                 2.0                      4.0   \n",
       "9                    1.0                 2.0                      NaN   \n",
       "\n",
       "  Client_Permanent_Match_Tag Client_Contact_Work_Tag  Score_Source_2  \\\n",
       "0                        Yes                     Yes        0.478787   \n",
       "1                        Yes                     Yes        0.215068   \n",
       "2                        Yes                     Yes        0.552795   \n",
       "3                        Yes                     Yes        0.135182   \n",
       "4                        Yes                     Yes        0.301182   \n",
       "5                        Yes                     Yes        0.697928   \n",
       "6                        Yes                     Yes        0.602545   \n",
       "7                        Yes                     Yes        0.657508   \n",
       "8                        Yes                     Yes        0.637594   \n",
       "9                        Yes                     Yes        0.063343   \n",
       "\n",
       "   Phone_Change  Credit_Bureau  \n",
       "0     63.000000       1.891082  \n",
       "1    962.106056       1.891082  \n",
       "2    277.000000       0.000000  \n",
       "3   1700.000000       3.000000  \n",
       "4    674.000000       1.000000  \n",
       "5    739.000000       0.000000  \n",
       "6      0.000000       3.000000  \n",
       "7   1687.000000       4.000000  \n",
       "8   1611.000000       0.000000  \n",
       "9    533.000000       5.000000  "
      ]
     },
     "execution_count": 15,
     "metadata": {},
     "output_type": "execute_result"
    }
   ],
   "source": [
    "pd.set_option('display.max_columns', None)\n",
    "df.head(10)"
   ]
  },
  {
   "cell_type": "code",
   "execution_count": null,
   "id": "daea3115",
   "metadata": {},
   "outputs": [],
   "source": [
    "df.to_csv('./test.csv', index=False)"
   ]
  },
  {
   "cell_type": "code",
   "execution_count": null,
   "id": "9ac012b4",
   "metadata": {},
   "outputs": [],
   "source": [
    "df = pd.read_csv('./nbfi_vehicle_loan_repayment_dataset/Train_Dataset.csv')"
   ]
  },
  {
   "cell_type": "code",
   "execution_count": null,
   "id": "b609fda7",
   "metadata": {},
   "outputs": [],
   "source": [
    "df['Default'].value_counts()"
   ]
  },
  {
   "cell_type": "code",
   "execution_count": null,
   "id": "8dcfefb8",
   "metadata": {
    "scrolled": true
   },
   "outputs": [],
   "source": [
    "target_df = preprocessing_db.get_target_df()"
   ]
  },
  {
   "cell_type": "code",
   "execution_count": null,
   "id": "ead2d767",
   "metadata": {},
   "outputs": [],
   "source": [
    "target_df"
   ]
  },
  {
   "cell_type": "code",
   "execution_count": null,
   "id": "f2b5d910",
   "metadata": {},
   "outputs": [],
   "source": [
    "na_values = ['$', '#VALUE!', '##', 'XNA', '@', '#', 'x', '&']\n",
    "columns = ['Client_Income', 'Credit_Amount', 'Loan_Annuity', 'Score_Source_3', 'Population_Region_Relative', 'Age_Days', 'Employed_Days', 'Registration_Days', 'ID_Days']\n",
    "pay_df = pd.read_csv('./nbfi_vehicle_loan_repayment_dataset/Train_Dataset.csv', na_values=na_values, encoding='utf-8', engine='python')\n",
    "\n",
    "for column in columns:\n",
    "    pay_df[column] = pd.to_numeric(pay_df[column], errors='coerce')"
   ]
  },
  {
   "cell_type": "code",
   "execution_count": null,
   "id": "773c83b2",
   "metadata": {},
   "outputs": [],
   "source": [
    "x_test = pd.read_csv('./nbfi_vehicle_loan_repayment_dataset/x_test.csv')\n",
    "x_train = pd.read_csv('./nbfi_vehicle_loan_repayment_dataset/x_train_over.csv')\n",
    "y_train = pd.read_csv('./nbfi_vehicle_loan_repayment_dataset/y_train_over.csv')\n",
    "y_test = pd.read_csv('./nbfi_vehicle_loan_repayment_dataset/y_test.csv')"
   ]
  },
  {
   "cell_type": "code",
   "execution_count": null,
   "id": "a9058536",
   "metadata": {},
   "outputs": [],
   "source": [
    "df.shape"
   ]
  },
  {
   "cell_type": "code",
   "execution_count": null,
   "id": "3134093d",
   "metadata": {},
   "outputs": [],
   "source": [
    "df = pd.concat([x_test, x_train])\n",
    "y_df = pd.concat([y_train, y_test])\n",
    "df.to_csv('./data.csv', index=False)\n",
    "y_df.to_csv('./y_data.csv', index=False)"
   ]
  },
  {
   "cell_type": "code",
   "execution_count": null,
   "id": "eb9400d0",
   "metadata": {},
   "outputs": [],
   "source": [
    "pd.set_option('display.max_rows', None)"
   ]
  },
  {
   "cell_type": "code",
   "execution_count": null,
   "id": "8e030537",
   "metadata": {},
   "outputs": [],
   "source": [
    "# pd.get_dummies(df, columns=['Accompany_Client', 'Application_Process_Hour'], ax=1)"
   ]
  },
  {
   "cell_type": "code",
   "execution_count": null,
   "id": "e2442330",
   "metadata": {},
   "outputs": [],
   "source": [
    "df.Cleint_City_Rating.value_counts()"
   ]
  },
  {
   "cell_type": "code",
   "execution_count": null,
   "id": "72f6ff40",
   "metadata": {},
   "outputs": [],
   "source": [
    "df_null_sum = df.isna().sum()\n",
    "column = df_null_sum[df_null_sum>0].index\n",
    "test = pd.get_dummies(df, columns=column)"
   ]
  },
  {
   "cell_type": "code",
   "execution_count": null,
   "id": "81423fb9",
   "metadata": {},
   "outputs": [],
   "source": [
    "pd.set_option('display.max_rows', None)"
   ]
  },
  {
   "cell_type": "code",
   "execution_count": null,
   "id": "1a44e897",
   "metadata": {},
   "outputs": [],
   "source": [
    "test.isna().sum()"
   ]
  },
  {
   "cell_type": "code",
   "execution_count": null,
   "id": "20052e71",
   "metadata": {
    "scrolled": false
   },
   "outputs": [],
   "source": [
    "df.isna().sum()"
   ]
  },
  {
   "cell_type": "code",
   "execution_count": null,
   "id": "3c7e2e39",
   "metadata": {},
   "outputs": [],
   "source": [
    "df = pd.read_csv('./nbfi_vehicle_loan_repayment_dataset/Train_Dataset.csv', na_values=['$', '#VALUE!', '##', 'XNA', '@', '#', 'x', '&'], encoding='utf-8', engine='python')"
   ]
  },
  {
   "cell_type": "code",
   "execution_count": null,
   "id": "6ab9ee04",
   "metadata": {},
   "outputs": [],
   "source": [
    "# 범주형인데 1, 2~~~\n",
    "category_value_number = ['Car_Owned', 'Bike_Owned',\n",
    "                        'Active_Loan', 'House_Own', 'Child_Count',\n",
    "                        'Own_House_Age', 'Homephone_Tag', 'Workphone_Working', \n",
    "                        'Client_Family_Members', 'Cleint_City_Rating', 'Application_Process_Day', 'Application_Process_Hour',\n",
    "                        'Credit_Bureau']"
   ]
  },
  {
   "cell_type": "code",
   "execution_count": null,
   "id": "4371badb",
   "metadata": {},
   "outputs": [],
   "source": [
    "# 연속형\n",
    "numerical_value = ['Client_Income', 'Credit_Amount', 'Loan_Annuity', \n",
    "                   'Population_Region_Relative', 'Age_Days', 'Employed_Days',\n",
    "                   'Registration_Days', 'ID_Days', 'Score_Source_1' ,\n",
    "                   'Score_Source_2', 'Score_Source_3', 'Social_Circle_Default', 'Phone_Change']"
   ]
  },
  {
   "cell_type": "code",
   "execution_count": null,
   "id": "918bebe0",
   "metadata": {},
   "outputs": [],
   "source": [
    "# 범주형인데 str\n",
    "category_value_object = df.select_dtypes(include='object').columns"
   ]
  },
  {
   "cell_type": "code",
   "execution_count": null,
   "id": "a064b3c4",
   "metadata": {},
   "outputs": [],
   "source": [
    "category_value_object"
   ]
  },
  {
   "cell_type": "code",
   "execution_count": null,
   "id": "836e8625",
   "metadata": {},
   "outputs": [],
   "source": [
    "df.drop(columns='Mobile_Tag', axis=1, inplace=True)"
   ]
  },
  {
   "cell_type": "code",
   "execution_count": null,
   "id": "2ab66dec",
   "metadata": {},
   "outputs": [],
   "source": [
    "def test(column):\n",
    "    return random.choice(column)"
   ]
  },
  {
   "cell_type": "code",
   "execution_count": null,
   "id": "f7771f4a",
   "metadata": {},
   "outputs": [],
   "source": [
    "import random\n",
    "columns = {}\n",
    "for column in category_value_object:\n",
    "    if df[column].isna().sum() > 10000 or df[column].isna().sum() == 0:\n",
    "        continue\n",
    "    unique_columns = df[column].loc[df[column].isna()==False].unique()\n",
    "    df[column] = df[column].apply(lambda x : random.choice(unique_columns) if pd.isna(x) else x)\n"
   ]
  },
  {
   "cell_type": "code",
   "execution_count": null,
   "id": "7eec2c3b",
   "metadata": {},
   "outputs": [],
   "source": [
    "df.Client_Housing_Type.value_counts()"
   ]
  },
  {
   "cell_type": "code",
   "execution_count": null,
   "id": "20f1082a",
   "metadata": {},
   "outputs": [],
   "source": [
    "df.Accompany_Client[df.Accompany_Client.isna()==False].unique()"
   ]
  },
  {
   "cell_type": "code",
   "execution_count": null,
   "id": "d780d6d7",
   "metadata": {
    "scrolled": true
   },
   "outputs": [],
   "source": [
    "columns"
   ]
  },
  {
   "cell_type": "markdown",
   "id": "e498e63a",
   "metadata": {},
   "source": [
    "## 결측치가 만 건 미만인 컬럼명\n",
    "- Accompany_Client,고객이 대출을 신청할 때 고객과 동행한 사람 : Drop\n",
    "- Client_Income_Type,고객 소득 유형 : Drop\n",
    "- Client_Education,고객이 달성한 최고 교육 수준 : Random\n",
    "- Client_Marital_Status,\"고객의 결혼 상태(D- 이혼, S- 미혼, M- 기혼, W- 사별)\" : Random\n",
    "- Client_Gender,고객의 성별 : Random\n",
    "- Loan_Contract_Type,\"대출 유형(CL- 현금대출, RL- 리볼빙대출)\" : Random\n",
    "- Client_Housing_Type,고객 주택 상황 : Random"
   ]
  },
  {
   "cell_type": "code",
   "execution_count": null,
   "id": "7648349d",
   "metadata": {},
   "outputs": [],
   "source": [
    "columns = {}\n",
    "category_value_object = pay_df.select_dtypes(include='object').columns\n",
    "\n",
    "for column in category_value_object:\n",
    "    if pay_df[column].isna().sum() < 10000:\n",
    "        continue\n",
    "    columns[column] = pay_df[column].isna().sum()\n",
    "\n",
    "columns"
   ]
  },
  {
   "cell_type": "code",
   "execution_count": null,
   "id": "141c724b",
   "metadata": {},
   "outputs": [],
   "source": [
    "pd.DataFrame({\"Count\" : df.isna().sum(), \"Percentage\" : df.isna().sum() / len(df) * 100})"
   ]
  },
  {
   "cell_type": "markdown",
   "id": "f528c371",
   "metadata": {},
   "source": [
    "# 주제 : 차량 대출 상환가능성 예측"
   ]
  },
  {
   "cell_type": "code",
   "execution_count": null,
   "id": "b8f91b99",
   "metadata": {},
   "outputs": [],
   "source": [
    "aa = ['Own_House_Age', 'Client_Occupation', 'Type_Organization', 'Score_Source_1', 'Score_Source_3', 'Social_Circle_Default', 'Credit_Bureau']"
   ]
  },
  {
   "cell_type": "code",
   "execution_count": null,
   "id": "7a8b0c18",
   "metadata": {},
   "outputs": [],
   "source": [
    "test = {}\n",
    "for i in aa:\n",
    "    test[i] = pay_df[i].isna().sum()\n",
    "    \n",
    "test"
   ]
  },
  {
   "cell_type": "markdown",
   "id": "fc57a0ea",
   "metadata": {},
   "source": [
    "## 결측치가 만건 이상인 컬럼명\n",
    "- Own_House_Age,고객 소유 주택의 나이(년) : drop\n",
    "- Client_Occupation,고객 직업 유형 : Nojob :: DROP\n",
    "- Type_Organization,클라이언트가 근무하는 조직 유형 : drop\n",
    "- Score_Source_1,다른 출처에서 얻은 점수. 정규화된 점수입니다. : drop\n",
    "- Score_Source_3,다른 소스에서 가져온 점수입니다. 정규화된 점수입니다. : drop\n",
    "- Social_Circle_Default,지난 60일 동안 대출 상환을 불이행한 고객의 친구/가족 수 : drop\n",
    "- Credit_Bureau, 1년 내 90일 이상 장기연체 등 신용위험이 발생할 가능성을 수치화하여 제공하는 지표 : 평균"
   ]
  },
  {
   "cell_type": "markdown",
   "id": "e22e618f",
   "metadata": {},
   "source": [
    "- ID,고객 대출 신청 ID\n",
    "- Client_Income,고객 소득() : DROP\n",
    "- Car_Owned,다른 차량에 대한 대출을 신청하기 전에 고객이 소유한 모든 차량(0은 아니요, 1은 그렇지 않음을 의미)\n",
    "- Bike_Owned,고객이 소유한 모든 자전거(0은 아니요, 1은 그렇지 않음을 의미)\n",
    "- Active_Loan,대출 신청 당시 진행 중인 다른 대출이 있는지 여부(0은 아니요, 1은 그렇지 않음을 의미)\n",
    "- House_Own,고객이 소유한 주택 수(0은 아니요, 1은 그 외의 주택)\n",
    "- Child_Count,고객이 보유한 자녀 수\n",
    "- Credit_Amount,대출의 신용 금액()\n",
    "- Loan_Annuity,대출 연금()\n",
    "- Accompany_Client,고객이 대출을 신청할 때 고객과 동행한 사람\n",
    "- Client_Income_Type,고객 소득 유형\n",
    "- Client_Education,고객이 달성한 최고 교육 수준\n",
    "- Client_Marital_Status,\"고객의 결혼 상태(D- 이혼, S- 미혼, M- 기혼, W- 사별)\"\n",
    "- Client_Gender,고객의 성별\n",
    "- Loan_Contract_Type,\"대출 유형(CL- 현금대출, RL- 리볼빙대출)\"\n",
    "- Client_Housing_Type,고객 주택 상황\n",
    "- Population_Region_Relative,고객이 거주하고 있는 지역의 상대적 인구수. 값이 높을수록 고객이 인구가 많은 지역에 거주하고 있음을 의미합니다.\n",
    "- Age_Days,신청서 제출 시점의 고객 나이\n",
    "- Employed_Days,\"신청 전, 고객이 수입을 시작한 일수\"\n",
    "- Registration_Days,\"대출 신청일 전, 고객이 등록을 변경한 일수\"\n",
    "- ID_Days,\"대출 신청 며칠 전, 고객이 대출을 신청한 신분증을 변경했습니다.\"\n",
    "- Own_House_Age,고객 소유 주택의 나이(년)\n",
    "- Mobile_Tag,고객이 제공한 휴대폰 번호(1은 예, 0은 아니오를 의미) : drop\n",
    "- Homephone_Tag,고객이 제공한 집전화 번호(1은 예, 0은 아니오를 의미)\n",
    "- Workphone_Working,직장 전화 번호로 연락 가능했는지(1은 예, 0은 아니오)\n",
    "- Client_Occupation,고객 직업 유형\n",
    "- Client_Family_Members,고객이 보유한 가족 구성원 수\n",
    "- Cleint_City_Rating,고객 도시 등급. 3은 최고, 2는 좋음, 1은 평균을 나타냅니다.\n",
    "- Application_Process_Day,고객이 대출을 신청한 요일(0-일,1-월,2-화,3-수,4-목,5-금,6-토)\"\n",
    "- Application_Process_Hour,고객이 대출을 신청한 요일 시간 : DROP\n",
    "- Client_Permanent_Match_Tag,고객 연락처 주소가 영구 주소와 일치하지 않는 경우 표시.\n",
    "- Client_Contact_Work_Tag,고객 직장 주소가 연락처 주소와 일치하지 않는 경우 표시.\n",
    "- Type_Organization,클라이언트가 근무하는 조직 유형\n",
    "- Score_Source_1,다른 출처에서 얻은 점수. 정규화된 점수입니다.\n",
    "- Score_Source_2,다른 출처에서 얻은 점수입니다. 정규화된 점수입니다.\n",
    "- Score_Source_3,다른 소스에서 가져온 점수입니다. 정규화된 점수입니다.\n",
    "- Social_Circle_Default,지난 60일 동안 대출 상환을 불이행한 고객의 친구/가족 수\n",
    "- Phone_Change,\"대출 신청 며칠 전에 고객이 휴대폰을 변경했는지\"\n",
    "- Credit_Bureau,작년 총 조회 건수\n",
    "- Default,1은 고객이 대출 상환을 불이행했음을 의미하고 0은 그렇지 않음을 의미합니다."
   ]
  },
  {
   "cell_type": "code",
   "execution_count": null,
   "id": "cfd6dca7",
   "metadata": {},
   "outputs": [],
   "source": [
    "# pay_df.Client_Gender = count_encoder.fit_transform(pay_df.Client_Gender)\n",
    "\n",
    "pay_df.Client_Gender = label_encoder.fit_transform(pay_df.Client_Gender)"
   ]
  },
  {
   "cell_type": "code",
   "execution_count": null,
   "id": "0fe4b1ba",
   "metadata": {},
   "outputs": [],
   "source": [
    "pay_df.Client_Gender"
   ]
  },
  {
   "cell_type": "code",
   "execution_count": null,
   "id": "1ebd28bd",
   "metadata": {},
   "outputs": [],
   "source": [
    "pay_df.Accompany_Client.value_counts()\n",
    "# pay_df.Accompany_Client.isna().sum()"
   ]
  },
  {
   "cell_type": "code",
   "execution_count": null,
   "id": "6cfadbda",
   "metadata": {},
   "outputs": [],
   "source": [
    "pay_df.Client_Gender.value_counts()"
   ]
  },
  {
   "cell_type": "code",
   "execution_count": null,
   "id": "ed1bbfad",
   "metadata": {},
   "outputs": [],
   "source": [
    "pay_df.Client_Gender = pay_df.Client_Gender.apply(lambda x : 0 if x == 2 else x)"
   ]
  },
  {
   "cell_type": "code",
   "execution_count": null,
   "id": "19aefcfb",
   "metadata": {
    "scrolled": true
   },
   "outputs": [],
   "source": [
    "pay_df.pivot_table(index=y_target, columns=['Client_Gender'], aggfunc=['mean', 'sum'])"
   ]
  },
  {
   "cell_type": "code",
   "execution_count": null,
   "id": "d7023663",
   "metadata": {},
   "outputs": [],
   "source": [
    "import tensorflow as tf\n",
    "\n",
    "from tensorflow.keras import datasets, utils\n",
    "from tensorflow.keras import models, layers, activations, initializers, losses, optimizers, metrics\n",
    "from sklearn import model_selection\n",
    "from sklearn.pipeline import Pipeline\n",
    "from sklearn.compose import ColumnTransformer\n",
    "from tensorflow.keras import utils\n",
    "from sklearn.preprocessing import LabelEncoder, OneHotEncoder, StandardScaler"
   ]
  },
  {
   "cell_type": "code",
   "execution_count": null,
   "id": "7e7af43b",
   "metadata": {},
   "outputs": [],
   "source": [
    "target_df = df['Default']\n",
    "del df['Default']"
   ]
  },
  {
   "cell_type": "code",
   "execution_count": null,
   "id": "50a12cea",
   "metadata": {},
   "outputs": [],
   "source": [
    "target_df = utils.to_categorical(target_df)"
   ]
  },
  {
   "cell_type": "code",
   "execution_count": null,
   "id": "1e9a19c6",
   "metadata": {},
   "outputs": [],
   "source": [
    "train_data, test_data, train_label, test_label = model_selection.train_test_split(df, target_df,\n",
    "                                                                                 test_size=0.3,\n",
    "                                                                                 random_state=0)"
   ]
  },
  {
   "cell_type": "code",
   "execution_count": null,
   "id": "53a6a16f",
   "metadata": {},
   "outputs": [],
   "source": [
    "# OverSampling"
   ]
  },
  {
   "cell_type": "code",
   "execution_count": null,
   "id": "cc2fb893",
   "metadata": {},
   "outputs": [],
   "source": [
    "numerical_value"
   ]
  },
  {
   "cell_type": "code",
   "execution_count": null,
   "id": "d45757f7",
   "metadata": {},
   "outputs": [],
   "source": [
    "category_value_number.extend(category_value_object)"
   ]
  },
  {
   "cell_type": "code",
   "execution_count": null,
   "id": "129b12d6",
   "metadata": {},
   "outputs": [],
   "source": [
    "numeric_transformer = StandardScaler() # cf) RobustScaler\n",
    "categorical_transformer = OneHotEncoder(categories='auto', handle_unknown='ignore') \n",
    "\n",
    "preprocessor = ColumnTransformer(\n",
    "    transformers=[ # List of (name, transformer, column(s))\n",
    "        ('num', numeric_transformer, numerical_value),\n",
    "        ('cat', categorical_transformer, category_value_number)])"
   ]
  },
  {
   "cell_type": "code",
   "execution_count": null,
   "id": "018a5e9a",
   "metadata": {},
   "outputs": [],
   "source": [
    "preprocessor_pipe = Pipeline(steps=[('preprocessor', preprocessor)]) # preprocessing-only"
   ]
  },
  {
   "cell_type": "code",
   "execution_count": null,
   "id": "f56ea154",
   "metadata": {},
   "outputs": [],
   "source": [
    "preprocessor_pipe"
   ]
  },
  {
   "cell_type": "code",
   "execution_count": null,
   "id": "ca929f6f",
   "metadata": {},
   "outputs": [],
   "source": [
    "preprocessor_pipe.fit(train_data)"
   ]
  },
  {
   "cell_type": "code",
   "execution_count": null,
   "id": "500f935a",
   "metadata": {},
   "outputs": [],
   "source": [
    "x_train_transformed = preprocessor_pipe.transform(train_data)\n",
    "x_test_transformed = preprocessor_pipe.transform(test_data)"
   ]
  },
  {
   "cell_type": "code",
   "execution_count": null,
   "id": "b0a7e115",
   "metadata": {},
   "outputs": [],
   "source": []
  },
  {
   "cell_type": "code",
   "execution_count": null,
   "id": "c5b841c4",
   "metadata": {},
   "outputs": [],
   "source": [
    "model = models.Sequential()\n",
    "\n",
    "model.add(layers.Dense(input_dim=x_train_transformed.shape[1], units=256, activation=None, kernel_initializer=initializers.he_uniform())) # he-uniform initialization\n",
    "model.add(layers.Activation('elu'))\n",
    "\n",
    "model.add(layers.Dense(units=512, activation=None, kernel_initializer=initializers.he_uniform())) \n",
    "model.add(layers.Activation('elu')) \n",
    "\n",
    "model.add(layers.Dense(units=512, activation=None, kernel_initializer=initializers.he_uniform())) \n",
    "model.add(layers.Activation('elu'))\n",
    "\n",
    "model.add(layers.Dense(units=256, activation=None, kernel_initializer=initializers.he_uniform())) \n",
    "model.add(layers.Activation('elu')) \n",
    "\n",
    "model.add(layers.Dense(units=2, activation='softmax'))"
   ]
  },
  {
   "cell_type": "code",
   "execution_count": null,
   "id": "60ec6dac",
   "metadata": {},
   "outputs": [],
   "source": [
    "model.compile(optimizer=optimizers.Adam(),\n",
    "              loss=losses.categorical_crossentropy, \n",
    "              metrics=[metrics.categorical_accuracy, metrics.Recall(), metrics.Precision()])"
   ]
  },
  {
   "cell_type": "code",
   "execution_count": null,
   "id": "4d0df09e",
   "metadata": {},
   "outputs": [],
   "source": [
    "train_label.shape"
   ]
  },
  {
   "cell_type": "code",
   "execution_count": null,
   "id": "f1240276",
   "metadata": {},
   "outputs": [],
   "source": [
    "x_train_transformed.shape"
   ]
  },
  {
   "cell_type": "code",
   "execution_count": null,
   "id": "fb3d3ffa",
   "metadata": {},
   "outputs": [],
   "source": []
  },
  {
   "cell_type": "code",
   "execution_count": null,
   "id": "fd701742",
   "metadata": {},
   "outputs": [],
   "source": [
    "# \"Fit\" the model on training data\n",
    "history = model.fit(x_train_transformed.todense(), train_label, batch_size=1000, epochs=20, validation_split=0.2) "
   ]
  },
  {
   "cell_type": "code",
   "execution_count": null,
   "id": "5c7f875a",
   "metadata": {},
   "outputs": [],
   "source": [
    "history.history.keys()"
   ]
  },
  {
   "cell_type": "code",
   "execution_count": null,
   "id": "d432b0d1",
   "metadata": {},
   "outputs": [],
   "source": [
    "val_acc = history.history['val_categorical_accuracy']\n",
    "acc = history.history['categorical_accuracy']\n",
    "\n",
    "val_recall = history.history['val_recall']\n",
    "recall = history.history['recall']\n",
    "\n",
    "val_precision = history.history['val_precision']\n",
    "precision = history.history['precision']\n",
    "\n",
    "x_len = np.arange(len(acc))\n",
    "plt.plot(x_len, acc, marker='.', c='blue', label=\"Train-set Acc.\")\n",
    "plt.plot(x_len, val_acc, marker='.', c='red', label=\"Validation-set Acc.\")\n",
    "\n",
    "x_len = np.arange(len(recall))\n",
    "plt.plot(x_len, recall, marker='.', c='green', label=\"Train-set Recall.\")\n",
    "plt.plot(x_len, val_recall, marker='.', c='purple', label=\"Validation-set Recall.\")\n",
    "\n",
    "x_len = np.arange(len(precision))\n",
    "plt.plot(x_len, precision, marker='.', c='yellow', label=\"Train-set Precision.\")\n",
    "plt.plot(x_len, val_precision, marker='.', c='cyan', label=\"Validation-set Precision.\")\n",
    "\n",
    "plt.legend(loc='upper left')\n",
    "plt.grid()\n",
    "plt.xlabel('epoch')\n",
    "plt.ylabel('Accuracy')\n",
    "plt.show()"
   ]
  },
  {
   "cell_type": "code",
   "execution_count": null,
   "id": "7c59996c",
   "metadata": {},
   "outputs": [],
   "source": [
    "estimators = [ \n",
    "    ('ExtraTrees', ensemble.ExtraTreesClassifier(random_state = 0, n_jobs = -1, n_estimators = 100, max_depth = 3)),\n",
    "    ('RandomForest', ensemble.RandomForestClassifier(random_state = 0, n_jobs = -1, n_estimators = 100, max_depth = 3)),\n",
    "    ('DecisionTree', DecisionTreeClassifier()),\n",
    "]"
   ]
  },
  {
   "cell_type": "code",
   "execution_count": null,
   "id": "da5cd0c9",
   "metadata": {},
   "outputs": [],
   "source": [
    "stack = StackingTransformer(estimators, \n",
    "                            regression = False, \n",
    "                            metric = accuracy_score,\n",
    "                            n_folds = 2, stratified = True, shuffle = True, \n",
    "                            random_state = 42, verbose = 2) "
   ]
  },
  {
   "cell_type": "code",
   "execution_count": null,
   "id": "b03aa392",
   "metadata": {},
   "outputs": [],
   "source": [
    "y_target = preprocessing_db.get_target_df()\n",
    "y_train, y_test = train_test_split(y_target, test_size=0.2, random_state=42)"
   ]
  },
  {
   "cell_type": "code",
   "execution_count": null,
   "id": "80dcc060",
   "metadata": {},
   "outputs": [],
   "source": [
    "x_train.shape"
   ]
  },
  {
   "cell_type": "code",
   "execution_count": null,
   "id": "c2d0e366",
   "metadata": {},
   "outputs": [],
   "source": [
    "y_train.shape"
   ]
  },
  {
   "cell_type": "code",
   "execution_count": null,
   "id": "ae0c38bf",
   "metadata": {},
   "outputs": [],
   "source": [
    "y_test = pd.read_csv('./nbfi_vehicle_loan_repayment_dataset/origin_y_test.csv')\n",
    "y_train = pd.read_csv('./nbfi_vehicle_loan_repayment_dataset/origin_y_train_over.csv')"
   ]
  },
  {
   "cell_type": "code",
   "execution_count": null,
   "id": "c32205fc",
   "metadata": {
    "scrolled": true
   },
   "outputs": [],
   "source": [
    "# fit을 통해 분류함\n",
    "stack = stack.fit(x_train, y_train)"
   ]
  },
  {
   "cell_type": "code",
   "execution_count": null,
   "id": "df0b0946",
   "metadata": {},
   "outputs": [],
   "source": [
    "# transform을 통해 학습시킴\n",
    "S_train = stack.transform(x_train)\n",
    "# transform을 통해 학습시킴\n",
    "S_test = stack.transform(x_test)"
   ]
  },
  {
   "cell_type": "code",
   "execution_count": null,
   "id": "8840d959",
   "metadata": {},
   "outputs": [],
   "source": [
    "S_train.shape"
   ]
  },
  {
   "cell_type": "code",
   "execution_count": null,
   "id": "97bb69ce",
   "metadata": {},
   "outputs": [],
   "source": [
    "y_test.shape"
   ]
  },
  {
   "cell_type": "code",
   "execution_count": null,
   "id": "4384ccb0",
   "metadata": {},
   "outputs": [],
   "source": [
    "# XGBClassification의 hyper-parameter\n",
    "params = {\n",
    "    'learning_rate' : [1, 0.1, 0.01, 0.001],\n",
    "    'n_estimators' : [100, 1000],\n",
    "    'max_depth' : [3, 4, 5],\n",
    "    'eval_metric' : ['mlogloss'],\n",
    "    'n_jobs' : [-1],\n",
    "    'seed' : [0],\n",
    "}"
   ]
  },
  {
   "cell_type": "code",
   "execution_count": null,
   "id": "892713e1",
   "metadata": {},
   "outputs": [],
   "source": [
    "# GridSearch를 통해 HPO 찾기\n",
    "grid = GridSearchCV(\n",
    "    XGBClassifier(),\n",
    "    params,\n",
    "    refit=True, verbose=1\n",
    ")\n",
    "y_pred = grid.fit(S_train, y_train)\n",
    "y_pred.best_params_"
   ]
  },
  {
   "cell_type": "code",
   "execution_count": null,
   "id": "7ddd580a",
   "metadata": {},
   "outputs": [],
   "source": [
    "# HPO 적용\n",
    "model = XGBClassifier(**y_pred.best_params_) \n",
    "# 투표를 통해 얻은 S_train과 y_train을 다시 학습시킴\n",
    "model = model.fit(S_train, y_train)"
   ]
  },
  {
   "cell_type": "code",
   "execution_count": null,
   "id": "cf71cd77",
   "metadata": {},
   "outputs": [],
   "source": [
    "fpr, tpr, _ = roc_curve(y_true=y_test, y_score=model.predict_proba(S_test)[:,1])\n",
    "roc_auc = auc(fpr, tpr) # AUC 면적의 값 (수치)\n",
    "plt.figure(figsize=(9, 9))\n",
    "plt.plot(fpr, tpr, color='darkorange', lw=2, label='ROC curve (area = %0.2f)' % roc_auc)\n",
    "plt.plot([0, 1], [0, 1], color='navy', lw=2, linestyle='--')\n",
    "plt.xlim([0.0, 1.0])\n",
    "plt.ylim([0.0, 1.05])\n",
    "plt.xlabel('False Positive Rate')\n",
    "plt.ylabel('True Positive Rate')\n",
    "plt.legend(loc=\"lower right\")\n",
    "plt.title(\"ROC curve\")\n",
    "plt.show()"
   ]
  },
  {
   "cell_type": "code",
   "execution_count": null,
   "id": "9c84ef50",
   "metadata": {},
   "outputs": [],
   "source": [
    "predictions = model.predict(S_test)\n",
    "print(classification_report(y_test, predictions))"
   ]
  },
  {
   "cell_type": "code",
   "execution_count": null,
   "id": "8c8becad",
   "metadata": {},
   "outputs": [],
   "source": [
    "from sklearn.svm import SVC\n",
    "svc = SVC()"
   ]
  },
  {
   "cell_type": "code",
   "execution_count": null,
   "id": "8b67b6d3",
   "metadata": {},
   "outputs": [],
   "source": [
    "params = {\n",
    "    'C' : [1, 10, 100, 1000],\n",
    "    'kernel' : ['rbf'],\n",
    "    'gamma' : [0.1, 0.01, 0.001],\n",
    "    'max_iter' : [3, 4, 5],\n",
    "}\n",
    "\n",
    "\n",
    "# GridSearch를 통해 HPO 찾기\n",
    "grid = GridSearchCV(\n",
    "    svc,\n",
    "    params,\n",
    "    refit=True, verbose=1\n",
    ")\n",
    "y_pred = grid.fit(x_train, y_train)\n",
    "y_pred.best_params_"
   ]
  },
  {
   "cell_type": "code",
   "execution_count": null,
   "id": "d658c681",
   "metadata": {},
   "outputs": [],
   "source": [
    "scv = SVC(**y_pred.best_params_)"
   ]
  },
  {
   "cell_type": "code",
   "execution_count": null,
   "id": "0f3bbb18",
   "metadata": {},
   "outputs": [],
   "source": [
    "y_train.shape"
   ]
  },
  {
   "cell_type": "code",
   "execution_count": null,
   "id": "16bb73b1",
   "metadata": {},
   "outputs": [],
   "source": [
    "x_train.shape"
   ]
  },
  {
   "cell_type": "code",
   "execution_count": null,
   "id": "116998fb",
   "metadata": {},
   "outputs": [],
   "source": [
    "scv.fit(x_train, y_train)"
   ]
  },
  {
   "cell_type": "code",
   "execution_count": null,
   "id": "0b9ea367",
   "metadata": {},
   "outputs": [],
   "source": [
    "pridict_y = scv.predict(x_test)"
   ]
  },
  {
   "cell_type": "code",
   "execution_count": null,
   "id": "5aa2bfcd",
   "metadata": {},
   "outputs": [],
   "source": [
    "print(classification_report(y_test, pridict_y))"
   ]
  },
  {
   "cell_type": "code",
   "execution_count": null,
   "id": "6d2a7c20",
   "metadata": {},
   "outputs": [],
   "source": [
    "fpr, tpr, _ = roc_curve(y_true=y_test, y_score=scv.predict_proba(S_test)[:,1])\n",
    "roc_auc = auc(fpr, tpr) # AUC 면적의 값 (수치)\n",
    "plt.figure(figsize=(9, 9))\n",
    "plt.plot(fpr, tpr, color='darkorange', lw=2, label='ROC curve (area = %0.2f)' % roc_auc)\n",
    "plt.plot([0, 1], [0, 1], color='navy', lw=2, linestyle='--')\n",
    "plt.xlim([0.0, 1.0])\n",
    "plt.ylim([0.0, 1.05])\n",
    "plt.xlabel('False Positive Rate')\n",
    "plt.ylabel('True Positive Rate')\n",
    "plt.legend(loc=\"lower right\")\n",
    "plt.title(\"ROC curve\")\n",
    "plt.show()"
   ]
  }
 ],
 "metadata": {
  "kernelspec": {
   "display_name": "Python 3 (ipykernel)",
   "language": "python",
   "name": "python3"
  },
  "language_info": {
   "codemirror_mode": {
    "name": "ipython",
    "version": 3
   },
   "file_extension": ".py",
   "mimetype": "text/x-python",
   "name": "python",
   "nbconvert_exporter": "python",
   "pygments_lexer": "ipython3",
   "version": "3.8.8"
  }
 },
 "nbformat": 4,
 "nbformat_minor": 5
}
