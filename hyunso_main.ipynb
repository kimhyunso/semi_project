{
 "cells": [
  {
   "cell_type": "code",
   "execution_count": 1,
   "id": "5faa1e50",
   "metadata": {},
   "outputs": [],
   "source": [
    "import warnings\n",
    "warnings.filterwarnings(\"ignore\")\n",
    "\n",
    "import pandas as pd\n",
    "import numpy as np\n",
    "import matplotlib.pyplot as plt\n",
    "import seaborn as sns\n",
    "from sklearn.preprocessing import LabelEncoder, OneHotEncoder, StandardScaler, MinMaxScaler\n",
    "from sklearn.compose import ColumnTransformer\n",
    "from sklearn.pipeline import Pipeline\n",
    "from sklearn.metrics import accuracy_score, f1_score, roc_auc_score, roc_curve, auc, mean_squared_error, classification_report\n",
    "from sklearn import  model_selection\n",
    "from sklearn import ensemble\n",
    "from sklearn import svm\n",
    "\n",
    "from sklearn.model_selection import GridSearchCV\n",
    "from vecstack import stacking, StackingTransformer\n",
    "from xgboost import XGBClassifier\n",
    "from IPython.display import Image\n",
    "from sklearn.tree import DecisionTreeClassifier\n",
    "from sklearn.linear_model import LogisticRegression\n",
    "from Preprocessing import Preprocessing\n",
    "from sklearn.model_selection import train_test_split"
   ]
  },
  {
   "cell_type": "code",
   "execution_count": 2,
   "id": "39cbd4a0",
   "metadata": {},
   "outputs": [],
   "source": [
    "preprocessing_db = Preprocessing()\n",
    "preprocessing_db.drop_columns()"
   ]
  },
  {
   "cell_type": "code",
   "execution_count": 3,
   "id": "373cdbb6",
   "metadata": {},
   "outputs": [],
   "source": [
    "preprocessing_db = Preprocessing()\n",
    "# 결측치 제거\n",
    "preprocessing_db.drop_columns()\n",
    "# 연속형 데이터 대체\n",
    "preprocessing_db.numerical_columns_replace()\n",
    "# 범주형 데이터 대체ㅐ\n",
    "preprocessing_db.category_columns_replace()"
   ]
  },
  {
   "cell_type": "code",
   "execution_count": 4,
   "id": "96f93ca2",
   "metadata": {},
   "outputs": [],
   "source": [
    "df = preprocessing_db.get_df()"
   ]
  },
  {
   "cell_type": "code",
   "execution_count": 5,
   "id": "63095950",
   "metadata": {},
   "outputs": [],
   "source": [
    "target = preprocessing_db.get_target_df()"
   ]
  },
  {
   "cell_type": "code",
   "execution_count": 6,
   "id": "4c65df5e",
   "metadata": {},
   "outputs": [],
   "source": [
    "category_columns = [\n",
    "    'Car_Owned', 'Bike_Owned', 'Active_Loan', \n",
    "    'House_Own', 'Homephone_Tag', 'Workphone_Working', \n",
    "    'Cleint_City_Rating', 'Application_Process_Day', 'Client_Permanent_Match_Tag', \n",
    "    'Client_Contact_Work_Tag']"
   ]
  },
  {
   "cell_type": "code",
   "execution_count": 7,
   "id": "e33d5985",
   "metadata": {},
   "outputs": [],
   "source": [
    "category_columns_object = [\n",
    "    'Client_Education', 'Client_Marital_Status', \n",
    "    'Client_Gender', 'Loan_Contract_Type', 'Client_Housing_Type', \n",
    "    'Client_Occupation']"
   ]
  },
  {
   "cell_type": "code",
   "execution_count": 8,
   "id": "f36a0d45",
   "metadata": {},
   "outputs": [],
   "source": [
    "numerical_columns=[\n",
    "    'Child_Count', 'Credit_Amount', 'Loan_Annuity', \n",
    "    'Population_Region_Relative', 'Age_Days', 'Employed_Days', \n",
    "    'Registration_Days', 'ID_Days', 'Client_Family_Members',\n",
    "    'Score_Source_2', 'Phone_Change', 'Credit_Bureau', 'Client_Income']"
   ]
  },
  {
   "cell_type": "code",
   "execution_count": null,
   "id": "2d27a269",
   "metadata": {},
   "outputs": [],
   "source": [
    "x_train_df = pd.DataFrame(x_train_transformed)"
   ]
  },
  {
   "cell_type": "code",
   "execution_count": null,
   "id": "8802e87b",
   "metadata": {},
   "outputs": [],
   "source": [
    "x_train_df.to_csv('./x_train_df.csv', index=False)"
   ]
  },
  {
   "cell_type": "code",
   "execution_count": null,
   "id": "5e886c1f",
   "metadata": {},
   "outputs": [],
   "source": [
    "y_train_df = pd.DataFrame(y_train)"
   ]
  },
  {
   "cell_type": "code",
   "execution_count": 27,
   "id": "ccb3368b",
   "metadata": {},
   "outputs": [
    {
     "data": {
      "text/plain": [
       "Alone       97409\n",
       "Relative    15748\n",
       "Partner      4516\n",
       "Kids         1334\n",
       "Others        987\n",
       "Group         104\n",
       "##             12\n",
       "Name: Accompany_Client, dtype: int64"
      ]
     },
     "execution_count": 27,
     "metadata": {},
     "output_type": "execute_result"
    }
   ],
   "source": [
    "pd.set_option('display.max_rows', None)\n",
    "pay_df = pd.read_csv('./nbfi_vehicle_loan_repayment_dataset/Train_Dataset.csv', encoding='utf-8', engine='python')\n",
    "na_values = ['$', '#VALUE!', '##', 'XNA', '@', '#', 'x', '&']\n",
    "\n",
    "    \n",
    "['Accompany_Client', 'Client_Gender', 'Type_Organization']\n",
    "pay_df['Accompany_Client'].value_counts()\n"
   ]
  },
  {
   "cell_type": "code",
   "execution_count": null,
   "id": "c3b908ed",
   "metadata": {},
   "outputs": [],
   "source": [
    "y_train_df.to_csv('./y_train_df.csv', index=False)"
   ]
  },
  {
   "cell_type": "code",
   "execution_count": null,
   "id": "ab73862b",
   "metadata": {},
   "outputs": [],
   "source": [
    "df['Default'].value_counts()"
   ]
  },
  {
   "cell_type": "code",
   "execution_count": null,
   "id": "8dcfefb8",
   "metadata": {
    "scrolled": true
   },
   "outputs": [],
   "source": [
    "target_df = preprocessing_db.get_target_df()"
   ]
  },
  {
   "cell_type": "code",
   "execution_count": null,
   "id": "e46172df",
   "metadata": {},
   "outputs": [],
   "source": [
    "target_df"
   ]
  },
  {
   "cell_type": "code",
   "execution_count": null,
   "id": "f2b5d910",
   "metadata": {},
   "outputs": [],
   "source": [
    "na_values = ['$', '#VALUE!', '##', 'XNA', '@', '#', 'x', '&']\n",
    "columns = ['Client_Income', 'Credit_Amount', 'Loan_Annuity', 'Score_Source_3', 'Population_Region_Relative', 'Age_Days', 'Employed_Days', 'Registration_Days', 'ID_Days']\n",
    "pay_df = pd.read_csv('./nbfi_vehicle_loan_repayment_dataset/Train_Dataset.csv', na_values=na_values, encoding='utf-8', engine='python')\n",
    "\n",
    "for column in columns:\n",
    "    pay_df[column] = pd.to_numeric(pay_df[column], errors='coerce')"
   ]
  },
  {
   "cell_type": "code",
   "execution_count": null,
   "id": "773c83b2",
   "metadata": {},
   "outputs": [],
   "source": [
    "x_test = pd.read_csv('./nbfi_vehicle_loan_repayment_dataset/x_test.csv')\n",
    "x_train = pd.read_csv('./nbfi_vehicle_loan_repayment_dataset/x_train_over.csv')\n",
    "y_train = pd.read_csv('./nbfi_vehicle_loan_repayment_dataset/y_train_over.csv')\n",
    "y_test = pd.read_csv('./nbfi_vehicle_loan_repayment_dataset/y_test.csv')"
   ]
  },
  {
   "cell_type": "code",
   "execution_count": null,
   "id": "a9058536",
   "metadata": {},
   "outputs": [],
   "source": [
    "df.shape"
   ]
  },
  {
   "cell_type": "code",
   "execution_count": null,
   "id": "3134093d",
   "metadata": {},
   "outputs": [],
   "source": [
    "df = pd.concat([x_test, x_train])\n",
    "y_df = pd.concat([y_train, y_test])\n",
    "df.to_csv('./data.csv', index=False)\n",
    "y_df.to_csv('./y_data.csv', index=False)"
   ]
  },
  {
   "cell_type": "code",
   "execution_count": null,
   "id": "eb9400d0",
   "metadata": {},
   "outputs": [],
   "source": [
    "pd.set_option('display.max_rows', None)"
   ]
  },
  {
   "cell_type": "code",
   "execution_count": null,
   "id": "8e030537",
   "metadata": {},
   "outputs": [],
   "source": [
    "# pd.get_dummies(df, columns=['Accompany_Client', 'Application_Process_Hour'], ax=1)"
   ]
  },
  {
   "cell_type": "code",
   "execution_count": null,
   "id": "e2442330",
   "metadata": {},
   "outputs": [],
   "source": [
    "df.Cleint_City_Rating.value_counts()"
   ]
  },
  {
   "cell_type": "code",
   "execution_count": null,
   "id": "72f6ff40",
   "metadata": {},
   "outputs": [],
   "source": [
    "df_null_sum = df.isna().sum()\n",
    "column = df_null_sum[df_null_sum>0].index\n",
    "test = pd.get_dummies(df, columns=column)"
   ]
  },
  {
   "cell_type": "code",
   "execution_count": null,
   "id": "81423fb9",
   "metadata": {},
   "outputs": [],
   "source": [
    "pd.set_option('display.max_rows', None)"
   ]
  },
  {
   "cell_type": "code",
   "execution_count": null,
   "id": "1a44e897",
   "metadata": {},
   "outputs": [],
   "source": [
    "test.isna().sum()"
   ]
  },
  {
   "cell_type": "code",
   "execution_count": null,
   "id": "20052e71",
   "metadata": {
    "scrolled": false
   },
   "outputs": [],
   "source": [
    "df.isna().sum()"
   ]
  },
  {
   "cell_type": "code",
   "execution_count": null,
   "id": "3c7e2e39",
   "metadata": {},
   "outputs": [],
   "source": [
    "df = pd.read_csv('./nbfi_vehicle_loan_repayment_dataset/Train_Dataset.csv', na_values=['$', '#VALUE!', '##', 'XNA', '@', '#', 'x', '&'], encoding='utf-8', engine='python')"
   ]
  },
  {
   "cell_type": "code",
   "execution_count": null,
   "id": "6ab9ee04",
   "metadata": {},
   "outputs": [],
   "source": [
    "# 범주형인데 1, 2~~~\n",
    "category_value_number = ['Car_Owned', 'Bike_Owned',\n",
    "                        'Active_Loan', 'House_Own', 'Child_Count',\n",
    "                        'Own_House_Age', 'Homephone_Tag', 'Workphone_Working', \n",
    "                        'Client_Family_Members', 'Cleint_City_Rating', 'Application_Process_Day', 'Application_Process_Hour',\n",
    "                        'Credit_Bureau']"
   ]
  },
  {
   "cell_type": "code",
   "execution_count": null,
   "id": "4371badb",
   "metadata": {},
   "outputs": [],
   "source": [
    "# 연속형\n",
    "numerical_value = ['Client_Income', 'Credit_Amount', 'Loan_Annuity', \n",
    "                   'Population_Region_Relative', 'Age_Days', 'Employed_Days',\n",
    "                   'Registration_Days', 'ID_Days', 'Score_Source_1' ,\n",
    "                   'Score_Source_2', 'Score_Source_3', 'Social_Circle_Default', 'Phone_Change']"
   ]
  },
  {
   "cell_type": "code",
   "execution_count": null,
   "id": "918bebe0",
   "metadata": {},
   "outputs": [],
   "source": [
    "# 범주형인데 str\n",
    "category_value_object = df.select_dtypes(include='object').columns"
   ]
  },
  {
   "cell_type": "markdown",
   "id": "e498e63a",
   "metadata": {},
   "source": [
    "## 결측치가 만 건 미만인 컬럼명\n",
    "- Accompany_Client,고객이 대출을 신청할 때 고객과 동행한 사람 : Drop\n",
    "- Client_Income_Type,고객 소득 유형 : Drop\n",
    "- Client_Education,고객이 달성한 최고 교육 수준 : Random\n",
    "- Client_Marital_Status,\"고객의 결혼 상태(D- 이혼, S- 미혼, M- 기혼, W- 사별)\" : Random\n",
    "- Client_Gender,고객의 성별 : Random\n",
    "- Loan_Contract_Type,\"대출 유형(CL- 현금대출, RL- 리볼빙대출)\" : Random\n",
    "- Client_Housing_Type,고객 주택 상황 : Random"
   ]
  },
  {
   "cell_type": "code",
   "execution_count": null,
   "id": "7648349d",
   "metadata": {},
   "outputs": [],
   "source": [
    "columns = {}\n",
    "category_value_object = pay_df.select_dtypes(include='object').columns\n",
    "\n",
    "for column in category_value_object:\n",
    "    if pay_df[column].isna().sum() < 10000:\n",
    "        continue\n",
    "    columns[column] = pay_df[column].isna().sum()\n",
    "\n",
    "columns"
   ]
  },
  {
   "cell_type": "code",
   "execution_count": null,
   "id": "141c724b",
   "metadata": {},
   "outputs": [],
   "source": [
    "pd.DataFrame({\"Count\" : df.isna().sum(), \"Percentage\" : df.isna().sum() / len(df) * 100})"
   ]
  },
  {
   "cell_type": "markdown",
   "id": "f528c371",
   "metadata": {},
   "source": [
    "# 주제 : 차량 대출 상환가능성 예측"
   ]
  },
  {
   "cell_type": "code",
   "execution_count": null,
   "id": "b8f91b99",
   "metadata": {},
   "outputs": [],
   "source": [
    "aa = ['Own_House_Age', 'Client_Occupation', 'Type_Organization', 'Score_Source_1', 'Score_Source_3', 'Social_Circle_Default', 'Credit_Bureau']"
   ]
  },
  {
   "cell_type": "markdown",
   "id": "fc57a0ea",
   "metadata": {},
   "source": [
    "## 결측치가 만건 이상인 컬럼명\n",
    "- Own_House_Age,고객 소유 주택의 나이(년) : drop\n",
    "- Client_Occupation,고객 직업 유형 : Nojob :: DROP\n",
    "- Type_Organization,클라이언트가 근무하는 조직 유형 : drop\n",
    "- Score_Source_1,다른 출처에서 얻은 점수. 정규화된 점수입니다. : drop\n",
    "- Score_Source_3,다른 소스에서 가져온 점수입니다. 정규화된 점수입니다. : drop\n",
    "- Social_Circle_Default,지난 60일 동안 대출 상환을 불이행한 고객의 친구/가족 수 : drop\n",
    "- Credit_Bureau, 1년 내 90일 이상 장기연체 등 신용위험이 발생할 가능성을 수치화하여 제공하는 지표 : 평균"
   ]
  },
  {
   "cell_type": "markdown",
   "id": "e22e618f",
   "metadata": {},
   "source": [
    "- ID,고객 대출 신청 ID\n",
    "- Client_Income,고객 소득() : DROP\n",
    "- Car_Owned,다른 차량에 대한 대출을 신청하기 전에 고객이 소유한 모든 차량(0은 아니요, 1은 그렇지 않음을 의미)\n",
    "- Bike_Owned,고객이 소유한 모든 자전거(0은 아니요, 1은 그렇지 않음을 의미)\n",
    "- Active_Loan,대출 신청 당시 진행 중인 다른 대출이 있는지 여부(0은 아니요, 1은 그렇지 않음을 의미)\n",
    "- House_Own,고객이 소유한 주택 수(0은 아니요, 1은 그 외의 주택)\n",
    "- Child_Count,고객이 보유한 자녀 수\n",
    "- Credit_Amount,대출의 신용 금액()\n",
    "- Loan_Annuity,대출 연금()\n",
    "- Accompany_Client,고객이 대출을 신청할 때 고객과 동행한 사람\n",
    "- Client_Income_Type,고객 소득 유형\n",
    "- Client_Education,고객이 달성한 최고 교육 수준\n",
    "- Client_Marital_Status,\"고객의 결혼 상태(D- 이혼, S- 미혼, M- 기혼, W- 사별)\"\n",
    "- Client_Gender,고객의 성별\n",
    "- Loan_Contract_Type,\"대출 유형(CL- 현금대출, RL- 리볼빙대출)\"\n",
    "- Client_Housing_Type,고객 주택 상황\n",
    "- Population_Region_Relative,고객이 거주하고 있는 지역의 상대적 인구수. 값이 높을수록 고객이 인구가 많은 지역에 거주하고 있음을 의미합니다.\n",
    "- Age_Days,신청서 제출 시점의 고객 나이\n",
    "- Employed_Days,\"신청 전, 고객이 수입을 시작한 일수\"\n",
    "- Registration_Days,\"대출 신청일 전, 고객이 등록을 변경한 일수\"\n",
    "- ID_Days,\"대출 신청 며칠 전, 고객이 대출을 신청한 신분증을 변경했습니다.\"\n",
    "- Own_House_Age,고객 소유 주택의 나이(년)\n",
    "- Mobile_Tag,고객이 제공한 휴대폰 번호(1은 예, 0은 아니오를 의미) : drop\n",
    "- Homephone_Tag,고객이 제공한 집전화 번호(1은 예, 0은 아니오를 의미)\n",
    "- Workphone_Working,직장 전화 번호로 연락 가능했는지(1은 예, 0은 아니오)\n",
    "- Client_Occupation,고객 직업 유형\n",
    "- Client_Family_Members,고객이 보유한 가족 구성원 수\n",
    "- Cleint_City_Rating,고객 도시 등급. 3은 최고, 2는 좋음, 1은 평균을 나타냅니다.\n",
    "- Application_Process_Day,고객이 대출을 신청한 요일(0-일,1-월,2-화,3-수,4-목,5-금,6-토)\"\n",
    "- Application_Process_Hour,고객이 대출을 신청한 요일 시간 : DROP\n",
    "- Client_Permanent_Match_Tag,고객 연락처 주소가 영구 주소와 일치하지 않는 경우 표시.\n",
    "- Client_Contact_Work_Tag,고객 직장 주소가 연락처 주소와 일치하지 않는 경우 표시.\n",
    "- Type_Organization,클라이언트가 근무하는 조직 유형\n",
    "- Score_Source_1,다른 출처에서 얻은 점수. 정규화된 점수입니다.\n",
    "- Score_Source_2,다른 출처에서 얻은 점수입니다. 정규화된 점수입니다.\n",
    "- Score_Source_3,다른 소스에서 가져온 점수입니다. 정규화된 점수입니다.\n",
    "- Social_Circle_Default,지난 60일 동안 대출 상환을 불이행한 고객의 친구/가족 수\n",
    "- Phone_Change,\"대출 신청 며칠 전에 고객이 휴대폰을 변경했는지\"\n",
    "- Credit_Bureau,작년 총 조회 건수\n",
    "- Default,1은 고객이 대출 상환을 불이행했음을 의미하고 0은 그렇지 않음을 의미합니다."
   ]
  },
  {
   "cell_type": "code",
   "execution_count": null,
   "id": "cfd6dca7",
   "metadata": {},
   "outputs": [],
   "source": [
    "# pay_df.Client_Gender = count_encoder.fit_transform(pay_df.Client_Gender)\n",
    "\n",
    "pay_df.Client_Gender = label_encoder.fit_transform(pay_df.Client_Gender)"
   ]
  },
  {
   "cell_type": "code",
   "execution_count": null,
   "id": "0fe4b1ba",
   "metadata": {},
   "outputs": [],
   "source": [
    "pay_df.Client_Gender"
   ]
  },
  {
   "cell_type": "code",
   "execution_count": null,
   "id": "1ebd28bd",
   "metadata": {},
   "outputs": [],
   "source": [
    "pay_df.Accompany_Client.value_counts()\n",
    "# pay_df.Accompany_Client.isna().sum()"
   ]
  },
  {
   "cell_type": "code",
   "execution_count": null,
   "id": "6cfadbda",
   "metadata": {},
   "outputs": [],
   "source": [
    "pay_df.Client_Gender.value_counts()"
   ]
  },
  {
   "cell_type": "code",
   "execution_count": null,
   "id": "ed1bbfad",
   "metadata": {},
   "outputs": [],
   "source": [
    "pay_df.Client_Gender = pay_df.Client_Gender.apply(lambda x : 0 if x == 2 else x)"
   ]
  },
  {
   "cell_type": "code",
   "execution_count": null,
   "id": "19aefcfb",
   "metadata": {
    "scrolled": true
   },
   "outputs": [],
   "source": [
    "pay_df.pivot_table(index=y_target, columns=['Client_Gender'], aggfunc=['mean', 'sum'])"
   ]
  },
  {
   "cell_type": "code",
   "execution_count": null,
   "id": "1e9a19c6",
   "metadata": {},
   "outputs": [],
   "source": [
    "train_data, test_data, train_label, test_label = model_selection.train_test_split(df, target,\n",
    "                                                                                 test_size=0.3,\n",
    "                                                                                 random_state=42)"
   ]
  },
  {
   "cell_type": "code",
   "execution_count": null,
   "id": "53a6a16f",
   "metadata": {},
   "outputs": [],
   "source": [
    "# OverSampling"
   ]
  },
  {
   "cell_type": "code",
   "execution_count": null,
   "id": "cc2fb893",
   "metadata": {},
   "outputs": [],
   "source": [
    "numerical_columns"
   ]
  },
  {
   "cell_type": "code",
   "execution_count": null,
   "id": "3e8e0aff",
   "metadata": {},
   "outputs": [],
   "source": [
    "category_columns.extend(category_columns_object)\n",
    "category_columns"
   ]
  },
  {
   "cell_type": "code",
   "execution_count": null,
   "id": "129b12d6",
   "metadata": {},
   "outputs": [],
   "source": [
    "numeric_transformer = StandardScaler() # cf) RobustScaler\n",
    "categorical_transformer = OneHotEncoder(categories='auto', handle_unknown='ignore') \n",
    "\n",
    "preprocessor = ColumnTransformer(\n",
    "    transformers=[ # List of (name, transformer, column(s))\n",
    "        ('num', numeric_transformer, numerical_columns),\n",
    "        ('cat', categorical_transformer, category_columns)])"
   ]
  },
  {
   "cell_type": "code",
   "execution_count": null,
   "id": "018a5e9a",
   "metadata": {},
   "outputs": [],
   "source": [
    "preprocessor_pipe = Pipeline(steps=[('preprocessor', preprocessor)]) # preprocessing-only"
   ]
  },
  {
   "cell_type": "code",
   "execution_count": null,
   "id": "ca929f6f",
   "metadata": {},
   "outputs": [],
   "source": [
    "preprocessor_pipe.fit(train_data)"
   ]
  },
  {
   "cell_type": "code",
   "execution_count": null,
   "id": "500f935a",
   "metadata": {},
   "outputs": [],
   "source": [
    "x_train_transformed = preprocessor_pipe.transform(train_data)\n",
    "x_test_transformed = preprocessor_pipe.transform(test_data)"
   ]
  },
  {
   "cell_type": "code",
   "execution_count": null,
   "id": "b0a7e115",
   "metadata": {},
   "outputs": [],
   "source": []
  },
  {
   "cell_type": "code",
   "execution_count": null,
   "id": "7c59996c",
   "metadata": {},
   "outputs": [],
   "source": [
    "estimators = [ \n",
    "    ('ExtraTrees', ensemble.ExtraTreesClassifier(random_state = 0, n_jobs = -1, n_estimators = 100, max_depth = 3)),\n",
    "    ('RandomForest', ensemble.RandomForestClassifier(random_state = 0, n_jobs = -1, n_estimators = 100, max_depth = 3)),\n",
    "    ('DecisionTree', DecisionTreeClassifier()),\n",
    "]"
   ]
  },
  {
   "cell_type": "code",
   "execution_count": null,
   "id": "da5cd0c9",
   "metadata": {},
   "outputs": [],
   "source": [
    "stack = StackingTransformer(estimators, \n",
    "                            regression = False, \n",
    "                            metric = accuracy_score,\n",
    "                            n_folds = 2, stratified = True, shuffle = True, \n",
    "                            random_state = 42, verbose = 2) "
   ]
  },
  {
   "cell_type": "code",
   "execution_count": null,
   "id": "9225bea7",
   "metadata": {},
   "outputs": [],
   "source": []
  },
  {
   "cell_type": "code",
   "execution_count": null,
   "id": "c32205fc",
   "metadata": {
    "scrolled": true
   },
   "outputs": [],
   "source": [
    "# fit을 통해 분류함\n",
    "stack = stack.fit(x_train_transformed, train_label)"
   ]
  },
  {
   "cell_type": "code",
   "execution_count": null,
   "id": "df0b0946",
   "metadata": {},
   "outputs": [],
   "source": [
    "# transform을 통해 학습시킴\n",
    "S_train = stack.transform(x_train_transformed)\n",
    "# transform을 통해 학습시킴\n",
    "S_test = stack.transform(x_test_transformed)"
   ]
  },
  {
   "cell_type": "code",
   "execution_count": null,
   "id": "4384ccb0",
   "metadata": {},
   "outputs": [],
   "source": [
    "# XGBClassification의 hyper-parameter\n",
    "params = {\n",
    "    'learning_rate' : [1, 0.1, 0.01, 0.001],\n",
    "    'n_estimators' : [100, 1000],\n",
    "    'max_depth' : [3, 4, 5],\n",
    "    'eval_metric' : ['mlogloss'],\n",
    "    'n_jobs' : [-1],\n",
    "    'seed' : [0],\n",
    "}"
   ]
  },
  {
   "cell_type": "code",
   "execution_count": null,
   "id": "892713e1",
   "metadata": {},
   "outputs": [],
   "source": [
    "# GridSearch를 통해 HPO 찾기\n",
    "grid = GridSearchCV(\n",
    "    XGBClassifier(),\n",
    "    params,\n",
    "    refit=True, verbose=1\n",
    ")\n",
    "y_pred = grid.fit(S_train, train_label)\n",
    "y_pred.best_params_"
   ]
  },
  {
   "cell_type": "code",
   "execution_count": null,
   "id": "7ddd580a",
   "metadata": {},
   "outputs": [],
   "source": [
    "# HPO 적용\n",
    "model = XGBClassifier(**y_pred.best_params_) \n",
    "# 투표를 통해 얻은 S_train과 y_train을 다시 학습시킴\n",
    "model = model.fit(S_train, y_train)"
   ]
  },
  {
   "cell_type": "code",
   "execution_count": null,
   "id": "cf71cd77",
   "metadata": {},
   "outputs": [],
   "source": [
    "fpr, tpr, _ = roc_curve(y_true=y_test, y_score=model.predict_proba(S_test)[:,1])\n",
    "roc_auc = auc(fpr, tpr) # AUC 면적의 값 (수치)\n",
    "plt.figure(figsize=(9, 9))\n",
    "plt.plot(fpr, tpr, color='darkorange', lw=2, label='ROC curve (area = %0.2f)' % roc_auc)\n",
    "plt.plot([0, 1], [0, 1], color='navy', lw=2, linestyle='--')\n",
    "plt.xlim([0.0, 1.0])\n",
    "plt.ylim([0.0, 1.05])\n",
    "plt.xlabel('False Positive Rate')\n",
    "plt.ylabel('True Positive Rate')\n",
    "plt.legend(loc=\"lower right\")\n",
    "plt.title(\"ROC curve\")\n",
    "plt.show()"
   ]
  },
  {
   "cell_type": "code",
   "execution_count": null,
   "id": "9c84ef50",
   "metadata": {},
   "outputs": [],
   "source": [
    "predictions = model.predict(S_test)\n",
    "print(classification_report(y_test, predictions))"
   ]
  },
  {
   "cell_type": "code",
   "execution_count": null,
   "id": "8c8becad",
   "metadata": {},
   "outputs": [],
   "source": [
    "from sklearn.svm import SVC\n",
    "svc = SVC()"
   ]
  },
  {
   "cell_type": "code",
   "execution_count": null,
   "id": "8b67b6d3",
   "metadata": {},
   "outputs": [],
   "source": [
    "params = {\n",
    "    'C' : [1, 10, 100, 1000],\n",
    "    'kernel' : ['rbf'],\n",
    "    'gamma' : [0.1, 0.01, 0.001],\n",
    "    'max_iter' : [3, 4, 5],\n",
    "}\n",
    "\n",
    "\n",
    "# GridSearch를 통해 HPO 찾기\n",
    "grid = GridSearchCV(\n",
    "    svc,\n",
    "    params,\n",
    "    refit=True, verbose=1\n",
    ")\n",
    "y_pred = grid.fit(x, y_train)\n",
    "y_pred.best_params_"
   ]
  },
  {
   "cell_type": "code",
   "execution_count": null,
   "id": "d658c681",
   "metadata": {},
   "outputs": [],
   "source": [
    "scv = SVC(**y_pred.best_params_)"
   ]
  },
  {
   "cell_type": "code",
   "execution_count": null,
   "id": "116998fb",
   "metadata": {},
   "outputs": [],
   "source": [
    "scv.fit(S_train, y_train)"
   ]
  },
  {
   "cell_type": "code",
   "execution_count": null,
   "id": "0b9ea367",
   "metadata": {},
   "outputs": [],
   "source": [
    "pridict_y = scv.predict(x_test)"
   ]
  },
  {
   "cell_type": "code",
   "execution_count": null,
   "id": "5aa2bfcd",
   "metadata": {},
   "outputs": [],
   "source": [
    "print(classification_report(y_test, pridict_y))"
   ]
  },
  {
   "cell_type": "code",
   "execution_count": null,
   "id": "6d2a7c20",
   "metadata": {},
   "outputs": [],
   "source": [
    "fpr, tpr, _ = roc_curve(y_true=y_test, y_score=scv.predict_proba(S_test)[:,1])\n",
    "roc_auc = auc(fpr, tpr) # AUC 면적의 값 (수치)\n",
    "plt.figure(figsize=(9, 9))\n",
    "plt.plot(fpr, tpr, color='darkorange', lw=2, label='ROC curve (area = %0.2f)' % roc_auc)\n",
    "plt.plot([0, 1], [0, 1], color='navy', lw=2, linestyle='--')\n",
    "plt.xlim([0.0, 1.0])\n",
    "plt.ylim([0.0, 1.05])\n",
    "plt.xlabel('False Positive Rate')\n",
    "plt.ylabel('True Positive Rate')\n",
    "plt.legend(loc=\"lower right\")\n",
    "plt.title(\"ROC curve\")\n",
    "plt.show()"
   ]
  }
 ],
 "metadata": {
  "kernelspec": {
   "display_name": "Python 3 (ipykernel)",
   "language": "python",
   "name": "python3"
  },
  "language_info": {
   "codemirror_mode": {
    "name": "ipython",
    "version": 3
   },
   "file_extension": ".py",
   "mimetype": "text/x-python",
   "name": "python",
   "nbconvert_exporter": "python",
   "pygments_lexer": "ipython3",
   "version": "3.8.8"
  }
 },
 "nbformat": 4,
 "nbformat_minor": 5
}
