{
 "cells": [
  {
   "cell_type": "code",
   "execution_count": 4,
   "id": "5faa1e50",
   "metadata": {},
   "outputs": [],
   "source": [
    "import warnings\n",
    "warnings.filterwarnings(\"ignore\")\n",
    "\n",
    "import pandas as pd\n",
    "import numpy as np\n",
    "import matplotlib.pyplot as plt\n",
    "import seaborn as sns\n",
    "from sklearn.preprocessing import LabelEncoder, OneHotEncoder, StandardScaler, MinMaxScaler\n",
    "from sklearn.compose import ColumnTransformer\n",
    "from sklearn.pipeline import Pipeline\n",
    "from sklearn.metrics import accuracy_score, f1_score, roc_auc_score, roc_curve, auc, mean_squared_error, classification_report\n",
    "from sklearn import  model_selection\n",
    "from sklearn import ensemble\n",
    "from sklearn import svm\n",
    "from sklearn.model_selection import GridSearchCV\n",
    "from vecstack import stacking, StackingTransformer\n",
    "from xgboost import XGBClassifier\n",
    "from IPython.display import Image\n",
    "from sklearn.tree import DecisionTreeClassifier\n",
    "from sklearn.linear_model import LogisticRegression\n",
    "from Preprocessing import Preprocessing\n",
    "from sklearn.model_selection import train_test_split"
   ]
  },
  {
   "cell_type": "code",
   "execution_count": 5,
   "id": "373cdbb6",
   "metadata": {},
   "outputs": [],
   "source": [
    "preprocessing_db = Preprocessing()\n",
    "# 결측치 제거\n",
    "preprocessing_db.drop_columns()\n",
    "# 연속형 데이터 대체\n",
    "preprocessing_db.numerical_columns_replace()\n",
    "# 범주형 데이터 대체ㅐ\n",
    "preprocessing_db.category_columns_replace()"
   ]
  },
  {
   "cell_type": "code",
   "execution_count": 59,
   "id": "7abc514b",
   "metadata": {},
   "outputs": [],
   "source": [
    "df = pd.read_csv('./nbfi_vehicle_loan_repayment_dataset/Train_Dataset.csv')"
   ]
  },
  {
   "cell_type": "code",
   "execution_count": 64,
   "id": "361793bd",
   "metadata": {},
   "outputs": [
    {
     "data": {
      "text/html": [
       "<div>\n",
       "<style scoped>\n",
       "    .dataframe tbody tr th:only-of-type {\n",
       "        vertical-align: middle;\n",
       "    }\n",
       "\n",
       "    .dataframe tbody tr th {\n",
       "        vertical-align: top;\n",
       "    }\n",
       "\n",
       "    .dataframe thead th {\n",
       "        text-align: right;\n",
       "    }\n",
       "</style>\n",
       "<table border=\"1\" class=\"dataframe\">\n",
       "  <thead>\n",
       "    <tr style=\"text-align: right;\">\n",
       "      <th></th>\n",
       "      <th>ID</th>\n",
       "      <th>Client_Income</th>\n",
       "      <th>Car_Owned</th>\n",
       "      <th>Bike_Owned</th>\n",
       "      <th>Active_Loan</th>\n",
       "      <th>House_Own</th>\n",
       "      <th>Child_Count</th>\n",
       "      <th>Credit_Amount</th>\n",
       "      <th>Loan_Annuity</th>\n",
       "      <th>Client_Income_Type</th>\n",
       "      <th>...</th>\n",
       "      <th>Client_Permanent_Match_Tag</th>\n",
       "      <th>Client_Contact_Work_Tag</th>\n",
       "      <th>Type_Organization</th>\n",
       "      <th>Score_Source_1</th>\n",
       "      <th>Score_Source_2</th>\n",
       "      <th>Score_Source_3</th>\n",
       "      <th>Social_Circle_Default</th>\n",
       "      <th>Phone_Change</th>\n",
       "      <th>Credit_Bureau</th>\n",
       "      <th>Default</th>\n",
       "    </tr>\n",
       "  </thead>\n",
       "  <tbody>\n",
       "    <tr>\n",
       "      <th>0</th>\n",
       "      <td>12142509</td>\n",
       "      <td>6750</td>\n",
       "      <td>0.0</td>\n",
       "      <td>0.0</td>\n",
       "      <td>1.0</td>\n",
       "      <td>0.0</td>\n",
       "      <td>0.0</td>\n",
       "      <td>61190.55</td>\n",
       "      <td>3416.85</td>\n",
       "      <td>Commercial</td>\n",
       "      <td>...</td>\n",
       "      <td>Yes</td>\n",
       "      <td>Yes</td>\n",
       "      <td>Self-employed</td>\n",
       "      <td>0.568066</td>\n",
       "      <td>0.478787</td>\n",
       "      <td>NaN</td>\n",
       "      <td>0.0186</td>\n",
       "      <td>63.0</td>\n",
       "      <td>NaN</td>\n",
       "      <td>0</td>\n",
       "    </tr>\n",
       "    <tr>\n",
       "      <th>1</th>\n",
       "      <td>12138936</td>\n",
       "      <td>20250</td>\n",
       "      <td>1.0</td>\n",
       "      <td>0.0</td>\n",
       "      <td>1.0</td>\n",
       "      <td>NaN</td>\n",
       "      <td>0.0</td>\n",
       "      <td>15282</td>\n",
       "      <td>1826.55</td>\n",
       "      <td>Service</td>\n",
       "      <td>...</td>\n",
       "      <td>Yes</td>\n",
       "      <td>Yes</td>\n",
       "      <td>Government</td>\n",
       "      <td>0.563360</td>\n",
       "      <td>0.215068</td>\n",
       "      <td>NaN</td>\n",
       "      <td>NaN</td>\n",
       "      <td>NaN</td>\n",
       "      <td>NaN</td>\n",
       "      <td>0</td>\n",
       "    </tr>\n",
       "    <tr>\n",
       "      <th>2</th>\n",
       "      <td>12181264</td>\n",
       "      <td>18000</td>\n",
       "      <td>0.0</td>\n",
       "      <td>0.0</td>\n",
       "      <td>1.0</td>\n",
       "      <td>0.0</td>\n",
       "      <td>1.0</td>\n",
       "      <td>59527.35</td>\n",
       "      <td>2788.2</td>\n",
       "      <td>Service</td>\n",
       "      <td>...</td>\n",
       "      <td>Yes</td>\n",
       "      <td>Yes</td>\n",
       "      <td>Self-employed</td>\n",
       "      <td>NaN</td>\n",
       "      <td>0.552795</td>\n",
       "      <td>0.329655</td>\n",
       "      <td>0.0742</td>\n",
       "      <td>277.0</td>\n",
       "      <td>0.0</td>\n",
       "      <td>0</td>\n",
       "    </tr>\n",
       "    <tr>\n",
       "      <th>3</th>\n",
       "      <td>12188929</td>\n",
       "      <td>15750</td>\n",
       "      <td>0.0</td>\n",
       "      <td>0.0</td>\n",
       "      <td>1.0</td>\n",
       "      <td>1.0</td>\n",
       "      <td>0.0</td>\n",
       "      <td>53870.4</td>\n",
       "      <td>2295.45</td>\n",
       "      <td>Retired</td>\n",
       "      <td>...</td>\n",
       "      <td>Yes</td>\n",
       "      <td>Yes</td>\n",
       "      <td>XNA</td>\n",
       "      <td>NaN</td>\n",
       "      <td>0.135182</td>\n",
       "      <td>0.631355</td>\n",
       "      <td>NaN</td>\n",
       "      <td>1700.0</td>\n",
       "      <td>3.0</td>\n",
       "      <td>0</td>\n",
       "    </tr>\n",
       "    <tr>\n",
       "      <th>4</th>\n",
       "      <td>12133385</td>\n",
       "      <td>33750</td>\n",
       "      <td>1.0</td>\n",
       "      <td>0.0</td>\n",
       "      <td>1.0</td>\n",
       "      <td>0.0</td>\n",
       "      <td>2.0</td>\n",
       "      <td>133988.4</td>\n",
       "      <td>3547.35</td>\n",
       "      <td>Commercial</td>\n",
       "      <td>...</td>\n",
       "      <td>Yes</td>\n",
       "      <td>Yes</td>\n",
       "      <td>Business Entity Type 3</td>\n",
       "      <td>0.508199</td>\n",
       "      <td>0.301182</td>\n",
       "      <td>0.355639</td>\n",
       "      <td>0.2021</td>\n",
       "      <td>674.0</td>\n",
       "      <td>1.0</td>\n",
       "      <td>0</td>\n",
       "    </tr>\n",
       "    <tr>\n",
       "      <th>...</th>\n",
       "      <td>...</td>\n",
       "      <td>...</td>\n",
       "      <td>...</td>\n",
       "      <td>...</td>\n",
       "      <td>...</td>\n",
       "      <td>...</td>\n",
       "      <td>...</td>\n",
       "      <td>...</td>\n",
       "      <td>...</td>\n",
       "      <td>...</td>\n",
       "      <td>...</td>\n",
       "      <td>...</td>\n",
       "      <td>...</td>\n",
       "      <td>...</td>\n",
       "      <td>...</td>\n",
       "      <td>...</td>\n",
       "      <td>...</td>\n",
       "      <td>...</td>\n",
       "      <td>...</td>\n",
       "      <td>...</td>\n",
       "      <td>...</td>\n",
       "    </tr>\n",
       "    <tr>\n",
       "      <th>121851</th>\n",
       "      <td>12207714</td>\n",
       "      <td>29250</td>\n",
       "      <td>0.0</td>\n",
       "      <td>0.0</td>\n",
       "      <td>NaN</td>\n",
       "      <td>1.0</td>\n",
       "      <td>0.0</td>\n",
       "      <td>107820</td>\n",
       "      <td>3165.3</td>\n",
       "      <td>Service</td>\n",
       "      <td>...</td>\n",
       "      <td>Yes</td>\n",
       "      <td>No</td>\n",
       "      <td>Business Entity Type 2</td>\n",
       "      <td>NaN</td>\n",
       "      <td>0.173527</td>\n",
       "      <td>0.184116</td>\n",
       "      <td>0.0577</td>\n",
       "      <td>0.0</td>\n",
       "      <td>1.0</td>\n",
       "      <td>1</td>\n",
       "    </tr>\n",
       "    <tr>\n",
       "      <th>121852</th>\n",
       "      <td>12173765</td>\n",
       "      <td>15750</td>\n",
       "      <td>0.0</td>\n",
       "      <td>1.0</td>\n",
       "      <td>1.0</td>\n",
       "      <td>0.0</td>\n",
       "      <td>0.0</td>\n",
       "      <td>104256</td>\n",
       "      <td>3388.05</td>\n",
       "      <td>Commercial</td>\n",
       "      <td>...</td>\n",
       "      <td>Yes</td>\n",
       "      <td>Yes</td>\n",
       "      <td>Self-employed</td>\n",
       "      <td>NaN</td>\n",
       "      <td>0.371559</td>\n",
       "      <td>0.406617</td>\n",
       "      <td>0.0825</td>\n",
       "      <td>4.0</td>\n",
       "      <td>0.0</td>\n",
       "      <td>0</td>\n",
       "    </tr>\n",
       "    <tr>\n",
       "      <th>121853</th>\n",
       "      <td>12103937</td>\n",
       "      <td>8100</td>\n",
       "      <td>0.0</td>\n",
       "      <td>1.0</td>\n",
       "      <td>0.0</td>\n",
       "      <td>1.0</td>\n",
       "      <td>1.0</td>\n",
       "      <td>55107.9</td>\n",
       "      <td>2989.35</td>\n",
       "      <td>Govt Job</td>\n",
       "      <td>...</td>\n",
       "      <td>No</td>\n",
       "      <td>No</td>\n",
       "      <td>Trade: type 6</td>\n",
       "      <td>0.169049</td>\n",
       "      <td>0.048079</td>\n",
       "      <td>NaN</td>\n",
       "      <td>NaN</td>\n",
       "      <td>0.0</td>\n",
       "      <td>NaN</td>\n",
       "      <td>0</td>\n",
       "    </tr>\n",
       "    <tr>\n",
       "      <th>121854</th>\n",
       "      <td>12170623</td>\n",
       "      <td>38250</td>\n",
       "      <td>1.0</td>\n",
       "      <td>1.0</td>\n",
       "      <td>0.0</td>\n",
       "      <td>1.0</td>\n",
       "      <td>0.0</td>\n",
       "      <td>45000</td>\n",
       "      <td>2719.35</td>\n",
       "      <td>Service</td>\n",
       "      <td>...</td>\n",
       "      <td>Yes</td>\n",
       "      <td>Yes</td>\n",
       "      <td>Business Entity Type 3</td>\n",
       "      <td>0.182737</td>\n",
       "      <td>0.103538</td>\n",
       "      <td>0.077499</td>\n",
       "      <td>0.0979</td>\n",
       "      <td>0.0</td>\n",
       "      <td>2.0</td>\n",
       "      <td>0</td>\n",
       "    </tr>\n",
       "    <tr>\n",
       "      <th>121855</th>\n",
       "      <td>12105610</td>\n",
       "      <td>9000</td>\n",
       "      <td>1.0</td>\n",
       "      <td>1.0</td>\n",
       "      <td>1.0</td>\n",
       "      <td>1.0</td>\n",
       "      <td>1.0</td>\n",
       "      <td>62428.95</td>\n",
       "      <td>4201.65</td>\n",
       "      <td>Commercial</td>\n",
       "      <td>...</td>\n",
       "      <td>Yes</td>\n",
       "      <td>Yes</td>\n",
       "      <td>Business Entity Type 3</td>\n",
       "      <td>NaN</td>\n",
       "      <td>0.556414</td>\n",
       "      <td>0.298595</td>\n",
       "      <td>0.1031</td>\n",
       "      <td>805.0</td>\n",
       "      <td>0.0</td>\n",
       "      <td>0</td>\n",
       "    </tr>\n",
       "  </tbody>\n",
       "</table>\n",
       "<p>121856 rows × 38 columns</p>\n",
       "</div>"
      ],
      "text/plain": [
       "              ID Client_Income  Car_Owned  Bike_Owned  Active_Loan  House_Own  \\\n",
       "0       12142509          6750        0.0         0.0          1.0        0.0   \n",
       "1       12138936         20250        1.0         0.0          1.0        NaN   \n",
       "2       12181264         18000        0.0         0.0          1.0        0.0   \n",
       "3       12188929         15750        0.0         0.0          1.0        1.0   \n",
       "4       12133385         33750        1.0         0.0          1.0        0.0   \n",
       "...          ...           ...        ...         ...          ...        ...   \n",
       "121851  12207714         29250        0.0         0.0          NaN        1.0   \n",
       "121852  12173765         15750        0.0         1.0          1.0        0.0   \n",
       "121853  12103937          8100        0.0         1.0          0.0        1.0   \n",
       "121854  12170623         38250        1.0         1.0          0.0        1.0   \n",
       "121855  12105610          9000        1.0         1.0          1.0        1.0   \n",
       "\n",
       "        Child_Count Credit_Amount Loan_Annuity Client_Income_Type  ...  \\\n",
       "0               0.0      61190.55      3416.85         Commercial  ...   \n",
       "1               0.0         15282      1826.55            Service  ...   \n",
       "2               1.0      59527.35       2788.2            Service  ...   \n",
       "3               0.0       53870.4      2295.45            Retired  ...   \n",
       "4               2.0      133988.4      3547.35         Commercial  ...   \n",
       "...             ...           ...          ...                ...  ...   \n",
       "121851          0.0        107820       3165.3            Service  ...   \n",
       "121852          0.0        104256      3388.05         Commercial  ...   \n",
       "121853          1.0       55107.9      2989.35           Govt Job  ...   \n",
       "121854          0.0         45000      2719.35            Service  ...   \n",
       "121855          1.0      62428.95      4201.65         Commercial  ...   \n",
       "\n",
       "       Client_Permanent_Match_Tag Client_Contact_Work_Tag  \\\n",
       "0                             Yes                     Yes   \n",
       "1                             Yes                     Yes   \n",
       "2                             Yes                     Yes   \n",
       "3                             Yes                     Yes   \n",
       "4                             Yes                     Yes   \n",
       "...                           ...                     ...   \n",
       "121851                        Yes                      No   \n",
       "121852                        Yes                     Yes   \n",
       "121853                         No                      No   \n",
       "121854                        Yes                     Yes   \n",
       "121855                        Yes                     Yes   \n",
       "\n",
       "             Type_Organization Score_Source_1 Score_Source_2 Score_Source_3  \\\n",
       "0                Self-employed       0.568066       0.478787            NaN   \n",
       "1                   Government       0.563360       0.215068            NaN   \n",
       "2                Self-employed            NaN       0.552795       0.329655   \n",
       "3                          XNA            NaN       0.135182       0.631355   \n",
       "4       Business Entity Type 3       0.508199       0.301182       0.355639   \n",
       "...                        ...            ...            ...            ...   \n",
       "121851  Business Entity Type 2            NaN       0.173527       0.184116   \n",
       "121852           Self-employed            NaN       0.371559       0.406617   \n",
       "121853           Trade: type 6       0.169049       0.048079            NaN   \n",
       "121854  Business Entity Type 3       0.182737       0.103538       0.077499   \n",
       "121855  Business Entity Type 3            NaN       0.556414       0.298595   \n",
       "\n",
       "       Social_Circle_Default Phone_Change Credit_Bureau Default  \n",
       "0                     0.0186         63.0           NaN       0  \n",
       "1                        NaN          NaN           NaN       0  \n",
       "2                     0.0742        277.0           0.0       0  \n",
       "3                        NaN       1700.0           3.0       0  \n",
       "4                     0.2021        674.0           1.0       0  \n",
       "...                      ...          ...           ...     ...  \n",
       "121851                0.0577          0.0           1.0       1  \n",
       "121852                0.0825          4.0           0.0       0  \n",
       "121853                   NaN          0.0           NaN       0  \n",
       "121854                0.0979          0.0           2.0       0  \n",
       "121855                0.1031        805.0           0.0       0  \n",
       "\n",
       "[121856 rows x 38 columns]"
      ]
     },
     "execution_count": 64,
     "metadata": {},
     "output_type": "execute_result"
    }
   ],
   "source": [
    "df.drop(columns=['Application_Process_Hour', 'Accompany_Client'], axis=1)"
   ]
  },
  {
   "cell_type": "code",
   "execution_count": null,
   "id": "f617d39c",
   "metadata": {},
   "outputs": [],
   "source": []
  },
  {
   "cell_type": "code",
   "execution_count": 6,
   "id": "96f93ca2",
   "metadata": {},
   "outputs": [],
   "source": [
    "df = preprocessing_db.get_df()"
   ]
  },
  {
   "cell_type": "code",
   "execution_count": 7,
   "id": "8dcfefb8",
   "metadata": {},
   "outputs": [],
   "source": [
    "target_df = preprocessing_db.get_target_df()"
   ]
  },
  {
   "cell_type": "code",
   "execution_count": 8,
   "id": "773c83b2",
   "metadata": {},
   "outputs": [],
   "source": [
    "x_test = pd.read_csv('./nbfi_vehicle_loan_repayment_dataset/x_test.csv')\n",
    "x_train = pd.read_csv('./nbfi_vehicle_loan_repayment_dataset/x_train_over.csv')\n",
    "y_train = pd.read_csv('./nbfi_vehicle_loan_repayment_dataset/y_train_over.csv')\n",
    "y_test = pd.read_csv('./nbfi_vehicle_loan_repayment_dataset/y_test.csv')"
   ]
  },
  {
   "cell_type": "code",
   "execution_count": 46,
   "id": "b6dcd2cb",
   "metadata": {},
   "outputs": [
    {
     "data": {
      "text/plain": [
       "(193373, 140)"
      ]
     },
     "execution_count": 46,
     "metadata": {},
     "output_type": "execute_result"
    }
   ],
   "source": [
    "df.shape"
   ]
  },
  {
   "cell_type": "code",
   "execution_count": 47,
   "id": "0be23f2d",
   "metadata": {},
   "outputs": [],
   "source": [
    "df = pd.concat([x_test, x_train])\n",
    "y_df = pd.concat([y_train, y_test])\n",
    "df.to_csv('./data.csv', index=False)\n",
    "y_df.to_csv('./y_data.csv', index=False)"
   ]
  },
  {
   "cell_type": "code",
   "execution_count": null,
   "id": "eb9400d0",
   "metadata": {},
   "outputs": [],
   "source": [
    "pd.set_option('display.max_rows', None)"
   ]
  },
  {
   "cell_type": "code",
   "execution_count": 62,
   "id": "8e030537",
   "metadata": {},
   "outputs": [],
   "source": [
    "# pd.get_dummies(df, columns=['Accompany_Client', 'Application_Process_Hour'], ax=1)"
   ]
  },
  {
   "cell_type": "code",
   "execution_count": null,
   "id": "e2442330",
   "metadata": {},
   "outputs": [],
   "source": [
    "df.Cleint_City_Rating.value_counts()"
   ]
  },
  {
   "cell_type": "code",
   "execution_count": null,
   "id": "72f6ff40",
   "metadata": {},
   "outputs": [],
   "source": [
    "df_null_sum = df.isna().sum()\n",
    "column = df_null_sum[df_null_sum>0].index\n",
    "test = pd.get_dummies(df, columns=column)"
   ]
  },
  {
   "cell_type": "code",
   "execution_count": null,
   "id": "81423fb9",
   "metadata": {},
   "outputs": [],
   "source": [
    "pd.set_option('display.max_rows', None)"
   ]
  },
  {
   "cell_type": "code",
   "execution_count": null,
   "id": "1a44e897",
   "metadata": {},
   "outputs": [],
   "source": [
    "test.isna().sum()"
   ]
  },
  {
   "cell_type": "code",
   "execution_count": null,
   "id": "20052e71",
   "metadata": {
    "scrolled": false
   },
   "outputs": [],
   "source": [
    "df.isna().sum()"
   ]
  },
  {
   "cell_type": "code",
   "execution_count": null,
   "id": "3c7e2e39",
   "metadata": {},
   "outputs": [],
   "source": [
    "df = pd.read_csv('./nbfi_vehicle_loan_repayment_dataset/Train_Dataset.csv', na_values=['$', '#VALUE!', '##', 'XNA', '@', '#', 'x', '&'], encoding='utf-8', engine='python')"
   ]
  },
  {
   "cell_type": "code",
   "execution_count": null,
   "id": "6ab9ee04",
   "metadata": {},
   "outputs": [],
   "source": [
    "# 범주형인데 1, 2~~~\n",
    "category_value_number = ['Car_Owned', 'Bike_Owned',\n",
    "                        'Active_Loan', 'House_Own', 'Child_Count',\n",
    "                        'Own_House_Age', 'Homephone_Tag', 'Workphone_Working', \n",
    "                        'Client_Family_Members', 'Cleint_City_Rating', 'Application_Process_Day', 'Application_Process_Hour',\n",
    "                        'Credit_Bureau']"
   ]
  },
  {
   "cell_type": "code",
   "execution_count": null,
   "id": "4371badb",
   "metadata": {},
   "outputs": [],
   "source": [
    "# 연속형\n",
    "numerical_value = ['Client_Income', 'Credit_Amount', 'Loan_Annuity', \n",
    "                   'Population_Region_Relative', 'Age_Days', 'Employed_Days',\n",
    "                   'Registration_Days', 'ID_Days', 'Score_Source_1' ,\n",
    "                   'Score_Source_2', 'Score_Source_3', 'Social_Circle_Default', 'Phone_Change']"
   ]
  },
  {
   "cell_type": "code",
   "execution_count": null,
   "id": "918bebe0",
   "metadata": {},
   "outputs": [],
   "source": [
    "# 범주형인데 str\n",
    "category_value_object = df.select_dtypes(include='object').columns"
   ]
  },
  {
   "cell_type": "code",
   "execution_count": null,
   "id": "a064b3c4",
   "metadata": {},
   "outputs": [],
   "source": [
    "category_value_object"
   ]
  },
  {
   "cell_type": "code",
   "execution_count": null,
   "id": "836e8625",
   "metadata": {},
   "outputs": [],
   "source": [
    "df.drop(columns='Mobile_Tag', axis=1, inplace=True)"
   ]
  },
  {
   "cell_type": "code",
   "execution_count": null,
   "id": "2ab66dec",
   "metadata": {},
   "outputs": [],
   "source": [
    "def test(column):\n",
    "    return random.choice(column)"
   ]
  },
  {
   "cell_type": "code",
   "execution_count": null,
   "id": "f7771f4a",
   "metadata": {},
   "outputs": [],
   "source": [
    "import random\n",
    "columns = {}\n",
    "for column in category_value_object:\n",
    "    if df[column].isna().sum() > 10000 or df[column].isna().sum() == 0:\n",
    "        continue\n",
    "    unique_columns = df[column].loc[df[column].isna()==False].unique()\n",
    "    df[column] = df[column].apply(lambda x : random.choice(unique_columns) if pd.isna(x) else x)\n"
   ]
  },
  {
   "cell_type": "code",
   "execution_count": null,
   "id": "7eec2c3b",
   "metadata": {},
   "outputs": [],
   "source": [
    "df.Client_Housing_Type.value_counts()"
   ]
  },
  {
   "cell_type": "code",
   "execution_count": null,
   "id": "20f1082a",
   "metadata": {},
   "outputs": [],
   "source": [
    "df.Accompany_Client[df.Accompany_Client.isna()==False].unique()"
   ]
  },
  {
   "cell_type": "code",
   "execution_count": null,
   "id": "d780d6d7",
   "metadata": {
    "scrolled": true
   },
   "outputs": [],
   "source": [
    "columns"
   ]
  },
  {
   "cell_type": "markdown",
   "id": "e498e63a",
   "metadata": {},
   "source": [
    "- Accompany_Client,고객이 대출을 신청할 때 고객과 동행한 사람\n",
    "- Client_Income_Type,고객 소득 유형\n",
    "- Client_Education,고객이 달성한 최고 교육 수준\n",
    "- Client_Marital_Status,\"고객의 결혼 상태(D- 이혼, S- 미혼, M- 기혼, W- 사별)\"\n",
    "- Client_Gender,고객의 성별\n",
    "- Loan_Contract_Type,\"대출 유형(CL- 현금대출, RL- 리볼빙대출)\"\n",
    "- Client_Housing_Type,고객 주택 상황"
   ]
  },
  {
   "cell_type": "code",
   "execution_count": null,
   "id": "141c724b",
   "metadata": {},
   "outputs": [],
   "source": [
    "pd.DataFrame({\"Count\" : df.isna().sum(), \"Percentage\" : df.isna().sum() / len(df) * 100})"
   ]
  },
  {
   "cell_type": "markdown",
   "id": "f528c371",
   "metadata": {},
   "source": [
    "# 주제 : 차량 대출 상환가능성 예측"
   ]
  },
  {
   "cell_type": "code",
   "execution_count": null,
   "id": "b8f91b99",
   "metadata": {},
   "outputs": [],
   "source": []
  },
  {
   "cell_type": "markdown",
   "id": "fc57a0ea",
   "metadata": {},
   "source": [
    "## 결측치가 만건 이상인 컬럼명\n",
    "- Own_House_Age,고객 소유 주택의 나이(년) : drop\n",
    "- Client_Occupation,고객 직업 유형 : Nojob :: DROP\n",
    "- Type_Organization,클라이언트가 근무하는 조직 유형 : drop\n",
    "- Score_Source_1,다른 출처에서 얻은 점수. 정규화된 점수입니다. : drop\n",
    "- Score_Source_3,다른 소스에서 가져온 점수입니다. 정규화된 점수입니다. : drop\n",
    "- Social_Circle_Default,지난 60일 동안 대출 상환을 불이행한 고객의 친구/가족 수 : drop\n",
    "- Credit_Bureau, 1년 내 90일 이상 장기연체 등 신용위험이 발생할 가능성을 수치화하여 제공하는 지표 : 평균"
   ]
  },
  {
   "cell_type": "markdown",
   "id": "e22e618f",
   "metadata": {},
   "source": [
    "- ID,고객 대출 신청 ID\n",
    "- Client_Income,고객 소득() : DROP\n",
    "- Car_Owned,다른 차량에 대한 대출을 신청하기 전에 고객이 소유한 모든 차량(0은 아니요, 1은 그렇지 않음을 의미)\n",
    "- Bike_Owned,고객이 소유한 모든 자전거(0은 아니요, 1은 그렇지 않음을 의미)\n",
    "- Active_Loan,대출 신청 당시 진행 중인 다른 대출이 있는지 여부(0은 아니요, 1은 그렇지 않음을 의미)\n",
    "- House_Own,고객이 소유한 주택 수(0은 아니요, 1은 그 외의 주택)\n",
    "- Child_Count,고객이 보유한 자녀 수\n",
    "- Credit_Amount,대출의 신용 금액()\n",
    "- Loan_Annuity,대출 연금()\n",
    "- Accompany_Client,고객이 대출을 신청할 때 고객과 동행한 사람\n",
    "- Client_Income_Type,고객 소득 유형\n",
    "- Client_Education,고객이 달성한 최고 교육 수준\n",
    "- Client_Marital_Status,\"고객의 결혼 상태(D- 이혼, S- 미혼, M- 기혼, W- 사별)\"\n",
    "- Client_Gender,고객의 성별\n",
    "- Loan_Contract_Type,\"대출 유형(CL- 현금대출, RL- 리볼빙대출)\"\n",
    "- Client_Housing_Type,고객 주택 상황\n",
    "- Population_Region_Relative,고객이 거주하고 있는 지역의 상대적 인구수. 값이 높을수록 고객이 인구가 많은 지역에 거주하고 있음을 의미합니다.\n",
    "- Age_Days,신청서 제출 시점의 고객 나이\n",
    "- Employed_Days,\"신청 전, 고객이 수입을 시작한 일수\"\n",
    "- Registration_Days,\"대출 신청일 전, 고객이 등록을 변경한 일수\"\n",
    "- ID_Days,\"대출 신청 며칠 전, 고객이 대출을 신청한 신분증을 변경했습니다.\"\n",
    "- Own_House_Age,고객 소유 주택의 나이(년)\n",
    "- Mobile_Tag,고객이 제공한 휴대폰 번호(1은 예, 0은 아니오를 의미) : drop\n",
    "- Homephone_Tag,고객이 제공한 집전화 번호(1은 예, 0은 아니오를 의미)\n",
    "- Workphone_Working,직장 전화 번호로 연락 가능했는지(1은 예, 0은 아니오)\n",
    "- Client_Occupation,고객 직업 유형\n",
    "- Client_Family_Members,고객이 보유한 가족 구성원 수\n",
    "- Cleint_City_Rating,고객 도시 등급. 3은 최고, 2는 좋음, 1은 평균을 나타냅니다.\n",
    "- Application_Process_Day,고객이 대출을 신청한 요일(0-일,1-월,2-화,3-수,4-목,5-금,6-토)\"\n",
    "- Application_Process_Hour,고객이 대출을 신청한 요일 시간 : DROP\n",
    "- Client_Permanent_Match_Tag,고객 연락처 주소가 영구 주소와 일치하지 않는 경우 표시.\n",
    "- Client_Contact_Work_Tag,고객 직장 주소가 연락처 주소와 일치하지 않는 경우 표시.\n",
    "- Type_Organization,클라이언트가 근무하는 조직 유형\n",
    "- Score_Source_1,다른 출처에서 얻은 점수. 정규화된 점수입니다.\n",
    "- Score_Source_2,다른 출처에서 얻은 점수입니다. 정규화된 점수입니다.\n",
    "- Score_Source_3,다른 소스에서 가져온 점수입니다. 정규화된 점수입니다.\n",
    "- Social_Circle_Default,지난 60일 동안 대출 상환을 불이행한 고객의 친구/가족 수\n",
    "- Phone_Change,\"대출 신청 며칠 전에 고객이 휴대폰을 변경했는지\"\n",
    "- Credit_Bureau,작년 총 조회 건수\n",
    "- Default,1은 고객이 대출 상환을 불이행했음을 의미하고 0은 그렇지 않음을 의미합니다."
   ]
  },
  {
   "cell_type": "code",
   "execution_count": null,
   "id": "cfd6dca7",
   "metadata": {},
   "outputs": [],
   "source": [
    "# pay_df.Client_Gender = count_encoder.fit_transform(pay_df.Client_Gender)\n",
    "\n",
    "pay_df.Client_Gender = label_encoder.fit_transform(pay_df.Client_Gender)"
   ]
  },
  {
   "cell_type": "code",
   "execution_count": null,
   "id": "0fe4b1ba",
   "metadata": {},
   "outputs": [],
   "source": [
    "pay_df.Client_Gender"
   ]
  },
  {
   "cell_type": "code",
   "execution_count": null,
   "id": "1ebd28bd",
   "metadata": {},
   "outputs": [],
   "source": [
    "pay_df.Accompany_Client.value_counts()\n",
    "# pay_df.Accompany_Client.isna().sum()"
   ]
  },
  {
   "cell_type": "code",
   "execution_count": null,
   "id": "6cfadbda",
   "metadata": {},
   "outputs": [],
   "source": [
    "pay_df.Client_Gender.value_counts()"
   ]
  },
  {
   "cell_type": "code",
   "execution_count": null,
   "id": "ed1bbfad",
   "metadata": {},
   "outputs": [],
   "source": [
    "pay_df.Client_Gender = pay_df.Client_Gender.apply(lambda x : 0 if x == 2 else x)"
   ]
  },
  {
   "cell_type": "code",
   "execution_count": null,
   "id": "19aefcfb",
   "metadata": {
    "scrolled": true
   },
   "outputs": [],
   "source": [
    "pay_df.pivot_table(index=y_target, columns=['Client_Gender'], aggfunc=['mean', 'sum'])"
   ]
  },
  {
   "cell_type": "code",
   "execution_count": null,
   "id": "d7023663",
   "metadata": {},
   "outputs": [],
   "source": [
    "import tensorflow as tf\n",
    "\n",
    "from tensorflow.keras import datasets, utils\n",
    "from tensorflow.keras import models, layers, activations, initializers, losses, optimizers, metrics\n",
    "from sklearn import model_selection\n",
    "from sklearn.pipeline import Pipeline\n",
    "from sklearn.compose import ColumnTransformer\n",
    "from tensorflow.keras import utils\n",
    "from sklearn.preprocessing import LabelEncoder, OneHotEncoder, StandardScaler"
   ]
  },
  {
   "cell_type": "code",
   "execution_count": null,
   "id": "7e7af43b",
   "metadata": {},
   "outputs": [],
   "source": [
    "target_df = df['Default']\n",
    "del df['Default']"
   ]
  },
  {
   "cell_type": "code",
   "execution_count": null,
   "id": "50a12cea",
   "metadata": {},
   "outputs": [],
   "source": [
    "target_df = utils.to_categorical(target_df)"
   ]
  },
  {
   "cell_type": "code",
   "execution_count": null,
   "id": "1e9a19c6",
   "metadata": {},
   "outputs": [],
   "source": [
    "train_data, test_data, train_label, test_label = model_selection.train_test_split(df, target_df,\n",
    "                                                                                 test_size=0.3,\n",
    "                                                                                 random_state=0)"
   ]
  },
  {
   "cell_type": "code",
   "execution_count": null,
   "id": "53a6a16f",
   "metadata": {},
   "outputs": [],
   "source": [
    "# OverSampling"
   ]
  },
  {
   "cell_type": "code",
   "execution_count": null,
   "id": "cc2fb893",
   "metadata": {},
   "outputs": [],
   "source": [
    "numerical_value"
   ]
  },
  {
   "cell_type": "code",
   "execution_count": null,
   "id": "d45757f7",
   "metadata": {},
   "outputs": [],
   "source": [
    "category_value_number.extend(category_value_object)"
   ]
  },
  {
   "cell_type": "code",
   "execution_count": null,
   "id": "129b12d6",
   "metadata": {},
   "outputs": [],
   "source": [
    "numeric_transformer = StandardScaler() # cf) RobustScaler\n",
    "categorical_transformer = OneHotEncoder(categories='auto', handle_unknown='ignore') \n",
    "\n",
    "preprocessor = ColumnTransformer(\n",
    "    transformers=[ # List of (name, transformer, column(s))\n",
    "        ('num', numeric_transformer, numerical_value),\n",
    "        ('cat', categorical_transformer, category_value_number)])"
   ]
  },
  {
   "cell_type": "code",
   "execution_count": null,
   "id": "018a5e9a",
   "metadata": {},
   "outputs": [],
   "source": [
    "preprocessor_pipe = Pipeline(steps=[('preprocessor', preprocessor)]) # preprocessing-only"
   ]
  },
  {
   "cell_type": "code",
   "execution_count": null,
   "id": "f56ea154",
   "metadata": {},
   "outputs": [],
   "source": [
    "preprocessor_pipe"
   ]
  },
  {
   "cell_type": "code",
   "execution_count": null,
   "id": "ca929f6f",
   "metadata": {},
   "outputs": [],
   "source": [
    "preprocessor_pipe.fit(train_data)"
   ]
  },
  {
   "cell_type": "code",
   "execution_count": null,
   "id": "500f935a",
   "metadata": {},
   "outputs": [],
   "source": [
    "x_train_transformed = preprocessor_pipe.transform(train_data)\n",
    "x_test_transformed = preprocessor_pipe.transform(test_data)"
   ]
  },
  {
   "cell_type": "code",
   "execution_count": null,
   "id": "b0a7e115",
   "metadata": {},
   "outputs": [],
   "source": []
  },
  {
   "cell_type": "code",
   "execution_count": null,
   "id": "c5b841c4",
   "metadata": {},
   "outputs": [],
   "source": [
    "model = models.Sequential()\n",
    "\n",
    "model.add(layers.Dense(input_dim=x_train_transformed.shape[1], units=256, activation=None, kernel_initializer=initializers.he_uniform())) # he-uniform initialization\n",
    "model.add(layers.Activation('elu'))\n",
    "\n",
    "model.add(layers.Dense(units=512, activation=None, kernel_initializer=initializers.he_uniform())) \n",
    "model.add(layers.Activation('elu')) \n",
    "\n",
    "model.add(layers.Dense(units=512, activation=None, kernel_initializer=initializers.he_uniform())) \n",
    "model.add(layers.Activation('elu'))\n",
    "\n",
    "model.add(layers.Dense(units=256, activation=None, kernel_initializer=initializers.he_uniform())) \n",
    "model.add(layers.Activation('elu')) \n",
    "\n",
    "model.add(layers.Dense(units=2, activation='softmax'))"
   ]
  },
  {
   "cell_type": "code",
   "execution_count": null,
   "id": "60ec6dac",
   "metadata": {},
   "outputs": [],
   "source": [
    "model.compile(optimizer=optimizers.Adam(),\n",
    "              loss=losses.categorical_crossentropy, \n",
    "              metrics=[metrics.categorical_accuracy, metrics.Recall(), metrics.Precision()])"
   ]
  },
  {
   "cell_type": "code",
   "execution_count": null,
   "id": "4d0df09e",
   "metadata": {},
   "outputs": [],
   "source": [
    "train_label.shape"
   ]
  },
  {
   "cell_type": "code",
   "execution_count": null,
   "id": "f1240276",
   "metadata": {},
   "outputs": [],
   "source": [
    "x_train_transformed.shape"
   ]
  },
  {
   "cell_type": "code",
   "execution_count": null,
   "id": "fb3d3ffa",
   "metadata": {},
   "outputs": [],
   "source": []
  },
  {
   "cell_type": "code",
   "execution_count": null,
   "id": "fd701742",
   "metadata": {},
   "outputs": [],
   "source": [
    "# \"Fit\" the model on training data\n",
    "history = model.fit(x_train_transformed.todense(), train_label, batch_size=1000, epochs=20, validation_split=0.2) "
   ]
  },
  {
   "cell_type": "code",
   "execution_count": null,
   "id": "5c7f875a",
   "metadata": {},
   "outputs": [],
   "source": [
    "history.history.keys()"
   ]
  },
  {
   "cell_type": "code",
   "execution_count": null,
   "id": "d432b0d1",
   "metadata": {},
   "outputs": [],
   "source": [
    "val_acc = history.history['val_categorical_accuracy']\n",
    "acc = history.history['categorical_accuracy']\n",
    "\n",
    "val_recall = history.history['val_recall']\n",
    "recall = history.history['recall']\n",
    "\n",
    "val_precision = history.history['val_precision']\n",
    "precision = history.history['precision']\n",
    "\n",
    "x_len = np.arange(len(acc))\n",
    "plt.plot(x_len, acc, marker='.', c='blue', label=\"Train-set Acc.\")\n",
    "plt.plot(x_len, val_acc, marker='.', c='red', label=\"Validation-set Acc.\")\n",
    "\n",
    "x_len = np.arange(len(recall))\n",
    "plt.plot(x_len, recall, marker='.', c='green', label=\"Train-set Recall.\")\n",
    "plt.plot(x_len, val_recall, marker='.', c='purple', label=\"Validation-set Recall.\")\n",
    "\n",
    "x_len = np.arange(len(precision))\n",
    "plt.plot(x_len, precision, marker='.', c='yellow', label=\"Train-set Precision.\")\n",
    "plt.plot(x_len, val_precision, marker='.', c='cyan', label=\"Validation-set Precision.\")\n",
    "\n",
    "plt.legend(loc='upper left')\n",
    "plt.grid()\n",
    "plt.xlabel('epoch')\n",
    "plt.ylabel('Accuracy')\n",
    "plt.show()"
   ]
  },
  {
   "cell_type": "code",
   "execution_count": null,
   "id": "7c59996c",
   "metadata": {},
   "outputs": [],
   "source": [
    "estimators = [ \n",
    "    ('ExtraTrees', ensemble.ExtraTreesClassifier(random_state = 0, n_jobs = -1, n_estimators = 100, max_depth = 3)),\n",
    "    ('RandomForest', ensemble.RandomForestClassifier(random_state = 0, n_jobs = -1, n_estimators = 100, max_depth = 3)),\n",
    "    ('DecisionTree', DecisionTreeClassifier()),\n",
    "]"
   ]
  },
  {
   "cell_type": "code",
   "execution_count": null,
   "id": "da5cd0c9",
   "metadata": {},
   "outputs": [],
   "source": [
    "stack = StackingTransformer(estimators, \n",
    "                            regression = False, \n",
    "                            metric = accuracy_score,\n",
    "                            n_folds = 2, stratified = True, shuffle = True, \n",
    "                            random_state = 42, verbose = 2) "
   ]
  },
  {
   "cell_type": "code",
   "execution_count": null,
   "id": "b03aa392",
   "metadata": {},
   "outputs": [],
   "source": [
    "y_target = preprocessing_db.get_target_df()\n",
    "y_train, y_test = train_test_split(y_target, test_size=0.2, random_state=42)"
   ]
  },
  {
   "cell_type": "code",
   "execution_count": null,
   "id": "80dcc060",
   "metadata": {},
   "outputs": [],
   "source": [
    "x_train.shape"
   ]
  },
  {
   "cell_type": "code",
   "execution_count": null,
   "id": "c2d0e366",
   "metadata": {},
   "outputs": [],
   "source": [
    "y_train.shape"
   ]
  },
  {
   "cell_type": "code",
   "execution_count": 9,
   "id": "ae0c38bf",
   "metadata": {},
   "outputs": [],
   "source": [
    "y_test = pd.read_csv('./nbfi_vehicle_loan_repayment_dataset/origin_y_test.csv')\n",
    "y_train = pd.read_csv('./nbfi_vehicle_loan_repayment_dataset/origin_y_train_over.csv')"
   ]
  },
  {
   "cell_type": "code",
   "execution_count": null,
   "id": "c32205fc",
   "metadata": {
    "scrolled": true
   },
   "outputs": [],
   "source": [
    "# fit을 통해 분류함\n",
    "stack = stack.fit(x_train, y_train)"
   ]
  },
  {
   "cell_type": "code",
   "execution_count": null,
   "id": "df0b0946",
   "metadata": {},
   "outputs": [],
   "source": [
    "# transform을 통해 학습시킴\n",
    "S_train = stack.transform(x_train)\n",
    "# transform을 통해 학습시킴\n",
    "S_test = stack.transform(x_test)"
   ]
  },
  {
   "cell_type": "code",
   "execution_count": null,
   "id": "8840d959",
   "metadata": {},
   "outputs": [],
   "source": [
    "S_train.shape"
   ]
  },
  {
   "cell_type": "code",
   "execution_count": null,
   "id": "97bb69ce",
   "metadata": {},
   "outputs": [],
   "source": [
    "y_test.shape"
   ]
  },
  {
   "cell_type": "code",
   "execution_count": 10,
   "id": "4384ccb0",
   "metadata": {},
   "outputs": [],
   "source": [
    "# XGBClassification의 hyper-parameter\n",
    "params = {\n",
    "    'learning_rate' : [1, 0.1, 0.01, 0.001],\n",
    "    'n_estimators' : [100, 1000],\n",
    "    'max_depth' : [3, 4, 5],\n",
    "    'eval_metric' : ['mlogloss'],\n",
    "    'n_jobs' : [-1],\n",
    "    'seed' : [0],\n",
    "}"
   ]
  },
  {
   "cell_type": "code",
   "execution_count": 11,
   "id": "892713e1",
   "metadata": {},
   "outputs": [
    {
     "ename": "NameError",
     "evalue": "name 'S_train' is not defined",
     "output_type": "error",
     "traceback": [
      "\u001b[1;31m---------------------------------------------------------------------------\u001b[0m",
      "\u001b[1;31mNameError\u001b[0m                                 Traceback (most recent call last)",
      "Cell \u001b[1;32mIn[11], line 7\u001b[0m\n\u001b[0;32m      1\u001b[0m \u001b[38;5;66;03m# GridSearch를 통해 HPO 찾기\u001b[39;00m\n\u001b[0;32m      2\u001b[0m grid \u001b[38;5;241m=\u001b[39m GridSearchCV(\n\u001b[0;32m      3\u001b[0m     XGBClassifier(),\n\u001b[0;32m      4\u001b[0m     params,\n\u001b[0;32m      5\u001b[0m     refit\u001b[38;5;241m=\u001b[39m\u001b[38;5;28;01mTrue\u001b[39;00m, verbose\u001b[38;5;241m=\u001b[39m\u001b[38;5;241m1\u001b[39m\n\u001b[0;32m      6\u001b[0m )\n\u001b[1;32m----> 7\u001b[0m y_pred \u001b[38;5;241m=\u001b[39m grid\u001b[38;5;241m.\u001b[39mfit(\u001b[43mS_train\u001b[49m, y_train)\n\u001b[0;32m      8\u001b[0m y_pred\u001b[38;5;241m.\u001b[39mbest_params_\n",
      "\u001b[1;31mNameError\u001b[0m: name 'S_train' is not defined"
     ]
    }
   ],
   "source": [
    "# GridSearch를 통해 HPO 찾기\n",
    "grid = GridSearchCV(\n",
    "    XGBClassifier(),\n",
    "    params,\n",
    "    refit=True, verbose=1\n",
    ")\n",
    "y_pred = grid.fit(S_train, y_train)\n",
    "y_pred.best_params_"
   ]
  },
  {
   "cell_type": "code",
   "execution_count": null,
   "id": "7ddd580a",
   "metadata": {},
   "outputs": [],
   "source": [
    "# HPO 적용\n",
    "model = XGBClassifier(**y_pred.best_params_) \n",
    "# 투표를 통해 얻은 S_train과 y_train을 다시 학습시킴\n",
    "model = model.fit(S_train, y_train)"
   ]
  },
  {
   "cell_type": "code",
   "execution_count": null,
   "id": "cf71cd77",
   "metadata": {},
   "outputs": [],
   "source": [
    "fpr, tpr, _ = roc_curve(y_true=y_test, y_score=model.predict_proba(S_test)[:,1])\n",
    "roc_auc = auc(fpr, tpr) # AUC 면적의 값 (수치)\n",
    "plt.figure(figsize=(9, 9))\n",
    "plt.plot(fpr, tpr, color='darkorange', lw=2, label='ROC curve (area = %0.2f)' % roc_auc)\n",
    "plt.plot([0, 1], [0, 1], color='navy', lw=2, linestyle='--')\n",
    "plt.xlim([0.0, 1.0])\n",
    "plt.ylim([0.0, 1.05])\n",
    "plt.xlabel('False Positive Rate')\n",
    "plt.ylabel('True Positive Rate')\n",
    "plt.legend(loc=\"lower right\")\n",
    "plt.title(\"ROC curve\")\n",
    "plt.show()"
   ]
  },
  {
   "cell_type": "code",
   "execution_count": null,
   "id": "9c84ef50",
   "metadata": {},
   "outputs": [],
   "source": [
    "predictions = model.predict(S_test)\n",
    "print(classification_report(y_test, predictions))"
   ]
  },
  {
   "cell_type": "code",
   "execution_count": 12,
   "id": "8c8becad",
   "metadata": {},
   "outputs": [],
   "source": [
    "from sklearn.svm import SVC\n",
    "svc = SVC()"
   ]
  },
  {
   "cell_type": "code",
   "execution_count": 25,
   "id": "8b67b6d3",
   "metadata": {},
   "outputs": [
    {
     "name": "stdout",
     "output_type": "stream",
     "text": [
      "Fitting 5 folds for each of 36 candidates, totalling 180 fits\n"
     ]
    },
    {
     "data": {
      "text/plain": [
       "{'C': 100, 'gamma': 0.001, 'kernel': 'rbf', 'max_iter': 4}"
      ]
     },
     "execution_count": 25,
     "metadata": {},
     "output_type": "execute_result"
    }
   ],
   "source": [
    "params = {\n",
    "    'C' : [1, 10, 100, 1000],\n",
    "    'kernel' : ['rbf'],\n",
    "    'gamma' : [0.1, 0.01, 0.001],\n",
    "    'max_iter' : [3, 4, 5],\n",
    "}\n",
    "\n",
    "\n",
    "# GridSearch를 통해 HPO 찾기\n",
    "grid = GridSearchCV(\n",
    "    svc,\n",
    "    params,\n",
    "    refit=True, verbose=1\n",
    ")\n",
    "y_pred = grid.fit(x_train, y_train)\n",
    "y_pred.best_params_"
   ]
  },
  {
   "cell_type": "code",
   "execution_count": 26,
   "id": "d658c681",
   "metadata": {},
   "outputs": [],
   "source": [
    "scv = SVC(**y_pred.best_params_)"
   ]
  },
  {
   "cell_type": "code",
   "execution_count": 31,
   "id": "9bc3e3ff",
   "metadata": {},
   "outputs": [
    {
     "data": {
      "text/plain": [
       "(156816, 1)"
      ]
     },
     "execution_count": 31,
     "metadata": {},
     "output_type": "execute_result"
    }
   ],
   "source": [
    "y_train.shape"
   ]
  },
  {
   "cell_type": "code",
   "execution_count": 29,
   "id": "2f949090",
   "metadata": {},
   "outputs": [
    {
     "data": {
      "text/plain": [
       "(156816, 140)"
      ]
     },
     "execution_count": 29,
     "metadata": {},
     "output_type": "execute_result"
    }
   ],
   "source": [
    "x_train.shape"
   ]
  },
  {
   "cell_type": "code",
   "execution_count": 27,
   "id": "a484a019",
   "metadata": {},
   "outputs": [
    {
     "data": {
      "text/html": [
       "<style>#sk-container-id-2 {color: black;background-color: white;}#sk-container-id-2 pre{padding: 0;}#sk-container-id-2 div.sk-toggleable {background-color: white;}#sk-container-id-2 label.sk-toggleable__label {cursor: pointer;display: block;width: 100%;margin-bottom: 0;padding: 0.3em;box-sizing: border-box;text-align: center;}#sk-container-id-2 label.sk-toggleable__label-arrow:before {content: \"▸\";float: left;margin-right: 0.25em;color: #696969;}#sk-container-id-2 label.sk-toggleable__label-arrow:hover:before {color: black;}#sk-container-id-2 div.sk-estimator:hover label.sk-toggleable__label-arrow:before {color: black;}#sk-container-id-2 div.sk-toggleable__content {max-height: 0;max-width: 0;overflow: hidden;text-align: left;background-color: #f0f8ff;}#sk-container-id-2 div.sk-toggleable__content pre {margin: 0.2em;color: black;border-radius: 0.25em;background-color: #f0f8ff;}#sk-container-id-2 input.sk-toggleable__control:checked~div.sk-toggleable__content {max-height: 200px;max-width: 100%;overflow: auto;}#sk-container-id-2 input.sk-toggleable__control:checked~label.sk-toggleable__label-arrow:before {content: \"▾\";}#sk-container-id-2 div.sk-estimator input.sk-toggleable__control:checked~label.sk-toggleable__label {background-color: #d4ebff;}#sk-container-id-2 div.sk-label input.sk-toggleable__control:checked~label.sk-toggleable__label {background-color: #d4ebff;}#sk-container-id-2 input.sk-hidden--visually {border: 0;clip: rect(1px 1px 1px 1px);clip: rect(1px, 1px, 1px, 1px);height: 1px;margin: -1px;overflow: hidden;padding: 0;position: absolute;width: 1px;}#sk-container-id-2 div.sk-estimator {font-family: monospace;background-color: #f0f8ff;border: 1px dotted black;border-radius: 0.25em;box-sizing: border-box;margin-bottom: 0.5em;}#sk-container-id-2 div.sk-estimator:hover {background-color: #d4ebff;}#sk-container-id-2 div.sk-parallel-item::after {content: \"\";width: 100%;border-bottom: 1px solid gray;flex-grow: 1;}#sk-container-id-2 div.sk-label:hover label.sk-toggleable__label {background-color: #d4ebff;}#sk-container-id-2 div.sk-serial::before {content: \"\";position: absolute;border-left: 1px solid gray;box-sizing: border-box;top: 0;bottom: 0;left: 50%;z-index: 0;}#sk-container-id-2 div.sk-serial {display: flex;flex-direction: column;align-items: center;background-color: white;padding-right: 0.2em;padding-left: 0.2em;position: relative;}#sk-container-id-2 div.sk-item {position: relative;z-index: 1;}#sk-container-id-2 div.sk-parallel {display: flex;align-items: stretch;justify-content: center;background-color: white;position: relative;}#sk-container-id-2 div.sk-item::before, #sk-container-id-2 div.sk-parallel-item::before {content: \"\";position: absolute;border-left: 1px solid gray;box-sizing: border-box;top: 0;bottom: 0;left: 50%;z-index: -1;}#sk-container-id-2 div.sk-parallel-item {display: flex;flex-direction: column;z-index: 1;position: relative;background-color: white;}#sk-container-id-2 div.sk-parallel-item:first-child::after {align-self: flex-end;width: 50%;}#sk-container-id-2 div.sk-parallel-item:last-child::after {align-self: flex-start;width: 50%;}#sk-container-id-2 div.sk-parallel-item:only-child::after {width: 0;}#sk-container-id-2 div.sk-dashed-wrapped {border: 1px dashed gray;margin: 0 0.4em 0.5em 0.4em;box-sizing: border-box;padding-bottom: 0.4em;background-color: white;}#sk-container-id-2 div.sk-label label {font-family: monospace;font-weight: bold;display: inline-block;line-height: 1.2em;}#sk-container-id-2 div.sk-label-container {text-align: center;}#sk-container-id-2 div.sk-container {/* jupyter's `normalize.less` sets `[hidden] { display: none; }` but bootstrap.min.css set `[hidden] { display: none !important; }` so we also need the `!important` here to be able to override the default hidden behavior on the sphinx rendered scikit-learn.org. See: https://github.com/scikit-learn/scikit-learn/issues/21755 */display: inline-block !important;position: relative;}#sk-container-id-2 div.sk-text-repr-fallback {display: none;}</style><div id=\"sk-container-id-2\" class=\"sk-top-container\"><div class=\"sk-text-repr-fallback\"><pre>SVC(C=100, gamma=0.001, max_iter=4)</pre><b>In a Jupyter environment, please rerun this cell to show the HTML representation or trust the notebook. <br />On GitHub, the HTML representation is unable to render, please try loading this page with nbviewer.org.</b></div><div class=\"sk-container\" hidden><div class=\"sk-item\"><div class=\"sk-estimator sk-toggleable\"><input class=\"sk-toggleable__control sk-hidden--visually\" id=\"sk-estimator-id-2\" type=\"checkbox\" checked><label for=\"sk-estimator-id-2\" class=\"sk-toggleable__label sk-toggleable__label-arrow\">SVC</label><div class=\"sk-toggleable__content\"><pre>SVC(C=100, gamma=0.001, max_iter=4)</pre></div></div></div></div></div>"
      ],
      "text/plain": [
       "SVC(C=100, gamma=0.001, max_iter=4)"
      ]
     },
     "execution_count": 27,
     "metadata": {},
     "output_type": "execute_result"
    }
   ],
   "source": [
    "scv.fit(x_train, y_train)"
   ]
  },
  {
   "cell_type": "code",
   "execution_count": 28,
   "id": "04c002ae",
   "metadata": {},
   "outputs": [],
   "source": [
    "pridict_y = scv.predict(x_test)"
   ]
  },
  {
   "cell_type": "code",
   "execution_count": 24,
   "id": "2d93b593",
   "metadata": {},
   "outputs": [
    {
     "name": "stdout",
     "output_type": "stream",
     "text": [
      "              precision    recall  f1-score   support\n",
      "\n",
      "           0       0.93      0.32      0.48     33603\n",
      "           1       0.09      0.73      0.16      2954\n",
      "\n",
      "    accuracy                           0.36     36557\n",
      "   macro avg       0.51      0.53      0.32     36557\n",
      "weighted avg       0.86      0.36      0.46     36557\n",
      "\n"
     ]
    }
   ],
   "source": [
    "print(classification_report(y_test, pridict_y))"
   ]
  },
  {
   "cell_type": "code",
   "execution_count": null,
   "id": "5ea30d0e",
   "metadata": {},
   "outputs": [],
   "source": [
    "fpr, tpr, _ = roc_curve(y_true=y_test, y_score=scv.predict_proba(S_test)[:,1])\n",
    "roc_auc = auc(fpr, tpr) # AUC 면적의 값 (수치)\n",
    "plt.figure(figsize=(9, 9))\n",
    "plt.plot(fpr, tpr, color='darkorange', lw=2, label='ROC curve (area = %0.2f)' % roc_auc)\n",
    "plt.plot([0, 1], [0, 1], color='navy', lw=2, linestyle='--')\n",
    "plt.xlim([0.0, 1.0])\n",
    "plt.ylim([0.0, 1.05])\n",
    "plt.xlabel('False Positive Rate')\n",
    "plt.ylabel('True Positive Rate')\n",
    "plt.legend(loc=\"lower right\")\n",
    "plt.title(\"ROC curve\")\n",
    "plt.show()"
   ]
  }
 ],
 "metadata": {
  "kernelspec": {
   "display_name": "Python 3 (ipykernel)",
   "language": "python",
   "name": "python3"
  },
  "language_info": {
   "codemirror_mode": {
    "name": "ipython",
    "version": 3
   },
   "file_extension": ".py",
   "mimetype": "text/x-python",
   "name": "python",
   "nbconvert_exporter": "python",
   "pygments_lexer": "ipython3",
   "version": "3.8.8"
  }
 },
 "nbformat": 4,
 "nbformat_minor": 5
}
