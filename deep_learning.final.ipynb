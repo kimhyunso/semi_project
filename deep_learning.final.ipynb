{
 "cells": [
  {
   "cell_type": "code",
   "execution_count": 58,
   "metadata": {},
   "outputs": [],
   "source": [
    "from tensorflow import keras\n",
    "import tensorflow as tf\n",
    "from sklearn.preprocessing import MinMaxScaler, OneHotEncoder, StandardScaler\n",
    "from sklearn.pipeline import Pipeline\n",
    "from sklearn.compose import ColumnTransformer\n",
    "from sklearn.model_selection import train_test_split\n",
    "import numpy as np\n",
    "import os\n",
    "import pandas as pd"
   ]
  },
  {
   "cell_type": "code",
   "execution_count": 6,
   "metadata": {},
   "outputs": [],
   "source": [
    "# 컬럼들 안의 이상 값들\n",
    "na_values = ['$', '#VALUE!', '##', 'XNA', '@', '#', 'x', '&']\n",
    "# float데이터 인데, object로 되어있는 이상 컬럼들\n",
    "columns = ['Client_Income', 'Credit_Amount', 'Loan_Annuity', 'Score_Source_3', 'Population_Region_Relative', 'Age_Days', 'Employed_Days', 'Registration_Days', 'ID_Days']\n",
    "# csv파일 불러오는 과정 na_values안에 포함된 것들은 결측치로 대체\n",
    "data = pd.read_csv('./nbfi_vehicle_loan_repayment_dataset/Train_Dataset.csv', na_values=na_values, encoding='utf-8', engine='python')\n"
   ]
  },
  {
   "cell_type": "code",
   "execution_count": 38,
   "metadata": {},
   "outputs": [],
   "source": [
    "data2 =data.drop(['ID','Own_House_Age', 'Score_Source_1', 'Social_Circle_Default', 'Client_Occupation', 'Score_Source_3', 'Type_Organization', 'Credit_Bureau', 'Mobile_Tag'], axis=1)"
   ]
  },
  {
   "cell_type": "code",
   "execution_count": 30,
   "metadata": {},
   "outputs": [],
   "source": [
    "no_drop_numeri = ['Age_Days',\n",
    "                  'Child_Count',\n",
    "                  'Cleint_City_Rating',\n",
    "                  'Client_Family_Members',\n",
    "                  'Client_Income',\n",
    "                  'Credit_Amount',\n",
    "                  'Employed_Days',\n",
    "                  'ID_Days',\n",
    "                  'Loan_Annuity',\n",
    "                  'Phone_Change',\n",
    "                  'Population_Region_Relative',\n",
    "                  'Registration_Days',\n",
    "                  'Score_Source_2']\n"
   ]
  },
  {
   "cell_type": "code",
   "execution_count": 31,
   "metadata": {},
   "outputs": [],
   "source": [
    "no_drop_cat = ['Accompany_Client',\n",
    "               'Active_Loan',\n",
    "               'Application_Process_Day',\n",
    "               'Application_Process_Hour',\n",
    "               'Bike_Owned',\n",
    "               'Car_Owned',\n",
    "               'Client_Contact_Work_Tag',\n",
    "               'Client_Education',\n",
    "               'Client_Gender',\n",
    "               'Client_Housing_Type',\n",
    "               'Client_Income_Type',\n",
    "               'Client_Marital_Status',\n",
    "               'Client_Permanent_Match_Tag',\n",
    "               'Homephone_Tag',\n",
    "               'House_Own',\n",
    "               'Loan_Contract_Type',\n",
    "               'Workphone_Working']\n"
   ]
  },
  {
   "cell_type": "code",
   "execution_count": 34,
   "metadata": {},
   "outputs": [
    {
     "data": {
      "text/html": [
       "<div>\n",
       "<style scoped>\n",
       "    .dataframe tbody tr th:only-of-type {\n",
       "        vertical-align: middle;\n",
       "    }\n",
       "\n",
       "    .dataframe tbody tr th {\n",
       "        vertical-align: top;\n",
       "    }\n",
       "\n",
       "    .dataframe thead th {\n",
       "        text-align: right;\n",
       "    }\n",
       "</style>\n",
       "<table border=\"1\" class=\"dataframe\">\n",
       "  <thead>\n",
       "    <tr style=\"text-align: right;\">\n",
       "      <th></th>\n",
       "      <th>Age_Days</th>\n",
       "      <th>Child_Count</th>\n",
       "      <th>Cleint_City_Rating</th>\n",
       "      <th>Client_Family_Members</th>\n",
       "      <th>Client_Income</th>\n",
       "      <th>Credit_Amount</th>\n",
       "      <th>Employed_Days</th>\n",
       "      <th>ID_Days</th>\n",
       "      <th>Loan_Annuity</th>\n",
       "      <th>Phone_Change</th>\n",
       "      <th>Population_Region_Relative</th>\n",
       "      <th>Registration_Days</th>\n",
       "      <th>Score_Source_2</th>\n",
       "    </tr>\n",
       "    <tr>\n",
       "      <th>Default</th>\n",
       "      <th></th>\n",
       "      <th></th>\n",
       "      <th></th>\n",
       "      <th></th>\n",
       "      <th></th>\n",
       "      <th></th>\n",
       "      <th></th>\n",
       "      <th></th>\n",
       "      <th></th>\n",
       "      <th></th>\n",
       "      <th></th>\n",
       "      <th></th>\n",
       "      <th></th>\n",
       "    </tr>\n",
       "  </thead>\n",
       "  <tbody>\n",
       "    <tr>\n",
       "      <th>0</th>\n",
       "      <td>15848.0</td>\n",
       "      <td>0.0</td>\n",
       "      <td>2.0</td>\n",
       "      <td>2.0</td>\n",
       "      <td>14850.0</td>\n",
       "      <td>51856.2</td>\n",
       "      <td>2296.0</td>\n",
       "      <td>3284.0</td>\n",
       "      <td>2497.050</td>\n",
       "      <td>774.0</td>\n",
       "      <td>0.018850</td>\n",
       "      <td>4532.0</td>\n",
       "      <td>0.572589</td>\n",
       "    </tr>\n",
       "    <tr>\n",
       "      <th>1</th>\n",
       "      <td>14381.5</td>\n",
       "      <td>0.0</td>\n",
       "      <td>2.0</td>\n",
       "      <td>2.0</td>\n",
       "      <td>13500.0</td>\n",
       "      <td>49752.0</td>\n",
       "      <td>1449.0</td>\n",
       "      <td>2786.5</td>\n",
       "      <td>2528.325</td>\n",
       "      <td>586.0</td>\n",
       "      <td>0.018801</td>\n",
       "      <td>4067.0</td>\n",
       "      <td>0.443746</td>\n",
       "    </tr>\n",
       "  </tbody>\n",
       "</table>\n",
       "</div>"
      ],
      "text/plain": [
       "         Age_Days  Child_Count  Cleint_City_Rating  Client_Family_Members  \\\n",
       "Default                                                                     \n",
       "0         15848.0          0.0                 2.0                    2.0   \n",
       "1         14381.5          0.0                 2.0                    2.0   \n",
       "\n",
       "         Client_Income  Credit_Amount  Employed_Days  ID_Days  Loan_Annuity  \\\n",
       "Default                                                                       \n",
       "0              14850.0        51856.2         2296.0   3284.0      2497.050   \n",
       "1              13500.0        49752.0         1449.0   2786.5      2528.325   \n",
       "\n",
       "         Phone_Change  Population_Region_Relative  Registration_Days  \\\n",
       "Default                                                                \n",
       "0               774.0                    0.018850             4532.0   \n",
       "1               586.0                    0.018801             4067.0   \n",
       "\n",
       "         Score_Source_2  \n",
       "Default                  \n",
       "0              0.572589  \n",
       "1              0.443746  "
      ]
     },
     "execution_count": 34,
     "metadata": {},
     "output_type": "execute_result"
    }
   ],
   "source": [
    "data2.groupby('Default')[no_drop_numeri].median()"
   ]
  },
  {
   "cell_type": "code",
   "execution_count": 39,
   "metadata": {},
   "outputs": [
    {
     "data": {
      "text/plain": [
       "Client_Income                 3622\n",
       "Car_Owned                     3581\n",
       "Bike_Owned                    3624\n",
       "Active_Loan                   3635\n",
       "House_Own                     3661\n",
       "Child_Count                   3638\n",
       "Credit_Amount                 3637\n",
       "Loan_Annuity                  4826\n",
       "Accompany_Client              1758\n",
       "Client_Income_Type            3701\n",
       "Client_Education              3645\n",
       "Client_Marital_Status         3473\n",
       "Client_Gender                 2416\n",
       "Loan_Contract_Type            3651\n",
       "Client_Housing_Type           3687\n",
       "Population_Region_Relative    4868\n",
       "Age_Days                      3617\n",
       "Employed_Days                 3666\n",
       "Registration_Days             3631\n",
       "ID_Days                       5985\n",
       "Homephone_Tag                    0\n",
       "Workphone_Working                0\n",
       "Client_Family_Members         2410\n",
       "Cleint_City_Rating            2409\n",
       "Application_Process_Day       2428\n",
       "Application_Process_Hour      3663\n",
       "Client_Permanent_Match_Tag       0\n",
       "Client_Contact_Work_Tag          0\n",
       "Score_Source_2                5686\n",
       "Phone_Change                  3664\n",
       "Default                          0\n",
       "dtype: int64"
      ]
     },
     "execution_count": 39,
     "metadata": {},
     "output_type": "execute_result"
    }
   ],
   "source": [
    "data2.isna().sum()"
   ]
  },
  {
   "cell_type": "code",
   "execution_count": 48,
   "metadata": {},
   "outputs": [],
   "source": [
    "#그룹별 중앙값 대체\n",
    "for col in no_drop_numeri :\n",
    "    data2[col] = data2.groupby('Default')[col].transform(lambda x: x.fillna(x.median()))\n",
    "#그룹별 최빈값 대체\n",
    "for col in no_drop_cat :\n",
    "    vals = data2.groupby(['Default'])[col] \\\n",
    "         .transform(lambda x: x.mode(dropna=False).iloc[0])\n",
    "    data2[col] = data2[col].fillna(vals)\n",
    "\n"
   ]
  },
  {
   "cell_type": "code",
   "execution_count": 52,
   "metadata": {},
   "outputs": [
    {
     "data": {
      "text/plain": [
       "Client_Income                 0\n",
       "Car_Owned                     0\n",
       "Bike_Owned                    0\n",
       "Active_Loan                   0\n",
       "House_Own                     0\n",
       "Child_Count                   0\n",
       "Credit_Amount                 0\n",
       "Loan_Annuity                  0\n",
       "Accompany_Client              0\n",
       "Client_Income_Type            0\n",
       "Client_Education              0\n",
       "Client_Marital_Status         0\n",
       "Client_Gender                 0\n",
       "Loan_Contract_Type            0\n",
       "Client_Housing_Type           0\n",
       "Population_Region_Relative    0\n",
       "Age_Days                      0\n",
       "Employed_Days                 0\n",
       "Registration_Days             0\n",
       "ID_Days                       0\n",
       "Homephone_Tag                 0\n",
       "Workphone_Working             0\n",
       "Client_Family_Members         0\n",
       "Cleint_City_Rating            0\n",
       "Application_Process_Day       0\n",
       "Application_Process_Hour      0\n",
       "Client_Permanent_Match_Tag    0\n",
       "Client_Contact_Work_Tag       0\n",
       "Score_Source_2                0\n",
       "Phone_Change                  0\n",
       "Default                       0\n",
       "dtype: int64"
      ]
     },
     "execution_count": 52,
     "metadata": {},
     "output_type": "execute_result"
    }
   ],
   "source": [
    "data2.isna().sum()"
   ]
  },
  {
   "cell_type": "code",
   "execution_count": 51,
   "metadata": {},
   "outputs": [],
   "source": [
    "standard_scaler = StandardScaler()\n",
    "onehot_encoder = OneHotEncoder()\n",
    "prep_processor = ColumnTransformer(\n",
    "     [('standard',standard_scaler,no_drop_numeri),\n",
    "     ('onehot',onehot_encoder, no_drop_cat),\n",
    "      \n",
    "     ],remainder='passthrough'\n",
    ")\n"
   ]
  },
  {
   "cell_type": "code",
   "execution_count": 55,
   "metadata": {},
   "outputs": [],
   "source": [
    "Y = data2['Default']\n",
    "X = data2.drop('Default', axis=1)"
   ]
  },
  {
   "cell_type": "code",
   "execution_count": 59,
   "metadata": {},
   "outputs": [],
   "source": [
    "train_x, test_x, train_y, test_y = train_test_split(X, Y, test_size=0.2, random_state=42, stratify=Y)"
   ]
  },
  {
   "cell_type": "code",
   "execution_count": 62,
   "metadata": {},
   "outputs": [
    {
     "data": {
      "text/plain": [
       "30"
      ]
     },
     "execution_count": 62,
     "metadata": {},
     "output_type": "execute_result"
    }
   ],
   "source": [
    "len(X.columns)"
   ]
  },
  {
   "cell_type": "code",
   "execution_count": 60,
   "metadata": {},
   "outputs": [
    {
     "data": {
      "text/html": [
       "<style>#sk-container-id-1 {color: black;background-color: white;}#sk-container-id-1 pre{padding: 0;}#sk-container-id-1 div.sk-toggleable {background-color: white;}#sk-container-id-1 label.sk-toggleable__label {cursor: pointer;display: block;width: 100%;margin-bottom: 0;padding: 0.3em;box-sizing: border-box;text-align: center;}#sk-container-id-1 label.sk-toggleable__label-arrow:before {content: \"▸\";float: left;margin-right: 0.25em;color: #696969;}#sk-container-id-1 label.sk-toggleable__label-arrow:hover:before {color: black;}#sk-container-id-1 div.sk-estimator:hover label.sk-toggleable__label-arrow:before {color: black;}#sk-container-id-1 div.sk-toggleable__content {max-height: 0;max-width: 0;overflow: hidden;text-align: left;background-color: #f0f8ff;}#sk-container-id-1 div.sk-toggleable__content pre {margin: 0.2em;color: black;border-radius: 0.25em;background-color: #f0f8ff;}#sk-container-id-1 input.sk-toggleable__control:checked~div.sk-toggleable__content {max-height: 200px;max-width: 100%;overflow: auto;}#sk-container-id-1 input.sk-toggleable__control:checked~label.sk-toggleable__label-arrow:before {content: \"▾\";}#sk-container-id-1 div.sk-estimator input.sk-toggleable__control:checked~label.sk-toggleable__label {background-color: #d4ebff;}#sk-container-id-1 div.sk-label input.sk-toggleable__control:checked~label.sk-toggleable__label {background-color: #d4ebff;}#sk-container-id-1 input.sk-hidden--visually {border: 0;clip: rect(1px 1px 1px 1px);clip: rect(1px, 1px, 1px, 1px);height: 1px;margin: -1px;overflow: hidden;padding: 0;position: absolute;width: 1px;}#sk-container-id-1 div.sk-estimator {font-family: monospace;background-color: #f0f8ff;border: 1px dotted black;border-radius: 0.25em;box-sizing: border-box;margin-bottom: 0.5em;}#sk-container-id-1 div.sk-estimator:hover {background-color: #d4ebff;}#sk-container-id-1 div.sk-parallel-item::after {content: \"\";width: 100%;border-bottom: 1px solid gray;flex-grow: 1;}#sk-container-id-1 div.sk-label:hover label.sk-toggleable__label {background-color: #d4ebff;}#sk-container-id-1 div.sk-serial::before {content: \"\";position: absolute;border-left: 1px solid gray;box-sizing: border-box;top: 0;bottom: 0;left: 50%;z-index: 0;}#sk-container-id-1 div.sk-serial {display: flex;flex-direction: column;align-items: center;background-color: white;padding-right: 0.2em;padding-left: 0.2em;position: relative;}#sk-container-id-1 div.sk-item {position: relative;z-index: 1;}#sk-container-id-1 div.sk-parallel {display: flex;align-items: stretch;justify-content: center;background-color: white;position: relative;}#sk-container-id-1 div.sk-item::before, #sk-container-id-1 div.sk-parallel-item::before {content: \"\";position: absolute;border-left: 1px solid gray;box-sizing: border-box;top: 0;bottom: 0;left: 50%;z-index: -1;}#sk-container-id-1 div.sk-parallel-item {display: flex;flex-direction: column;z-index: 1;position: relative;background-color: white;}#sk-container-id-1 div.sk-parallel-item:first-child::after {align-self: flex-end;width: 50%;}#sk-container-id-1 div.sk-parallel-item:last-child::after {align-self: flex-start;width: 50%;}#sk-container-id-1 div.sk-parallel-item:only-child::after {width: 0;}#sk-container-id-1 div.sk-dashed-wrapped {border: 1px dashed gray;margin: 0 0.4em 0.5em 0.4em;box-sizing: border-box;padding-bottom: 0.4em;background-color: white;}#sk-container-id-1 div.sk-label label {font-family: monospace;font-weight: bold;display: inline-block;line-height: 1.2em;}#sk-container-id-1 div.sk-label-container {text-align: center;}#sk-container-id-1 div.sk-container {/* jupyter's `normalize.less` sets `[hidden] { display: none; }` but bootstrap.min.css set `[hidden] { display: none !important; }` so we also need the `!important` here to be able to override the default hidden behavior on the sphinx rendered scikit-learn.org. See: https://github.com/scikit-learn/scikit-learn/issues/21755 */display: inline-block !important;position: relative;}#sk-container-id-1 div.sk-text-repr-fallback {display: none;}</style><div id=\"sk-container-id-1\" class=\"sk-top-container\"><div class=\"sk-text-repr-fallback\"><pre>ColumnTransformer(remainder=&#x27;passthrough&#x27;,\n",
       "                  transformers=[(&#x27;standard&#x27;, StandardScaler(),\n",
       "                                 [&#x27;Age_Days&#x27;, &#x27;Child_Count&#x27;,\n",
       "                                  &#x27;Cleint_City_Rating&#x27;, &#x27;Client_Family_Members&#x27;,\n",
       "                                  &#x27;Client_Income&#x27;, &#x27;Credit_Amount&#x27;,\n",
       "                                  &#x27;Employed_Days&#x27;, &#x27;ID_Days&#x27;, &#x27;Loan_Annuity&#x27;,\n",
       "                                  &#x27;Phone_Change&#x27;, &#x27;Population_Region_Relative&#x27;,\n",
       "                                  &#x27;Registration_Days&#x27;, &#x27;Score_Source_2&#x27;]),\n",
       "                                (&#x27;onehot&#x27;, OneHotEncoder(),\n",
       "                                 [&#x27;Accompany_Client&#x27;, &#x27;Active_Loan&#x27;,\n",
       "                                  &#x27;Application_Process_Day&#x27;,\n",
       "                                  &#x27;Application_Process_Hour&#x27;, &#x27;Bike_Owned&#x27;,\n",
       "                                  &#x27;Car_Owned&#x27;, &#x27;Client_Contact_Work_Tag&#x27;,\n",
       "                                  &#x27;Client_Education&#x27;, &#x27;Client_Gender&#x27;,\n",
       "                                  &#x27;Client_Housing_Type&#x27;, &#x27;Client_Income_Type&#x27;,\n",
       "                                  &#x27;Client_Marital_Status&#x27;,\n",
       "                                  &#x27;Client_Permanent_Match_Tag&#x27;, &#x27;Homephone_Tag&#x27;,\n",
       "                                  &#x27;House_Own&#x27;, &#x27;Loan_Contract_Type&#x27;,\n",
       "                                  &#x27;Workphone_Working&#x27;])])</pre><b>In a Jupyter environment, please rerun this cell to show the HTML representation or trust the notebook. <br />On GitHub, the HTML representation is unable to render, please try loading this page with nbviewer.org.</b></div><div class=\"sk-container\" hidden><div class=\"sk-item sk-dashed-wrapped\"><div class=\"sk-label-container\"><div class=\"sk-label sk-toggleable\"><input class=\"sk-toggleable__control sk-hidden--visually\" id=\"sk-estimator-id-1\" type=\"checkbox\" ><label for=\"sk-estimator-id-1\" class=\"sk-toggleable__label sk-toggleable__label-arrow\">ColumnTransformer</label><div class=\"sk-toggleable__content\"><pre>ColumnTransformer(remainder=&#x27;passthrough&#x27;,\n",
       "                  transformers=[(&#x27;standard&#x27;, StandardScaler(),\n",
       "                                 [&#x27;Age_Days&#x27;, &#x27;Child_Count&#x27;,\n",
       "                                  &#x27;Cleint_City_Rating&#x27;, &#x27;Client_Family_Members&#x27;,\n",
       "                                  &#x27;Client_Income&#x27;, &#x27;Credit_Amount&#x27;,\n",
       "                                  &#x27;Employed_Days&#x27;, &#x27;ID_Days&#x27;, &#x27;Loan_Annuity&#x27;,\n",
       "                                  &#x27;Phone_Change&#x27;, &#x27;Population_Region_Relative&#x27;,\n",
       "                                  &#x27;Registration_Days&#x27;, &#x27;Score_Source_2&#x27;]),\n",
       "                                (&#x27;onehot&#x27;, OneHotEncoder(),\n",
       "                                 [&#x27;Accompany_Client&#x27;, &#x27;Active_Loan&#x27;,\n",
       "                                  &#x27;Application_Process_Day&#x27;,\n",
       "                                  &#x27;Application_Process_Hour&#x27;, &#x27;Bike_Owned&#x27;,\n",
       "                                  &#x27;Car_Owned&#x27;, &#x27;Client_Contact_Work_Tag&#x27;,\n",
       "                                  &#x27;Client_Education&#x27;, &#x27;Client_Gender&#x27;,\n",
       "                                  &#x27;Client_Housing_Type&#x27;, &#x27;Client_Income_Type&#x27;,\n",
       "                                  &#x27;Client_Marital_Status&#x27;,\n",
       "                                  &#x27;Client_Permanent_Match_Tag&#x27;, &#x27;Homephone_Tag&#x27;,\n",
       "                                  &#x27;House_Own&#x27;, &#x27;Loan_Contract_Type&#x27;,\n",
       "                                  &#x27;Workphone_Working&#x27;])])</pre></div></div></div><div class=\"sk-parallel\"><div class=\"sk-parallel-item\"><div class=\"sk-item\"><div class=\"sk-label-container\"><div class=\"sk-label sk-toggleable\"><input class=\"sk-toggleable__control sk-hidden--visually\" id=\"sk-estimator-id-2\" type=\"checkbox\" ><label for=\"sk-estimator-id-2\" class=\"sk-toggleable__label sk-toggleable__label-arrow\">standard</label><div class=\"sk-toggleable__content\"><pre>[&#x27;Age_Days&#x27;, &#x27;Child_Count&#x27;, &#x27;Cleint_City_Rating&#x27;, &#x27;Client_Family_Members&#x27;, &#x27;Client_Income&#x27;, &#x27;Credit_Amount&#x27;, &#x27;Employed_Days&#x27;, &#x27;ID_Days&#x27;, &#x27;Loan_Annuity&#x27;, &#x27;Phone_Change&#x27;, &#x27;Population_Region_Relative&#x27;, &#x27;Registration_Days&#x27;, &#x27;Score_Source_2&#x27;]</pre></div></div></div><div class=\"sk-serial\"><div class=\"sk-item\"><div class=\"sk-estimator sk-toggleable\"><input class=\"sk-toggleable__control sk-hidden--visually\" id=\"sk-estimator-id-3\" type=\"checkbox\" ><label for=\"sk-estimator-id-3\" class=\"sk-toggleable__label sk-toggleable__label-arrow\">StandardScaler</label><div class=\"sk-toggleable__content\"><pre>StandardScaler()</pre></div></div></div></div></div></div><div class=\"sk-parallel-item\"><div class=\"sk-item\"><div class=\"sk-label-container\"><div class=\"sk-label sk-toggleable\"><input class=\"sk-toggleable__control sk-hidden--visually\" id=\"sk-estimator-id-4\" type=\"checkbox\" ><label for=\"sk-estimator-id-4\" class=\"sk-toggleable__label sk-toggleable__label-arrow\">onehot</label><div class=\"sk-toggleable__content\"><pre>[&#x27;Accompany_Client&#x27;, &#x27;Active_Loan&#x27;, &#x27;Application_Process_Day&#x27;, &#x27;Application_Process_Hour&#x27;, &#x27;Bike_Owned&#x27;, &#x27;Car_Owned&#x27;, &#x27;Client_Contact_Work_Tag&#x27;, &#x27;Client_Education&#x27;, &#x27;Client_Gender&#x27;, &#x27;Client_Housing_Type&#x27;, &#x27;Client_Income_Type&#x27;, &#x27;Client_Marital_Status&#x27;, &#x27;Client_Permanent_Match_Tag&#x27;, &#x27;Homephone_Tag&#x27;, &#x27;House_Own&#x27;, &#x27;Loan_Contract_Type&#x27;, &#x27;Workphone_Working&#x27;]</pre></div></div></div><div class=\"sk-serial\"><div class=\"sk-item\"><div class=\"sk-estimator sk-toggleable\"><input class=\"sk-toggleable__control sk-hidden--visually\" id=\"sk-estimator-id-5\" type=\"checkbox\" ><label for=\"sk-estimator-id-5\" class=\"sk-toggleable__label sk-toggleable__label-arrow\">OneHotEncoder</label><div class=\"sk-toggleable__content\"><pre>OneHotEncoder()</pre></div></div></div></div></div></div><div class=\"sk-parallel-item\"><div class=\"sk-item\"><div class=\"sk-label-container\"><div class=\"sk-label sk-toggleable\"><input class=\"sk-toggleable__control sk-hidden--visually\" id=\"sk-estimator-id-6\" type=\"checkbox\" ><label for=\"sk-estimator-id-6\" class=\"sk-toggleable__label sk-toggleable__label-arrow\">remainder</label><div class=\"sk-toggleable__content\"><pre>[]</pre></div></div></div><div class=\"sk-serial\"><div class=\"sk-item\"><div class=\"sk-estimator sk-toggleable\"><input class=\"sk-toggleable__control sk-hidden--visually\" id=\"sk-estimator-id-7\" type=\"checkbox\" ><label for=\"sk-estimator-id-7\" class=\"sk-toggleable__label sk-toggleable__label-arrow\">passthrough</label><div class=\"sk-toggleable__content\"><pre>passthrough</pre></div></div></div></div></div></div></div></div></div></div>"
      ],
      "text/plain": [
       "ColumnTransformer(remainder='passthrough',\n",
       "                  transformers=[('standard', StandardScaler(),\n",
       "                                 ['Age_Days', 'Child_Count',\n",
       "                                  'Cleint_City_Rating', 'Client_Family_Members',\n",
       "                                  'Client_Income', 'Credit_Amount',\n",
       "                                  'Employed_Days', 'ID_Days', 'Loan_Annuity',\n",
       "                                  'Phone_Change', 'Population_Region_Relative',\n",
       "                                  'Registration_Days', 'Score_Source_2']),\n",
       "                                ('onehot', OneHotEncoder(),\n",
       "                                 ['Accompany_Client', 'Active_Loan',\n",
       "                                  'Application_Process_Day',\n",
       "                                  'Application_Process_Hour', 'Bike_Owned',\n",
       "                                  'Car_Owned', 'Client_Contact_Work_Tag',\n",
       "                                  'Client_Education', 'Client_Gender',\n",
       "                                  'Client_Housing_Type', 'Client_Income_Type',\n",
       "                                  'Client_Marital_Status',\n",
       "                                  'Client_Permanent_Match_Tag', 'Homephone_Tag',\n",
       "                                  'House_Own', 'Loan_Contract_Type',\n",
       "                                  'Workphone_Working'])])"
      ]
     },
     "execution_count": 60,
     "metadata": {},
     "output_type": "execute_result"
    }
   ],
   "source": [
    "prep_processor.fit(train_x)"
   ]
  },
  {
   "cell_type": "code",
   "execution_count": 65,
   "metadata": {},
   "outputs": [],
   "source": [
    "transform_x_train = prep_processor.transform(train_x)\n",
    "transform_x_test = prep_processor.transform(test_x)\n"
   ]
  },
  {
   "cell_type": "code",
   "execution_count": 81,
   "metadata": {},
   "outputs": [
    {
     "data": {
      "text/plain": [
       "(24372, 93)"
      ]
     },
     "execution_count": 81,
     "metadata": {},
     "output_type": "execute_result"
    }
   ],
   "source": [
    "transform_x_test.shape"
   ]
  },
  {
   "cell_type": "code",
   "execution_count": 108,
   "metadata": {},
   "outputs": [],
   "source": [
    "from functools import partial\n",
    "from keras.layers import LeakyReLU\n",
    "\n"
   ]
  },
  {
   "cell_type": "code",
   "execution_count": 80,
   "metadata": {},
   "outputs": [],
   "source": [
    "checkpoint_path = \"deep_training/model_cp.ckpt\"\n",
    "\n",
    "checkpoint_dir = os.path.dirname(checkpoint_path)\n",
    "\n",
    "cp_callback = tf.keras.callbacks.ModelCheckpoint(filepath=checkpoint_path, save_weights_only=False, verbose=1,)\n",
    "earlystop_callback = tf.keras.callbacks.EarlyStopping(monitor=\"val_loss\", min_delta=0, patience=300)"
   ]
  },
  {
   "cell_type": "code",
   "execution_count": 109,
   "metadata": {},
   "outputs": [],
   "source": [
    "neural_model = tf.keras.models.Sequential(\n",
    "    [\n",
    "        keras.layers.Dense(units=93, input_shape=(93,), activation=keras.layers.LeakyReLU(alpha=0.01),kernel_regularizer=tf.keras.regularizers.L2(0)),\n",
    "        keras.layers.Dense(units=186,  activation=keras.layers.LeakyReLU(alpha=0.01), kernel_regularizer=tf.keras.regularizers.L2(0)),\n",
    "        keras.layers.Dense(units=186, activation=keras.layers.LeakyReLU(alpha=0.01), kernel_regularizer=tf.keras.regularizers.L2(0.00)),\n",
    "        keras.layers.Dropout(0.3),  #0.7 under fitting \n",
    "        keras.layers.Dense(units=1, activation='sigmoid'),\n",
    "        \n",
    "\n",
    "    ]\n",
    "    ,name='predict'\n",
    ")"
   ]
  },
  {
   "cell_type": "code",
   "execution_count": 110,
   "metadata": {},
   "outputs": [
    {
     "name": "stdout",
     "output_type": "stream",
     "text": [
      "Model: \"predict\"\n",
      "_________________________________________________________________\n",
      " Layer (type)                Output Shape              Param #   \n",
      "=================================================================\n",
      " dense_24 (Dense)            (None, 93)                8742      \n",
      "                                                                 \n",
      " dense_25 (Dense)            (None, 186)               17484     \n",
      "                                                                 \n",
      " dense_26 (Dense)            (None, 186)               34782     \n",
      "                                                                 \n",
      " dropout_6 (Dropout)         (None, 186)               0         \n",
      "                                                                 \n",
      " dense_27 (Dense)            (None, 1)                 187       \n",
      "                                                                 \n",
      "=================================================================\n",
      "Total params: 61,195\n",
      "Trainable params: 61,195\n",
      "Non-trainable params: 0\n",
      "_________________________________________________________________\n"
     ]
    }
   ],
   "source": [
    "neural_model.summary()"
   ]
  },
  {
   "cell_type": "code",
   "execution_count": 113,
   "metadata": {},
   "outputs": [],
   "source": [
    "neural_model.compile(optimizer=tf.optimizers.Adam(learning_rate=0.01), loss=tf.keras.losses.BinaryCrossentropy(from_logits=False,label_smoothing=0),\n",
    "metrics=['binary_accuracy','Recall','Precision' ] )"
   ]
  },
  {
   "cell_type": "code",
   "execution_count": 114,
   "metadata": {},
   "outputs": [
    {
     "name": "stdout",
     "output_type": "stream",
     "text": [
      "Epoch 1/100\n"
     ]
    },
    {
     "name": "stderr",
     "output_type": "stream",
     "text": [
      "c:\\Users\\PaleBlue\\semi_project\\venv\\lib\\site-packages\\keras\\backend.py:5673: UserWarning: \"`binary_crossentropy` received `from_logits=True`, but the `output` argument was produced by a Sigmoid activation and thus does not represent logits. Was this intended?\n",
      "  output, from_logits = _get_logits(\n"
     ]
    },
    {
     "name": "stdout",
     "output_type": "stream",
     "text": [
      "2427/2438 [============================>.] - ETA: 0s - loss: 55.2836 - binary_accuracy: 0.9175 - recall: 0.0056 - precision: 0.1477\n",
      "Epoch 1: saving model to deep_training\\model_cp.ckpt\n"
     ]
    },
    {
     "name": "stderr",
     "output_type": "stream",
     "text": [
      "WARNING:absl:Found untraced functions such as leaky_re_lu_layer_call_fn, leaky_re_lu_layer_call_and_return_conditional_losses, leaky_re_lu_1_layer_call_fn, leaky_re_lu_1_layer_call_and_return_conditional_losses, leaky_re_lu_2_layer_call_fn while saving (showing 5 of 6). These functions will not be directly callable after loading.\n"
     ]
    },
    {
     "name": "stdout",
     "output_type": "stream",
     "text": [
      "INFO:tensorflow:Assets written to: deep_training\\model_cp.ckpt\\assets\n"
     ]
    },
    {
     "name": "stderr",
     "output_type": "stream",
     "text": [
      "INFO:tensorflow:Assets written to: deep_training\\model_cp.ckpt\\assets\n"
     ]
    },
    {
     "name": "stdout",
     "output_type": "stream",
     "text": [
      "2438/2438 [==============================] - 6s 2ms/step - loss: 55.0714 - binary_accuracy: 0.9175 - recall: 0.0057 - precision: 0.1488 - val_loss: 1.8061 - val_binary_accuracy: 0.9172 - val_recall: 0.0000e+00 - val_precision: 0.0000e+00\n",
      "Epoch 2/100\n",
      "2414/2438 [============================>.] - ETA: 0s - loss: 17.6537 - binary_accuracy: 0.9082 - recall: 0.0231 - precision: 0.1218\n",
      "Epoch 2: saving model to deep_training\\model_cp.ckpt\n"
     ]
    },
    {
     "name": "stderr",
     "output_type": "stream",
     "text": [
      "WARNING:absl:Found untraced functions such as leaky_re_lu_layer_call_fn, leaky_re_lu_layer_call_and_return_conditional_losses, leaky_re_lu_1_layer_call_fn, leaky_re_lu_1_layer_call_and_return_conditional_losses, leaky_re_lu_2_layer_call_fn while saving (showing 5 of 6). These functions will not be directly callable after loading.\n"
     ]
    },
    {
     "name": "stdout",
     "output_type": "stream",
     "text": [
      "INFO:tensorflow:Assets written to: deep_training\\model_cp.ckpt\\assets\n"
     ]
    },
    {
     "name": "stderr",
     "output_type": "stream",
     "text": [
      "INFO:tensorflow:Assets written to: deep_training\\model_cp.ckpt\\assets\n"
     ]
    },
    {
     "name": "stdout",
     "output_type": "stream",
     "text": [
      "2438/2438 [==============================] - 5s 2ms/step - loss: 17.4906 - binary_accuracy: 0.9082 - recall: 0.0228 - precision: 0.1208 - val_loss: 111.3830 - val_binary_accuracy: 0.9172 - val_recall: 0.0000e+00 - val_precision: 0.0000e+00\n",
      "Epoch 3/100\n",
      "2424/2438 [============================>.] - ETA: 0s - loss: 41.6618 - binary_accuracy: 0.8991 - recall: 0.0273 - precision: 0.0881\n",
      "Epoch 3: saving model to deep_training\\model_cp.ckpt\n"
     ]
    },
    {
     "name": "stderr",
     "output_type": "stream",
     "text": [
      "WARNING:absl:Found untraced functions such as leaky_re_lu_layer_call_fn, leaky_re_lu_layer_call_and_return_conditional_losses, leaky_re_lu_1_layer_call_fn, leaky_re_lu_1_layer_call_and_return_conditional_losses, leaky_re_lu_2_layer_call_fn while saving (showing 5 of 6). These functions will not be directly callable after loading.\n"
     ]
    },
    {
     "name": "stdout",
     "output_type": "stream",
     "text": [
      "INFO:tensorflow:Assets written to: deep_training\\model_cp.ckpt\\assets\n"
     ]
    },
    {
     "name": "stderr",
     "output_type": "stream",
     "text": [
      "INFO:tensorflow:Assets written to: deep_training\\model_cp.ckpt\\assets\n"
     ]
    },
    {
     "name": "stdout",
     "output_type": "stream",
     "text": [
      "2438/2438 [==============================] - 5s 2ms/step - loss: 41.4403 - binary_accuracy: 0.8992 - recall: 0.0273 - precision: 0.0881 - val_loss: 1.0722 - val_binary_accuracy: 0.9172 - val_recall: 0.0000e+00 - val_precision: 0.0000e+00\n",
      "Epoch 4/100\n",
      "2429/2438 [============================>.] - ETA: 0s - loss: 7.6643 - binary_accuracy: 0.8912 - recall: 0.0314 - precision: 0.0752\n",
      "Epoch 4: saving model to deep_training\\model_cp.ckpt\n"
     ]
    },
    {
     "name": "stderr",
     "output_type": "stream",
     "text": [
      "WARNING:absl:Found untraced functions such as leaky_re_lu_layer_call_fn, leaky_re_lu_layer_call_and_return_conditional_losses, leaky_re_lu_1_layer_call_fn, leaky_re_lu_1_layer_call_and_return_conditional_losses, leaky_re_lu_2_layer_call_fn while saving (showing 5 of 6). These functions will not be directly callable after loading.\n"
     ]
    },
    {
     "name": "stdout",
     "output_type": "stream",
     "text": [
      "INFO:tensorflow:Assets written to: deep_training\\model_cp.ckpt\\assets\n"
     ]
    },
    {
     "name": "stderr",
     "output_type": "stream",
     "text": [
      "INFO:tensorflow:Assets written to: deep_training\\model_cp.ckpt\\assets\n"
     ]
    },
    {
     "name": "stdout",
     "output_type": "stream",
     "text": [
      "2438/2438 [==============================] - 6s 2ms/step - loss: 7.6402 - binary_accuracy: 0.8913 - recall: 0.0313 - precision: 0.0752 - val_loss: 3.3911 - val_binary_accuracy: 0.9170 - val_recall: 6.1958e-04 - val_precision: 0.1429\n",
      "Epoch 5/100\n",
      "2423/2438 [============================>.] - ETA: 0s - loss: 1.7635 - binary_accuracy: 0.9119 - recall: 0.0109 - precision: 0.0930\n",
      "Epoch 5: saving model to deep_training\\model_cp.ckpt\n"
     ]
    },
    {
     "name": "stderr",
     "output_type": "stream",
     "text": [
      "WARNING:absl:Found untraced functions such as leaky_re_lu_layer_call_fn, leaky_re_lu_layer_call_and_return_conditional_losses, leaky_re_lu_1_layer_call_fn, leaky_re_lu_1_layer_call_and_return_conditional_losses, leaky_re_lu_2_layer_call_fn while saving (showing 5 of 6). These functions will not be directly callable after loading.\n"
     ]
    },
    {
     "name": "stdout",
     "output_type": "stream",
     "text": [
      "INFO:tensorflow:Assets written to: deep_training\\model_cp.ckpt\\assets\n"
     ]
    },
    {
     "name": "stderr",
     "output_type": "stream",
     "text": [
      "INFO:tensorflow:Assets written to: deep_training\\model_cp.ckpt\\assets\n"
     ]
    },
    {
     "name": "stdout",
     "output_type": "stream",
     "text": [
      "2438/2438 [==============================] - 7s 3ms/step - loss: 1.7552 - binary_accuracy: 0.9121 - recall: 0.0109 - precision: 0.0930 - val_loss: 0.5557 - val_binary_accuracy: 0.9172 - val_recall: 6.1958e-04 - val_precision: 0.3333\n",
      "Epoch 6/100\n",
      "2422/2438 [============================>.] - ETA: 0s - loss: 1.9128 - binary_accuracy: 0.9053 - recall: 0.0148 - precision: 0.0708\n",
      "Epoch 6: saving model to deep_training\\model_cp.ckpt\n"
     ]
    },
    {
     "name": "stderr",
     "output_type": "stream",
     "text": [
      "WARNING:absl:Found untraced functions such as leaky_re_lu_layer_call_fn, leaky_re_lu_layer_call_and_return_conditional_losses, leaky_re_lu_1_layer_call_fn, leaky_re_lu_1_layer_call_and_return_conditional_losses, leaky_re_lu_2_layer_call_fn while saving (showing 5 of 6). These functions will not be directly callable after loading.\n"
     ]
    },
    {
     "name": "stdout",
     "output_type": "stream",
     "text": [
      "INFO:tensorflow:Assets written to: deep_training\\model_cp.ckpt\\assets\n"
     ]
    },
    {
     "name": "stderr",
     "output_type": "stream",
     "text": [
      "INFO:tensorflow:Assets written to: deep_training\\model_cp.ckpt\\assets\n"
     ]
    },
    {
     "name": "stdout",
     "output_type": "stream",
     "text": [
      "2438/2438 [==============================] - 6s 2ms/step - loss: 1.9034 - binary_accuracy: 0.9053 - recall: 0.0147 - precision: 0.0702 - val_loss: 1.8039 - val_binary_accuracy: 0.9172 - val_recall: 6.1958e-04 - val_precision: 0.5000\n",
      "Epoch 7/100\n",
      "2427/2438 [============================>.] - ETA: 0s - loss: 14.2483 - binary_accuracy: 0.9132 - recall: 0.0107 - precision: 0.1049\n",
      "Epoch 7: saving model to deep_training\\model_cp.ckpt\n"
     ]
    },
    {
     "name": "stderr",
     "output_type": "stream",
     "text": [
      "WARNING:absl:Found untraced functions such as leaky_re_lu_layer_call_fn, leaky_re_lu_layer_call_and_return_conditional_losses, leaky_re_lu_1_layer_call_fn, leaky_re_lu_1_layer_call_and_return_conditional_losses, leaky_re_lu_2_layer_call_fn while saving (showing 5 of 6). These functions will not be directly callable after loading.\n"
     ]
    },
    {
     "name": "stdout",
     "output_type": "stream",
     "text": [
      "INFO:tensorflow:Assets written to: deep_training\\model_cp.ckpt\\assets\n"
     ]
    },
    {
     "name": "stderr",
     "output_type": "stream",
     "text": [
      "INFO:tensorflow:Assets written to: deep_training\\model_cp.ckpt\\assets\n"
     ]
    },
    {
     "name": "stdout",
     "output_type": "stream",
     "text": [
      "2438/2438 [==============================] - 5s 2ms/step - loss: 14.1911 - binary_accuracy: 0.9132 - recall: 0.0107 - precision: 0.1049 - val_loss: 0.7942 - val_binary_accuracy: 0.9172 - val_recall: 0.0000e+00 - val_precision: 0.0000e+00\n",
      "Epoch 8/100\n",
      "2432/2438 [============================>.] - ETA: 0s - loss: 2.4079 - binary_accuracy: 0.9136 - recall: 0.0069 - precision: 0.0766\n",
      "Epoch 8: saving model to deep_training\\model_cp.ckpt\n"
     ]
    },
    {
     "name": "stderr",
     "output_type": "stream",
     "text": [
      "WARNING:absl:Found untraced functions such as leaky_re_lu_layer_call_fn, leaky_re_lu_layer_call_and_return_conditional_losses, leaky_re_lu_1_layer_call_fn, leaky_re_lu_1_layer_call_and_return_conditional_losses, leaky_re_lu_2_layer_call_fn while saving (showing 5 of 6). These functions will not be directly callable after loading.\n"
     ]
    },
    {
     "name": "stdout",
     "output_type": "stream",
     "text": [
      "INFO:tensorflow:Assets written to: deep_training\\model_cp.ckpt\\assets\n"
     ]
    },
    {
     "name": "stderr",
     "output_type": "stream",
     "text": [
      "INFO:tensorflow:Assets written to: deep_training\\model_cp.ckpt\\assets\n"
     ]
    },
    {
     "name": "stdout",
     "output_type": "stream",
     "text": [
      "2438/2438 [==============================] - 5s 2ms/step - loss: 2.4037 - binary_accuracy: 0.9136 - recall: 0.0069 - precision: 0.0766 - val_loss: 11.3755 - val_binary_accuracy: 0.9169 - val_recall: 0.0000e+00 - val_precision: 0.0000e+00\n",
      "Epoch 9/100\n",
      "2412/2438 [============================>.] - ETA: 0s - loss: 3.0676 - binary_accuracy: 0.9143 - recall: 0.0089 - precision: 0.1056\n",
      "Epoch 9: saving model to deep_training\\model_cp.ckpt\n"
     ]
    },
    {
     "name": "stderr",
     "output_type": "stream",
     "text": [
      "WARNING:absl:Found untraced functions such as leaky_re_lu_layer_call_fn, leaky_re_lu_layer_call_and_return_conditional_losses, leaky_re_lu_1_layer_call_fn, leaky_re_lu_1_layer_call_and_return_conditional_losses, leaky_re_lu_2_layer_call_fn while saving (showing 5 of 6). These functions will not be directly callable after loading.\n"
     ]
    },
    {
     "name": "stdout",
     "output_type": "stream",
     "text": [
      "INFO:tensorflow:Assets written to: deep_training\\model_cp.ckpt\\assets\n"
     ]
    },
    {
     "name": "stderr",
     "output_type": "stream",
     "text": [
      "INFO:tensorflow:Assets written to: deep_training\\model_cp.ckpt\\assets\n"
     ]
    },
    {
     "name": "stdout",
     "output_type": "stream",
     "text": [
      "2438/2438 [==============================] - 5s 2ms/step - loss: 3.0400 - binary_accuracy: 0.9144 - recall: 0.0088 - precision: 0.1050 - val_loss: 0.5728 - val_binary_accuracy: 0.9172 - val_recall: 0.0000e+00 - val_precision: 0.0000e+00\n",
      "Epoch 10/100\n",
      "2427/2438 [============================>.] - ETA: 0s - loss: 2.0843 - binary_accuracy: 0.9172 - recall: 0.0056 - precision: 0.1331\n",
      "Epoch 10: saving model to deep_training\\model_cp.ckpt\n"
     ]
    },
    {
     "name": "stderr",
     "output_type": "stream",
     "text": [
      "WARNING:absl:Found untraced functions such as leaky_re_lu_layer_call_fn, leaky_re_lu_layer_call_and_return_conditional_losses, leaky_re_lu_1_layer_call_fn, leaky_re_lu_1_layer_call_and_return_conditional_losses, leaky_re_lu_2_layer_call_fn while saving (showing 5 of 6). These functions will not be directly callable after loading.\n"
     ]
    },
    {
     "name": "stdout",
     "output_type": "stream",
     "text": [
      "INFO:tensorflow:Assets written to: deep_training\\model_cp.ckpt\\assets\n"
     ]
    },
    {
     "name": "stderr",
     "output_type": "stream",
     "text": [
      "INFO:tensorflow:Assets written to: deep_training\\model_cp.ckpt\\assets\n"
     ]
    },
    {
     "name": "stdout",
     "output_type": "stream",
     "text": [
      "2438/2438 [==============================] - 5s 2ms/step - loss: 2.0774 - binary_accuracy: 0.9172 - recall: 0.0056 - precision: 0.1331 - val_loss: 0.5541 - val_binary_accuracy: 0.9172 - val_recall: 0.0000e+00 - val_precision: 0.0000e+00\n",
      "Epoch 11/100\n",
      "2436/2438 [============================>.] - ETA: 0s - loss: 0.8344 - binary_accuracy: 0.9162 - recall: 0.0066 - precision: 0.1152\n",
      "Epoch 11: saving model to deep_training\\model_cp.ckpt\n"
     ]
    },
    {
     "name": "stderr",
     "output_type": "stream",
     "text": [
      "WARNING:absl:Found untraced functions such as leaky_re_lu_layer_call_fn, leaky_re_lu_layer_call_and_return_conditional_losses, leaky_re_lu_1_layer_call_fn, leaky_re_lu_1_layer_call_and_return_conditional_losses, leaky_re_lu_2_layer_call_fn while saving (showing 5 of 6). These functions will not be directly callable after loading.\n"
     ]
    },
    {
     "name": "stdout",
     "output_type": "stream",
     "text": [
      "INFO:tensorflow:Assets written to: deep_training\\model_cp.ckpt\\assets\n"
     ]
    },
    {
     "name": "stderr",
     "output_type": "stream",
     "text": [
      "INFO:tensorflow:Assets written to: deep_training\\model_cp.ckpt\\assets\n"
     ]
    },
    {
     "name": "stdout",
     "output_type": "stream",
     "text": [
      "2438/2438 [==============================] - 5s 2ms/step - loss: 0.8342 - binary_accuracy: 0.9162 - recall: 0.0065 - precision: 0.1148 - val_loss: 5.1923 - val_binary_accuracy: 0.9171 - val_recall: 6.1958e-04 - val_precision: 0.2000\n",
      "Epoch 12/100\n",
      "2433/2438 [============================>.] - ETA: 0s - loss: 3.2246 - binary_accuracy: 0.9076 - recall: 0.0147 - precision: 0.0821\n",
      "Epoch 12: saving model to deep_training\\model_cp.ckpt\n"
     ]
    },
    {
     "name": "stderr",
     "output_type": "stream",
     "text": [
      "WARNING:absl:Found untraced functions such as leaky_re_lu_layer_call_fn, leaky_re_lu_layer_call_and_return_conditional_losses, leaky_re_lu_1_layer_call_fn, leaky_re_lu_1_layer_call_and_return_conditional_losses, leaky_re_lu_2_layer_call_fn while saving (showing 5 of 6). These functions will not be directly callable after loading.\n"
     ]
    },
    {
     "name": "stdout",
     "output_type": "stream",
     "text": [
      "INFO:tensorflow:Assets written to: deep_training\\model_cp.ckpt\\assets\n"
     ]
    },
    {
     "name": "stderr",
     "output_type": "stream",
     "text": [
      "INFO:tensorflow:Assets written to: deep_training\\model_cp.ckpt\\assets\n"
     ]
    },
    {
     "name": "stdout",
     "output_type": "stream",
     "text": [
      "2438/2438 [==============================] - 6s 2ms/step - loss: 3.2198 - binary_accuracy: 0.9077 - recall: 0.0147 - precision: 0.0821 - val_loss: 1.3546 - val_binary_accuracy: 0.9172 - val_recall: 0.0000e+00 - val_precision: 0.0000e+00\n",
      "Epoch 13/100\n",
      "2411/2438 [============================>.] - ETA: 0s - loss: 0.7738 - binary_accuracy: 0.9163 - recall: 0.0047 - precision: 0.0929\n",
      "Epoch 13: saving model to deep_training\\model_cp.ckpt\n"
     ]
    },
    {
     "name": "stderr",
     "output_type": "stream",
     "text": [
      "WARNING:absl:Found untraced functions such as leaky_re_lu_layer_call_fn, leaky_re_lu_layer_call_and_return_conditional_losses, leaky_re_lu_1_layer_call_fn, leaky_re_lu_1_layer_call_and_return_conditional_losses, leaky_re_lu_2_layer_call_fn while saving (showing 5 of 6). These functions will not be directly callable after loading.\n"
     ]
    },
    {
     "name": "stdout",
     "output_type": "stream",
     "text": [
      "INFO:tensorflow:Assets written to: deep_training\\model_cp.ckpt\\assets\n"
     ]
    },
    {
     "name": "stderr",
     "output_type": "stream",
     "text": [
      "INFO:tensorflow:Assets written to: deep_training\\model_cp.ckpt\\assets\n"
     ]
    },
    {
     "name": "stdout",
     "output_type": "stream",
     "text": [
      "2438/2438 [==============================] - 6s 2ms/step - loss: 0.7694 - binary_accuracy: 0.9164 - recall: 0.0046 - precision: 0.0921 - val_loss: 1.3943 - val_binary_accuracy: 0.9172 - val_recall: 6.1958e-04 - val_precision: 0.5000\n",
      "Epoch 14/100\n",
      "2423/2438 [============================>.] - ETA: 0s - loss: 1.7286 - binary_accuracy: 0.9117 - recall: 0.0114 - precision: 0.0934\n",
      "Epoch 14: saving model to deep_training\\model_cp.ckpt\n"
     ]
    },
    {
     "name": "stderr",
     "output_type": "stream",
     "text": [
      "WARNING:absl:Found untraced functions such as leaky_re_lu_layer_call_fn, leaky_re_lu_layer_call_and_return_conditional_losses, leaky_re_lu_1_layer_call_fn, leaky_re_lu_1_layer_call_and_return_conditional_losses, leaky_re_lu_2_layer_call_fn while saving (showing 5 of 6). These functions will not be directly callable after loading.\n"
     ]
    },
    {
     "name": "stdout",
     "output_type": "stream",
     "text": [
      "INFO:tensorflow:Assets written to: deep_training\\model_cp.ckpt\\assets\n"
     ]
    },
    {
     "name": "stderr",
     "output_type": "stream",
     "text": [
      "INFO:tensorflow:Assets written to: deep_training\\model_cp.ckpt\\assets\n"
     ]
    },
    {
     "name": "stdout",
     "output_type": "stream",
     "text": [
      "2438/2438 [==============================] - 5s 2ms/step - loss: 1.7207 - binary_accuracy: 0.9118 - recall: 0.0113 - precision: 0.0932 - val_loss: 0.8957 - val_binary_accuracy: 0.9172 - val_recall: 0.0000e+00 - val_precision: 0.0000e+00\n",
      "Epoch 15/100\n",
      "2428/2438 [============================>.] - ETA: 0s - loss: 0.8585 - binary_accuracy: 0.9177 - recall: 0.0029 - precision: 0.0957\n",
      "Epoch 15: saving model to deep_training\\model_cp.ckpt\n"
     ]
    },
    {
     "name": "stderr",
     "output_type": "stream",
     "text": [
      "WARNING:absl:Found untraced functions such as leaky_re_lu_layer_call_fn, leaky_re_lu_layer_call_and_return_conditional_losses, leaky_re_lu_1_layer_call_fn, leaky_re_lu_1_layer_call_and_return_conditional_losses, leaky_re_lu_2_layer_call_fn while saving (showing 5 of 6). These functions will not be directly callable after loading.\n"
     ]
    },
    {
     "name": "stdout",
     "output_type": "stream",
     "text": [
      "INFO:tensorflow:Assets written to: deep_training\\model_cp.ckpt\\assets\n"
     ]
    },
    {
     "name": "stderr",
     "output_type": "stream",
     "text": [
      "INFO:tensorflow:Assets written to: deep_training\\model_cp.ckpt\\assets\n"
     ]
    },
    {
     "name": "stdout",
     "output_type": "stream",
     "text": [
      "2438/2438 [==============================] - 6s 2ms/step - loss: 0.8568 - binary_accuracy: 0.9177 - recall: 0.0029 - precision: 0.0952 - val_loss: 0.9391 - val_binary_accuracy: 0.9172 - val_recall: 0.0000e+00 - val_precision: 0.0000e+00\n",
      "Epoch 16/100\n",
      "2419/2438 [============================>.] - ETA: 0s - loss: 1.0579 - binary_accuracy: 0.9168 - recall: 0.0072 - precision: 0.1420\n",
      "Epoch 16: saving model to deep_training\\model_cp.ckpt\n"
     ]
    },
    {
     "name": "stderr",
     "output_type": "stream",
     "text": [
      "WARNING:absl:Found untraced functions such as leaky_re_lu_layer_call_fn, leaky_re_lu_layer_call_and_return_conditional_losses, leaky_re_lu_1_layer_call_fn, leaky_re_lu_1_layer_call_and_return_conditional_losses, leaky_re_lu_2_layer_call_fn while saving (showing 5 of 6). These functions will not be directly callable after loading.\n"
     ]
    },
    {
     "name": "stdout",
     "output_type": "stream",
     "text": [
      "INFO:tensorflow:Assets written to: deep_training\\model_cp.ckpt\\assets\n"
     ]
    },
    {
     "name": "stderr",
     "output_type": "stream",
     "text": [
      "INFO:tensorflow:Assets written to: deep_training\\model_cp.ckpt\\assets\n"
     ]
    },
    {
     "name": "stdout",
     "output_type": "stream",
     "text": [
      "2438/2438 [==============================] - 6s 2ms/step - loss: 1.0539 - binary_accuracy: 0.9167 - recall: 0.0072 - precision: 0.1380 - val_loss: 0.7990 - val_binary_accuracy: 0.9120 - val_recall: 0.0248 - val_precision: 0.2198\n",
      "Epoch 17/100\n",
      "2419/2438 [============================>.] - ETA: 0s - loss: 0.6633 - binary_accuracy: 0.9150 - recall: 0.0068 - precision: 0.0946\n",
      "Epoch 17: saving model to deep_training\\model_cp.ckpt\n"
     ]
    },
    {
     "name": "stderr",
     "output_type": "stream",
     "text": [
      "WARNING:absl:Found untraced functions such as leaky_re_lu_layer_call_fn, leaky_re_lu_layer_call_and_return_conditional_losses, leaky_re_lu_1_layer_call_fn, leaky_re_lu_1_layer_call_and_return_conditional_losses, leaky_re_lu_2_layer_call_fn while saving (showing 5 of 6). These functions will not be directly callable after loading.\n"
     ]
    },
    {
     "name": "stdout",
     "output_type": "stream",
     "text": [
      "INFO:tensorflow:Assets written to: deep_training\\model_cp.ckpt\\assets\n"
     ]
    },
    {
     "name": "stderr",
     "output_type": "stream",
     "text": [
      "INFO:tensorflow:Assets written to: deep_training\\model_cp.ckpt\\assets\n"
     ]
    },
    {
     "name": "stdout",
     "output_type": "stream",
     "text": [
      "2438/2438 [==============================] - 5s 2ms/step - loss: 0.6611 - binary_accuracy: 0.9151 - recall: 0.0067 - precision: 0.0946 - val_loss: 0.5206 - val_binary_accuracy: 0.9172 - val_recall: 0.0000e+00 - val_precision: 0.0000e+00\n",
      "Epoch 18/100\n",
      "2429/2438 [============================>.] - ETA: 0s - loss: 3.5540 - binary_accuracy: 0.9154 - recall: 0.0080 - precision: 0.1166\n",
      "Epoch 18: saving model to deep_training\\model_cp.ckpt\n"
     ]
    },
    {
     "name": "stderr",
     "output_type": "stream",
     "text": [
      "WARNING:absl:Found untraced functions such as leaky_re_lu_layer_call_fn, leaky_re_lu_layer_call_and_return_conditional_losses, leaky_re_lu_1_layer_call_fn, leaky_re_lu_1_layer_call_and_return_conditional_losses, leaky_re_lu_2_layer_call_fn while saving (showing 5 of 6). These functions will not be directly callable after loading.\n"
     ]
    },
    {
     "name": "stdout",
     "output_type": "stream",
     "text": [
      "INFO:tensorflow:Assets written to: deep_training\\model_cp.ckpt\\assets\n"
     ]
    },
    {
     "name": "stderr",
     "output_type": "stream",
     "text": [
      "INFO:tensorflow:Assets written to: deep_training\\model_cp.ckpt\\assets\n"
     ]
    },
    {
     "name": "stdout",
     "output_type": "stream",
     "text": [
      "2438/2438 [==============================] - 6s 2ms/step - loss: 3.5433 - binary_accuracy: 0.9155 - recall: 0.0080 - precision: 0.1166 - val_loss: 0.4496 - val_binary_accuracy: 0.9172 - val_recall: 6.1958e-04 - val_precision: 0.5000\n",
      "Epoch 19/100\n",
      "2433/2438 [============================>.] - ETA: 0s - loss: 0.9303 - binary_accuracy: 0.9157 - recall: 0.0050 - precision: 0.0838\n",
      "Epoch 19: saving model to deep_training\\model_cp.ckpt\n"
     ]
    },
    {
     "name": "stderr",
     "output_type": "stream",
     "text": [
      "WARNING:absl:Found untraced functions such as leaky_re_lu_layer_call_fn, leaky_re_lu_layer_call_and_return_conditional_losses, leaky_re_lu_1_layer_call_fn, leaky_re_lu_1_layer_call_and_return_conditional_losses, leaky_re_lu_2_layer_call_fn while saving (showing 5 of 6). These functions will not be directly callable after loading.\n"
     ]
    },
    {
     "name": "stdout",
     "output_type": "stream",
     "text": [
      "INFO:tensorflow:Assets written to: deep_training\\model_cp.ckpt\\assets\n"
     ]
    },
    {
     "name": "stderr",
     "output_type": "stream",
     "text": [
      "INFO:tensorflow:Assets written to: deep_training\\model_cp.ckpt\\assets\n"
     ]
    },
    {
     "name": "stdout",
     "output_type": "stream",
     "text": [
      "2438/2438 [==============================] - 5s 2ms/step - loss: 0.9294 - binary_accuracy: 0.9157 - recall: 0.0050 - precision: 0.0836 - val_loss: 0.4966 - val_binary_accuracy: 0.9172 - val_recall: 0.0000e+00 - val_precision: 0.0000e+00\n",
      "Epoch 20/100\n",
      "2410/2438 [============================>.] - ETA: 0s - loss: 0.6888 - binary_accuracy: 0.9176 - recall: 0.0037 - precision: 0.1106\n",
      "Epoch 20: saving model to deep_training\\model_cp.ckpt\n"
     ]
    },
    {
     "name": "stderr",
     "output_type": "stream",
     "text": [
      "WARNING:absl:Found untraced functions such as leaky_re_lu_layer_call_fn, leaky_re_lu_layer_call_and_return_conditional_losses, leaky_re_lu_1_layer_call_fn, leaky_re_lu_1_layer_call_and_return_conditional_losses, leaky_re_lu_2_layer_call_fn while saving (showing 5 of 6). These functions will not be directly callable after loading.\n"
     ]
    },
    {
     "name": "stdout",
     "output_type": "stream",
     "text": [
      "INFO:tensorflow:Assets written to: deep_training\\model_cp.ckpt\\assets\n"
     ]
    },
    {
     "name": "stderr",
     "output_type": "stream",
     "text": [
      "INFO:tensorflow:Assets written to: deep_training\\model_cp.ckpt\\assets\n"
     ]
    },
    {
     "name": "stdout",
     "output_type": "stream",
     "text": [
      "2438/2438 [==============================] - 6s 2ms/step - loss: 0.6854 - binary_accuracy: 0.9176 - recall: 0.0037 - precision: 0.1106 - val_loss: 0.4074 - val_binary_accuracy: 0.9173 - val_recall: 6.1958e-04 - val_precision: 1.0000\n",
      "Epoch 21/100\n",
      "2413/2438 [============================>.] - ETA: 0s - loss: 0.6223 - binary_accuracy: 0.9172 - recall: 0.0032 - precision: 0.0840\n",
      "Epoch 21: saving model to deep_training\\model_cp.ckpt\n"
     ]
    },
    {
     "name": "stderr",
     "output_type": "stream",
     "text": [
      "WARNING:absl:Found untraced functions such as leaky_re_lu_layer_call_fn, leaky_re_lu_layer_call_and_return_conditional_losses, leaky_re_lu_1_layer_call_fn, leaky_re_lu_1_layer_call_and_return_conditional_losses, leaky_re_lu_2_layer_call_fn while saving (showing 5 of 6). These functions will not be directly callable after loading.\n"
     ]
    },
    {
     "name": "stdout",
     "output_type": "stream",
     "text": [
      "INFO:tensorflow:Assets written to: deep_training\\model_cp.ckpt\\assets\n"
     ]
    },
    {
     "name": "stderr",
     "output_type": "stream",
     "text": [
      "INFO:tensorflow:Assets written to: deep_training\\model_cp.ckpt\\assets\n"
     ]
    },
    {
     "name": "stdout",
     "output_type": "stream",
     "text": [
      "2438/2438 [==============================] - 5s 2ms/step - loss: 0.6202 - binary_accuracy: 0.9172 - recall: 0.0032 - precision: 0.0837 - val_loss: 0.3910 - val_binary_accuracy: 0.9172 - val_recall: 0.0000e+00 - val_precision: 0.0000e+00\n",
      "Epoch 22/100\n",
      "2429/2438 [============================>.] - ETA: 0s - loss: 0.4374 - binary_accuracy: 0.9151 - recall: 0.0056 - precision: 0.0818\n",
      "Epoch 22: saving model to deep_training\\model_cp.ckpt\n"
     ]
    },
    {
     "name": "stderr",
     "output_type": "stream",
     "text": [
      "WARNING:absl:Found untraced functions such as leaky_re_lu_layer_call_fn, leaky_re_lu_layer_call_and_return_conditional_losses, leaky_re_lu_1_layer_call_fn, leaky_re_lu_1_layer_call_and_return_conditional_losses, leaky_re_lu_2_layer_call_fn while saving (showing 5 of 6). These functions will not be directly callable after loading.\n"
     ]
    },
    {
     "name": "stdout",
     "output_type": "stream",
     "text": [
      "INFO:tensorflow:Assets written to: deep_training\\model_cp.ckpt\\assets\n"
     ]
    },
    {
     "name": "stderr",
     "output_type": "stream",
     "text": [
      "INFO:tensorflow:Assets written to: deep_training\\model_cp.ckpt\\assets\n"
     ]
    },
    {
     "name": "stdout",
     "output_type": "stream",
     "text": [
      "2438/2438 [==============================] - 5s 2ms/step - loss: 0.4373 - binary_accuracy: 0.9151 - recall: 0.0056 - precision: 0.0818 - val_loss: 0.4530 - val_binary_accuracy: 0.9164 - val_recall: 0.0031 - val_precision: 0.2000\n",
      "Epoch 23/100\n",
      "2413/2438 [============================>.] - ETA: 0s - loss: 1.1282 - binary_accuracy: 0.9175 - recall: 0.0027 - precision: 0.0833\n",
      "Epoch 23: saving model to deep_training\\model_cp.ckpt\n"
     ]
    },
    {
     "name": "stderr",
     "output_type": "stream",
     "text": [
      "WARNING:absl:Found untraced functions such as leaky_re_lu_layer_call_fn, leaky_re_lu_layer_call_and_return_conditional_losses, leaky_re_lu_1_layer_call_fn, leaky_re_lu_1_layer_call_and_return_conditional_losses, leaky_re_lu_2_layer_call_fn while saving (showing 5 of 6). These functions will not be directly callable after loading.\n"
     ]
    },
    {
     "name": "stdout",
     "output_type": "stream",
     "text": [
      "INFO:tensorflow:Assets written to: deep_training\\model_cp.ckpt\\assets\n"
     ]
    },
    {
     "name": "stderr",
     "output_type": "stream",
     "text": [
      "INFO:tensorflow:Assets written to: deep_training\\model_cp.ckpt\\assets\n"
     ]
    },
    {
     "name": "stdout",
     "output_type": "stream",
     "text": [
      "2438/2438 [==============================] - 5s 2ms/step - loss: 1.1206 - binary_accuracy: 0.9175 - recall: 0.0027 - precision: 0.0833 - val_loss: 0.4003 - val_binary_accuracy: 0.9171 - val_recall: 0.0000e+00 - val_precision: 0.0000e+00\n",
      "Epoch 24/100\n",
      "2421/2438 [============================>.] - ETA: 0s - loss: 0.4467 - binary_accuracy: 0.9178 - recall: 0.0029 - precision: 0.1017\n",
      "Epoch 24: saving model to deep_training\\model_cp.ckpt\n"
     ]
    },
    {
     "name": "stderr",
     "output_type": "stream",
     "text": [
      "WARNING:absl:Found untraced functions such as leaky_re_lu_layer_call_fn, leaky_re_lu_layer_call_and_return_conditional_losses, leaky_re_lu_1_layer_call_fn, leaky_re_lu_1_layer_call_and_return_conditional_losses, leaky_re_lu_2_layer_call_fn while saving (showing 5 of 6). These functions will not be directly callable after loading.\n"
     ]
    },
    {
     "name": "stdout",
     "output_type": "stream",
     "text": [
      "INFO:tensorflow:Assets written to: deep_training\\model_cp.ckpt\\assets\n"
     ]
    },
    {
     "name": "stderr",
     "output_type": "stream",
     "text": [
      "INFO:tensorflow:Assets written to: deep_training\\model_cp.ckpt\\assets\n"
     ]
    },
    {
     "name": "stdout",
     "output_type": "stream",
     "text": [
      "2438/2438 [==============================] - 5s 2ms/step - loss: 0.4461 - binary_accuracy: 0.9179 - recall: 0.0029 - precision: 0.1017 - val_loss: 0.3878 - val_binary_accuracy: 0.9174 - val_recall: 0.0025 - val_precision: 0.8000\n",
      "Epoch 25/100\n",
      "1760/2438 [====================>.........] - ETA: 1s - loss: 0.3988 - binary_accuracy: 0.9186 - recall: 0.0033 - precision: 0.2143"
     ]
    },
    {
     "ename": "KeyboardInterrupt",
     "evalue": "",
     "output_type": "error",
     "traceback": [
      "\u001b[1;31m---------------------------------------------------------------------------\u001b[0m",
      "\u001b[1;31mKeyboardInterrupt\u001b[0m                         Traceback (most recent call last)",
      "Cell \u001b[1;32mIn[114], line 1\u001b[0m\n\u001b[1;32m----> 1\u001b[0m hist \u001b[39m=\u001b[39m neural_model\u001b[39m.\u001b[39;49mfit(transform_x_train, train_y\u001b[39m.\u001b[39;49mto_numpy(), epochs\u001b[39m=\u001b[39;49m\u001b[39m100\u001b[39;49m, callbacks\u001b[39m=\u001b[39;49m[cp_callback,earlystop_callback], validation_split\u001b[39m=\u001b[39;49m\u001b[39m0.2\u001b[39;49m)\n",
      "File \u001b[1;32mc:\\Users\\PaleBlue\\semi_project\\venv\\lib\\site-packages\\keras\\utils\\traceback_utils.py:65\u001b[0m, in \u001b[0;36mfilter_traceback.<locals>.error_handler\u001b[1;34m(*args, **kwargs)\u001b[0m\n\u001b[0;32m     63\u001b[0m filtered_tb \u001b[39m=\u001b[39m \u001b[39mNone\u001b[39;00m\n\u001b[0;32m     64\u001b[0m \u001b[39mtry\u001b[39;00m:\n\u001b[1;32m---> 65\u001b[0m     \u001b[39mreturn\u001b[39;00m fn(\u001b[39m*\u001b[39margs, \u001b[39m*\u001b[39m\u001b[39m*\u001b[39mkwargs)\n\u001b[0;32m     66\u001b[0m \u001b[39mexcept\u001b[39;00m \u001b[39mException\u001b[39;00m \u001b[39mas\u001b[39;00m e:\n\u001b[0;32m     67\u001b[0m     filtered_tb \u001b[39m=\u001b[39m _process_traceback_frames(e\u001b[39m.\u001b[39m__traceback__)\n",
      "File \u001b[1;32mc:\\Users\\PaleBlue\\semi_project\\venv\\lib\\site-packages\\keras\\engine\\training.py:1564\u001b[0m, in \u001b[0;36mModel.fit\u001b[1;34m(self, x, y, batch_size, epochs, verbose, callbacks, validation_split, validation_data, shuffle, class_weight, sample_weight, initial_epoch, steps_per_epoch, validation_steps, validation_batch_size, validation_freq, max_queue_size, workers, use_multiprocessing)\u001b[0m\n\u001b[0;32m   1556\u001b[0m \u001b[39mwith\u001b[39;00m tf\u001b[39m.\u001b[39mprofiler\u001b[39m.\u001b[39mexperimental\u001b[39m.\u001b[39mTrace(\n\u001b[0;32m   1557\u001b[0m     \u001b[39m\"\u001b[39m\u001b[39mtrain\u001b[39m\u001b[39m\"\u001b[39m,\n\u001b[0;32m   1558\u001b[0m     epoch_num\u001b[39m=\u001b[39mepoch,\n\u001b[1;32m   (...)\u001b[0m\n\u001b[0;32m   1561\u001b[0m     _r\u001b[39m=\u001b[39m\u001b[39m1\u001b[39m,\n\u001b[0;32m   1562\u001b[0m ):\n\u001b[0;32m   1563\u001b[0m     callbacks\u001b[39m.\u001b[39mon_train_batch_begin(step)\n\u001b[1;32m-> 1564\u001b[0m     tmp_logs \u001b[39m=\u001b[39m \u001b[39mself\u001b[39;49m\u001b[39m.\u001b[39;49mtrain_function(iterator)\n\u001b[0;32m   1565\u001b[0m     \u001b[39mif\u001b[39;00m data_handler\u001b[39m.\u001b[39mshould_sync:\n\u001b[0;32m   1566\u001b[0m         context\u001b[39m.\u001b[39masync_wait()\n",
      "File \u001b[1;32mc:\\Users\\PaleBlue\\semi_project\\venv\\lib\\site-packages\\tensorflow\\python\\util\\traceback_utils.py:150\u001b[0m, in \u001b[0;36mfilter_traceback.<locals>.error_handler\u001b[1;34m(*args, **kwargs)\u001b[0m\n\u001b[0;32m    148\u001b[0m filtered_tb \u001b[39m=\u001b[39m \u001b[39mNone\u001b[39;00m\n\u001b[0;32m    149\u001b[0m \u001b[39mtry\u001b[39;00m:\n\u001b[1;32m--> 150\u001b[0m   \u001b[39mreturn\u001b[39;00m fn(\u001b[39m*\u001b[39margs, \u001b[39m*\u001b[39m\u001b[39m*\u001b[39mkwargs)\n\u001b[0;32m    151\u001b[0m \u001b[39mexcept\u001b[39;00m \u001b[39mException\u001b[39;00m \u001b[39mas\u001b[39;00m e:\n\u001b[0;32m    152\u001b[0m   filtered_tb \u001b[39m=\u001b[39m _process_traceback_frames(e\u001b[39m.\u001b[39m__traceback__)\n",
      "File \u001b[1;32mc:\\Users\\PaleBlue\\semi_project\\venv\\lib\\site-packages\\tensorflow\\python\\eager\\def_function.py:915\u001b[0m, in \u001b[0;36mFunction.__call__\u001b[1;34m(self, *args, **kwds)\u001b[0m\n\u001b[0;32m    912\u001b[0m compiler \u001b[39m=\u001b[39m \u001b[39m\"\u001b[39m\u001b[39mxla\u001b[39m\u001b[39m\"\u001b[39m \u001b[39mif\u001b[39;00m \u001b[39mself\u001b[39m\u001b[39m.\u001b[39m_jit_compile \u001b[39melse\u001b[39;00m \u001b[39m\"\u001b[39m\u001b[39mnonXla\u001b[39m\u001b[39m\"\u001b[39m\n\u001b[0;32m    914\u001b[0m \u001b[39mwith\u001b[39;00m OptionalXlaContext(\u001b[39mself\u001b[39m\u001b[39m.\u001b[39m_jit_compile):\n\u001b[1;32m--> 915\u001b[0m   result \u001b[39m=\u001b[39m \u001b[39mself\u001b[39m\u001b[39m.\u001b[39m_call(\u001b[39m*\u001b[39margs, \u001b[39m*\u001b[39m\u001b[39m*\u001b[39mkwds)\n\u001b[0;32m    917\u001b[0m new_tracing_count \u001b[39m=\u001b[39m \u001b[39mself\u001b[39m\u001b[39m.\u001b[39mexperimental_get_tracing_count()\n\u001b[0;32m    918\u001b[0m without_tracing \u001b[39m=\u001b[39m (tracing_count \u001b[39m==\u001b[39m new_tracing_count)\n",
      "File \u001b[1;32mc:\\Users\\PaleBlue\\semi_project\\venv\\lib\\site-packages\\tensorflow\\python\\eager\\def_function.py:947\u001b[0m, in \u001b[0;36mFunction._call\u001b[1;34m(self, *args, **kwds)\u001b[0m\n\u001b[0;32m    944\u001b[0m   \u001b[39mself\u001b[39m\u001b[39m.\u001b[39m_lock\u001b[39m.\u001b[39mrelease()\n\u001b[0;32m    945\u001b[0m   \u001b[39m# In this case we have created variables on the first call, so we run the\u001b[39;00m\n\u001b[0;32m    946\u001b[0m   \u001b[39m# defunned version which is guaranteed to never create variables.\u001b[39;00m\n\u001b[1;32m--> 947\u001b[0m   \u001b[39mreturn\u001b[39;00m \u001b[39mself\u001b[39m\u001b[39m.\u001b[39m_stateless_fn(\u001b[39m*\u001b[39margs, \u001b[39m*\u001b[39m\u001b[39m*\u001b[39mkwds)  \u001b[39m# pylint: disable=not-callable\u001b[39;00m\n\u001b[0;32m    948\u001b[0m \u001b[39melif\u001b[39;00m \u001b[39mself\u001b[39m\u001b[39m.\u001b[39m_stateful_fn \u001b[39mis\u001b[39;00m \u001b[39mnot\u001b[39;00m \u001b[39mNone\u001b[39;00m:\n\u001b[0;32m    949\u001b[0m   \u001b[39m# Release the lock early so that multiple threads can perform the call\u001b[39;00m\n\u001b[0;32m    950\u001b[0m   \u001b[39m# in parallel.\u001b[39;00m\n\u001b[0;32m    951\u001b[0m   \u001b[39mself\u001b[39m\u001b[39m.\u001b[39m_lock\u001b[39m.\u001b[39mrelease()\n",
      "File \u001b[1;32mc:\\Users\\PaleBlue\\semi_project\\venv\\lib\\site-packages\\tensorflow\\python\\eager\\function.py:2496\u001b[0m, in \u001b[0;36mFunction.__call__\u001b[1;34m(self, *args, **kwargs)\u001b[0m\n\u001b[0;32m   2493\u001b[0m \u001b[39mwith\u001b[39;00m \u001b[39mself\u001b[39m\u001b[39m.\u001b[39m_lock:\n\u001b[0;32m   2494\u001b[0m   (graph_function,\n\u001b[0;32m   2495\u001b[0m    filtered_flat_args) \u001b[39m=\u001b[39m \u001b[39mself\u001b[39m\u001b[39m.\u001b[39m_maybe_define_function(args, kwargs)\n\u001b[1;32m-> 2496\u001b[0m \u001b[39mreturn\u001b[39;00m graph_function\u001b[39m.\u001b[39;49m_call_flat(\n\u001b[0;32m   2497\u001b[0m     filtered_flat_args, captured_inputs\u001b[39m=\u001b[39;49mgraph_function\u001b[39m.\u001b[39;49mcaptured_inputs)\n",
      "File \u001b[1;32mc:\\Users\\PaleBlue\\semi_project\\venv\\lib\\site-packages\\tensorflow\\python\\eager\\function.py:1862\u001b[0m, in \u001b[0;36mConcreteFunction._call_flat\u001b[1;34m(self, args, captured_inputs, cancellation_manager)\u001b[0m\n\u001b[0;32m   1858\u001b[0m possible_gradient_type \u001b[39m=\u001b[39m gradients_util\u001b[39m.\u001b[39mPossibleTapeGradientTypes(args)\n\u001b[0;32m   1859\u001b[0m \u001b[39mif\u001b[39;00m (possible_gradient_type \u001b[39m==\u001b[39m gradients_util\u001b[39m.\u001b[39mPOSSIBLE_GRADIENT_TYPES_NONE\n\u001b[0;32m   1860\u001b[0m     \u001b[39mand\u001b[39;00m executing_eagerly):\n\u001b[0;32m   1861\u001b[0m   \u001b[39m# No tape is watching; skip to running the function.\u001b[39;00m\n\u001b[1;32m-> 1862\u001b[0m   \u001b[39mreturn\u001b[39;00m \u001b[39mself\u001b[39m\u001b[39m.\u001b[39m_build_call_outputs(\u001b[39mself\u001b[39;49m\u001b[39m.\u001b[39;49m_inference_function\u001b[39m.\u001b[39;49mcall(\n\u001b[0;32m   1863\u001b[0m       ctx, args, cancellation_manager\u001b[39m=\u001b[39;49mcancellation_manager))\n\u001b[0;32m   1864\u001b[0m forward_backward \u001b[39m=\u001b[39m \u001b[39mself\u001b[39m\u001b[39m.\u001b[39m_select_forward_and_backward_functions(\n\u001b[0;32m   1865\u001b[0m     args,\n\u001b[0;32m   1866\u001b[0m     possible_gradient_type,\n\u001b[0;32m   1867\u001b[0m     executing_eagerly)\n\u001b[0;32m   1868\u001b[0m forward_function, args_with_tangents \u001b[39m=\u001b[39m forward_backward\u001b[39m.\u001b[39mforward()\n",
      "File \u001b[1;32mc:\\Users\\PaleBlue\\semi_project\\venv\\lib\\site-packages\\tensorflow\\python\\eager\\function.py:499\u001b[0m, in \u001b[0;36m_EagerDefinedFunction.call\u001b[1;34m(self, ctx, args, cancellation_manager)\u001b[0m\n\u001b[0;32m    497\u001b[0m \u001b[39mwith\u001b[39;00m _InterpolateFunctionError(\u001b[39mself\u001b[39m):\n\u001b[0;32m    498\u001b[0m   \u001b[39mif\u001b[39;00m cancellation_manager \u001b[39mis\u001b[39;00m \u001b[39mNone\u001b[39;00m:\n\u001b[1;32m--> 499\u001b[0m     outputs \u001b[39m=\u001b[39m execute\u001b[39m.\u001b[39;49mexecute(\n\u001b[0;32m    500\u001b[0m         \u001b[39mstr\u001b[39;49m(\u001b[39mself\u001b[39;49m\u001b[39m.\u001b[39;49msignature\u001b[39m.\u001b[39;49mname),\n\u001b[0;32m    501\u001b[0m         num_outputs\u001b[39m=\u001b[39;49m\u001b[39mself\u001b[39;49m\u001b[39m.\u001b[39;49m_num_outputs,\n\u001b[0;32m    502\u001b[0m         inputs\u001b[39m=\u001b[39;49margs,\n\u001b[0;32m    503\u001b[0m         attrs\u001b[39m=\u001b[39;49mattrs,\n\u001b[0;32m    504\u001b[0m         ctx\u001b[39m=\u001b[39;49mctx)\n\u001b[0;32m    505\u001b[0m   \u001b[39melse\u001b[39;00m:\n\u001b[0;32m    506\u001b[0m     outputs \u001b[39m=\u001b[39m execute\u001b[39m.\u001b[39mexecute_with_cancellation(\n\u001b[0;32m    507\u001b[0m         \u001b[39mstr\u001b[39m(\u001b[39mself\u001b[39m\u001b[39m.\u001b[39msignature\u001b[39m.\u001b[39mname),\n\u001b[0;32m    508\u001b[0m         num_outputs\u001b[39m=\u001b[39m\u001b[39mself\u001b[39m\u001b[39m.\u001b[39m_num_outputs,\n\u001b[1;32m   (...)\u001b[0m\n\u001b[0;32m    511\u001b[0m         ctx\u001b[39m=\u001b[39mctx,\n\u001b[0;32m    512\u001b[0m         cancellation_manager\u001b[39m=\u001b[39mcancellation_manager)\n",
      "File \u001b[1;32mc:\\Users\\PaleBlue\\semi_project\\venv\\lib\\site-packages\\tensorflow\\python\\eager\\execute.py:54\u001b[0m, in \u001b[0;36mquick_execute\u001b[1;34m(op_name, num_outputs, inputs, attrs, ctx, name)\u001b[0m\n\u001b[0;32m     52\u001b[0m \u001b[39mtry\u001b[39;00m:\n\u001b[0;32m     53\u001b[0m   ctx\u001b[39m.\u001b[39mensure_initialized()\n\u001b[1;32m---> 54\u001b[0m   tensors \u001b[39m=\u001b[39m pywrap_tfe\u001b[39m.\u001b[39;49mTFE_Py_Execute(ctx\u001b[39m.\u001b[39;49m_handle, device_name, op_name,\n\u001b[0;32m     55\u001b[0m                                       inputs, attrs, num_outputs)\n\u001b[0;32m     56\u001b[0m \u001b[39mexcept\u001b[39;00m core\u001b[39m.\u001b[39m_NotOkStatusException \u001b[39mas\u001b[39;00m e:\n\u001b[0;32m     57\u001b[0m   \u001b[39mif\u001b[39;00m name \u001b[39mis\u001b[39;00m \u001b[39mnot\u001b[39;00m \u001b[39mNone\u001b[39;00m:\n",
      "\u001b[1;31mKeyboardInterrupt\u001b[0m: "
     ]
    }
   ],
   "source": [
    "hist = neural_model.fit(transform_x_train, train_y.to_numpy(), epochs=100, callbacks=[cp_callback,earlystop_callback], validation_split=0.2)"
   ]
  },
  {
   "cell_type": "code",
   "execution_count": null,
   "metadata": {},
   "outputs": [],
   "source": []
  }
 ],
 "metadata": {
  "kernelspec": {
   "display_name": "venv",
   "language": "python",
   "name": "python3"
  },
  "language_info": {
   "codemirror_mode": {
    "name": "ipython",
    "version": 3
   },
   "file_extension": ".py",
   "mimetype": "text/x-python",
   "name": "python",
   "nbconvert_exporter": "python",
   "pygments_lexer": "ipython3",
   "version": "3.10.10"
  },
  "orig_nbformat": 4
 },
 "nbformat": 4,
 "nbformat_minor": 2
}
