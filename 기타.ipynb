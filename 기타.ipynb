{
 "cells": [
  {
   "cell_type": "markdown",
   "id": "2daa6e22",
   "metadata": {},
   "source": [
    "변수,설명\n",
    "- ID,고객 대출 신청 ID\n",
    "- Client_Income,고객 소득\n",
    "- Car_Owned,다른 차량에 대한 대출을 신청하기 전에 고객이 소유한 모든 차량(0은 아니요, 1은 그렇지 않음을 의미)\n",
    "- Bike_Owned,고객이 소유한 모든 자전거(0은 아니요, 1은 그렇지 않음을 의미)\n",
    "- Active_Loan,대출 신청 당시 진행 중인 다른 대출이 있는지 여부(0은 아니요, 1은 그렇지 않음을 의미)\n",
    "- House_Own,고객이 소유한 주택 수(0은 아니요, 1은 그 외의 주택)\n",
    "- Child_Count,고객이 보유한 자녀 수\n",
    "- Credit_Amount,대출의 신용 금액($)\n",
    "- Loan_Annuity,대출 연금($)\n",
    "- Accompany_Client,고객이 대출을 신청할 때 고객과 동행한 사람\n",
    "- Client_Income_Type,고객 소득 유형\n",
    "- Client_Education,고객이 달성한 최고 교육 수준\n",
    "- Client_Marital_Status,\"고객의 결혼 상태(D- 이혼, S- 미혼, M- 기혼, W- 사별)\"\n",
    "- Client_Gender,고객의 성별\n",
    "- Loan_Contract_Type,\"대출 유형(CL- 현금대출, RL- 리볼빙대출)\"\n",
    "- Client_Housing_Type,고객 주택 상황\n",
    "- Population_Region_Relative,고객이 거주하고 있는 지역의 상대적 인구수. 값이 높을수록 고객이 인구가 많은 지역에 거주하고 있음을 의미합니다.\n",
    "- Age_Days,신청서 제출 시점의 고객 나이\n",
    "- Employed_Days, 고용된_일수,\"신청 전, 고객이 수입을 시작한 일수\"\n",
    "- Registration_Days,\"대출 신청일 전, 고객이 등록을 변경한 일수\"\n",
    "- ID_Days,\"대출 신청 며칠 전, 고객이 대출을 신청한 신분증을 변경했습니다.\"\n",
    "- Own_House_Age,고객 소유 주택의 나이(년)\n",
    "- Mobile_Tag,고객이 제공한 휴대폰 번호(1은 예, 0은 아니오를 의미)\n",
    "- Homephone_Tag,고객이 제공한 집전화 번호(1은 예, 0은 아니오를 의미)\n",
    "- Workphone_Working,직장 전화 번호로 연락 가능했는지(1은 예, 0은 아니오)\n",
    "- Client_Occupation,고객 직업 유형\n",
    "- Client_Family_Members,고객이 보유한 가족 구성원 수\n",
    "- Cleint_City_Rating,고객 도시 등급. 3은 최고, 2는 좋음, 1은 평균을 나타냅니다.\n",
    "- Application_Process_Day,고객이 대출을 신청한 요일(0-일,1-월,2-화,3-수,4-목,5-금,6-토)\"\n",
    "- Application_Process_Hour,고객이 대출을 신청한 요일 시간\n",
    "- Client_Permanent_Match_Tag,고객 연락처 주소가 영구 주소와 일치하지 않는 경우 표시.\n",
    "- Client_Contact_Work_Tag,고객 직장 주소가 연락처 주소와 일치하지 않는 경우 표시.\n",
    "- Type_Organization,클라이언트가 근무하는 조직 유형\n",
    "- Score_Source_1,다른 출처에서 얻은 점수. 정규화된 점수입니다.\n",
    "- Score_Source_2,다른 출처에서 얻은 점수입니다. 정규화된 점수입니다.\n",
    "- Score_Source_3,다른 소스에서 가져온 점수입니다. 정규화된 점수입니다.\n",
    "- Social_Circle_Default,지난 60일 동안 대출 상환을 불이행한 고객의 친구/가족 수\n",
    "- Phone_Change,\"대출 신청 며칠 전에 고객이 휴대폰을 변경했는지\"\n",
    "- Credit_Bureau,작년 총 조회 건수\n",
    "- Default,1은 고객이 대출 상환을 불이행했음을 의미하고 0은 그렇지 않음을 의미합니다."
   ]
  },
  {
   "cell_type": "code",
   "execution_count": 1,
   "id": "94c68680",
   "metadata": {},
   "outputs": [],
   "source": [
    "import numpy as np\n",
    "import pandas as pd"
   ]
  },
  {
   "cell_type": "code",
   "execution_count": 47,
   "id": "7584233a",
   "metadata": {},
   "outputs": [
    {
     "name": "stderr",
     "output_type": "stream",
     "text": [
      "C:\\Users\\User\\AppData\\Local\\Temp\\ipykernel_19348\\2331850082.py:1: DtypeWarning: Columns (1,7,8,16,17,18,19,20,35) have mixed types. Specify dtype option on import or set low_memory=False.\n",
      "  train_df = pd.read_csv('./nbfi_vehicle_loan_repayment_dataset/Train_Dataset.csv')\n",
      "C:\\Users\\User\\AppData\\Local\\Temp\\ipykernel_19348\\2331850082.py:2: DtypeWarning: Columns (7,8,16,17,18,19,20,34,35) have mixed types. Specify dtype option on import or set low_memory=False.\n",
      "  test_df = pd.read_csv('./nbfi_vehicle_loan_repayment_dataset/Test_Dataset.csv')\n"
     ]
    }
   ],
   "source": [
    "train_df = pd.read_csv('./nbfi_vehicle_loan_repayment_dataset/Train_Dataset.csv')\n",
    "test_df = pd.read_csv('./nbfi_vehicle_loan_repayment_dataset/Test_Dataset.csv')"
   ]
  },
  {
   "cell_type": "code",
   "execution_count": 9,
   "id": "36ba9cea",
   "metadata": {},
   "outputs": [
    {
     "data": {
      "text/html": [
       "<div>\n",
       "<style scoped>\n",
       "    .dataframe tbody tr th:only-of-type {\n",
       "        vertical-align: middle;\n",
       "    }\n",
       "\n",
       "    .dataframe tbody tr th {\n",
       "        vertical-align: top;\n",
       "    }\n",
       "\n",
       "    .dataframe thead th {\n",
       "        text-align: right;\n",
       "    }\n",
       "</style>\n",
       "<table border=\"1\" class=\"dataframe\">\n",
       "  <thead>\n",
       "    <tr style=\"text-align: right;\">\n",
       "      <th></th>\n",
       "      <th>ID</th>\n",
       "      <th>Client_Income</th>\n",
       "      <th>Car_Owned</th>\n",
       "      <th>Bike_Owned</th>\n",
       "      <th>Active_Loan</th>\n",
       "      <th>House_Own</th>\n",
       "      <th>Child_Count</th>\n",
       "      <th>Credit_Amount</th>\n",
       "      <th>Loan_Annuity</th>\n",
       "      <th>Accompany_Client</th>\n",
       "      <th>...</th>\n",
       "      <th>Client_Permanent_Match_Tag</th>\n",
       "      <th>Client_Contact_Work_Tag</th>\n",
       "      <th>Type_Organization</th>\n",
       "      <th>Score_Source_1</th>\n",
       "      <th>Score_Source_2</th>\n",
       "      <th>Score_Source_3</th>\n",
       "      <th>Social_Circle_Default</th>\n",
       "      <th>Phone_Change</th>\n",
       "      <th>Credit_Bureau</th>\n",
       "      <th>Default</th>\n",
       "    </tr>\n",
       "  </thead>\n",
       "  <tbody>\n",
       "    <tr>\n",
       "      <th>0</th>\n",
       "      <td>12142509</td>\n",
       "      <td>6750</td>\n",
       "      <td>0.0</td>\n",
       "      <td>0.0</td>\n",
       "      <td>1.0</td>\n",
       "      <td>0.0</td>\n",
       "      <td>0.0</td>\n",
       "      <td>61190.55</td>\n",
       "      <td>3416.85</td>\n",
       "      <td>Alone</td>\n",
       "      <td>...</td>\n",
       "      <td>Yes</td>\n",
       "      <td>Yes</td>\n",
       "      <td>Self-employed</td>\n",
       "      <td>0.568066</td>\n",
       "      <td>0.478787</td>\n",
       "      <td>NaN</td>\n",
       "      <td>0.0186</td>\n",
       "      <td>63.0</td>\n",
       "      <td>NaN</td>\n",
       "      <td>0</td>\n",
       "    </tr>\n",
       "    <tr>\n",
       "      <th>1</th>\n",
       "      <td>12138936</td>\n",
       "      <td>20250</td>\n",
       "      <td>1.0</td>\n",
       "      <td>0.0</td>\n",
       "      <td>1.0</td>\n",
       "      <td>NaN</td>\n",
       "      <td>0.0</td>\n",
       "      <td>15282</td>\n",
       "      <td>1826.55</td>\n",
       "      <td>Alone</td>\n",
       "      <td>...</td>\n",
       "      <td>Yes</td>\n",
       "      <td>Yes</td>\n",
       "      <td>Government</td>\n",
       "      <td>0.563360</td>\n",
       "      <td>0.215068</td>\n",
       "      <td>NaN</td>\n",
       "      <td>NaN</td>\n",
       "      <td>NaN</td>\n",
       "      <td>NaN</td>\n",
       "      <td>0</td>\n",
       "    </tr>\n",
       "    <tr>\n",
       "      <th>2</th>\n",
       "      <td>12181264</td>\n",
       "      <td>18000</td>\n",
       "      <td>0.0</td>\n",
       "      <td>0.0</td>\n",
       "      <td>1.0</td>\n",
       "      <td>0.0</td>\n",
       "      <td>1.0</td>\n",
       "      <td>59527.35</td>\n",
       "      <td>2788.2</td>\n",
       "      <td>Alone</td>\n",
       "      <td>...</td>\n",
       "      <td>Yes</td>\n",
       "      <td>Yes</td>\n",
       "      <td>Self-employed</td>\n",
       "      <td>NaN</td>\n",
       "      <td>0.552795</td>\n",
       "      <td>0.329655</td>\n",
       "      <td>0.0742</td>\n",
       "      <td>277.0</td>\n",
       "      <td>0.0</td>\n",
       "      <td>0</td>\n",
       "    </tr>\n",
       "    <tr>\n",
       "      <th>3</th>\n",
       "      <td>12188929</td>\n",
       "      <td>15750</td>\n",
       "      <td>0.0</td>\n",
       "      <td>0.0</td>\n",
       "      <td>1.0</td>\n",
       "      <td>1.0</td>\n",
       "      <td>0.0</td>\n",
       "      <td>53870.4</td>\n",
       "      <td>2295.45</td>\n",
       "      <td>Alone</td>\n",
       "      <td>...</td>\n",
       "      <td>Yes</td>\n",
       "      <td>Yes</td>\n",
       "      <td>XNA</td>\n",
       "      <td>NaN</td>\n",
       "      <td>0.135182</td>\n",
       "      <td>0.631355</td>\n",
       "      <td>NaN</td>\n",
       "      <td>1700.0</td>\n",
       "      <td>3.0</td>\n",
       "      <td>0</td>\n",
       "    </tr>\n",
       "    <tr>\n",
       "      <th>4</th>\n",
       "      <td>12133385</td>\n",
       "      <td>33750</td>\n",
       "      <td>1.0</td>\n",
       "      <td>0.0</td>\n",
       "      <td>1.0</td>\n",
       "      <td>0.0</td>\n",
       "      <td>2.0</td>\n",
       "      <td>133988.4</td>\n",
       "      <td>3547.35</td>\n",
       "      <td>Alone</td>\n",
       "      <td>...</td>\n",
       "      <td>Yes</td>\n",
       "      <td>Yes</td>\n",
       "      <td>Business Entity Type 3</td>\n",
       "      <td>0.508199</td>\n",
       "      <td>0.301182</td>\n",
       "      <td>0.355639</td>\n",
       "      <td>0.2021</td>\n",
       "      <td>674.0</td>\n",
       "      <td>1.0</td>\n",
       "      <td>0</td>\n",
       "    </tr>\n",
       "    <tr>\n",
       "      <th>5</th>\n",
       "      <td>12191614</td>\n",
       "      <td>11250</td>\n",
       "      <td>0.0</td>\n",
       "      <td>1.0</td>\n",
       "      <td>1.0</td>\n",
       "      <td>1.0</td>\n",
       "      <td>1.0</td>\n",
       "      <td>13752</td>\n",
       "      <td>653.85</td>\n",
       "      <td>Alone</td>\n",
       "      <td>...</td>\n",
       "      <td>Yes</td>\n",
       "      <td>Yes</td>\n",
       "      <td>Other</td>\n",
       "      <td>NaN</td>\n",
       "      <td>0.697928</td>\n",
       "      <td>0.420611</td>\n",
       "      <td>0.0639</td>\n",
       "      <td>739.0</td>\n",
       "      <td>0.0</td>\n",
       "      <td>0</td>\n",
       "    </tr>\n",
       "    <tr>\n",
       "      <th>6</th>\n",
       "      <td>12128086</td>\n",
       "      <td>15750</td>\n",
       "      <td>1.0</td>\n",
       "      <td>1.0</td>\n",
       "      <td>0.0</td>\n",
       "      <td>1.0</td>\n",
       "      <td>0.0</td>\n",
       "      <td>128835</td>\n",
       "      <td>3779.55</td>\n",
       "      <td>Alone</td>\n",
       "      <td>...</td>\n",
       "      <td>Yes</td>\n",
       "      <td>Yes</td>\n",
       "      <td>XNA</td>\n",
       "      <td>0.729913</td>\n",
       "      <td>0.602545</td>\n",
       "      <td>0.511892</td>\n",
       "      <td>0.2041</td>\n",
       "      <td>0.0</td>\n",
       "      <td>3.0</td>\n",
       "      <td>0</td>\n",
       "    </tr>\n",
       "    <tr>\n",
       "      <th>7</th>\n",
       "      <td>12215264</td>\n",
       "      <td>13500</td>\n",
       "      <td>0.0</td>\n",
       "      <td>0.0</td>\n",
       "      <td>1.0</td>\n",
       "      <td>1.0</td>\n",
       "      <td>0.0</td>\n",
       "      <td>60415.2</td>\n",
       "      <td>3097.8</td>\n",
       "      <td>Alone</td>\n",
       "      <td>...</td>\n",
       "      <td>Yes</td>\n",
       "      <td>Yes</td>\n",
       "      <td>XNA</td>\n",
       "      <td>0.711468</td>\n",
       "      <td>0.657508</td>\n",
       "      <td>0.549597</td>\n",
       "      <td>NaN</td>\n",
       "      <td>1687.0</td>\n",
       "      <td>4.0</td>\n",
       "      <td>0</td>\n",
       "    </tr>\n",
       "    <tr>\n",
       "      <th>8</th>\n",
       "      <td>12159147</td>\n",
       "      <td>13500</td>\n",
       "      <td>1.0</td>\n",
       "      <td>1.0</td>\n",
       "      <td>0.0</td>\n",
       "      <td>1.0</td>\n",
       "      <td>1.0</td>\n",
       "      <td>45000</td>\n",
       "      <td>1200.15</td>\n",
       "      <td>Relative</td>\n",
       "      <td>...</td>\n",
       "      <td>Yes</td>\n",
       "      <td>Yes</td>\n",
       "      <td>Self-employed</td>\n",
       "      <td>0.475727</td>\n",
       "      <td>0.637594</td>\n",
       "      <td>0.553165</td>\n",
       "      <td>0.1670</td>\n",
       "      <td>1611.0</td>\n",
       "      <td>0.0</td>\n",
       "      <td>0</td>\n",
       "    </tr>\n",
       "    <tr>\n",
       "      <th>9</th>\n",
       "      <td>12130547</td>\n",
       "      <td>12150</td>\n",
       "      <td>0.0</td>\n",
       "      <td>0.0</td>\n",
       "      <td>0.0</td>\n",
       "      <td>1.0</td>\n",
       "      <td>0.0</td>\n",
       "      <td>16320.15</td>\n",
       "      <td>1294.65</td>\n",
       "      <td>Alone</td>\n",
       "      <td>...</td>\n",
       "      <td>Yes</td>\n",
       "      <td>Yes</td>\n",
       "      <td>XNA</td>\n",
       "      <td>0.682285</td>\n",
       "      <td>0.063343</td>\n",
       "      <td>0.08065</td>\n",
       "      <td>NaN</td>\n",
       "      <td>533.0</td>\n",
       "      <td>5.0</td>\n",
       "      <td>0</td>\n",
       "    </tr>\n",
       "  </tbody>\n",
       "</table>\n",
       "<p>10 rows × 40 columns</p>\n",
       "</div>"
      ],
      "text/plain": [
       "         ID Client_Income  Car_Owned  Bike_Owned  Active_Loan  House_Own  \\\n",
       "0  12142509          6750        0.0         0.0          1.0        0.0   \n",
       "1  12138936         20250        1.0         0.0          1.0        NaN   \n",
       "2  12181264         18000        0.0         0.0          1.0        0.0   \n",
       "3  12188929         15750        0.0         0.0          1.0        1.0   \n",
       "4  12133385         33750        1.0         0.0          1.0        0.0   \n",
       "5  12191614         11250        0.0         1.0          1.0        1.0   \n",
       "6  12128086         15750        1.0         1.0          0.0        1.0   \n",
       "7  12215264         13500        0.0         0.0          1.0        1.0   \n",
       "8  12159147         13500        1.0         1.0          0.0        1.0   \n",
       "9  12130547         12150        0.0         0.0          0.0        1.0   \n",
       "\n",
       "   Child_Count Credit_Amount Loan_Annuity Accompany_Client  ...  \\\n",
       "0          0.0      61190.55      3416.85            Alone  ...   \n",
       "1          0.0         15282      1826.55            Alone  ...   \n",
       "2          1.0      59527.35       2788.2            Alone  ...   \n",
       "3          0.0       53870.4      2295.45            Alone  ...   \n",
       "4          2.0      133988.4      3547.35            Alone  ...   \n",
       "5          1.0         13752       653.85            Alone  ...   \n",
       "6          0.0        128835      3779.55            Alone  ...   \n",
       "7          0.0       60415.2       3097.8            Alone  ...   \n",
       "8          1.0         45000      1200.15         Relative  ...   \n",
       "9          0.0      16320.15      1294.65            Alone  ...   \n",
       "\n",
       "  Client_Permanent_Match_Tag Client_Contact_Work_Tag       Type_Organization  \\\n",
       "0                        Yes                     Yes           Self-employed   \n",
       "1                        Yes                     Yes              Government   \n",
       "2                        Yes                     Yes           Self-employed   \n",
       "3                        Yes                     Yes                     XNA   \n",
       "4                        Yes                     Yes  Business Entity Type 3   \n",
       "5                        Yes                     Yes                   Other   \n",
       "6                        Yes                     Yes                     XNA   \n",
       "7                        Yes                     Yes                     XNA   \n",
       "8                        Yes                     Yes           Self-employed   \n",
       "9                        Yes                     Yes                     XNA   \n",
       "\n",
       "  Score_Source_1 Score_Source_2 Score_Source_3 Social_Circle_Default  \\\n",
       "0       0.568066       0.478787            NaN                0.0186   \n",
       "1       0.563360       0.215068            NaN                   NaN   \n",
       "2            NaN       0.552795       0.329655                0.0742   \n",
       "3            NaN       0.135182       0.631355                   NaN   \n",
       "4       0.508199       0.301182       0.355639                0.2021   \n",
       "5            NaN       0.697928       0.420611                0.0639   \n",
       "6       0.729913       0.602545       0.511892                0.2041   \n",
       "7       0.711468       0.657508       0.549597                   NaN   \n",
       "8       0.475727       0.637594       0.553165                0.1670   \n",
       "9       0.682285       0.063343        0.08065                   NaN   \n",
       "\n",
       "  Phone_Change Credit_Bureau Default  \n",
       "0         63.0           NaN       0  \n",
       "1          NaN           NaN       0  \n",
       "2        277.0           0.0       0  \n",
       "3       1700.0           3.0       0  \n",
       "4        674.0           1.0       0  \n",
       "5        739.0           0.0       0  \n",
       "6          0.0           3.0       0  \n",
       "7       1687.0           4.0       0  \n",
       "8       1611.0           0.0       0  \n",
       "9        533.0           5.0       0  \n",
       "\n",
       "[10 rows x 40 columns]"
      ]
     },
     "execution_count": 9,
     "metadata": {},
     "output_type": "execute_result"
    }
   ],
   "source": [
    "train_df.head(10)"
   ]
  },
  {
   "cell_type": "code",
   "execution_count": 55,
   "id": "efac000f",
   "metadata": {},
   "outputs": [
    {
     "data": {
      "text/plain": [
       "0           13957\n",
       "1           14162\n",
       "2           16790\n",
       "3           23195\n",
       "4           11366\n",
       "           ...   \n",
       "121851    12889.0\n",
       "121852     8648.0\n",
       "121853     9152.0\n",
       "121854    10290.0\n",
       "121855    14772.0\n",
       "Name: Age_Days, Length: 121856, dtype: object"
      ]
     },
     "execution_count": 55,
     "metadata": {},
     "output_type": "execute_result"
    }
   ],
   "source": [
    "train_df.Age_Days"
   ]
  },
  {
   "cell_type": "code",
   "execution_count": 14,
   "id": "56b08447",
   "metadata": {},
   "outputs": [
    {
     "name": "stdout",
     "output_type": "stream",
     "text": [
      "(121856, 40)\n",
      "(80900, 39)\n"
     ]
    }
   ],
   "source": [
    "print(train_df.shape) \n",
    "print(test_df.shape)\n",
    "# train:test = 6:4 "
   ]
  },
  {
   "cell_type": "code",
   "execution_count": 10,
   "id": "2d14dcf8",
   "metadata": {},
   "outputs": [
    {
     "name": "stdout",
     "output_type": "stream",
     "text": [
      "<class 'pandas.core.frame.DataFrame'>\n",
      "RangeIndex: 121856 entries, 0 to 121855\n",
      "Data columns (total 40 columns):\n",
      " #   Column                      Non-Null Count   Dtype  \n",
      "---  ------                      --------------   -----  \n",
      " 0   ID                          121856 non-null  int64  \n",
      " 1   Client_Income               118249 non-null  object \n",
      " 2   Car_Owned                   118275 non-null  float64\n",
      " 3   Bike_Owned                  118232 non-null  float64\n",
      " 4   Active_Loan                 118221 non-null  float64\n",
      " 5   House_Own                   118195 non-null  float64\n",
      " 6   Child_Count                 118218 non-null  float64\n",
      " 7   Credit_Amount               118224 non-null  object \n",
      " 8   Loan_Annuity                117044 non-null  object \n",
      " 9   Accompany_Client            120110 non-null  object \n",
      " 10  Client_Income_Type          118155 non-null  object \n",
      " 11  Client_Education            118211 non-null  object \n",
      " 12  Client_Marital_Status       118383 non-null  object \n",
      " 13  Client_Gender               119443 non-null  object \n",
      " 14  Loan_Contract_Type          118205 non-null  object \n",
      " 15  Client_Housing_Type         118169 non-null  object \n",
      " 16  Population_Region_Relative  116999 non-null  object \n",
      " 17  Age_Days                    118256 non-null  object \n",
      " 18  Employed_Days               118207 non-null  object \n",
      " 19  Registration_Days           118242 non-null  object \n",
      " 20  ID_Days                     115888 non-null  object \n",
      " 21  Own_House_Age               41761 non-null   float64\n",
      " 22  Mobile_Tag                  121856 non-null  int64  \n",
      " 23  Homephone_Tag               121856 non-null  int64  \n",
      " 24  Workphone_Working           121856 non-null  int64  \n",
      " 25  Client_Occupation           80421 non-null   object \n",
      " 26  Client_Family_Members       119446 non-null  float64\n",
      " 27  Cleint_City_Rating          119447 non-null  float64\n",
      " 28  Application_Process_Day     119428 non-null  float64\n",
      " 29  Application_Process_Hour    118193 non-null  float64\n",
      " 30  Client_Permanent_Match_Tag  121856 non-null  object \n",
      " 31  Client_Contact_Work_Tag     121856 non-null  object \n",
      " 32  Type_Organization           118247 non-null  object \n",
      " 33  Score_Source_1              53021 non-null   float64\n",
      " 34  Score_Source_2              116170 non-null  float64\n",
      " 35  Score_Source_3              94935 non-null   object \n",
      " 36  Social_Circle_Default       59928 non-null   float64\n",
      " 37  Phone_Change                118192 non-null  float64\n",
      " 38  Credit_Bureau               103316 non-null  float64\n",
      " 39  Default                     121856 non-null  int64  \n",
      "dtypes: float64(15), int64(5), object(20)\n",
      "memory usage: 37.2+ MB\n"
     ]
    }
   ],
   "source": [
    "train_df.info()"
   ]
  },
  {
   "cell_type": "code",
   "execution_count": 17,
   "id": "55950f76",
   "metadata": {},
   "outputs": [
    {
     "name": "stdout",
     "output_type": "stream",
     "text": [
      "<class 'pandas.core.frame.DataFrame'>\n",
      "RangeIndex: 80900 entries, 0 to 80899\n",
      "Data columns (total 39 columns):\n",
      " #   Column                      Non-Null Count  Dtype  \n",
      "---  ------                      --------------  -----  \n",
      " 0   ID                          80900 non-null  int64  \n",
      " 1   Client_Income               78466 non-null  object \n",
      " 2   Car_Owned                   78495 non-null  float64\n",
      " 3   Bike_Owned                  78414 non-null  float64\n",
      " 4   Active_Loan                 78446 non-null  float64\n",
      " 5   House_Own                   78553 non-null  float64\n",
      " 6   Child_Count                 78572 non-null  float64\n",
      " 7   Credit_Amount               78613 non-null  object \n",
      " 8   Loan_Annuity                77697 non-null  object \n",
      " 9   Accompany_Client            79692 non-null  object \n",
      " 10  Client_Income_Type          78399 non-null  object \n",
      " 11  Client_Education            78550 non-null  object \n",
      " 12  Client_Marital_Status       78457 non-null  object \n",
      " 13  Client_Gender               79273 non-null  object \n",
      " 14  Loan_Contract_Type          78579 non-null  object \n",
      " 15  Client_Housing_Type         78492 non-null  object \n",
      " 16  Population_Region_Relative  77630 non-null  object \n",
      " 17  Age_Days                    78421 non-null  object \n",
      " 18  Employed_Days               78479 non-null  object \n",
      " 19  Registration_Days           78502 non-null  object \n",
      " 20  ID_Days                     77019 non-null  object \n",
      " 21  Own_House_Age               27319 non-null  float64\n",
      " 22  Mobile_Tag                  80900 non-null  int64  \n",
      " 23  Homephone_Tag               80900 non-null  int64  \n",
      " 24  Workphone_Working           80900 non-null  int64  \n",
      " 25  Client_Occupation           53055 non-null  object \n",
      " 26  Client_Family_Members       79256 non-null  float64\n",
      " 27  Cleint_City_Rating          79269 non-null  float64\n",
      " 28  Application_Process_Day     79361 non-null  float64\n",
      " 29  Application_Process_Hour    78494 non-null  float64\n",
      " 30  Client_Permanent_Match_Tag  80900 non-null  object \n",
      " 31  Client_Contact_Work_Tag     80900 non-null  object \n",
      " 32  Type_Organization           78441 non-null  object \n",
      " 33  Score_Source_1              35407 non-null  float64\n",
      " 34  Score_Source_2              77185 non-null  object \n",
      " 35  Score_Source_3              62882 non-null  object \n",
      " 36  Social_Circle_Default       39810 non-null  float64\n",
      " 37  Phone_Change                78477 non-null  float64\n",
      " 38  Credit_Bureau               68618 non-null  float64\n",
      "dtypes: float64(14), int64(4), object(21)\n",
      "memory usage: 24.1+ MB\n"
     ]
    }
   ],
   "source": [
    "test_df.info()"
   ]
  },
  {
   "cell_type": "code",
   "execution_count": 15,
   "id": "9d5b9ec4",
   "metadata": {},
   "outputs": [
    {
     "data": {
      "text/plain": [
       "ID                                0\n",
       "Client_Income                  3607\n",
       "Car_Owned                      3581\n",
       "Bike_Owned                     3624\n",
       "Active_Loan                    3635\n",
       "House_Own                      3661\n",
       "Child_Count                    3638\n",
       "Credit_Amount                  3632\n",
       "Loan_Annuity                   4812\n",
       "Accompany_Client               1746\n",
       "Client_Income_Type             3701\n",
       "Client_Education               3645\n",
       "Client_Marital_Status          3473\n",
       "Client_Gender                  2413\n",
       "Loan_Contract_Type             3651\n",
       "Client_Housing_Type            3687\n",
       "Population_Region_Relative     4857\n",
       "Age_Days                       3600\n",
       "Employed_Days                  3649\n",
       "Registration_Days              3614\n",
       "ID_Days                        5968\n",
       "Own_House_Age                 80095\n",
       "Mobile_Tag                        0\n",
       "Homephone_Tag                     0\n",
       "Workphone_Working                 0\n",
       "Client_Occupation             41435\n",
       "Client_Family_Members          2410\n",
       "Cleint_City_Rating             2409\n",
       "Application_Process_Day        2428\n",
       "Application_Process_Hour       3663\n",
       "Client_Permanent_Match_Tag        0\n",
       "Client_Contact_Work_Tag           0\n",
       "Type_Organization              3609\n",
       "Score_Source_1                68835\n",
       "Score_Source_2                 5686\n",
       "Score_Source_3                26921\n",
       "Social_Circle_Default         61928\n",
       "Phone_Change                   3664\n",
       "Credit_Bureau                 18540\n",
       "Default                           0\n",
       "dtype: int64"
      ]
     },
     "execution_count": 15,
     "metadata": {},
     "output_type": "execute_result"
    }
   ],
   "source": [
    "# 결측치 확인\n",
    "train_df.isna().sum()"
   ]
  },
  {
   "cell_type": "code",
   "execution_count": 18,
   "id": "6873f0c4",
   "metadata": {},
   "outputs": [
    {
     "data": {
      "text/plain": [
       "ID                                0\n",
       "Client_Income                  2434\n",
       "Car_Owned                      2405\n",
       "Bike_Owned                     2486\n",
       "Active_Loan                    2454\n",
       "House_Own                      2347\n",
       "Child_Count                    2328\n",
       "Credit_Amount                  2287\n",
       "Loan_Annuity                   3203\n",
       "Accompany_Client               1208\n",
       "Client_Income_Type             2501\n",
       "Client_Education               2350\n",
       "Client_Marital_Status          2443\n",
       "Client_Gender                  1627\n",
       "Loan_Contract_Type             2321\n",
       "Client_Housing_Type            2408\n",
       "Population_Region_Relative     3270\n",
       "Age_Days                       2479\n",
       "Employed_Days                  2421\n",
       "Registration_Days              2398\n",
       "ID_Days                        3881\n",
       "Own_House_Age                 53581\n",
       "Mobile_Tag                        0\n",
       "Homephone_Tag                     0\n",
       "Workphone_Working                 0\n",
       "Client_Occupation             27845\n",
       "Client_Family_Members          1644\n",
       "Cleint_City_Rating             1631\n",
       "Application_Process_Day        1539\n",
       "Application_Process_Hour       2406\n",
       "Client_Permanent_Match_Tag        0\n",
       "Client_Contact_Work_Tag           0\n",
       "Type_Organization              2459\n",
       "Score_Source_1                45493\n",
       "Score_Source_2                 3715\n",
       "Score_Source_3                18018\n",
       "Social_Circle_Default         41090\n",
       "Phone_Change                   2423\n",
       "Credit_Bureau                 12282\n",
       "dtype: int64"
      ]
     },
     "execution_count": 18,
     "metadata": {},
     "output_type": "execute_result"
    }
   ],
   "source": [
    "test_df.isna().sum()"
   ]
  },
  {
   "cell_type": "code",
   "execution_count": 16,
   "id": "e169bf82",
   "metadata": {},
   "outputs": [],
   "source": [
    "# 컬럼 오타 변경 \n",
    "train_df.rename(columns = {'Cleint_City_Rating':'Client_City_Rating'}, inplace=True)\n",
    "test_df.rename(columns = {'Cleint_City_Rating':'Client_City_Rating'}, inplace=True)"
   ]
  },
  {
   "cell_type": "code",
   "execution_count": 26,
   "id": "7e7423da",
   "metadata": {},
   "outputs": [],
   "source": [
    "train_df.Client_Income = train_df.Client_Income.replace('$', '')"
   ]
  },
  {
   "cell_type": "code",
   "execution_count": 34,
   "id": "56a75a1d",
   "metadata": {},
   "outputs": [
    {
     "data": {
      "image/png": "[encoded data removed]",
      "text/plain": [
       "<Figure size 750x750 with 1 Axes>"
      ]
     },
     "metadata": {},
     "output_type": "display_data"
    }
   ],
   "source": [
    "# target y = Default \n",
    "import matplotlib.pyplot as plt\n",
    "default = train_df.Default.value_counts()\n",
    "plt.figure(figsize=(7.5, 7.5))\n",
    "plt.pie(default, labels=default.index, autopct='%1.1f%%')\n",
    "plt.title('Default')\n",
    "plt.show()"
   ]
  },
  {
   "cell_type": "code",
   "execution_count": 35,
   "id": "5716086c",
   "metadata": {},
   "outputs": [
    {
     "data": {
      "text/plain": [
       "0          6750\n",
       "1         20250\n",
       "2         18000\n",
       "3         15750\n",
       "4         33750\n",
       "          ...  \n",
       "121851    29250\n",
       "121852    15750\n",
       "121853     8100\n",
       "121854    38250\n",
       "121855     9000\n",
       "Name: Client_Income, Length: 121856, dtype: object"
      ]
     },
     "execution_count": 35,
     "metadata": {},
     "output_type": "execute_result"
    }
   ],
   "source": [
    "train_df.Client_Income"
   ]
  },
  {
   "cell_type": "code",
   "execution_count": 63,
   "id": "d213a892",
   "metadata": {},
   "outputs": [
    {
     "data": {
      "text/plain": [
       "(0.0    77724\n",
       " 1.0    40551\n",
       " NaN     3581\n",
       " Name: Car_Owned, dtype: int64,\n",
       " 0.0    78948\n",
       " 1.0    39284\n",
       " NaN     3624\n",
       " Name: Bike_Owned, dtype: int64,\n",
       " 1.0    81798\n",
       " 0.0    36397\n",
       " NaN     3661\n",
       " Name: House_Own, dtype: int64)"
      ]
     },
     "execution_count": 63,
     "metadata": {},
     "output_type": "execute_result"
    }
   ],
   "source": [
    "car = train_df.Car_Owned.value_counts(dropna=False)\n",
    "bike = train_df.Bike_Owned.value_counts(dropna=False)\n",
    "house = train_df.House_Own.value_counts(dropna=False)\n",
    "\n",
    "vehicles = [car, bike, house]\n",
    "titles = ['Car', 'Bike', 'House']\n",
    "car, bike, house"
   ]
  },
  {
   "cell_type": "code",
   "execution_count": 64,
   "id": "c01c09af",
   "metadata": {},
   "outputs": [
    {
     "data": {
      "image/png": "[encoded data removed]",
      "text/plain": [
       "<Figure size 750x750 with 1 Axes>"
      ]
     },
     "metadata": {},
     "output_type": "display_data"
    },
    {
     "data": {
      "image/png": "[encoded data removed]",
      "text/plain": [
       "<Figure size 750x750 with 1 Axes>"
      ]
     },
     "metadata": {},
     "output_type": "display_data"
    },
    {
     "data": {
      "image/png": "[encoded data removed]",
      "text/plain": [
       "<Figure size 750x750 with 1 Axes>"
      ]
     },
     "metadata": {},
     "output_type": "display_data"
    }
   ],
   "source": [
    "for vehicle, title in zip(vehicles, titles):\n",
    "    plt.figure(figsize=(7.5, 7.5))\n",
    "    plt.pie(vehicle, labels=vehicle.index, autopct='%.2f%%', startangle=90, counterclock=False)\n",
    "    plt.legend()\n",
    "    plt.title(f'Ratio of {title} Owned')\n",
    "    plt.show()"
   ]
  },
  {
   "cell_type": "code",
   "execution_count": 66,
   "id": "f820c6f4",
   "metadata": {},
   "outputs": [],
   "source": [
    "pay_df = train_df.copy()\n",
    "pay_df['Client_Income'] = pd.to_numeric(train_df['Client_Income'], errors='coerce')\n",
    "pay_df['Credit_Amount'] = pd.to_numeric(train_df['Credit_Amount'], errors='coerce')\n",
    "pay_df['Loan_Annuity'] = pd.to_numeric(train_df['Loan_Annuity'], errors='coerce')"
   ]
  },
  {
   "cell_type": "code",
   "execution_count": 67,
   "id": "12d9c938",
   "metadata": {},
   "outputs": [
    {
     "data": {
      "text/plain": [
       "0          6750.0\n",
       "1         20250.0\n",
       "2         18000.0\n",
       "3         15750.0\n",
       "4         33750.0\n",
       "           ...   \n",
       "121851    29250.0\n",
       "121852    15750.0\n",
       "121853     8100.0\n",
       "121854    38250.0\n",
       "121855     9000.0\n",
       "Name: Client_Income, Length: 121856, dtype: float64"
      ]
     },
     "execution_count": 67,
     "metadata": {},
     "output_type": "execute_result"
    }
   ],
   "source": [
    "pay_df.Client_Income"
   ]
  },
  {
   "cell_type": "code",
   "execution_count": 69,
   "id": "7175a8ed",
   "metadata": {},
   "outputs": [
    {
     "name": "stdout",
     "output_type": "stream",
     "text": [
      "<class 'pandas.core.frame.DataFrame'>\n",
      "RangeIndex: 121856 entries, 0 to 121855\n",
      "Data columns (total 40 columns):\n",
      " #   Column                      Non-Null Count   Dtype  \n",
      "---  ------                      --------------   -----  \n",
      " 0   ID                          121856 non-null  int64  \n",
      " 1   Client_Income               118234 non-null  float64\n",
      " 2   Car_Owned                   118275 non-null  float64\n",
      " 3   Bike_Owned                  118232 non-null  float64\n",
      " 4   Active_Loan                 118221 non-null  float64\n",
      " 5   House_Own                   118195 non-null  float64\n",
      " 6   Child_Count                 118218 non-null  float64\n",
      " 7   Credit_Amount               118219 non-null  float64\n",
      " 8   Loan_Annuity                117030 non-null  float64\n",
      " 9   Accompany_Client            120110 non-null  object \n",
      " 10  Client_Income_Type          118155 non-null  object \n",
      " 11  Client_Education            118211 non-null  object \n",
      " 12  Client_Marital_Status       118383 non-null  object \n",
      " 13  Client_Gender               119443 non-null  object \n",
      " 14  Loan_Contract_Type          118205 non-null  object \n",
      " 15  Client_Housing_Type         118169 non-null  object \n",
      " 16  Population_Region_Relative  116999 non-null  object \n",
      " 17  Age_Days                    118256 non-null  object \n",
      " 18  Employed_Days               118207 non-null  object \n",
      " 19  Registration_Days           118242 non-null  object \n",
      " 20  ID_Days                     115888 non-null  object \n",
      " 21  Own_House_Age               41761 non-null   float64\n",
      " 22  Mobile_Tag                  121856 non-null  int64  \n",
      " 23  Homephone_Tag               121856 non-null  int64  \n",
      " 24  Workphone_Working           121856 non-null  int64  \n",
      " 25  Client_Occupation           80421 non-null   object \n",
      " 26  Client_Family_Members       119446 non-null  float64\n",
      " 27  Cleint_City_Rating          119447 non-null  float64\n",
      " 28  Application_Process_Day     119428 non-null  float64\n",
      " 29  Application_Process_Hour    118193 non-null  float64\n",
      " 30  Client_Permanent_Match_Tag  121856 non-null  object \n",
      " 31  Client_Contact_Work_Tag     121856 non-null  object \n",
      " 32  Type_Organization           118247 non-null  object \n",
      " 33  Score_Source_1              53021 non-null   float64\n",
      " 34  Score_Source_2              116170 non-null  float64\n",
      " 35  Score_Source_3              94935 non-null   object \n",
      " 36  Social_Circle_Default       59928 non-null   float64\n",
      " 37  Phone_Change                118192 non-null  float64\n",
      " 38  Credit_Bureau               103316 non-null  float64\n",
      " 39  Default                     121856 non-null  int64  \n",
      "dtypes: float64(18), int64(5), object(17)\n",
      "memory usage: 37.2+ MB\n"
     ]
    }
   ],
   "source": [
    "pay_df.info()"
   ]
  },
  {
   "cell_type": "code",
   "execution_count": 74,
   "id": "84803d55",
   "metadata": {},
   "outputs": [
    {
     "data": {
      "image/png": "[encoded data removed]",
      "text/plain": [
       "<Figure size 640x480 with 1 Axes>"
      ]
     },
     "metadata": {},
     "output_type": "display_data"
    }
   ],
   "source": [
    "pay_df.plot(kind=\"hist\", y=\"Client_Income\")\n",
    "plt.show()"
   ]
  },
  {
   "cell_type": "code",
   "execution_count": 75,
   "id": "0b897ec6",
   "metadata": {},
   "outputs": [
    {
     "data": {
      "text/plain": [
       "<AxesSubplot:xlabel='Default', ylabel='Client_Income'>"
      ]
     },
     "execution_count": 75,
     "metadata": {},
     "output_type": "execute_result"
    },
    {
     "data": {
      "image/png": "[encoded data removed]",
      "text/plain": [
       "<Figure size 640x480 with 1 Axes>"
      ]
     },
     "metadata": {},
     "output_type": "display_data"
    }
   ],
   "source": [
    "sns.boxplot(y='Client_Income', x='Default', data=pay_df)"
   ]
  },
  {
   "cell_type": "code",
   "execution_count": 77,
   "id": "77135c15",
   "metadata": {},
   "outputs": [
    {
     "data": {
      "text/html": [
       "<div>\n",
       "<style scoped>\n",
       "    .dataframe tbody tr th:only-of-type {\n",
       "        vertical-align: middle;\n",
       "    }\n",
       "\n",
       "    .dataframe tbody tr th {\n",
       "        vertical-align: top;\n",
       "    }\n",
       "\n",
       "    .dataframe thead th {\n",
       "        text-align: right;\n",
       "    }\n",
       "</style>\n",
       "<table border=\"1\" class=\"dataframe\">\n",
       "  <thead>\n",
       "    <tr style=\"text-align: right;\">\n",
       "      <th></th>\n",
       "      <th>count</th>\n",
       "      <th>mean</th>\n",
       "      <th>std</th>\n",
       "      <th>min</th>\n",
       "      <th>25%</th>\n",
       "      <th>50%</th>\n",
       "      <th>75%</th>\n",
       "      <th>max</th>\n",
       "    </tr>\n",
       "    <tr>\n",
       "      <th>Default</th>\n",
       "      <th></th>\n",
       "      <th></th>\n",
       "      <th></th>\n",
       "      <th></th>\n",
       "      <th></th>\n",
       "      <th></th>\n",
       "      <th></th>\n",
       "      <th></th>\n",
       "    </tr>\n",
       "  </thead>\n",
       "  <tbody>\n",
       "    <tr>\n",
       "      <th>0</th>\n",
       "      <td>108670.0</td>\n",
       "      <td>16938.840039</td>\n",
       "      <td>11776.759240</td>\n",
       "      <td>2565.0</td>\n",
       "      <td>11250.0</td>\n",
       "      <td>14850.0</td>\n",
       "      <td>20250.0</td>\n",
       "      <td>1800009.0</td>\n",
       "    </tr>\n",
       "    <tr>\n",
       "      <th>1</th>\n",
       "      <td>9564.0</td>\n",
       "      <td>16028.370216</td>\n",
       "      <td>8316.569573</td>\n",
       "      <td>2790.0</td>\n",
       "      <td>11250.0</td>\n",
       "      <td>13500.0</td>\n",
       "      <td>19350.0</td>\n",
       "      <td>135000.0</td>\n",
       "    </tr>\n",
       "  </tbody>\n",
       "</table>\n",
       "</div>"
      ],
      "text/plain": [
       "            count          mean           std     min      25%      50%  \\\n",
       "Default                                                                   \n",
       "0        108670.0  16938.840039  11776.759240  2565.0  11250.0  14850.0   \n",
       "1          9564.0  16028.370216   8316.569573  2790.0  11250.0  13500.0   \n",
       "\n",
       "             75%        max  \n",
       "Default                      \n",
       "0        20250.0  1800009.0  \n",
       "1        19350.0   135000.0  "
      ]
     },
     "execution_count": 77,
     "metadata": {},
     "output_type": "execute_result"
    }
   ],
   "source": [
    "pay_df.groupby(['Default'])['Client_Income'].describe()"
   ]
  },
  {
   "cell_type": "code",
   "execution_count": 79,
   "id": "a02847d0",
   "metadata": {},
   "outputs": [],
   "source": [
    "columns = ['Client_Income', 'Credit_Amount', 'Loan_Annuity', 'Score_Source_3', 'Population_Region_Relative', 'Age_Days', 'Employed_Days', 'Registration_Days', 'ID_Days']\n",
    "for column in columns:\n",
    "    pay_df[column] = pd.to_numeric(train_df[column], errors='coerce')"
   ]
  },
  {
   "cell_type": "code",
   "execution_count": 81,
   "id": "80fe3095",
   "metadata": {},
   "outputs": [
    {
     "name": "stdout",
     "output_type": "stream",
     "text": [
      "<class 'pandas.core.frame.DataFrame'>\n",
      "RangeIndex: 121856 entries, 0 to 121855\n",
      "Data columns (total 40 columns):\n",
      " #   Column                      Non-Null Count   Dtype  \n",
      "---  ------                      --------------   -----  \n",
      " 0   ID                          121856 non-null  int64  \n",
      " 1   Client_Income               118234 non-null  float64\n",
      " 2   Car_Owned                   118275 non-null  float64\n",
      " 3   Bike_Owned                  118232 non-null  float64\n",
      " 4   Active_Loan                 118221 non-null  float64\n",
      " 5   House_Own                   118195 non-null  float64\n",
      " 6   Child_Count                 118218 non-null  float64\n",
      " 7   Credit_Amount               118219 non-null  float64\n",
      " 8   Loan_Annuity                117030 non-null  float64\n",
      " 9   Accompany_Client            120110 non-null  object \n",
      " 10  Client_Income_Type          118155 non-null  object \n",
      " 11  Client_Education            118211 non-null  object \n",
      " 12  Client_Marital_Status       118383 non-null  object \n",
      " 13  Client_Gender               119443 non-null  object \n",
      " 14  Loan_Contract_Type          118205 non-null  object \n",
      " 15  Client_Housing_Type         118169 non-null  object \n",
      " 16  Population_Region_Relative  116988 non-null  float64\n",
      " 17  Age_Days                    118239 non-null  float64\n",
      " 18  Employed_Days               118190 non-null  float64\n",
      " 19  Registration_Days           118225 non-null  float64\n",
      " 20  ID_Days                     115871 non-null  float64\n",
      " 21  Own_House_Age               41761 non-null   float64\n",
      " 22  Mobile_Tag                  121856 non-null  int64  \n",
      " 23  Homephone_Tag               121856 non-null  int64  \n",
      " 24  Workphone_Working           121856 non-null  int64  \n",
      " 25  Client_Occupation           80421 non-null   object \n",
      " 26  Client_Family_Members       119446 non-null  float64\n",
      " 27  Cleint_City_Rating          119447 non-null  float64\n",
      " 28  Application_Process_Day     119428 non-null  float64\n",
      " 29  Application_Process_Hour    118193 non-null  float64\n",
      " 30  Client_Permanent_Match_Tag  121856 non-null  object \n",
      " 31  Client_Contact_Work_Tag     121856 non-null  object \n",
      " 32  Type_Organization           118247 non-null  object \n",
      " 33  Score_Source_1              53021 non-null   float64\n",
      " 34  Score_Source_2              116170 non-null  float64\n",
      " 35  Score_Source_3              94934 non-null   float64\n",
      " 36  Social_Circle_Default       59928 non-null   float64\n",
      " 37  Phone_Change                118192 non-null  float64\n",
      " 38  Credit_Bureau               103316 non-null  float64\n",
      " 39  Default                     121856 non-null  int64  \n",
      "dtypes: float64(24), int64(5), object(11)\n",
      "memory usage: 37.2+ MB\n"
     ]
    }
   ],
   "source": [
    "pay_df.info()"
   ]
  },
  {
   "cell_type": "code",
   "execution_count": 83,
   "id": "a33714d3",
   "metadata": {},
   "outputs": [
    {
     "data": {
      "image/png": "[encoded data removed]",
      "text/plain": [
       "<Figure size 600x300 with 2 Axes>"
      ]
     },
     "metadata": {},
     "output_type": "display_data"
    }
   ],
   "source": [
    "age_histo = sns.FacetGrid(pay_df, col='Default')\n",
    "age_histo.map(plt.hist, 'Age_Days', bins=20)\n",
    "plt.show()"
   ]
  },
  {
   "cell_type": "code",
   "execution_count": 84,
   "id": "c6f61d64",
   "metadata": {},
   "outputs": [
    {
     "data": {
      "text/plain": [
       "0         13957.0\n",
       "1         14162.0\n",
       "2         16790.0\n",
       "3         23195.0\n",
       "4         11366.0\n",
       "           ...   \n",
       "121851    12889.0\n",
       "121852     8648.0\n",
       "121853     9152.0\n",
       "121854    10290.0\n",
       "121855    14772.0\n",
       "Name: Age_Days, Length: 121856, dtype: float64"
      ]
     },
     "execution_count": 84,
     "metadata": {},
     "output_type": "execute_result"
    }
   ],
   "source": [
    "pay_df.Age_Days"
   ]
  },
  {
   "cell_type": "code",
   "execution_count": 92,
   "id": "d8baa561",
   "metadata": {},
   "outputs": [
    {
     "data": {
      "text/html": [
       "<div>\n",
       "<style scoped>\n",
       "    .dataframe tbody tr th:only-of-type {\n",
       "        vertical-align: middle;\n",
       "    }\n",
       "\n",
       "    .dataframe tbody tr th {\n",
       "        vertical-align: top;\n",
       "    }\n",
       "\n",
       "    .dataframe thead th {\n",
       "        text-align: right;\n",
       "    }\n",
       "</style>\n",
       "<table border=\"1\" class=\"dataframe\">\n",
       "  <thead>\n",
       "    <tr style=\"text-align: right;\">\n",
       "      <th></th>\n",
       "      <th>ID</th>\n",
       "      <th>Client_Income</th>\n",
       "      <th>Car_Owned</th>\n",
       "      <th>Bike_Owned</th>\n",
       "      <th>Active_Loan</th>\n",
       "      <th>House_Own</th>\n",
       "      <th>Child_Count</th>\n",
       "      <th>Credit_Amount</th>\n",
       "      <th>Loan_Annuity</th>\n",
       "      <th>Population_Region_Relative</th>\n",
       "      <th>...</th>\n",
       "      <th>Cleint_City_Rating</th>\n",
       "      <th>Application_Process_Day</th>\n",
       "      <th>Application_Process_Hour</th>\n",
       "      <th>Score_Source_1</th>\n",
       "      <th>Score_Source_2</th>\n",
       "      <th>Score_Source_3</th>\n",
       "      <th>Social_Circle_Default</th>\n",
       "      <th>Phone_Change</th>\n",
       "      <th>Credit_Bureau</th>\n",
       "      <th>Default</th>\n",
       "    </tr>\n",
       "  </thead>\n",
       "  <tbody>\n",
       "    <tr>\n",
       "      <th>count</th>\n",
       "      <td>1.218560e+05</td>\n",
       "      <td>1.182340e+05</td>\n",
       "      <td>118275.000000</td>\n",
       "      <td>118232.000000</td>\n",
       "      <td>118221.000000</td>\n",
       "      <td>118195.000000</td>\n",
       "      <td>118218.000000</td>\n",
       "      <td>118219.000000</td>\n",
       "      <td>117030.000000</td>\n",
       "      <td>116988.000000</td>\n",
       "      <td>...</td>\n",
       "      <td>119447.000000</td>\n",
       "      <td>119428.000000</td>\n",
       "      <td>118193.000000</td>\n",
       "      <td>53021.000000</td>\n",
       "      <td>116170.000000</td>\n",
       "      <td>94934.000000</td>\n",
       "      <td>59928.000000</td>\n",
       "      <td>118192.000000</td>\n",
       "      <td>103316.000000</td>\n",
       "      <td>121856.000000</td>\n",
       "    </tr>\n",
       "    <tr>\n",
       "      <th>mean</th>\n",
       "      <td>1.216093e+07</td>\n",
       "      <td>1.686519e+04</td>\n",
       "      <td>0.342854</td>\n",
       "      <td>0.332262</td>\n",
       "      <td>0.499175</td>\n",
       "      <td>0.692060</td>\n",
       "      <td>0.417779</td>\n",
       "      <td>60046.488951</td>\n",
       "      <td>2721.254492</td>\n",
       "      <td>0.022602</td>\n",
       "      <td>...</td>\n",
       "      <td>2.030038</td>\n",
       "      <td>3.159736</td>\n",
       "      <td>12.063100</td>\n",
       "      <td>0.501213</td>\n",
       "      <td>0.518625</td>\n",
       "      <td>0.511180</td>\n",
       "      <td>0.117428</td>\n",
       "      <td>962.106056</td>\n",
       "      <td>1.891082</td>\n",
       "      <td>0.080792</td>\n",
       "    </tr>\n",
       "    <tr>\n",
       "      <th>std</th>\n",
       "      <td>3.517694e+04</td>\n",
       "      <td>1.153815e+04</td>\n",
       "      <td>0.474665</td>\n",
       "      <td>0.471026</td>\n",
       "      <td>0.500001</td>\n",
       "      <td>0.461644</td>\n",
       "      <td>0.728802</td>\n",
       "      <td>40350.663346</td>\n",
       "      <td>1461.466162</td>\n",
       "      <td>0.413617</td>\n",
       "      <td>...</td>\n",
       "      <td>0.504407</td>\n",
       "      <td>1.759045</td>\n",
       "      <td>3.280695</td>\n",
       "      <td>0.211204</td>\n",
       "      <td>0.740248</td>\n",
       "      <td>0.194333</td>\n",
       "      <td>0.107974</td>\n",
       "      <td>827.976726</td>\n",
       "      <td>1.861921</td>\n",
       "      <td>0.272517</td>\n",
       "    </tr>\n",
       "    <tr>\n",
       "      <th>min</th>\n",
       "      <td>1.210000e+07</td>\n",
       "      <td>2.565000e+03</td>\n",
       "      <td>0.000000</td>\n",
       "      <td>0.000000</td>\n",
       "      <td>0.000000</td>\n",
       "      <td>0.000000</td>\n",
       "      <td>0.000000</td>\n",
       "      <td>4500.000000</td>\n",
       "      <td>217.350000</td>\n",
       "      <td>0.000533</td>\n",
       "      <td>...</td>\n",
       "      <td>1.000000</td>\n",
       "      <td>0.000000</td>\n",
       "      <td>0.000000</td>\n",
       "      <td>0.014568</td>\n",
       "      <td>0.000005</td>\n",
       "      <td>0.000527</td>\n",
       "      <td>0.000000</td>\n",
       "      <td>0.000000</td>\n",
       "      <td>0.000000</td>\n",
       "      <td>0.000000</td>\n",
       "    </tr>\n",
       "    <tr>\n",
       "      <th>25%</th>\n",
       "      <td>1.213046e+07</td>\n",
       "      <td>1.125000e+04</td>\n",
       "      <td>0.000000</td>\n",
       "      <td>0.000000</td>\n",
       "      <td>0.000000</td>\n",
       "      <td>0.000000</td>\n",
       "      <td>0.000000</td>\n",
       "      <td>27000.000000</td>\n",
       "      <td>1657.350000</td>\n",
       "      <td>0.010006</td>\n",
       "      <td>...</td>\n",
       "      <td>2.000000</td>\n",
       "      <td>2.000000</td>\n",
       "      <td>10.000000</td>\n",
       "      <td>0.333481</td>\n",
       "      <td>0.390164</td>\n",
       "      <td>0.372334</td>\n",
       "      <td>0.057700</td>\n",
       "      <td>272.000000</td>\n",
       "      <td>0.000000</td>\n",
       "      <td>0.000000</td>\n",
       "    </tr>\n",
       "    <tr>\n",
       "      <th>50%</th>\n",
       "      <td>1.216093e+07</td>\n",
       "      <td>1.440000e+04</td>\n",
       "      <td>0.000000</td>\n",
       "      <td>0.000000</td>\n",
       "      <td>0.000000</td>\n",
       "      <td>1.000000</td>\n",
       "      <td>0.000000</td>\n",
       "      <td>51750.000000</td>\n",
       "      <td>2499.750000</td>\n",
       "      <td>0.018850</td>\n",
       "      <td>...</td>\n",
       "      <td>2.000000</td>\n",
       "      <td>3.000000</td>\n",
       "      <td>12.000000</td>\n",
       "      <td>0.504657</td>\n",
       "      <td>0.564978</td>\n",
       "      <td>0.537070</td>\n",
       "      <td>0.088700</td>\n",
       "      <td>755.000000</td>\n",
       "      <td>1.000000</td>\n",
       "      <td>0.000000</td>\n",
       "    </tr>\n",
       "    <tr>\n",
       "      <th>75%</th>\n",
       "      <td>1.219139e+07</td>\n",
       "      <td>2.025000e+04</td>\n",
       "      <td>1.000000</td>\n",
       "      <td>1.000000</td>\n",
       "      <td>1.000000</td>\n",
       "      <td>1.000000</td>\n",
       "      <td>1.000000</td>\n",
       "      <td>80865.000000</td>\n",
       "      <td>3466.800000</td>\n",
       "      <td>0.028663</td>\n",
       "      <td>...</td>\n",
       "      <td>2.000000</td>\n",
       "      <td>5.000000</td>\n",
       "      <td>14.000000</td>\n",
       "      <td>0.673890</td>\n",
       "      <td>0.664011</td>\n",
       "      <td>0.667458</td>\n",
       "      <td>0.148500</td>\n",
       "      <td>1570.000000</td>\n",
       "      <td>3.000000</td>\n",
       "      <td>0.000000</td>\n",
       "    </tr>\n",
       "    <tr>\n",
       "      <th>max</th>\n",
       "      <td>1.222186e+07</td>\n",
       "      <td>1.800009e+06</td>\n",
       "      <td>1.000000</td>\n",
       "      <td>1.000000</td>\n",
       "      <td>1.000000</td>\n",
       "      <td>1.000000</td>\n",
       "      <td>19.000000</td>\n",
       "      <td>405000.000000</td>\n",
       "      <td>22500.000000</td>\n",
       "      <td>100.000000</td>\n",
       "      <td>...</td>\n",
       "      <td>3.000000</td>\n",
       "      <td>6.000000</td>\n",
       "      <td>23.000000</td>\n",
       "      <td>0.945741</td>\n",
       "      <td>100.000000</td>\n",
       "      <td>0.896010</td>\n",
       "      <td>1.000000</td>\n",
       "      <td>4185.000000</td>\n",
       "      <td>22.000000</td>\n",
       "      <td>1.000000</td>\n",
       "    </tr>\n",
       "  </tbody>\n",
       "</table>\n",
       "<p>8 rows × 29 columns</p>\n",
       "</div>"
      ],
      "text/plain": [
       "                 ID  Client_Income      Car_Owned     Bike_Owned  \\\n",
       "count  1.218560e+05   1.182340e+05  118275.000000  118232.000000   \n",
       "mean   1.216093e+07   1.686519e+04       0.342854       0.332262   \n",
       "std    3.517694e+04   1.153815e+04       0.474665       0.471026   \n",
       "min    1.210000e+07   2.565000e+03       0.000000       0.000000   \n",
       "25%    1.213046e+07   1.125000e+04       0.000000       0.000000   \n",
       "50%    1.216093e+07   1.440000e+04       0.000000       0.000000   \n",
       "75%    1.219139e+07   2.025000e+04       1.000000       1.000000   \n",
       "max    1.222186e+07   1.800009e+06       1.000000       1.000000   \n",
       "\n",
       "         Active_Loan      House_Own    Child_Count  Credit_Amount  \\\n",
       "count  118221.000000  118195.000000  118218.000000  118219.000000   \n",
       "mean        0.499175       0.692060       0.417779   60046.488951   \n",
       "std         0.500001       0.461644       0.728802   40350.663346   \n",
       "min         0.000000       0.000000       0.000000    4500.000000   \n",
       "25%         0.000000       0.000000       0.000000   27000.000000   \n",
       "50%         0.000000       1.000000       0.000000   51750.000000   \n",
       "75%         1.000000       1.000000       1.000000   80865.000000   \n",
       "max         1.000000       1.000000      19.000000  405000.000000   \n",
       "\n",
       "        Loan_Annuity  Population_Region_Relative  ...  Cleint_City_Rating  \\\n",
       "count  117030.000000               116988.000000  ...       119447.000000   \n",
       "mean     2721.254492                    0.022602  ...            2.030038   \n",
       "std      1461.466162                    0.413617  ...            0.504407   \n",
       "min       217.350000                    0.000533  ...            1.000000   \n",
       "25%      1657.350000                    0.010006  ...            2.000000   \n",
       "50%      2499.750000                    0.018850  ...            2.000000   \n",
       "75%      3466.800000                    0.028663  ...            2.000000   \n",
       "max     22500.000000                  100.000000  ...            3.000000   \n",
       "\n",
       "       Application_Process_Day  Application_Process_Hour  Score_Source_1  \\\n",
       "count            119428.000000             118193.000000    53021.000000   \n",
       "mean                  3.159736                 12.063100        0.501213   \n",
       "std                   1.759045                  3.280695        0.211204   \n",
       "min                   0.000000                  0.000000        0.014568   \n",
       "25%                   2.000000                 10.000000        0.333481   \n",
       "50%                   3.000000                 12.000000        0.504657   \n",
       "75%                   5.000000                 14.000000        0.673890   \n",
       "max                   6.000000                 23.000000        0.945741   \n",
       "\n",
       "       Score_Source_2  Score_Source_3  Social_Circle_Default   Phone_Change  \\\n",
       "count   116170.000000    94934.000000           59928.000000  118192.000000   \n",
       "mean         0.518625        0.511180               0.117428     962.106056   \n",
       "std          0.740248        0.194333               0.107974     827.976726   \n",
       "min          0.000005        0.000527               0.000000       0.000000   \n",
       "25%          0.390164        0.372334               0.057700     272.000000   \n",
       "50%          0.564978        0.537070               0.088700     755.000000   \n",
       "75%          0.664011        0.667458               0.148500    1570.000000   \n",
       "max        100.000000        0.896010               1.000000    4185.000000   \n",
       "\n",
       "       Credit_Bureau        Default  \n",
       "count  103316.000000  121856.000000  \n",
       "mean        1.891082       0.080792  \n",
       "std         1.861921       0.272517  \n",
       "min         0.000000       0.000000  \n",
       "25%         0.000000       0.000000  \n",
       "50%         1.000000       0.000000  \n",
       "75%         3.000000       0.000000  \n",
       "max        22.000000       1.000000  \n",
       "\n",
       "[8 rows x 29 columns]"
      ]
     },
     "execution_count": 92,
     "metadata": {},
     "output_type": "execute_result"
    }
   ],
   "source": [
    "pay_df.describe()"
   ]
  },
  {
   "cell_type": "markdown",
   "id": "e3dbb612",
   "metadata": {},
   "source": [
    "Car_Owned, Bike_Owned, Active_Loan, House_Own -> 범주형 데이터"
   ]
  },
  {
   "cell_type": "code",
   "execution_count": 93,
   "id": "cfff2573",
   "metadata": {},
   "outputs": [
    {
     "data": {
      "text/html": [
       "<div>\n",
       "<style scoped>\n",
       "    .dataframe tbody tr th:only-of-type {\n",
       "        vertical-align: middle;\n",
       "    }\n",
       "\n",
       "    .dataframe tbody tr th {\n",
       "        vertical-align: top;\n",
       "    }\n",
       "\n",
       "    .dataframe thead th {\n",
       "        text-align: right;\n",
       "    }\n",
       "</style>\n",
       "<table border=\"1\" class=\"dataframe\">\n",
       "  <thead>\n",
       "    <tr style=\"text-align: right;\">\n",
       "      <th></th>\n",
       "      <th>Accompany_Client</th>\n",
       "      <th>Client_Income_Type</th>\n",
       "      <th>Client_Education</th>\n",
       "      <th>Client_Marital_Status</th>\n",
       "      <th>Client_Gender</th>\n",
       "      <th>Loan_Contract_Type</th>\n",
       "      <th>Client_Housing_Type</th>\n",
       "      <th>Client_Occupation</th>\n",
       "      <th>Client_Permanent_Match_Tag</th>\n",
       "      <th>Client_Contact_Work_Tag</th>\n",
       "      <th>Type_Organization</th>\n",
       "    </tr>\n",
       "  </thead>\n",
       "  <tbody>\n",
       "    <tr>\n",
       "      <th>count</th>\n",
       "      <td>120110</td>\n",
       "      <td>118155</td>\n",
       "      <td>118211</td>\n",
       "      <td>118383</td>\n",
       "      <td>119443</td>\n",
       "      <td>118205</td>\n",
       "      <td>118169</td>\n",
       "      <td>80421</td>\n",
       "      <td>121856</td>\n",
       "      <td>121856</td>\n",
       "      <td>118247</td>\n",
       "    </tr>\n",
       "    <tr>\n",
       "      <th>unique</th>\n",
       "      <td>7</td>\n",
       "      <td>8</td>\n",
       "      <td>5</td>\n",
       "      <td>4</td>\n",
       "      <td>3</td>\n",
       "      <td>2</td>\n",
       "      <td>6</td>\n",
       "      <td>18</td>\n",
       "      <td>2</td>\n",
       "      <td>2</td>\n",
       "      <td>58</td>\n",
       "    </tr>\n",
       "    <tr>\n",
       "      <th>top</th>\n",
       "      <td>Alone</td>\n",
       "      <td>Service</td>\n",
       "      <td>Secondary</td>\n",
       "      <td>M</td>\n",
       "      <td>Male</td>\n",
       "      <td>CL</td>\n",
       "      <td>Home</td>\n",
       "      <td>Laborers</td>\n",
       "      <td>Yes</td>\n",
       "      <td>Yes</td>\n",
       "      <td>Business Entity Type 3</td>\n",
       "    </tr>\n",
       "    <tr>\n",
       "      <th>freq</th>\n",
       "      <td>97409</td>\n",
       "      <td>61028</td>\n",
       "      <td>83911</td>\n",
       "      <td>87349</td>\n",
       "      <td>78463</td>\n",
       "      <td>107118</td>\n",
       "      <td>104870</td>\n",
       "      <td>21024</td>\n",
       "      <td>112454</td>\n",
       "      <td>100015</td>\n",
       "      <td>26279</td>\n",
       "    </tr>\n",
       "  </tbody>\n",
       "</table>\n",
       "</div>"
      ],
      "text/plain": [
       "       Accompany_Client Client_Income_Type Client_Education  \\\n",
       "count            120110             118155           118211   \n",
       "unique                7                  8                5   \n",
       "top               Alone            Service        Secondary   \n",
       "freq              97409              61028            83911   \n",
       "\n",
       "       Client_Marital_Status Client_Gender Loan_Contract_Type  \\\n",
       "count                 118383        119443             118205   \n",
       "unique                     4             3                  2   \n",
       "top                        M          Male                 CL   \n",
       "freq                   87349         78463             107118   \n",
       "\n",
       "       Client_Housing_Type Client_Occupation Client_Permanent_Match_Tag  \\\n",
       "count               118169             80421                     121856   \n",
       "unique                   6                18                          2   \n",
       "top                   Home          Laborers                        Yes   \n",
       "freq                104870             21024                     112454   \n",
       "\n",
       "       Client_Contact_Work_Tag       Type_Organization  \n",
       "count                   121856                  118247  \n",
       "unique                       2                      58  \n",
       "top                        Yes  Business Entity Type 3  \n",
       "freq                    100015                   26279  "
      ]
     },
     "execution_count": 93,
     "metadata": {},
     "output_type": "execute_result"
    }
   ],
   "source": [
    "pay_df.describe(include=['O'])"
   ]
  },
  {
   "cell_type": "code",
   "execution_count": 97,
   "id": "42d97329",
   "metadata": {},
   "outputs": [
    {
     "data": {
      "text/plain": [
       "Male      78463\n",
       "Female    40977\n",
       "XNA           3\n",
       "Name: Client_Gender, dtype: int64"
      ]
     },
     "execution_count": 97,
     "metadata": {},
     "output_type": "execute_result"
    }
   ],
   "source": [
    "pay_df['Client_Gender'].value_counts()"
   ]
  },
  {
   "cell_type": "code",
   "execution_count": 102,
   "id": "eb88dadc",
   "metadata": {},
   "outputs": [
    {
     "data": {
      "text/plain": [
       "time.struct_time(tm_year=1970, tm_mon=1, tm_mday=1, tm_hour=3, tm_min=52, tm_sec=37, tm_wday=3, tm_yday=1, tm_isdst=0)"
      ]
     },
     "execution_count": 102,
     "metadata": {},
     "output_type": "execute_result"
    }
   ],
   "source": [
    "import time\n",
    "time.gmtime(pay_df.Age_Days[0])"
   ]
  },
  {
   "cell_type": "code",
   "execution_count": 100,
   "id": "8ac8a7f3",
   "metadata": {},
   "outputs": [
    {
     "data": {
      "text/plain": [
       "0         13957.0\n",
       "1         14162.0\n",
       "2         16790.0\n",
       "3         23195.0\n",
       "4         11366.0\n",
       "           ...   \n",
       "121851    12889.0\n",
       "121852     8648.0\n",
       "121853     9152.0\n",
       "121854    10290.0\n",
       "121855    14772.0\n",
       "Name: Age_Days, Length: 121856, dtype: float64"
      ]
     },
     "execution_count": 100,
     "metadata": {},
     "output_type": "execute_result"
    }
   ],
   "source": [
    "pay_df.Age_Days"
   ]
  },
  {
   "cell_type": "code",
   "execution_count": 95,
   "id": "04194c19",
   "metadata": {},
   "outputs": [
    {
     "data": {
      "text/plain": [
       "ID                                0\n",
       "Client_Income                  3622\n",
       "Car_Owned                      3581\n",
       "Bike_Owned                     3624\n",
       "Active_Loan                    3635\n",
       "House_Own                      3661\n",
       "Child_Count                    3638\n",
       "Credit_Amount                  3637\n",
       "Loan_Annuity                   4826\n",
       "Accompany_Client               1746\n",
       "Client_Income_Type             3701\n",
       "Client_Education               3645\n",
       "Client_Marital_Status          3473\n",
       "Client_Gender                  2413\n",
       "Loan_Contract_Type             3651\n",
       "Client_Housing_Type            3687\n",
       "Population_Region_Relative     4868\n",
       "Age_Days                       3617\n",
       "Employed_Days                  3666\n",
       "Registration_Days              3631\n",
       "ID_Days                        5985\n",
       "Own_House_Age                 80095\n",
       "Mobile_Tag                        0\n",
       "Homephone_Tag                     0\n",
       "Workphone_Working                 0\n",
       "Client_Occupation             41435\n",
       "Client_Family_Members          2410\n",
       "Cleint_City_Rating             2409\n",
       "Application_Process_Day        2428\n",
       "Application_Process_Hour       3663\n",
       "Client_Permanent_Match_Tag        0\n",
       "Client_Contact_Work_Tag           0\n",
       "Type_Organization              3609\n",
       "Score_Source_1                68835\n",
       "Score_Source_2                 5686\n",
       "Score_Source_3                26922\n",
       "Social_Circle_Default         61928\n",
       "Phone_Change                   3664\n",
       "Credit_Bureau                 18540\n",
       "Default                           0\n",
       "dtype: int64"
      ]
     },
     "execution_count": 95,
     "metadata": {},
     "output_type": "execute_result"
    }
   ],
   "source": [
    "pay_df.isna().sum()"
   ]
  },
  {
   "cell_type": "code",
   "execution_count": null,
   "id": "357e81d3",
   "metadata": {},
   "outputs": [],
   "source": [
    "# 결측치 대체  필요"
   ]
  },
  {
   "cell_type": "code",
   "execution_count": null,
   "id": "9c8f7b07",
   "metadata": {},
   "outputs": [],
   "source": [
    "결측값을 변수별 평균으로 대체하기(filling missing values with mean per columns)\n",
    "      : df.fillna(df.mean()), df.where(pd.notnull(df), df.mean(), axis='columns')"
   ]
  },
  {
   "cell_type": "code",
   "execution_count": null,
   "id": "5f001e1d",
   "metadata": {},
   "outputs": [],
   "source": [
    "num_colums=['Client_Income', 'Child_Count', 'Credit_Amount', 'Loan_Annuity', 'Population_Region_Relative,' \n",
    "           ' Cleint_City_Rating', 'Application_Process_Day', 'Application_Process_Hour', 'Score_Source_1', \n",
    "            'Score_Source_2', 'Score_Source_3', 'Social_Circle_Default','Phone_Change','Credit_Bureau']\n",
    "\n",
    "cag_colums=['Car_Owned', 'Bike_Owned', 'Active_Loan', 'House_Own']"
   ]
  },
  {
   "cell_type": "code",
   "execution_count": 103,
   "id": "e6be11d4",
   "metadata": {},
   "outputs": [
    {
     "data": {
      "text/plain": [
       "0         13957.0\n",
       "1         14162.0\n",
       "2         16790.0\n",
       "3         23195.0\n",
       "4         11366.0\n",
       "           ...   \n",
       "121851    12889.0\n",
       "121852     8648.0\n",
       "121853     9152.0\n",
       "121854    10290.0\n",
       "121855    14772.0\n",
       "Name: Age_Days, Length: 121856, dtype: float64"
      ]
     },
     "execution_count": 103,
     "metadata": {},
     "output_type": "execute_result"
    }
   ],
   "source": [
    "pay_df.Age_Days"
   ]
  },
  {
   "cell_type": "code",
   "execution_count": 104,
   "id": "f89a6953",
   "metadata": {},
   "outputs": [
    {
     "data": {
      "text/plain": [
       "time.struct_time(tm_year=1970, tm_mon=1, tm_mday=1, tm_hour=3, tm_min=52, tm_sec=37, tm_wday=3, tm_yday=1, tm_isdst=0)"
      ]
     },
     "execution_count": 104,
     "metadata": {},
     "output_type": "execute_result"
    }
   ],
   "source": [
    "import time\n",
    "time.gmtime(pay_df.Age_Days[0])"
   ]
  },
  {
   "cell_type": "code",
   "execution_count": 111,
   "id": "803b6e83",
   "metadata": {},
   "outputs": [],
   "source": [
    "def read_file(loc):\n",
    "    return pd.read_csv(\n",
    "        loc,\n",
    "        index_col='ID',\n",
    "        na_values=['$', '#VALUE!', '##', 'XNA', '@', '#', 'x', '&'],\n",
    "        dtype={\n",
    "            'Accompany_Client': 'category',\n",
    "            'Client_Income_Type': 'category',\n",
    "            'Client_Education': 'category',\n",
    "            'Client_Marital_Status': 'category',\n",
    "            'Client_Gender': 'category',\n",
    "            'Loan_Contract_Type': 'category',\n",
    "            'Client_Housing_Type': 'category',\n",
    "            'Client_Occupation': 'category',\n",
    "            'Type_Organization': 'category',\n",
    "            'Default': 'bool',\n",
    "        },\n",
    "        true_values=['Yes'],\n",
    "        false_values=['No'],\n",
    "    ).rename(\n",
    "        columns={\n",
    "            'Cleint_City_Rating':'Client_City_Rating',\n",
    "        }\n",
    "    )\n",
    "\n",
    "train_location = '/semi_project/nbfi_vehicle_loan_repayment_dataset/Train_Dataset.csv'\n",
    "test_location = '/semi_project/nbfi_vehicle_loan_repayment_dataset/Test_Dataset.csv'"
   ]
  },
  {
   "cell_type": "code",
   "execution_count": 112,
   "id": "3d4f0086",
   "metadata": {},
   "outputs": [
    {
     "name": "stdout",
     "output_type": "stream",
     "text": [
      "<class 'pandas.core.frame.DataFrame'>\n",
      "Int64Index: 121856 entries, 12142509 to 12105610\n",
      "Data columns (total 39 columns):\n",
      " #   Column                      Non-Null Count   Dtype   \n",
      "---  ------                      --------------   -----   \n",
      " 0   Client_Income               118234 non-null  float64 \n",
      " 1   Car_Owned                   118275 non-null  float64 \n",
      " 2   Bike_Owned                  118232 non-null  float64 \n",
      " 3   Active_Loan                 118221 non-null  float64 \n",
      " 4   House_Own                   118195 non-null  float64 \n",
      " 5   Child_Count                 118218 non-null  float64 \n",
      " 6   Credit_Amount               118219 non-null  float64 \n",
      " 7   Loan_Annuity                117030 non-null  float64 \n",
      " 8   Accompany_Client            120098 non-null  category\n",
      " 9   Client_Income_Type          118155 non-null  category\n",
      " 10  Client_Education            118211 non-null  category\n",
      " 11  Client_Marital_Status       118383 non-null  category\n",
      " 12  Client_Gender               119440 non-null  category\n",
      " 13  Loan_Contract_Type          118205 non-null  category\n",
      " 14  Client_Housing_Type         118169 non-null  category\n",
      " 15  Population_Region_Relative  116988 non-null  float64 \n",
      " 16  Age_Days                    118239 non-null  float64 \n",
      " 17  Employed_Days               118190 non-null  float64 \n",
      " 18  Registration_Days           118225 non-null  float64 \n",
      " 19  ID_Days                     115871 non-null  float64 \n",
      " 20  Own_House_Age               41761 non-null   float64 \n",
      " 21  Mobile_Tag                  121856 non-null  int64   \n",
      " 22  Homephone_Tag               121856 non-null  int64   \n",
      " 23  Workphone_Working           121856 non-null  int64   \n",
      " 24  Client_Occupation           80421 non-null   category\n",
      " 25  Client_Family_Members       119446 non-null  float64 \n",
      " 26  Client_City_Rating          119447 non-null  float64 \n",
      " 27  Application_Process_Day     119428 non-null  float64 \n",
      " 28  Application_Process_Hour    118193 non-null  float64 \n",
      " 29  Client_Permanent_Match_Tag  121856 non-null  bool    \n",
      " 30  Client_Contact_Work_Tag     121856 non-null  bool    \n",
      " 31  Type_Organization           97162 non-null   category\n",
      " 32  Score_Source_1              53021 non-null   float64 \n",
      " 33  Score_Source_2              116170 non-null  float64 \n",
      " 34  Score_Source_3              94934 non-null   float64 \n",
      " 35  Social_Circle_Default       59928 non-null   float64 \n",
      " 36  Phone_Change                118192 non-null  float64 \n",
      " 37  Credit_Bureau               103316 non-null  float64 \n",
      " 38  Default                     121856 non-null  bool    \n",
      "dtypes: bool(3), category(9), float64(24), int64(3)\n",
      "memory usage: 27.4 MB\n",
      "None\n"
     ]
    }
   ],
   "source": [
    "df = read_file(train_location)\n",
    "print(df.info())"
   ]
  },
  {
   "cell_type": "code",
   "execution_count": 114,
   "id": "b429e291",
   "metadata": {},
   "outputs": [
    {
     "data": {
      "text/plain": [
       "Client_Income                  3622\n",
       "Car_Owned                      3581\n",
       "Bike_Owned                     3624\n",
       "Active_Loan                    3635\n",
       "House_Own                      3661\n",
       "Child_Count                    3638\n",
       "Credit_Amount                  3637\n",
       "Loan_Annuity                   4826\n",
       "Accompany_Client               1758\n",
       "Client_Income_Type             3701\n",
       "Client_Education               3645\n",
       "Client_Marital_Status          3473\n",
       "Client_Gender                  2416\n",
       "Loan_Contract_Type             3651\n",
       "Client_Housing_Type            3687\n",
       "Population_Region_Relative     4868\n",
       "Age_Days                       3617\n",
       "Employed_Days                  3666\n",
       "Registration_Days              3631\n",
       "ID_Days                        5985\n",
       "Own_House_Age                 80095\n",
       "Mobile_Tag                        0\n",
       "Homephone_Tag                     0\n",
       "Workphone_Working                 0\n",
       "Client_Occupation             41435\n",
       "Client_Family_Members          2410\n",
       "Client_City_Rating             2409\n",
       "Application_Process_Day        2428\n",
       "Application_Process_Hour       3663\n",
       "Client_Permanent_Match_Tag        0\n",
       "Client_Contact_Work_Tag           0\n",
       "Type_Organization             24694\n",
       "Score_Source_1                68835\n",
       "Score_Source_2                 5686\n",
       "Score_Source_3                26922\n",
       "Social_Circle_Default         61928\n",
       "Phone_Change                   3664\n",
       "Credit_Bureau                 18540\n",
       "Default                           0\n",
       "dtype: int64"
      ]
     },
     "execution_count": 114,
     "metadata": {},
     "output_type": "execute_result"
    }
   ],
   "source": [
    "df.isna().sum()"
   ]
  },
  {
   "cell_type": "code",
   "execution_count": 121,
   "id": "aa654058",
   "metadata": {},
   "outputs": [],
   "source": [
    "num_columns=['Client_Income', 'Child_Count', 'Credit_Amount', 'Loan_Annuity', 'Population_Region_Relative', \n",
    "            'Cleint_City_Rating', 'Application_Process_Day', 'Application_Process_Hour', 'Score_Source_1', \n",
    "            'Score_Source_2', 'Score_Source_3', 'Social_Circle_Default','Phone_Change','Credit_Bureau']\n",
    "\n",
    "cag_colums=['Car_Owned', 'Bike_Owned', 'Active_Loan', 'House_Own', 'Accompany_Client',\n",
    "            'Client_Income_Type', 'Client_Education', 'Client_Marital_Status', 'Client_Gender', \n",
    "            'Loan_Contract_Type','Client_Housing_Type', 'Client_Occupation',' Client_Permanent_Match_Tag', \n",
    "            'Client_Contact_Work_Tag','Type_Organization']"
   ]
  },
  {
   "cell_type": "code",
   "execution_count": 134,
   "id": "294215ed",
   "metadata": {},
   "outputs": [],
   "source": [
    "num_columns=['Client_Income', 'Child_Count', 'Credit_Amount', 'Loan_Annuity', 'Population_Region_Relative', \n",
    "            'Cleint_City_Rating', 'Application_Process_Day', 'Application_Process_Hour', 'Score_Source_1', \n",
    "            'Score_Source_2', 'Score_Source_3', 'Social_Circle_Default','Phone_Change','Credit_Bureau']\n",
    "\n",
    "for num_column in num_columns:\n",
    "    pay_df[num_column].fillna(pay_df[num_column].mean(), inplace=True)"
   ]
  },
  {
   "cell_type": "code",
   "execution_count": 135,
   "id": "25078054",
   "metadata": {},
   "outputs": [
    {
     "data": {
      "text/plain": [
       "ID                                0\n",
       "Client_Income                     0\n",
       "Car_Owned                      3581\n",
       "Bike_Owned                     3624\n",
       "Active_Loan                    3635\n",
       "House_Own                      3661\n",
       "Child_Count                       0\n",
       "Credit_Amount                     0\n",
       "Loan_Annuity                      0\n",
       "Accompany_Client               1746\n",
       "Client_Income_Type             3701\n",
       "Client_Education               3645\n",
       "Client_Marital_Status          3473\n",
       "Client_Gender                  2413\n",
       "Loan_Contract_Type             3651\n",
       "Client_Housing_Type            3687\n",
       "Population_Region_Relative        0\n",
       "Age_Days                       3617\n",
       "Employed_Days                  3666\n",
       "Registration_Days              3631\n",
       "ID_Days                        5985\n",
       "Own_House_Age                 80095\n",
       "Mobile_Tag                        0\n",
       "Homephone_Tag                     0\n",
       "Workphone_Working                 0\n",
       "Client_Occupation             41435\n",
       "Client_Family_Members          2410\n",
       "Cleint_City_Rating                0\n",
       "Application_Process_Day           0\n",
       "Application_Process_Hour          0\n",
       "Client_Permanent_Match_Tag        0\n",
       "Client_Contact_Work_Tag           0\n",
       "Type_Organization              3609\n",
       "Score_Source_1                    0\n",
       "Score_Source_2                    0\n",
       "Score_Source_3                    0\n",
       "Social_Circle_Default             0\n",
       "Phone_Change                      0\n",
       "Credit_Bureau                     0\n",
       "Default                           0\n",
       "dtype: int64"
      ]
     },
     "execution_count": 135,
     "metadata": {},
     "output_type": "execute_result"
    }
   ],
   "source": [
    "pay_df.isna().sum()"
   ]
  },
  {
   "cell_type": "code",
   "execution_count": 116,
   "id": "c283e0b6",
   "metadata": {},
   "outputs": [
    {
     "data": {
      "text/plain": [
       "16865.191737063782"
      ]
     },
     "execution_count": 116,
     "metadata": {},
     "output_type": "execute_result"
    }
   ],
   "source": [
    "pay_df.Client_Income.mean()"
   ]
  }
 ],
 "metadata": {
  "kernelspec": {
   "display_name": "Python 3 (ipykernel)",
   "language": "python",
   "name": "python3"
  },
  "language_info": {
   "codemirror_mode": {
    "name": "ipython",
    "version": 3
   },
   "file_extension": ".py",
   "mimetype": "text/x-python",
   "name": "python",
   "nbconvert_exporter": "python",
   "pygments_lexer": "ipython3",
   "version": "3.9.13"
  }
 },
 "nbformat": 4,
 "nbformat_minor": 5
}
