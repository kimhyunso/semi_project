{
 "cells": [
  {
   "cell_type": "code",
   "execution_count": 2,
   "id": "029792a1",
   "metadata": {},
   "outputs": [],
   "source": [
    "import numpy as np\n",
    "import pandas as pd\n",
    "from matplotlib import pyplot as plt\n",
    "from sklearn.ensemble import RandomForestClassifier"
   ]
  },
  {
   "cell_type": "code",
   "execution_count": 6,
   "id": "97cf5960",
   "metadata": {
    "scrolled": true
   },
   "outputs": [],
   "source": [
    "# data load \n",
    "# train_df \n",
    "x_train_over_df = pd.read_csv('./oversampling_dataset/x_train_over_df.csv')\n",
    "n_y_train_over_df = pd.read_csv('./oversampling_dataset/n_y_train_over_df.csv')\n",
    "# test_df\n",
    "test_data_df = pd.read_csv('./oversampling_dataset/test_data_df.csv')\n",
    "n_test_label_df = pd.read_csv('./oversampling_dataset/n_test_label_df.csv')"
   ]
  },
  {
   "cell_type": "code",
   "execution_count": 7,
   "id": "47a6145f",
   "metadata": {},
   "outputs": [
    {
     "name": "stdout",
     "output_type": "stream",
     "text": [
      "(156816, 140)\n",
      "(156816, 1)\n",
      "(36557, 140)\n",
      "(36557, 1)\n"
     ]
    }
   ],
   "source": [
    "print(x_train_over_df.shape)\n",
    "print(n_y_train_over_df.shape)\n",
    "print(test_data_df.shape)\n",
    "print(n_test_label_df.shape)"
   ]
  },
  {
   "cell_type": "markdown",
   "id": "31807503",
   "metadata": {},
   "source": [
    "### Randomforest model "
   ]
  },
  {
   "cell_type": "code",
   "execution_count": 12,
   "id": "617e26c3",
   "metadata": {},
   "outputs": [],
   "source": [
    "# import Random Forest classifier\n",
    "from sklearn.ensemble import RandomForestClassifier"
   ]
  },
  {
   "cell_type": "code",
   "execution_count": 9,
   "id": "9d15bd73",
   "metadata": {},
   "outputs": [
    {
     "name": "stderr",
     "output_type": "stream",
     "text": [
      "C:\\Users\\User\\AppData\\Local\\Temp\\ipykernel_24836\\1993867447.py:3: DataConversionWarning: A column-vector y was passed when a 1d array was expected. Please change the shape of y to (n_samples,), for example using ravel().\n",
      "  rfc.fit(x_train_over_df, n_y_train_over_df)\n"
     ]
    },
    {
     "data": {
      "text/plain": [
       "RandomForestClassifier(random_state=0)"
      ]
     },
     "execution_count": 9,
     "metadata": {},
     "output_type": "execute_result"
    }
   ],
   "source": [
    "# model train\n",
    "rfc = RandomForestClassifier(random_state=0)\n",
    "rfc.fit(x_train_over_df, n_y_train_over_df)"
   ]
  },
  {
   "cell_type": "code",
   "execution_count": 10,
   "id": "bb8ad478",
   "metadata": {},
   "outputs": [],
   "source": [
    "# y값 예측하기\n",
    "y_pred = rfc.predict(test_data_df)"
   ]
  },
  {
   "cell_type": "code",
   "execution_count": 11,
   "id": "e090bbd4",
   "metadata": {},
   "outputs": [
    {
     "name": "stdout",
     "output_type": "stream",
     "text": [
      "Model accuracy score: 0.9273\n"
     ]
    }
   ],
   "source": [
    "# acc\n",
    "from sklearn.metrics import accuracy_score\n",
    "print('Model accuracy score: {0:0.4f}'. format(accuracy_score(n_test_label_df, y_pred)))"
   ]
  },
  {
   "cell_type": "markdown",
   "id": "7890c30c",
   "metadata": {},
   "source": [
    "### Decision Tree"
   ]
  },
  {
   "cell_type": "code",
   "execution_count": 18,
   "id": "f9b7cdf2",
   "metadata": {},
   "outputs": [],
   "source": [
    "# import Decision Tree classifier\n",
    "from sklearn.tree import DecisionTreeClassifier"
   ]
  },
  {
   "cell_type": "code",
   "execution_count": 14,
   "id": "7de36a03",
   "metadata": {},
   "outputs": [
    {
     "data": {
      "text/plain": [
       "DecisionTreeClassifier()"
      ]
     },
     "execution_count": 14,
     "metadata": {},
     "output_type": "execute_result"
    }
   ],
   "source": [
    "# model train\n",
    "# clf = DecisionTreeClassifier()\n",
    "# clf.fit(x_train_over_df, n_y_train_over_df)"
   ]
  },
  {
   "cell_type": "code",
   "execution_count": 37,
   "id": "91e94a59",
   "metadata": {},
   "outputs": [],
   "source": [
    "clf = DecisionTreeClassifier(\n",
    "            criterion='entropy', ## 'gini', 'log_loss'\n",
    "            splitter='best', ## 'random'\n",
    "            max_depth=100, ## '최대 깊이'\n",
    "            min_samples_leaf=1, ## 최소 끝마디 샘플 수\n",
    "            random_state=100\n",
    "        ).fit(x_train_over_df, n_y_train_over_df)"
   ]
  },
  {
   "cell_type": "code",
   "execution_count": 38,
   "id": "e010facd",
   "metadata": {},
   "outputs": [],
   "source": [
    "# y값 예측하기\n",
    "y_pred = clf.predict(test_data_df)"
   ]
  },
  {
   "cell_type": "code",
   "execution_count": 39,
   "id": "0194072c",
   "metadata": {},
   "outputs": [
    {
     "name": "stdout",
     "output_type": "stream",
     "text": [
      "Model accuracy score: 0.8581\n"
     ]
    }
   ],
   "source": [
    "# acc 체점\n",
    "print('Model accuracy score: {0:0.4f}'. format(accuracy_score(n_test_label_df, y_pred)))"
   ]
  },
  {
   "cell_type": "code",
   "execution_count": 40,
   "id": "3e4ef7b7",
   "metadata": {},
   "outputs": [
    {
     "name": "stdout",
     "output_type": "stream",
     "text": [
      "              precision    recall  f1-score   support\n",
      "\n",
      "           0       0.93      0.91      0.92     33603\n",
      "           1       0.19      0.24      0.21      2954\n",
      "\n",
      "    accuracy                           0.86     36557\n",
      "   macro avg       0.56      0.58      0.57     36557\n",
      "weighted avg       0.87      0.86      0.86     36557\n",
      "\n",
      "Accuracy on Training set: 1.000\n",
      "Accuracy on Test set: 0.858\n"
     ]
    }
   ],
   "source": [
    "from sklearn.metrics import classification_report\n",
    "print(classification_report(n_test_label_df, y_pred)) \n",
    "\n",
    "print(\"Accuracy on Training set: {:.3f}\".format(clf.score(x_train_over_df, n_y_train_over_df)))\n",
    "print(\"Accuracy on Test set: {:.3f}\".format(clf.score(test_data_df, n_test_label_df)))"
   ]
  },
  {
   "cell_type": "markdown",
   "id": "0033cca4",
   "metadata": {},
   "source": [
    "- overfitting ^-^.. max_depth 100개 미만, 이상으로도 지정해봤는 데 계속 오버피팅 발생하더라구요 어차피 recall지수도 낮아서 다른 모델 써야할 것 같긴 하다만 일단 이건 이렇게까지만 할까요?"
   ]
  },
  {
   "cell_type": "markdown",
   "id": "229858b0",
   "metadata": {},
   "source": [
    "\n",
    "### Paycaret\n",
    "\n",
    "- AutoML 하게 해주는 파이썬 라이브러리"
   ]
  },
  {
   "cell_type": "code",
   "execution_count": 1,
   "id": "c8daf065",
   "metadata": {
    "scrolled": false
   },
   "outputs": [],
   "source": [
    "# !pip install pycaret"
   ]
  },
  {
   "cell_type": "code",
   "execution_count": 15,
   "id": "29b31772",
   "metadata": {},
   "outputs": [],
   "source": [
    "# import numpy as np\n",
    "# import pandas as pd\n",
    "\n",
    "# # data load \n",
    "# # Original dataframe \n",
    "# train_dataset = pd.read_csv('./nbfi_vehicle_loan_repayment_dataset/Train_Dataset.csv')\n",
    "# test_dataset = pd.read_csv('./nbfi_vehicle_loan_repayment_dataset/Train_Dataset.csv') # 정답 x "
   ]
  },
  {
   "cell_type": "code",
   "execution_count": 2,
   "id": "b53470b9",
   "metadata": {},
   "outputs": [],
   "source": [
    "from pycaret.classification import *"
   ]
  },
  {
   "cell_type": "code",
   "execution_count": null,
   "id": "a4104a11",
   "metadata": {},
   "outputs": [],
   "source": [
    "train_dataset.select_dtypes(include='object').columns"
   ]
  },
  {
   "cell_type": "code",
   "execution_count": null,
   "id": "991f725a",
   "metadata": {},
   "outputs": [],
   "source": [
    "# paycaret은 다른 파일에서 다시 해보겠습니다. "
   ]
  }
 ],
 "metadata": {
  "kernelspec": {
   "display_name": "Python 3 (ipykernel)",
   "language": "python",
   "name": "python3"
  },
  "language_info": {
   "codemirror_mode": {
    "name": "ipython",
    "version": 3
   },
   "file_extension": ".py",
   "mimetype": "text/x-python",
   "name": "python",
   "nbconvert_exporter": "python",
   "pygments_lexer": "ipython3",
   "version": "3.9.13"
  }
 },
 "nbformat": 4,
 "nbformat_minor": 5
}
