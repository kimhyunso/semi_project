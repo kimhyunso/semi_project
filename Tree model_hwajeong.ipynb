{
 "cells": [
  {
   "cell_type": "code",
   "execution_count": 2,
   "id": "029792a1",
   "metadata": {},
   "outputs": [],
   "source": [
    "import numpy as np\n",
    "import pandas as pd\n",
    "from matplotlib import pyplot as plt\n",
    "from sklearn.ensemble import RandomForestClassifier"
   ]
  },
  {
   "cell_type": "code",
   "execution_count": 6,
   "id": "97cf5960",
   "metadata": {
    "scrolled": true
   },
   "outputs": [],
   "source": [
    "# data load \n",
    "# train_df \n",
    "x_train_over_df = pd.read_csv('./oversampling_dataset/x_train_over_df.csv')\n",
    "n_y_train_over_df = pd.read_csv('./oversampling_dataset/n_y_train_over_df.csv')\n",
    "# test_df\n",
    "test_data_df = pd.read_csv('./oversampling_dataset/test_data_df.csv')\n",
    "n_test_label_df = pd.read_csv('./oversampling_dataset/n_test_label_df.csv')"
   ]
  },
  {
   "cell_type": "code",
   "execution_count": 7,
   "id": "47a6145f",
   "metadata": {},
   "outputs": [
    {
     "name": "stdout",
     "output_type": "stream",
     "text": [
      "(156816, 140)\n",
      "(156816, 1)\n",
      "(36557, 140)\n",
      "(36557, 1)\n"
     ]
    }
   ],
   "source": [
    "print(x_train_over_df.shape)\n",
    "print(n_y_train_over_df.shape)\n",
    "print(test_data_df.shape)\n",
    "print(n_test_label_df.shape)"
   ]
  },
  {
   "cell_type": "markdown",
   "id": "31807503",
   "metadata": {},
   "source": [
    "### Randomforest model "
   ]
  },
  {
   "cell_type": "code",
   "execution_count": 12,
   "id": "617e26c3",
   "metadata": {},
   "outputs": [],
   "source": [
    "# import Random Forest classifier\n",
    "from sklearn.ensemble import RandomForestClassifier"
   ]
  },
  {
   "cell_type": "code",
   "execution_count": 9,
   "id": "9d15bd73",
   "metadata": {},
   "outputs": [
    {
     "name": "stderr",
     "output_type": "stream",
     "text": [
      "C:\\Users\\User\\AppData\\Local\\Temp\\ipykernel_24836\\1993867447.py:3: DataConversionWarning: A column-vector y was passed when a 1d array was expected. Please change the shape of y to (n_samples,), for example using ravel().\n",
      "  rfc.fit(x_train_over_df, n_y_train_over_df)\n"
     ]
    },
    {
     "data": {
      "text/plain": [
       "RandomForestClassifier(random_state=0)"
      ]
     },
     "execution_count": 9,
     "metadata": {},
     "output_type": "execute_result"
    }
   ],
   "source": [
    "# model train\n",
    "rfc = RandomForestClassifier(random_state=0)\n",
    "rfc.fit(x_train_over_df, n_y_train_over_df)"
   ]
  },
  {
   "cell_type": "code",
   "execution_count": 10,
   "id": "bb8ad478",
   "metadata": {},
   "outputs": [],
   "source": [
    "# y값 예측하기\n",
    "y_pred = rfc.predict(test_data_df)"
   ]
  },
  {
   "cell_type": "code",
   "execution_count": 11,
   "id": "e090bbd4",
   "metadata": {},
   "outputs": [
    {
     "name": "stdout",
     "output_type": "stream",
     "text": [
      "Model accuracy score: 0.9273\n"
     ]
    }
   ],
   "source": [
    "# acc\n",
    "from sklearn.metrics import accuracy_score\n",
    "print('Model accuracy score: {0:0.4f}'. format(accuracy_score(n_test_label_df, y_pred)))"
   ]
  },
  {
   "cell_type": "markdown",
   "id": "7890c30c",
   "metadata": {},
   "source": [
    "### Decision Tree"
   ]
  },
  {
   "cell_type": "code",
   "execution_count": 18,
   "id": "f9b7cdf2",
   "metadata": {},
   "outputs": [],
   "source": [
    "# import Decision Tree classifier\n",
    "from sklearn.tree import DecisionTreeClassifier"
   ]
  },
  {
   "cell_type": "code",
   "execution_count": 14,
   "id": "7de36a03",
   "metadata": {},
   "outputs": [
    {
     "data": {
      "text/plain": [
       "DecisionTreeClassifier()"
      ]
     },
     "execution_count": 14,
     "metadata": {},
     "output_type": "execute_result"
    }
   ],
   "source": [
    "# model train\n",
    "# clf = DecisionTreeClassifier()\n",
    "# clf.fit(x_train_over_df, n_y_train_over_df)"
   ]
  },
  {
   "cell_type": "code",
   "execution_count": 37,
   "id": "91e94a59",
   "metadata": {},
   "outputs": [],
   "source": [
    "clf = DecisionTreeClassifier(\n",
    "            criterion='entropy', ## 'gini', 'log_loss'\n",
    "            splitter='best', ## 'random'\n",
    "            max_depth=100, ## '최대 깊이'\n",
    "            min_samples_leaf=1, ## 최소 끝마디 샘플 수\n",
    "            random_state=100\n",
    "        ).fit(x_train_over_df, n_y_train_over_df)"
   ]
  },
  {
   "cell_type": "code",
   "execution_count": 38,
   "id": "e010facd",
   "metadata": {},
   "outputs": [],
   "source": [
    "# y값 예측하기\n",
    "y_pred = clf.predict(test_data_df)"
   ]
  },
  {
   "cell_type": "code",
   "execution_count": 39,
   "id": "0194072c",
   "metadata": {},
   "outputs": [
    {
     "name": "stdout",
     "output_type": "stream",
     "text": [
      "Model accuracy score: 0.8581\n"
     ]
    }
   ],
   "source": [
    "# acc 체점\n",
    "print('Model accuracy score: {0:0.4f}'. format(accuracy_score(n_test_label_df, y_pred)))"
   ]
  },
  {
   "cell_type": "code",
   "execution_count": 40,
   "id": "3e4ef7b7",
   "metadata": {},
   "outputs": [
    {
     "name": "stdout",
     "output_type": "stream",
     "text": [
      "              precision    recall  f1-score   support\n",
      "\n",
      "           0       0.93      0.91      0.92     33603\n",
      "           1       0.19      0.24      0.21      2954\n",
      "\n",
      "    accuracy                           0.86     36557\n",
      "   macro avg       0.56      0.58      0.57     36557\n",
      "weighted avg       0.87      0.86      0.86     36557\n",
      "\n",
      "Accuracy on Training set: 1.000\n",
      "Accuracy on Test set: 0.858\n"
     ]
    }
   ],
   "source": [
    "from sklearn.metrics import classification_report\n",
    "print(classification_report(n_test_label_df, y_pred)) \n",
    "\n",
    "print(\"Accuracy on Training set: {:.3f}\".format(clf.score(x_train_over_df, n_y_train_over_df)))\n",
    "print(\"Accuracy on Test set: {:.3f}\".format(clf.score(test_data_df, n_test_label_df)))"
   ]
  },
  {
   "cell_type": "markdown",
   "id": "0033cca4",
   "metadata": {},
   "source": [
    "- overfitting ^-^.. max_depth 100개 미만, 이상으로도 지정해봤는 데 계속 오버피팅 발생하더라구요 어차피 recall지수도 낮아서 다른 모델 써야할 것 같긴 하다만 일단 이건 이렇게까지만 할까요?"
   ]
  },
  {
   "cell_type": "markdown",
   "id": "229858b0",
   "metadata": {},
   "source": [
    "\n",
    "### Paycaret\n",
    "\n",
    "- AutoML 하게 해주는 파이썬 라이브러리"
   ]
  },
  {
   "cell_type": "code",
   "execution_count": 1,
   "id": "c8daf065",
   "metadata": {
    "scrolled": false
   },
   "outputs": [],
   "source": [
    "# !pip install pycaret"
   ]
  },
  {
   "cell_type": "code",
   "execution_count": 15,
   "id": "29b31772",
   "metadata": {},
   "outputs": [],
   "source": [
    "# import numpy as np\n",
    "# import pandas as pd\n",
    "\n",
    "# # data load \n",
    "# # Original dataframe \n",
    "# train_dataset = pd.read_csv('./nbfi_vehicle_loan_repayment_dataset/Train_Dataset.csv')\n",
    "# test_dataset = pd.read_csv('./nbfi_vehicle_loan_repayment_dataset/Train_Dataset.csv') # 정답 x "
   ]
  },
  {
   "cell_type": "code",
   "execution_count": 2,
   "id": "b53470b9",
   "metadata": {},
   "outputs": [],
   "source": [
    "from pycaret.classification import *"
   ]
  },
  {
   "cell_type": "code",
   "execution_count": null,
   "id": "a4104a11",
   "metadata": {},
   "outputs": [],
   "source": [
    "train_dataset.select_dtypes(include='object').columns"
   ]
  },
  {
   "cell_type": "markdown",
   "id": "a6301f80",
   "metadata": {},
   "source": [
    "  paycaret은 다른 파일에서 다시 해보겠습니다. "
   ]
  },
  {
   "cell_type": "markdown",
   "id": "1ba0b2ef",
   "metadata": {},
   "source": []
  },
  {
   "cell_type": "markdown",
   "id": "ee8a8c80",
   "metadata": {},
   "source": [
    "### Preprocessing 수정 후 재작업"
   ]
  },
  {
   "cell_type": "code",
   "execution_count": 3,
   "id": "84e88f7b",
   "metadata": {},
   "outputs": [],
   "source": [
    "import numpy as np\n",
    "import pandas as pd\n",
    "from matplotlib import pyplot as plt\n",
    "from Preprocessing import Preprocessing\n",
    "from sklearn.ensemble import RandomForestClassifier"
   ]
  },
  {
   "cell_type": "code",
   "execution_count": 4,
   "id": "c012f97d",
   "metadata": {},
   "outputs": [],
   "source": [
    "preprocessing_db = Preprocessing()\n",
    "\n",
    "# data load 과정에서 nan값 등 결측치 처리 \n",
    "preprocessing_db.__init__()\n",
    "# 결측치가 너무 많아 쓸 수 없다 판단되는 컬럼들 제거 \n",
    "preprocessing_db.drop_columns()\n",
    "# 범주형 데이터 대체\n",
    "preprocessing_db.category_columns_replace()\n",
    "# 연속형 데이터 대체\n",
    "preprocessing_db.numerical_columns_replace()"
   ]
  },
  {
   "cell_type": "code",
   "execution_count": 9,
   "id": "5a88de5a",
   "metadata": {},
   "outputs": [],
   "source": [
    "# x data return \n",
    "x_df = preprocessing_db.get_df()\n",
    "# targer data return \n",
    "target_df = preprocessing_db.get_target_df()"
   ]
  },
  {
   "cell_type": "code",
   "execution_count": 10,
   "id": "394a01ed",
   "metadata": {},
   "outputs": [
    {
     "name": "stdout",
     "output_type": "stream",
     "text": [
      "(121856, 45)\n",
      "(121856,)\n"
     ]
    }
   ],
   "source": [
    "print(x_df.shape)\n",
    "print(target_df.shape)"
   ]
  },
  {
   "cell_type": "code",
   "execution_count": 11,
   "id": "13165306",
   "metadata": {},
   "outputs": [
    {
     "name": "stdout",
     "output_type": "stream",
     "text": [
      "<class 'pandas.core.frame.DataFrame'>\n",
      "RangeIndex: 121856 entries, 0 to 121855\n",
      "Data columns (total 45 columns):\n",
      " #   Column                          Non-Null Count   Dtype  \n",
      "---  ------                          --------------   -----  \n",
      " 0   Child_Count                     121856 non-null  float64\n",
      " 1   Credit_Amount                   121856 non-null  float64\n",
      " 2   Loan_Annuity                    121856 non-null  float64\n",
      " 3   Client_Income_Type              121856 non-null  object \n",
      " 4   Client_Education                121856 non-null  object \n",
      " 5   Client_Marital_Status           121856 non-null  object \n",
      " 6   Client_Gender                   121856 non-null  object \n",
      " 7   Loan_Contract_Type              121856 non-null  object \n",
      " 8   Client_Housing_Type             121856 non-null  object \n",
      " 9   Population_Region_Relative      121856 non-null  float64\n",
      " 10  Age_Days                        121856 non-null  float64\n",
      " 11  Employed_Days                   121856 non-null  float64\n",
      " 12  Registration_Days               121856 non-null  float64\n",
      " 13  ID_Days                         121856 non-null  float64\n",
      " 14  Client_Occupation               121856 non-null  object \n",
      " 15  Client_Family_Members           121856 non-null  float64\n",
      " 16  Score_Source_2                  121856 non-null  float64\n",
      " 17  Phone_Change                    121856 non-null  float64\n",
      " 18  Credit_Bureau                   121856 non-null  float64\n",
      " 19  Car_Owned_0.0                   121856 non-null  uint8  \n",
      " 20  Car_Owned_1.0                   121856 non-null  uint8  \n",
      " 21  Bike_Owned_0.0                  121856 non-null  uint8  \n",
      " 22  Bike_Owned_1.0                  121856 non-null  uint8  \n",
      " 23  Active_Loan_0.0                 121856 non-null  uint8  \n",
      " 24  Active_Loan_1.0                 121856 non-null  uint8  \n",
      " 25  House_Own_0.0                   121856 non-null  uint8  \n",
      " 26  House_Own_1.0                   121856 non-null  uint8  \n",
      " 27  Homephone_Tag_0                 121856 non-null  uint8  \n",
      " 28  Homephone_Tag_1                 121856 non-null  uint8  \n",
      " 29  Workphone_Working_0             121856 non-null  uint8  \n",
      " 30  Workphone_Working_1             121856 non-null  uint8  \n",
      " 31  Cleint_City_Rating_1.0          121856 non-null  uint8  \n",
      " 32  Cleint_City_Rating_2.0          121856 non-null  uint8  \n",
      " 33  Cleint_City_Rating_3.0          121856 non-null  uint8  \n",
      " 34  Application_Process_Day_0.0     121856 non-null  uint8  \n",
      " 35  Application_Process_Day_1.0     121856 non-null  uint8  \n",
      " 36  Application_Process_Day_2.0     121856 non-null  uint8  \n",
      " 37  Application_Process_Day_3.0     121856 non-null  uint8  \n",
      " 38  Application_Process_Day_4.0     121856 non-null  uint8  \n",
      " 39  Application_Process_Day_5.0     121856 non-null  uint8  \n",
      " 40  Application_Process_Day_6.0     121856 non-null  uint8  \n",
      " 41  Client_Permanent_Match_Tag_No   121856 non-null  uint8  \n",
      " 42  Client_Permanent_Match_Tag_Yes  121856 non-null  uint8  \n",
      " 43  Client_Contact_Work_Tag_No      121856 non-null  uint8  \n",
      " 44  Client_Contact_Work_Tag_Yes     121856 non-null  uint8  \n",
      "dtypes: float64(12), object(7), uint8(26)\n",
      "memory usage: 20.7+ MB\n"
     ]
    }
   ],
   "source": [
    "x_df.info()"
   ]
  },
  {
   "cell_type": "code",
   "execution_count": 14,
   "id": "105b2690",
   "metadata": {},
   "outputs": [],
   "source": [
    "# 범주형 컬럼 원핫 인코딩\n",
    "catecorical_columns = ['Client_Income_Type', 'Client_Education', 'Client_Marital_Status', 'Client_Gender',\n",
    "                      'Loan_Contract_Type', 'Client_Housing_Type', 'Client_Occupation']\n",
    "train_df = pd.get_dummies(x_df, columns=catecorical_columns)"
   ]
  },
  {
   "cell_type": "code",
   "execution_count": 15,
   "id": "7a642118",
   "metadata": {},
   "outputs": [
    {
     "data": {
      "text/html": [
       "<div>\n",
       "<style scoped>\n",
       "    .dataframe tbody tr th:only-of-type {\n",
       "        vertical-align: middle;\n",
       "    }\n",
       "\n",
       "    .dataframe tbody tr th {\n",
       "        vertical-align: top;\n",
       "    }\n",
       "\n",
       "    .dataframe thead th {\n",
       "        text-align: right;\n",
       "    }\n",
       "</style>\n",
       "<table border=\"1\" class=\"dataframe\">\n",
       "  <thead>\n",
       "    <tr style=\"text-align: right;\">\n",
       "      <th></th>\n",
       "      <th>Child_Count</th>\n",
       "      <th>Credit_Amount</th>\n",
       "      <th>Loan_Annuity</th>\n",
       "      <th>Population_Region_Relative</th>\n",
       "      <th>Age_Days</th>\n",
       "      <th>Employed_Days</th>\n",
       "      <th>Registration_Days</th>\n",
       "      <th>ID_Days</th>\n",
       "      <th>Client_Family_Members</th>\n",
       "      <th>Score_Source_2</th>\n",
       "      <th>...</th>\n",
       "      <th>Client_Occupation_Low-skill Laborers</th>\n",
       "      <th>Client_Occupation_Managers</th>\n",
       "      <th>Client_Occupation_Medicine</th>\n",
       "      <th>Client_Occupation_Nojob</th>\n",
       "      <th>Client_Occupation_Private service</th>\n",
       "      <th>Client_Occupation_Realty agents</th>\n",
       "      <th>Client_Occupation_Sales</th>\n",
       "      <th>Client_Occupation_Secretaries</th>\n",
       "      <th>Client_Occupation_Security</th>\n",
       "      <th>Client_Occupation_Waiters/barmen</th>\n",
       "    </tr>\n",
       "  </thead>\n",
       "  <tbody>\n",
       "    <tr>\n",
       "      <th>0</th>\n",
       "      <td>0.0</td>\n",
       "      <td>61190.55</td>\n",
       "      <td>3416.85</td>\n",
       "      <td>0.028663</td>\n",
       "      <td>13957.0</td>\n",
       "      <td>1062.0</td>\n",
       "      <td>6123.000000</td>\n",
       "      <td>383.0</td>\n",
       "      <td>2.0</td>\n",
       "      <td>0.478787</td>\n",
       "      <td>...</td>\n",
       "      <td>0</td>\n",
       "      <td>0</td>\n",
       "      <td>0</td>\n",
       "      <td>0</td>\n",
       "      <td>0</td>\n",
       "      <td>0</td>\n",
       "      <td>1</td>\n",
       "      <td>0</td>\n",
       "      <td>0</td>\n",
       "      <td>0</td>\n",
       "    </tr>\n",
       "    <tr>\n",
       "      <th>1</th>\n",
       "      <td>0.0</td>\n",
       "      <td>15282.00</td>\n",
       "      <td>1826.55</td>\n",
       "      <td>0.008575</td>\n",
       "      <td>14162.0</td>\n",
       "      <td>4129.0</td>\n",
       "      <td>7833.000000</td>\n",
       "      <td>21.0</td>\n",
       "      <td>2.0</td>\n",
       "      <td>0.215068</td>\n",
       "      <td>...</td>\n",
       "      <td>0</td>\n",
       "      <td>0</td>\n",
       "      <td>0</td>\n",
       "      <td>1</td>\n",
       "      <td>0</td>\n",
       "      <td>0</td>\n",
       "      <td>0</td>\n",
       "      <td>0</td>\n",
       "      <td>0</td>\n",
       "      <td>0</td>\n",
       "    </tr>\n",
       "    <tr>\n",
       "      <th>2</th>\n",
       "      <td>1.0</td>\n",
       "      <td>59527.35</td>\n",
       "      <td>2788.20</td>\n",
       "      <td>0.022800</td>\n",
       "      <td>16790.0</td>\n",
       "      <td>5102.0</td>\n",
       "      <td>4975.162123</td>\n",
       "      <td>331.0</td>\n",
       "      <td>2.0</td>\n",
       "      <td>0.552795</td>\n",
       "      <td>...</td>\n",
       "      <td>0</td>\n",
       "      <td>0</td>\n",
       "      <td>0</td>\n",
       "      <td>0</td>\n",
       "      <td>0</td>\n",
       "      <td>1</td>\n",
       "      <td>0</td>\n",
       "      <td>0</td>\n",
       "      <td>0</td>\n",
       "      <td>0</td>\n",
       "    </tr>\n",
       "    <tr>\n",
       "      <th>3</th>\n",
       "      <td>0.0</td>\n",
       "      <td>53870.40</td>\n",
       "      <td>2295.45</td>\n",
       "      <td>0.010556</td>\n",
       "      <td>23195.0</td>\n",
       "      <td>365243.0</td>\n",
       "      <td>4975.162123</td>\n",
       "      <td>775.0</td>\n",
       "      <td>2.0</td>\n",
       "      <td>0.135182</td>\n",
       "      <td>...</td>\n",
       "      <td>0</td>\n",
       "      <td>0</td>\n",
       "      <td>0</td>\n",
       "      <td>1</td>\n",
       "      <td>0</td>\n",
       "      <td>0</td>\n",
       "      <td>0</td>\n",
       "      <td>0</td>\n",
       "      <td>0</td>\n",
       "      <td>0</td>\n",
       "    </tr>\n",
       "    <tr>\n",
       "      <th>4</th>\n",
       "      <td>2.0</td>\n",
       "      <td>133988.40</td>\n",
       "      <td>3547.35</td>\n",
       "      <td>0.020713</td>\n",
       "      <td>11366.0</td>\n",
       "      <td>2977.0</td>\n",
       "      <td>5516.000000</td>\n",
       "      <td>4043.0</td>\n",
       "      <td>4.0</td>\n",
       "      <td>0.301182</td>\n",
       "      <td>...</td>\n",
       "      <td>0</td>\n",
       "      <td>0</td>\n",
       "      <td>0</td>\n",
       "      <td>0</td>\n",
       "      <td>0</td>\n",
       "      <td>0</td>\n",
       "      <td>0</td>\n",
       "      <td>0</td>\n",
       "      <td>0</td>\n",
       "      <td>0</td>\n",
       "    </tr>\n",
       "  </tbody>\n",
       "</table>\n",
       "<p>5 rows × 84 columns</p>\n",
       "</div>"
      ],
      "text/plain": [
       "   Child_Count  Credit_Amount  Loan_Annuity  Population_Region_Relative  \\\n",
       "0          0.0       61190.55       3416.85                    0.028663   \n",
       "1          0.0       15282.00       1826.55                    0.008575   \n",
       "2          1.0       59527.35       2788.20                    0.022800   \n",
       "3          0.0       53870.40       2295.45                    0.010556   \n",
       "4          2.0      133988.40       3547.35                    0.020713   \n",
       "\n",
       "   Age_Days  Employed_Days  Registration_Days  ID_Days  Client_Family_Members  \\\n",
       "0   13957.0         1062.0        6123.000000    383.0                    2.0   \n",
       "1   14162.0         4129.0        7833.000000     21.0                    2.0   \n",
       "2   16790.0         5102.0        4975.162123    331.0                    2.0   \n",
       "3   23195.0       365243.0        4975.162123    775.0                    2.0   \n",
       "4   11366.0         2977.0        5516.000000   4043.0                    4.0   \n",
       "\n",
       "   Score_Source_2  ...  Client_Occupation_Low-skill Laborers  \\\n",
       "0        0.478787  ...                                     0   \n",
       "1        0.215068  ...                                     0   \n",
       "2        0.552795  ...                                     0   \n",
       "3        0.135182  ...                                     0   \n",
       "4        0.301182  ...                                     0   \n",
       "\n",
       "   Client_Occupation_Managers  Client_Occupation_Medicine  \\\n",
       "0                           0                           0   \n",
       "1                           0                           0   \n",
       "2                           0                           0   \n",
       "3                           0                           0   \n",
       "4                           0                           0   \n",
       "\n",
       "   Client_Occupation_Nojob  Client_Occupation_Private service  \\\n",
       "0                        0                                  0   \n",
       "1                        1                                  0   \n",
       "2                        0                                  0   \n",
       "3                        1                                  0   \n",
       "4                        0                                  0   \n",
       "\n",
       "   Client_Occupation_Realty agents  Client_Occupation_Sales  \\\n",
       "0                                0                        1   \n",
       "1                                0                        0   \n",
       "2                                1                        0   \n",
       "3                                0                        0   \n",
       "4                                0                        0   \n",
       "\n",
       "   Client_Occupation_Secretaries  Client_Occupation_Security  \\\n",
       "0                              0                           0   \n",
       "1                              0                           0   \n",
       "2                              0                           0   \n",
       "3                              0                           0   \n",
       "4                              0                           0   \n",
       "\n",
       "   Client_Occupation_Waiters/barmen  \n",
       "0                                 0  \n",
       "1                                 0  \n",
       "2                                 0  \n",
       "3                                 0  \n",
       "4                                 0  \n",
       "\n",
       "[5 rows x 84 columns]"
      ]
     },
     "execution_count": 15,
     "metadata": {},
     "output_type": "execute_result"
    }
   ],
   "source": [
    "train_df.head()"
   ]
  },
  {
   "cell_type": "code",
   "execution_count": 17,
   "id": "5d2f7032",
   "metadata": {},
   "outputs": [],
   "source": [
    "# train & test data split \n",
    "from sklearn.model_selection import train_test_split\n",
    "train_data, test_data, train_label, test_label = train_test_split(train_df, target_df,\n",
    "                                                                  test_size=0.3, \n",
    "                                                                  stratify=target_df,\n",
    "                                                                  random_state=42)"
   ]
  },
  {
   "cell_type": "markdown",
   "id": "01d1a9dc",
   "metadata": {},
   "source": [
    "## Random Forest"
   ]
  },
  {
   "cell_type": "code",
   "execution_count": 21,
   "id": "efca9dba",
   "metadata": {},
   "outputs": [],
   "source": [
    "# data load \n",
    "# train_df \n",
    "x_train_over_df = pd.read_csv('./oversampling_dataset/x_train_over_df.csv')\n",
    "y_train_over_df = pd.read_csv('./oversampling_dataset/y_train_over_df.csv')\n",
    "# test_df\n",
    "test_data_df = pd.read_csv('./oversampling_dataset/test_data_df.csv')\n",
    "test_label_df = pd.read_csv('./oversampling_dataset/test_label_df.csv')"
   ]
  },
  {
   "cell_type": "code",
   "execution_count": 22,
   "id": "48c20c81",
   "metadata": {},
   "outputs": [],
   "source": [
    "# import Random Forest classifier\n",
    "from sklearn.ensemble import RandomForestClassifier"
   ]
  },
  {
   "cell_type": "code",
   "execution_count": 28,
   "id": "7704958e",
   "metadata": {},
   "outputs": [],
   "source": [
    "# from sklearn.model_selection import GridSearchCV\n",
    "# 오래 걸리는 관계로 pass\n",
    "\n",
    "# params = { 'n_estimators' : [10, 100],\n",
    "#            'max_depth' : [6, 8, 10, 12],\n",
    "#            'min_samples_leaf' : [8, 12, 18],\n",
    "#            'min_samples_split' : [8, 16, 20]\n",
    "#             }\n",
    "\n",
    "# # RandomForestClassifier 객체 생성 후 GridSearchCV 수행\n",
    "# rf_clf = RandomForestClassifier(random_state = 0, n_jobs = -1)\n",
    "# grid_cv = GridSearchCV(rf_clf, param_grid = params, cv = 3, n_jobs = -1)\n",
    "# grid_cv.fit(x_train_over_df, y_train_over_df)\n",
    "\n",
    "# print('최적 하이퍼 파라미터: ', grid_cv.best_params_)\n",
    "# print('최고 예측 정확도: {:.4f}'.format(grid_cv.best_score_))"
   ]
  },
  {
   "cell_type": "code",
   "execution_count": 29,
   "id": "1fc5a737",
   "metadata": {},
   "outputs": [
    {
     "data": {
      "text/html": [
       "<style>#sk-container-id-2 {color: black;background-color: white;}#sk-container-id-2 pre{padding: 0;}#sk-container-id-2 div.sk-toggleable {background-color: white;}#sk-container-id-2 label.sk-toggleable__label {cursor: pointer;display: block;width: 100%;margin-bottom: 0;padding: 0.3em;box-sizing: border-box;text-align: center;}#sk-container-id-2 label.sk-toggleable__label-arrow:before {content: \"▸\";float: left;margin-right: 0.25em;color: #696969;}#sk-container-id-2 label.sk-toggleable__label-arrow:hover:before {color: black;}#sk-container-id-2 div.sk-estimator:hover label.sk-toggleable__label-arrow:before {color: black;}#sk-container-id-2 div.sk-toggleable__content {max-height: 0;max-width: 0;overflow: hidden;text-align: left;background-color: #f0f8ff;}#sk-container-id-2 div.sk-toggleable__content pre {margin: 0.2em;color: black;border-radius: 0.25em;background-color: #f0f8ff;}#sk-container-id-2 input.sk-toggleable__control:checked~div.sk-toggleable__content {max-height: 200px;max-width: 100%;overflow: auto;}#sk-container-id-2 input.sk-toggleable__control:checked~label.sk-toggleable__label-arrow:before {content: \"▾\";}#sk-container-id-2 div.sk-estimator input.sk-toggleable__control:checked~label.sk-toggleable__label {background-color: #d4ebff;}#sk-container-id-2 div.sk-label input.sk-toggleable__control:checked~label.sk-toggleable__label {background-color: #d4ebff;}#sk-container-id-2 input.sk-hidden--visually {border: 0;clip: rect(1px 1px 1px 1px);clip: rect(1px, 1px, 1px, 1px);height: 1px;margin: -1px;overflow: hidden;padding: 0;position: absolute;width: 1px;}#sk-container-id-2 div.sk-estimator {font-family: monospace;background-color: #f0f8ff;border: 1px dotted black;border-radius: 0.25em;box-sizing: border-box;margin-bottom: 0.5em;}#sk-container-id-2 div.sk-estimator:hover {background-color: #d4ebff;}#sk-container-id-2 div.sk-parallel-item::after {content: \"\";width: 100%;border-bottom: 1px solid gray;flex-grow: 1;}#sk-container-id-2 div.sk-label:hover label.sk-toggleable__label {background-color: #d4ebff;}#sk-container-id-2 div.sk-serial::before {content: \"\";position: absolute;border-left: 1px solid gray;box-sizing: border-box;top: 0;bottom: 0;left: 50%;z-index: 0;}#sk-container-id-2 div.sk-serial {display: flex;flex-direction: column;align-items: center;background-color: white;padding-right: 0.2em;padding-left: 0.2em;position: relative;}#sk-container-id-2 div.sk-item {position: relative;z-index: 1;}#sk-container-id-2 div.sk-parallel {display: flex;align-items: stretch;justify-content: center;background-color: white;position: relative;}#sk-container-id-2 div.sk-item::before, #sk-container-id-2 div.sk-parallel-item::before {content: \"\";position: absolute;border-left: 1px solid gray;box-sizing: border-box;top: 0;bottom: 0;left: 50%;z-index: -1;}#sk-container-id-2 div.sk-parallel-item {display: flex;flex-direction: column;z-index: 1;position: relative;background-color: white;}#sk-container-id-2 div.sk-parallel-item:first-child::after {align-self: flex-end;width: 50%;}#sk-container-id-2 div.sk-parallel-item:last-child::after {align-self: flex-start;width: 50%;}#sk-container-id-2 div.sk-parallel-item:only-child::after {width: 0;}#sk-container-id-2 div.sk-dashed-wrapped {border: 1px dashed gray;margin: 0 0.4em 0.5em 0.4em;box-sizing: border-box;padding-bottom: 0.4em;background-color: white;}#sk-container-id-2 div.sk-label label {font-family: monospace;font-weight: bold;display: inline-block;line-height: 1.2em;}#sk-container-id-2 div.sk-label-container {text-align: center;}#sk-container-id-2 div.sk-container {/* jupyter's `normalize.less` sets `[hidden] { display: none; }` but bootstrap.min.css set `[hidden] { display: none !important; }` so we also need the `!important` here to be able to override the default hidden behavior on the sphinx rendered scikit-learn.org. See: https://github.com/scikit-learn/scikit-learn/issues/21755 */display: inline-block !important;position: relative;}#sk-container-id-2 div.sk-text-repr-fallback {display: none;}</style><div id=\"sk-container-id-2\" class=\"sk-top-container\"><div class=\"sk-text-repr-fallback\"><pre>RandomForestClassifier(random_state=0)</pre><b>In a Jupyter environment, please rerun this cell to show the HTML representation or trust the notebook. <br />On GitHub, the HTML representation is unable to render, please try loading this page with nbviewer.org.</b></div><div class=\"sk-container\" hidden><div class=\"sk-item\"><div class=\"sk-estimator sk-toggleable\"><input class=\"sk-toggleable__control sk-hidden--visually\" id=\"sk-estimator-id-2\" type=\"checkbox\" checked><label for=\"sk-estimator-id-2\" class=\"sk-toggleable__label sk-toggleable__label-arrow\">RandomForestClassifier</label><div class=\"sk-toggleable__content\"><pre>RandomForestClassifier(random_state=0)</pre></div></div></div></div></div>"
      ],
      "text/plain": [
       "RandomForestClassifier(random_state=0)"
      ]
     },
     "execution_count": 29,
     "metadata": {},
     "output_type": "execute_result"
    }
   ],
   "source": [
    "# model train\n",
    "rfc = RandomForestClassifier(random_state=0)\n",
    "rfc.fit(x_train_over_df, y_train_over_df)"
   ]
  },
  {
   "cell_type": "code",
   "execution_count": 30,
   "id": "33a9ac5c",
   "metadata": {},
   "outputs": [],
   "source": [
    "# y값 예측하기\n",
    "y_pred = rfc.predict(test_data_df)"
   ]
  },
  {
   "cell_type": "code",
   "execution_count": 31,
   "id": "c4313f9f",
   "metadata": {},
   "outputs": [
    {
     "name": "stdout",
     "output_type": "stream",
     "text": [
      "Model accuracy score: 0.9270\n"
     ]
    }
   ],
   "source": [
    "# acc\n",
    "from sklearn.metrics import accuracy_score\n",
    "print('Model accuracy score: {0:0.4f}'. format(accuracy_score(test_label_df, y_pred)))"
   ]
  },
  {
   "cell_type": "code",
   "execution_count": 33,
   "id": "4d6260a6",
   "metadata": {},
   "outputs": [
    {
     "data": {
      "image/png": "[encoded data removed]",
      "text/plain": [
       "<Figure size 800x600 with 1 Axes>"
      ]
     },
     "metadata": {},
     "output_type": "display_data"
    }
   ],
   "source": [
    "# Feature imfortances\n",
    "import matplotlib.pyplot as plt\n",
    "import seaborn as sns\n",
    "%matplotlib inline\n",
    "\n",
    "ftr_importances_values = rfc.feature_importances_\n",
    "ftr_importances = pd.Series(ftr_importances_values, index = x_train_over_df.columns)\n",
    "ftr_top20 = ftr_importances.sort_values(ascending=False)[:20]\n",
    "\n",
    "plt.figure(figsize=(8,6))\n",
    "plt.title('Top 20 Feature Importances')\n",
    "sns.barplot(x=ftr_top20, y=ftr_top20.index)\n",
    "plt.show()"
   ]
  },
  {
   "cell_type": "markdown",
   "id": "fb047d5a",
   "metadata": {},
   "source": [
    "## Decision Tree"
   ]
  },
  {
   "cell_type": "code",
   "execution_count": 34,
   "id": "5e92a970",
   "metadata": {},
   "outputs": [],
   "source": [
    "# import Decision Tree classifier\n",
    "from sklearn.tree import DecisionTreeClassifier"
   ]
  },
  {
   "cell_type": "code",
   "execution_count": 63,
   "id": "9a7df832",
   "metadata": {},
   "outputs": [],
   "source": [
    "clf = DecisionTreeClassifier(\n",
    "            criterion='entropy', ## 'gini', 'log_loss'\n",
    "            splitter='best', ## 'random'\n",
    "            max_depth=30, ## '최대 깊이'\n",
    "            min_samples_leaf=1, ## 최소 끝마디 샘플 수\n",
    "            random_state=100\n",
    "        ).fit(x_train_over_df, n_y_train_over_df)"
   ]
  },
  {
   "cell_type": "code",
   "execution_count": 64,
   "id": "f210b3da",
   "metadata": {},
   "outputs": [],
   "source": [
    "# y값 예측하기\n",
    "y_pred = clf.predict(test_data_df)"
   ]
  },
  {
   "cell_type": "code",
   "execution_count": 65,
   "id": "9c6a68d3",
   "metadata": {},
   "outputs": [
    {
     "name": "stdout",
     "output_type": "stream",
     "text": [
      "Model accuracy score: 0.8594\n"
     ]
    }
   ],
   "source": [
    "# acc 체점\n",
    "print('Model accuracy score: {0:0.4f}'. format(accuracy_score(n_test_label_df, y_pred)))"
   ]
  },
  {
   "cell_type": "code",
   "execution_count": 66,
   "id": "440094aa",
   "metadata": {},
   "outputs": [
    {
     "name": "stdout",
     "output_type": "stream",
     "text": [
      "              precision    recall  f1-score   support\n",
      "\n",
      "           0       0.93      0.91      0.92     33603\n",
      "           1       0.19      0.23      0.21      2954\n",
      "\n",
      "   micro avg       0.86      0.86      0.86     36557\n",
      "   macro avg       0.56      0.57      0.57     36557\n",
      "weighted avg       0.87      0.86      0.87     36557\n",
      " samples avg       0.86      0.86      0.86     36557\n",
      "\n",
      "Accuracy on Training set: 0.998\n",
      "Accuracy on Test set: 0.859\n"
     ]
    },
    {
     "name": "stderr",
     "output_type": "stream",
     "text": [
      "C:\\Users\\User\\anaconda3\\lib\\site-packages\\sklearn\\metrics\\_classification.py:1344: UndefinedMetricWarning: Precision and F-score are ill-defined and being set to 0.0 in samples with no predicted labels. Use `zero_division` parameter to control this behavior.\n",
      "  _warn_prf(average, modifier, msg_start, len(result))\n"
     ]
    }
   ],
   "source": [
    "from sklearn.metrics import classification_report\n",
    "print(classification_report(n_test_label_df, y_pred)) \n",
    "\n",
    "print(\"Accuracy on Training set: {:.3f}\".format(clf.score(x_train_over_df, n_y_train_over_df)))\n",
    "print(\"Accuracy on Test set: {:.3f}\".format(clf.score(test_data_df, n_test_label_df)))"
   ]
  },
  {
   "cell_type": "markdown",
   "id": "2c0ea5e2",
   "metadata": {},
   "source": [
    "> grid search가 오래 걸리는 관계로 수동으로 max_depth 수정하여 10단위로 넣은 결과 max_depth가 30을 넘어설 경우 overfiting 발생 (Accuracy on training set: 1) "
   ]
  }
 ],
 "metadata": {
  "kernelspec": {
   "display_name": "Python 3 (ipykernel)",
   "language": "python",
   "name": "python3"
  },
  "language_info": {
   "codemirror_mode": {
    "name": "ipython",
    "version": 3
   },
   "file_extension": ".py",
   "mimetype": "text/x-python",
   "name": "python",
   "nbconvert_exporter": "python",
   "pygments_lexer": "ipython3",
   "version": "3.9.13"
  }
 },
 "nbformat": 4,
 "nbformat_minor": 5
}
